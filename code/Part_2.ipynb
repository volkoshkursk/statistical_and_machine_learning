{
 "cells": [
  {
   "cell_type": "code",
   "execution_count": null,
   "metadata": {
    "cell_id": "00001-bc6411ed-560f-40bc-a234-0cb3c9e73fef",
    "deepnote_cell_type": "code",
    "deepnote_to_be_reexecuted": false,
    "execution_millis": 73,
    "execution_start": 1634588967195,
    "source_hash": "1527c297",
    "tags": []
   },
   "outputs": [],
   "source": [
    "from copy import deepcopy\n",
    "\n",
    "import numpy as np\n",
    "import pandas as pd\n",
    "import sklearn\n",
    "\n",
    "import matplotlib.pyplot as plt\n",
    "import plotly.express as px\n",
    "import seaborn as sns\n",
    "\n",
    "from sklearn.model_selection import cross_val_score\n",
    "from sklearn.linear_model import LogisticRegression\n",
    "from sklearn.svm import SVC\n",
    "from sklearn.model_selection import train_test_split\n",
    "from sklearn.metrics import f1_score, make_scorer, confusion_matrix, ConfusionMatrixDisplay\n",
    "from sklearn.preprocessing import StandardScaler"
   ]
  },
  {
   "cell_type": "code",
   "execution_count": null,
   "metadata": {
    "cell_id": "00002-2fa88577-995c-4196-868e-53ded7a247e0",
    "deepnote_app_coordinates": {
     "h": 15,
     "w": 16,
     "x": 0,
     "y": 0
    },
    "deepnote_cell_type": "code",
    "deepnote_to_be_reexecuted": false,
    "execution_millis": 87,
    "execution_start": 1634581970920,
    "source_hash": "da8b2b7b",
    "tags": []
   },
   "outputs": [
    {
     "data": {
      "application/vnd.deepnote.dataframe.v2+json": {
       "column_count": 12,
       "columns": [
        {
         "dtype": "float64",
         "name": "fixed acidity",
         "stats": {
          "histogram": [
           {
            "bin_end": 7.78,
            "bin_start": 7.4,
            "count": 2
           },
           {
            "bin_end": 8.16,
            "bin_start": 7.78,
            "count": 2
           },
           {
            "bin_end": 8.54,
            "bin_start": 8.16,
            "count": 0
           },
           {
            "bin_end": 8.92,
            "bin_start": 8.54,
            "count": 0
           },
           {
            "bin_end": 9.3,
            "bin_start": 8.92,
            "count": 0
           },
           {
            "bin_end": 9.68,
            "bin_start": 9.3,
            "count": 0
           },
           {
            "bin_end": 10.059999999999999,
            "bin_start": 9.68,
            "count": 0
           },
           {
            "bin_end": 10.44,
            "bin_start": 10.059999999999999,
            "count": 0
           },
           {
            "bin_end": 10.82,
            "bin_start": 10.44,
            "count": 0
           },
           {
            "bin_end": 11.2,
            "bin_start": 10.82,
            "count": 1
           }
          ],
          "max": "11.2",
          "min": "7.4",
          "nan_count": 0,
          "unique_count": 3
         }
        },
        {
         "dtype": "float64",
         "name": "volatile acidity",
         "stats": {
          "histogram": [
           {
            "bin_end": 0.34,
            "bin_start": 0.28,
            "count": 1
           },
           {
            "bin_end": 0.4,
            "bin_start": 0.34,
            "count": 0
           },
           {
            "bin_end": 0.46,
            "bin_start": 0.4,
            "count": 0
           },
           {
            "bin_end": 0.52,
            "bin_start": 0.46,
            "count": 0
           },
           {
            "bin_end": 0.5800000000000001,
            "bin_start": 0.52,
            "count": 0
           },
           {
            "bin_end": 0.64,
            "bin_start": 0.5800000000000001,
            "count": 0
           },
           {
            "bin_end": 0.7,
            "bin_start": 0.64,
            "count": 0
           },
           {
            "bin_end": 0.76,
            "bin_start": 0.7,
            "count": 2
           },
           {
            "bin_end": 0.8200000000000001,
            "bin_start": 0.76,
            "count": 1
           },
           {
            "bin_end": 0.88,
            "bin_start": 0.8200000000000001,
            "count": 1
           }
          ],
          "max": "0.88",
          "min": "0.28",
          "nan_count": 0,
          "unique_count": 4
         }
        },
        {
         "dtype": "float64",
         "name": "citric acid",
         "stats": {
          "histogram": [
           {
            "bin_end": 0.05600000000000001,
            "bin_start": 0,
            "count": 4
           },
           {
            "bin_end": 0.11200000000000002,
            "bin_start": 0.05600000000000001,
            "count": 0
           },
           {
            "bin_end": 0.16800000000000004,
            "bin_start": 0.11200000000000002,
            "count": 0
           },
           {
            "bin_end": 0.22400000000000003,
            "bin_start": 0.16800000000000004,
            "count": 0
           },
           {
            "bin_end": 0.28,
            "bin_start": 0.22400000000000003,
            "count": 0
           },
           {
            "bin_end": 0.3360000000000001,
            "bin_start": 0.28,
            "count": 0
           },
           {
            "bin_end": 0.39200000000000007,
            "bin_start": 0.3360000000000001,
            "count": 0
           },
           {
            "bin_end": 0.44800000000000006,
            "bin_start": 0.39200000000000007,
            "count": 0
           },
           {
            "bin_end": 0.5040000000000001,
            "bin_start": 0.44800000000000006,
            "count": 0
           },
           {
            "bin_end": 0.56,
            "bin_start": 0.5040000000000001,
            "count": 1
           }
          ],
          "max": "0.56",
          "min": "0.0",
          "nan_count": 0,
          "unique_count": 3
         }
        },
        {
         "dtype": "float64",
         "name": "residual sugar",
         "stats": {
          "histogram": [
           {
            "bin_end": 1.97,
            "bin_start": 1.9,
            "count": 3
           },
           {
            "bin_end": 2.04,
            "bin_start": 1.97,
            "count": 0
           },
           {
            "bin_end": 2.11,
            "bin_start": 2.04,
            "count": 0
           },
           {
            "bin_end": 2.18,
            "bin_start": 2.11,
            "count": 0
           },
           {
            "bin_end": 2.25,
            "bin_start": 2.18,
            "count": 0
           },
           {
            "bin_end": 2.3200000000000003,
            "bin_start": 2.25,
            "count": 1
           },
           {
            "bin_end": 2.39,
            "bin_start": 2.3200000000000003,
            "count": 0
           },
           {
            "bin_end": 2.46,
            "bin_start": 2.39,
            "count": 0
           },
           {
            "bin_end": 2.5300000000000002,
            "bin_start": 2.46,
            "count": 0
           },
           {
            "bin_end": 2.6,
            "bin_start": 2.5300000000000002,
            "count": 1
           }
          ],
          "max": "2.6",
          "min": "1.9",
          "nan_count": 0,
          "unique_count": 3
         }
        },
        {
         "dtype": "float64",
         "name": "chlorides",
         "stats": {
          "histogram": [
           {
            "bin_end": 0.0773,
            "bin_start": 0.075,
            "count": 3
           },
           {
            "bin_end": 0.0796,
            "bin_start": 0.0773,
            "count": 0
           },
           {
            "bin_end": 0.0819,
            "bin_start": 0.0796,
            "count": 0
           },
           {
            "bin_end": 0.0842,
            "bin_start": 0.0819,
            "count": 0
           },
           {
            "bin_end": 0.0865,
            "bin_start": 0.0842,
            "count": 0
           },
           {
            "bin_end": 0.0888,
            "bin_start": 0.0865,
            "count": 0
           },
           {
            "bin_end": 0.0911,
            "bin_start": 0.0888,
            "count": 0
           },
           {
            "bin_end": 0.09340000000000001,
            "bin_start": 0.0911,
            "count": 1
           },
           {
            "bin_end": 0.09570000000000001,
            "bin_start": 0.09340000000000001,
            "count": 0
           },
           {
            "bin_end": 0.098,
            "bin_start": 0.09570000000000001,
            "count": 1
           }
          ],
          "max": "0.098",
          "min": "0.075",
          "nan_count": 0,
          "unique_count": 4
         }
        },
        {
         "dtype": "float64",
         "name": "free sulfur dioxide",
         "stats": {
          "histogram": [
           {
            "bin_end": 12.4,
            "bin_start": 11,
            "count": 2
           },
           {
            "bin_end": 13.8,
            "bin_start": 12.4,
            "count": 0
           },
           {
            "bin_end": 15.2,
            "bin_start": 13.8,
            "count": 1
           },
           {
            "bin_end": 16.6,
            "bin_start": 15.2,
            "count": 0
           },
           {
            "bin_end": 18,
            "bin_start": 16.6,
            "count": 1
           },
           {
            "bin_end": 19.4,
            "bin_start": 18,
            "count": 0
           },
           {
            "bin_end": 20.799999999999997,
            "bin_start": 19.4,
            "count": 0
           },
           {
            "bin_end": 22.2,
            "bin_start": 20.799999999999997,
            "count": 0
           },
           {
            "bin_end": 23.6,
            "bin_start": 22.2,
            "count": 0
           },
           {
            "bin_end": 25,
            "bin_start": 23.6,
            "count": 1
           }
          ],
          "max": "25.0",
          "min": "11.0",
          "nan_count": 0,
          "unique_count": 4
         }
        },
        {
         "dtype": "float64",
         "name": "total sulfur dioxide",
         "stats": {
          "histogram": [
           {
            "bin_end": 37.3,
            "bin_start": 34,
            "count": 2
           },
           {
            "bin_end": 40.6,
            "bin_start": 37.3,
            "count": 0
           },
           {
            "bin_end": 43.9,
            "bin_start": 40.6,
            "count": 0
           },
           {
            "bin_end": 47.2,
            "bin_start": 43.9,
            "count": 0
           },
           {
            "bin_end": 50.5,
            "bin_start": 47.2,
            "count": 0
           },
           {
            "bin_end": 53.8,
            "bin_start": 50.5,
            "count": 0
           },
           {
            "bin_end": 57.099999999999994,
            "bin_start": 53.8,
            "count": 1
           },
           {
            "bin_end": 60.4,
            "bin_start": 57.099999999999994,
            "count": 1
           },
           {
            "bin_end": 63.7,
            "bin_start": 60.4,
            "count": 0
           },
           {
            "bin_end": 67,
            "bin_start": 63.7,
            "count": 1
           }
          ],
          "max": "67.0",
          "min": "34.0",
          "nan_count": 0,
          "unique_count": 4
         }
        },
        {
         "dtype": "float64",
         "name": "density",
         "stats": {
          "histogram": [
           {
            "bin_end": 0.99692,
            "bin_start": 0.9968,
            "count": 1
           },
           {
            "bin_end": 0.99704,
            "bin_start": 0.99692,
            "count": 1
           },
           {
            "bin_end": 0.99716,
            "bin_start": 0.99704,
            "count": 0
           },
           {
            "bin_end": 0.99728,
            "bin_start": 0.99716,
            "count": 0
           },
           {
            "bin_end": 0.9974000000000001,
            "bin_start": 0.99728,
            "count": 0
           },
           {
            "bin_end": 0.99752,
            "bin_start": 0.9974000000000001,
            "count": 0
           },
           {
            "bin_end": 0.99764,
            "bin_start": 0.99752,
            "count": 0
           },
           {
            "bin_end": 0.99776,
            "bin_start": 0.99764,
            "count": 0
           },
           {
            "bin_end": 0.99788,
            "bin_start": 0.99776,
            "count": 2
           },
           {
            "bin_end": 0.998,
            "bin_start": 0.99788,
            "count": 1
           }
          ],
          "max": "0.998",
          "min": "0.9968",
          "nan_count": 0,
          "unique_count": 4
         }
        },
        {
         "dtype": "float64",
         "name": "pH",
         "stats": {
          "histogram": [
           {
            "bin_end": 3.1950000000000003,
            "bin_start": 3.16,
            "count": 1
           },
           {
            "bin_end": 3.23,
            "bin_start": 3.1950000000000003,
            "count": 1
           },
           {
            "bin_end": 3.265,
            "bin_start": 3.23,
            "count": 1
           },
           {
            "bin_end": 3.3,
            "bin_start": 3.265,
            "count": 0
           },
           {
            "bin_end": 3.335,
            "bin_start": 3.3,
            "count": 0
           },
           {
            "bin_end": 3.37,
            "bin_start": 3.335,
            "count": 0
           },
           {
            "bin_end": 3.405,
            "bin_start": 3.37,
            "count": 0
           },
           {
            "bin_end": 3.44,
            "bin_start": 3.405,
            "count": 0
           },
           {
            "bin_end": 3.4749999999999996,
            "bin_start": 3.44,
            "count": 0
           },
           {
            "bin_end": 3.51,
            "bin_start": 3.4749999999999996,
            "count": 2
           }
          ],
          "max": "3.51",
          "min": "3.16",
          "nan_count": 0,
          "unique_count": 4
         }
        },
        {
         "dtype": "float64",
         "name": "sulphates",
         "stats": {
          "histogram": [
           {
            "bin_end": 0.5720000000000001,
            "bin_start": 0.56,
            "count": 2
           },
           {
            "bin_end": 0.5840000000000001,
            "bin_start": 0.5720000000000001,
            "count": 1
           },
           {
            "bin_end": 0.5960000000000001,
            "bin_start": 0.5840000000000001,
            "count": 0
           },
           {
            "bin_end": 0.6080000000000001,
            "bin_start": 0.5960000000000001,
            "count": 0
           },
           {
            "bin_end": 0.6200000000000001,
            "bin_start": 0.6080000000000001,
            "count": 0
           },
           {
            "bin_end": 0.6320000000000001,
            "bin_start": 0.6200000000000001,
            "count": 0
           },
           {
            "bin_end": 0.644,
            "bin_start": 0.6320000000000001,
            "count": 0
           },
           {
            "bin_end": 0.656,
            "bin_start": 0.644,
            "count": 1
           },
           {
            "bin_end": 0.668,
            "bin_start": 0.656,
            "count": 0
           },
           {
            "bin_end": 0.68,
            "bin_start": 0.668,
            "count": 1
           }
          ],
          "max": "0.68",
          "min": "0.56",
          "nan_count": 0,
          "unique_count": 4
         }
        },
        {
         "dtype": "float64",
         "name": "alcohol",
         "stats": {
          "histogram": [
           {
            "bin_end": 9.440000000000001,
            "bin_start": 9.4,
            "count": 2
           },
           {
            "bin_end": 9.48,
            "bin_start": 9.440000000000001,
            "count": 0
           },
           {
            "bin_end": 9.52,
            "bin_start": 9.48,
            "count": 0
           },
           {
            "bin_end": 9.56,
            "bin_start": 9.52,
            "count": 0
           },
           {
            "bin_end": 9.600000000000001,
            "bin_start": 9.56,
            "count": 0
           },
           {
            "bin_end": 9.64,
            "bin_start": 9.600000000000001,
            "count": 0
           },
           {
            "bin_end": 9.68,
            "bin_start": 9.64,
            "count": 0
           },
           {
            "bin_end": 9.72,
            "bin_start": 9.68,
            "count": 0
           },
           {
            "bin_end": 9.760000000000002,
            "bin_start": 9.72,
            "count": 0
           },
           {
            "bin_end": 9.8,
            "bin_start": 9.760000000000002,
            "count": 3
           }
          ],
          "max": "9.8",
          "min": "9.4",
          "nan_count": 0,
          "unique_count": 2
         }
        },
        {
         "dtype": "int64",
         "name": "quality",
         "stats": {
          "histogram": [
           {
            "bin_end": 5.1,
            "bin_start": 5,
            "count": 4
           },
           {
            "bin_end": 5.2,
            "bin_start": 5.1,
            "count": 0
           },
           {
            "bin_end": 5.3,
            "bin_start": 5.2,
            "count": 0
           },
           {
            "bin_end": 5.4,
            "bin_start": 5.3,
            "count": 0
           },
           {
            "bin_end": 5.5,
            "bin_start": 5.4,
            "count": 0
           },
           {
            "bin_end": 5.6,
            "bin_start": 5.5,
            "count": 0
           },
           {
            "bin_end": 5.7,
            "bin_start": 5.6,
            "count": 0
           },
           {
            "bin_end": 5.8,
            "bin_start": 5.7,
            "count": 0
           },
           {
            "bin_end": 5.9,
            "bin_start": 5.8,
            "count": 0
           },
           {
            "bin_end": 6,
            "bin_start": 5.9,
            "count": 1
           }
          ],
          "max": "6",
          "min": "5",
          "nan_count": 0,
          "unique_count": 2
         }
        },
        {
         "dtype": "int64",
         "name": "_deepnote_index_column"
        }
       ],
       "row_count": 5,
       "rows_bottom": null,
       "rows_top": [
        {
         "_deepnote_index_column": 0,
         "alcohol": 9.4,
         "chlorides": 0.076,
         "citric acid": 0,
         "density": 0.9978,
         "fixed acidity": 7.4,
         "free sulfur dioxide": 11,
         "pH": 3.51,
         "quality": 5,
         "residual sugar": 1.9,
         "sulphates": 0.56,
         "total sulfur dioxide": 34,
         "volatile acidity": 0.7
        },
        {
         "_deepnote_index_column": 1,
         "alcohol": 9.8,
         "chlorides": 0.098,
         "citric acid": 0,
         "density": 0.9968,
         "fixed acidity": 7.8,
         "free sulfur dioxide": 25,
         "pH": 3.2,
         "quality": 5,
         "residual sugar": 2.6,
         "sulphates": 0.68,
         "total sulfur dioxide": 67,
         "volatile acidity": 0.88
        },
        {
         "_deepnote_index_column": 2,
         "alcohol": 9.8,
         "chlorides": 0.092,
         "citric acid": 0.04,
         "density": 0.997,
         "fixed acidity": 7.8,
         "free sulfur dioxide": 15,
         "pH": 3.26,
         "quality": 5,
         "residual sugar": 2.3,
         "sulphates": 0.65,
         "total sulfur dioxide": 54,
         "volatile acidity": 0.76
        },
        {
         "_deepnote_index_column": 3,
         "alcohol": 9.8,
         "chlorides": 0.075,
         "citric acid": 0.56,
         "density": 0.998,
         "fixed acidity": 11.2,
         "free sulfur dioxide": 17,
         "pH": 3.16,
         "quality": 6,
         "residual sugar": 1.9,
         "sulphates": 0.58,
         "total sulfur dioxide": 60,
         "volatile acidity": 0.28
        },
        {
         "_deepnote_index_column": 4,
         "alcohol": 9.4,
         "chlorides": 0.076,
         "citric acid": 0,
         "density": 0.9978,
         "fixed acidity": 7.4,
         "free sulfur dioxide": 11,
         "pH": 3.51,
         "quality": 5,
         "residual sugar": 1.9,
         "sulphates": 0.56,
         "total sulfur dioxide": 34,
         "volatile acidity": 0.7
        }
       ]
      },
      "text/html": [
       "<div>\n",
       "<style scoped>\n",
       "    .dataframe tbody tr th:only-of-type {\n",
       "        vertical-align: middle;\n",
       "    }\n",
       "\n",
       "    .dataframe tbody tr th {\n",
       "        vertical-align: top;\n",
       "    }\n",
       "\n",
       "    .dataframe thead th {\n",
       "        text-align: right;\n",
       "    }\n",
       "</style>\n",
       "<table border=\"1\" class=\"dataframe\">\n",
       "  <thead>\n",
       "    <tr style=\"text-align: right;\">\n",
       "      <th></th>\n",
       "      <th>fixed acidity</th>\n",
       "      <th>volatile acidity</th>\n",
       "      <th>citric acid</th>\n",
       "      <th>residual sugar</th>\n",
       "      <th>chlorides</th>\n",
       "      <th>free sulfur dioxide</th>\n",
       "      <th>total sulfur dioxide</th>\n",
       "      <th>density</th>\n",
       "      <th>pH</th>\n",
       "      <th>sulphates</th>\n",
       "      <th>alcohol</th>\n",
       "      <th>quality</th>\n",
       "    </tr>\n",
       "  </thead>\n",
       "  <tbody>\n",
       "    <tr>\n",
       "      <th>0</th>\n",
       "      <td>7.4</td>\n",
       "      <td>0.70</td>\n",
       "      <td>0.00</td>\n",
       "      <td>1.9</td>\n",
       "      <td>0.076</td>\n",
       "      <td>11.0</td>\n",
       "      <td>34.0</td>\n",
       "      <td>0.9978</td>\n",
       "      <td>3.51</td>\n",
       "      <td>0.56</td>\n",
       "      <td>9.4</td>\n",
       "      <td>5</td>\n",
       "    </tr>\n",
       "    <tr>\n",
       "      <th>1</th>\n",
       "      <td>7.8</td>\n",
       "      <td>0.88</td>\n",
       "      <td>0.00</td>\n",
       "      <td>2.6</td>\n",
       "      <td>0.098</td>\n",
       "      <td>25.0</td>\n",
       "      <td>67.0</td>\n",
       "      <td>0.9968</td>\n",
       "      <td>3.20</td>\n",
       "      <td>0.68</td>\n",
       "      <td>9.8</td>\n",
       "      <td>5</td>\n",
       "    </tr>\n",
       "    <tr>\n",
       "      <th>2</th>\n",
       "      <td>7.8</td>\n",
       "      <td>0.76</td>\n",
       "      <td>0.04</td>\n",
       "      <td>2.3</td>\n",
       "      <td>0.092</td>\n",
       "      <td>15.0</td>\n",
       "      <td>54.0</td>\n",
       "      <td>0.9970</td>\n",
       "      <td>3.26</td>\n",
       "      <td>0.65</td>\n",
       "      <td>9.8</td>\n",
       "      <td>5</td>\n",
       "    </tr>\n",
       "    <tr>\n",
       "      <th>3</th>\n",
       "      <td>11.2</td>\n",
       "      <td>0.28</td>\n",
       "      <td>0.56</td>\n",
       "      <td>1.9</td>\n",
       "      <td>0.075</td>\n",
       "      <td>17.0</td>\n",
       "      <td>60.0</td>\n",
       "      <td>0.9980</td>\n",
       "      <td>3.16</td>\n",
       "      <td>0.58</td>\n",
       "      <td>9.8</td>\n",
       "      <td>6</td>\n",
       "    </tr>\n",
       "    <tr>\n",
       "      <th>4</th>\n",
       "      <td>7.4</td>\n",
       "      <td>0.70</td>\n",
       "      <td>0.00</td>\n",
       "      <td>1.9</td>\n",
       "      <td>0.076</td>\n",
       "      <td>11.0</td>\n",
       "      <td>34.0</td>\n",
       "      <td>0.9978</td>\n",
       "      <td>3.51</td>\n",
       "      <td>0.56</td>\n",
       "      <td>9.4</td>\n",
       "      <td>5</td>\n",
       "    </tr>\n",
       "  </tbody>\n",
       "</table>\n",
       "</div>"
      ],
      "text/plain": [
       "   fixed acidity  volatile acidity  citric acid  residual sugar  chlorides  \\\n",
       "0            7.4              0.70         0.00             1.9      0.076   \n",
       "1            7.8              0.88         0.00             2.6      0.098   \n",
       "2            7.8              0.76         0.04             2.3      0.092   \n",
       "3           11.2              0.28         0.56             1.9      0.075   \n",
       "4            7.4              0.70         0.00             1.9      0.076   \n",
       "\n",
       "   free sulfur dioxide  total sulfur dioxide  density    pH  sulphates  \\\n",
       "0                 11.0                  34.0   0.9978  3.51       0.56   \n",
       "1                 25.0                  67.0   0.9968  3.20       0.68   \n",
       "2                 15.0                  54.0   0.9970  3.26       0.65   \n",
       "3                 17.0                  60.0   0.9980  3.16       0.58   \n",
       "4                 11.0                  34.0   0.9978  3.51       0.56   \n",
       "\n",
       "   alcohol  quality  \n",
       "0      9.4        5  \n",
       "1      9.8        5  \n",
       "2      9.8        5  \n",
       "3      9.8        6  \n",
       "4      9.4        5  "
      ]
     },
     "execution_count": 9,
     "metadata": {},
     "output_type": "execute_result"
    }
   ],
   "source": [
    "ds_raw = pd.read_csv(\"winequality-red.csv\", sep = \";\")\n",
    "ds_raw.head()"
   ]
  },
  {
   "cell_type": "code",
   "execution_count": null,
   "metadata": {
    "cell_id": "00003-56fa121a-ef21-4307-bbef-dd5621dfc9c3",
    "deepnote_app_coordinates": {
     "h": 26,
     "w": 15,
     "x": 0,
     "y": 16
    },
    "deepnote_cell_type": "code",
    "deepnote_to_be_reexecuted": false,
    "execution_millis": 63,
    "execution_start": 1634582592121,
    "source_hash": "1cbbe20b",
    "tags": []
   },
   "outputs": [
    {
     "data": {
      "application/vnd.deepnote.dataframe.v2+json": {
       "column_count": 12,
       "columns": [
        {
         "dtype": "float64",
         "name": "fixed acidity",
         "stats": {
          "histogram": [
           {
            "bin_end": 5.7299999999999995,
            "bin_start": 4.6,
            "count": 42
           },
           {
            "bin_end": 6.859999999999999,
            "bin_start": 5.7299999999999995,
            "count": 227
           },
           {
            "bin_end": 7.99,
            "bin_start": 6.859999999999999,
            "count": 532
           },
           {
            "bin_end": 9.120000000000001,
            "bin_start": 7.99,
            "count": 368
           },
           {
            "bin_end": 10.25,
            "bin_start": 9.120000000000001,
            "count": 186
           },
           {
            "bin_end": 11.38,
            "bin_start": 10.25,
            "count": 104
           },
           {
            "bin_end": 12.510000000000002,
            "bin_start": 11.38,
            "count": 75
           },
           {
            "bin_end": 13.64,
            "bin_start": 12.510000000000002,
            "count": 25
           },
           {
            "bin_end": 14.770000000000001,
            "bin_start": 13.64,
            "count": 5
           },
           {
            "bin_end": 15.9,
            "bin_start": 14.770000000000001,
            "count": 7
           }
          ],
          "max": "15.9",
          "min": "4.6",
          "nan_count": 0,
          "unique_count": 95
         }
        },
        {
         "dtype": "float64",
         "name": "volatile acidity",
         "stats": {
          "histogram": [
           {
            "bin_end": 0.241,
            "bin_start": 0.12,
            "count": 50
           },
           {
            "bin_end": 0.362,
            "bin_start": 0.241,
            "count": 251
           },
           {
            "bin_end": 0.483,
            "bin_start": 0.362,
            "count": 363
           },
           {
            "bin_end": 0.604,
            "bin_start": 0.483,
            "count": 413
           },
           {
            "bin_end": 0.725,
            "bin_start": 0.604,
            "count": 305
           },
           {
            "bin_end": 0.846,
            "bin_start": 0.725,
            "count": 120
           },
           {
            "bin_end": 0.967,
            "bin_start": 0.846,
            "count": 45
           },
           {
            "bin_end": 1.088,
            "bin_start": 0.967,
            "count": 17
           },
           {
            "bin_end": 1.209,
            "bin_start": 1.088,
            "count": 4
           },
           {
            "bin_end": 1.33,
            "bin_start": 1.209,
            "count": 3
           }
          ],
          "max": "1.33",
          "min": "0.12",
          "nan_count": 0,
          "unique_count": 141
         }
        },
        {
         "dtype": "float64",
         "name": "citric acid",
         "stats": {
          "histogram": [
           {
            "bin_end": 0.1,
            "bin_start": 0,
            "count": 393
           },
           {
            "bin_end": 0.2,
            "bin_start": 0.1,
            "count": 203
           },
           {
            "bin_end": 0.30000000000000004,
            "bin_start": 0.2,
            "count": 314
           },
           {
            "bin_end": 0.4,
            "bin_start": 0.30000000000000004,
            "count": 201
           },
           {
            "bin_end": 0.5,
            "bin_start": 0.4,
            "count": 258
           },
           {
            "bin_end": 0.6000000000000001,
            "bin_start": 0.5,
            "count": 127
           },
           {
            "bin_end": 0.7000000000000001,
            "bin_start": 0.6000000000000001,
            "count": 60
           },
           {
            "bin_end": 0.8,
            "bin_start": 0.7000000000000001,
            "count": 14
           },
           {
            "bin_end": 0.9,
            "bin_start": 0.8,
            "count": 0
           },
           {
            "bin_end": 1,
            "bin_start": 0.9,
            "count": 1
           }
          ],
          "max": "1.0",
          "min": "0.0",
          "nan_count": 0,
          "unique_count": 79
         }
        },
        {
         "dtype": "float64",
         "name": "residual sugar",
         "stats": {
          "histogram": [
           {
            "bin_end": 2.36,
            "bin_start": 0.9,
            "count": 976
           },
           {
            "bin_end": 3.82,
            "bin_start": 2.36,
            "count": 457
           },
           {
            "bin_end": 5.28,
            "bin_start": 3.82,
            "count": 65
           },
           {
            "bin_end": 6.74,
            "bin_start": 5.28,
            "count": 43
           },
           {
            "bin_end": 8.2,
            "bin_start": 6.74,
            "count": 11
           },
           {
            "bin_end": 9.66,
            "bin_start": 8.2,
            "count": 8
           },
           {
            "bin_end": 11.12,
            "bin_start": 9.66,
            "count": 3
           },
           {
            "bin_end": 12.58,
            "bin_start": 11.12,
            "count": 0
           },
           {
            "bin_end": 14.040000000000001,
            "bin_start": 12.58,
            "count": 5
           },
           {
            "bin_end": 15.5,
            "bin_start": 14.040000000000001,
            "count": 3
           }
          ],
          "max": "15.5",
          "min": "0.9",
          "nan_count": 0,
          "unique_count": 89
         }
        },
        {
         "dtype": "float64",
         "name": "chlorides",
         "stats": {
          "histogram": [
           {
            "bin_end": 0.07189999999999999,
            "bin_start": 0.012,
            "count": 446
           },
           {
            "bin_end": 0.1318,
            "bin_start": 0.07189999999999999,
            "count": 1051
           },
           {
            "bin_end": 0.19169999999999998,
            "bin_start": 0.1318,
            "count": 33
           },
           {
            "bin_end": 0.2516,
            "bin_start": 0.19169999999999998,
            "count": 17
           },
           {
            "bin_end": 0.3115,
            "bin_start": 0.2516,
            "count": 2
           },
           {
            "bin_end": 0.37139999999999995,
            "bin_start": 0.3115,
            "count": 8
           },
           {
            "bin_end": 0.43129999999999996,
            "bin_start": 0.37139999999999995,
            "count": 10
           },
           {
            "bin_end": 0.49119999999999997,
            "bin_start": 0.43129999999999996,
            "count": 2
           },
           {
            "bin_end": 0.5510999999999999,
            "bin_start": 0.49119999999999997,
            "count": 0
           },
           {
            "bin_end": 0.611,
            "bin_start": 0.5510999999999999,
            "count": 2
           }
          ],
          "max": "0.611",
          "min": "0.012",
          "nan_count": 0,
          "unique_count": 149
         }
        },
        {
         "dtype": "float64",
         "name": "free sulfur dioxide",
         "stats": {
          "histogram": [
           {
            "bin_end": 8.1,
            "bin_start": 1,
            "count": 448
           },
           {
            "bin_end": 15.2,
            "bin_start": 8.1,
            "count": 456
           },
           {
            "bin_end": 22.299999999999997,
            "bin_start": 15.2,
            "count": 295
           },
           {
            "bin_end": 29.4,
            "bin_start": 22.299999999999997,
            "count": 196
           },
           {
            "bin_end": 36.5,
            "bin_start": 29.4,
            "count": 111
           },
           {
            "bin_end": 43.599999999999994,
            "bin_start": 36.5,
            "count": 38
           },
           {
            "bin_end": 50.699999999999996,
            "bin_start": 43.599999999999994,
            "count": 11
           },
           {
            "bin_end": 57.8,
            "bin_start": 50.699999999999996,
            "count": 12
           },
           {
            "bin_end": 64.9,
            "bin_start": 57.8,
            "count": 0
           },
           {
            "bin_end": 72,
            "bin_start": 64.9,
            "count": 4
           }
          ],
          "max": "72.0",
          "min": "1.0",
          "nan_count": 0,
          "unique_count": 60
         }
        },
        {
         "dtype": "float64",
         "name": "total sulfur dioxide",
         "stats": {
          "histogram": [
           {
            "bin_end": 34.3,
            "bin_start": 6,
            "count": 711
           },
           {
            "bin_end": 62.6,
            "bin_start": 34.3,
            "count": 465
           },
           {
            "bin_end": 90.9,
            "bin_start": 62.6,
            "count": 218
           },
           {
            "bin_end": 119.2,
            "bin_start": 90.9,
            "count": 113
           },
           {
            "bin_end": 147.5,
            "bin_start": 119.2,
            "count": 52
           },
           {
            "bin_end": 175.8,
            "bin_start": 147.5,
            "count": 10
           },
           {
            "bin_end": 204.1,
            "bin_start": 175.8,
            "count": 0
           },
           {
            "bin_end": 232.4,
            "bin_start": 204.1,
            "count": 0
           },
           {
            "bin_end": 260.70000000000005,
            "bin_start": 232.4,
            "count": 0
           },
           {
            "bin_end": 289,
            "bin_start": 260.70000000000005,
            "count": 2
           }
          ],
          "max": "289.0",
          "min": "6.0",
          "nan_count": 0,
          "unique_count": 144
         }
        },
        {
         "dtype": "float64",
         "name": "density",
         "stats": {
          "histogram": [
           {
            "bin_end": 0.991432,
            "bin_start": 0.99007,
            "count": 7
           },
           {
            "bin_end": 0.992794,
            "bin_start": 0.991432,
            "count": 24
           },
           {
            "bin_end": 0.994156,
            "bin_start": 0.992794,
            "count": 90
           },
           {
            "bin_end": 0.995518,
            "bin_start": 0.994156,
            "count": 242
           },
           {
            "bin_end": 0.99688,
            "bin_start": 0.995518,
            "count": 481
           },
           {
            "bin_end": 0.998242,
            "bin_start": 0.99688,
            "count": 444
           },
           {
            "bin_end": 0.9996039999999999,
            "bin_start": 0.998242,
            "count": 180
           },
           {
            "bin_end": 1.000966,
            "bin_start": 0.9996039999999999,
            "count": 73
           },
           {
            "bin_end": 1.0023279999999999,
            "bin_start": 1.000966,
            "count": 19
           },
           {
            "bin_end": 1.00369,
            "bin_start": 1.0023279999999999,
            "count": 11
           }
          ],
          "max": "1.00369",
          "min": "0.99007",
          "nan_count": 0,
          "unique_count": 428
         }
        },
        {
         "dtype": "float64",
         "name": "pH",
         "stats": {
          "histogram": [
           {
            "bin_end": 2.867,
            "bin_start": 2.74,
            "count": 2
           },
           {
            "bin_end": 2.994,
            "bin_start": 2.867,
            "count": 25
           },
           {
            "bin_end": 3.121,
            "bin_start": 2.994,
            "count": 134
           },
           {
            "bin_end": 3.248,
            "bin_start": 3.121,
            "count": 350
           },
           {
            "bin_end": 3.375,
            "bin_start": 3.248,
            "count": 550
           },
           {
            "bin_end": 3.502,
            "bin_start": 3.375,
            "count": 346
           },
           {
            "bin_end": 3.6289999999999996,
            "bin_start": 3.502,
            "count": 130
           },
           {
            "bin_end": 3.756,
            "bin_start": 3.6289999999999996,
            "count": 27
           },
           {
            "bin_end": 3.883,
            "bin_start": 3.756,
            "count": 3
           },
           {
            "bin_end": 4.01,
            "bin_start": 3.883,
            "count": 4
           }
          ],
          "max": "4.01",
          "min": "2.74",
          "nan_count": 0,
          "unique_count": 89
         }
        },
        {
         "dtype": "float64",
         "name": "sulphates",
         "stats": {
          "histogram": [
           {
            "bin_end": 0.497,
            "bin_start": 0.33,
            "count": 149
           },
           {
            "bin_end": 0.6639999999999999,
            "bin_start": 0.497,
            "count": 845
           },
           {
            "bin_end": 0.831,
            "bin_start": 0.6639999999999999,
            "count": 404
           },
           {
            "bin_end": 0.998,
            "bin_start": 0.831,
            "count": 115
           },
           {
            "bin_end": 1.165,
            "bin_start": 0.998,
            "count": 31
           },
           {
            "bin_end": 1.3319999999999999,
            "bin_start": 1.165,
            "count": 15
           },
           {
            "bin_end": 1.4989999999999999,
            "bin_start": 1.3319999999999999,
            "count": 4
           },
           {
            "bin_end": 1.666,
            "bin_start": 1.4989999999999999,
            "count": 4
           },
           {
            "bin_end": 1.833,
            "bin_start": 1.666,
            "count": 0
           },
           {
            "bin_end": 2,
            "bin_start": 1.833,
            "count": 4
           }
          ],
          "max": "2.0",
          "min": "0.33",
          "nan_count": 0,
          "unique_count": 96
         }
        },
        {
         "dtype": "float64",
         "name": "alcohol",
         "stats": {
          "histogram": [
           {
            "bin_end": 9.05,
            "bin_start": 8.4,
            "count": 35
           },
           {
            "bin_end": 9.700000000000001,
            "bin_start": 9.05,
            "count": 514
           },
           {
            "bin_end": 10.350000000000001,
            "bin_start": 9.700000000000001,
            "count": 317
           },
           {
            "bin_end": 11,
            "bin_start": 10.350000000000001,
            "count": 255
           },
           {
            "bin_end": 11.65,
            "bin_start": 11,
            "count": 227
           },
           {
            "bin_end": 12.3,
            "bin_start": 11.65,
            "count": 116
           },
           {
            "bin_end": 12.95,
            "bin_start": 12.3,
            "count": 82
           },
           {
            "bin_end": 13.600000000000001,
            "bin_start": 12.95,
            "count": 19
           },
           {
            "bin_end": 14.25,
            "bin_start": 13.600000000000001,
            "count": 5
           },
           {
            "bin_end": 14.9,
            "bin_start": 14.25,
            "count": 1
           }
          ],
          "max": "14.9",
          "min": "8.4",
          "nan_count": 0,
          "unique_count": 64
         }
        },
        {
         "dtype": "int64",
         "name": "quality",
         "stats": {
          "histogram": [
           {
            "bin_end": 4.3,
            "bin_start": 4,
            "count": 53
           },
           {
            "bin_end": 4.6,
            "bin_start": 4.3,
            "count": 0
           },
           {
            "bin_end": 4.9,
            "bin_start": 4.6,
            "count": 0
           },
           {
            "bin_end": 5.2,
            "bin_start": 4.9,
            "count": 681
           },
           {
            "bin_end": 5.5,
            "bin_start": 5.2,
            "count": 0
           },
           {
            "bin_end": 5.8,
            "bin_start": 5.5,
            "count": 0
           },
           {
            "bin_end": 6.1,
            "bin_start": 5.8,
            "count": 638
           },
           {
            "bin_end": 6.4,
            "bin_start": 6.1,
            "count": 0
           },
           {
            "bin_end": 6.699999999999999,
            "bin_start": 6.4,
            "count": 0
           },
           {
            "bin_end": 7,
            "bin_start": 6.699999999999999,
            "count": 199
           }
          ],
          "max": "7",
          "min": "4",
          "nan_count": 0,
          "unique_count": 4
         }
        },
        {
         "dtype": "int64",
         "name": "_deepnote_index_column"
        }
       ],
       "row_count": 1571,
       "rows_bottom": [
        {
         "_deepnote_index_column": 1557,
         "alcohol": 11,
         "chlorides": 0.062,
         "citric acid": 0.02,
         "density": 0.99627,
         "fixed acidity": 6.6,
         "free sulfur dioxide": 15,
         "pH": 3.54,
         "quality": 6,
         "residual sugar": 2.4,
         "sulphates": 0.6,
         "total sulfur dioxide": 23,
         "volatile acidity": 0.855
        },
        {
         "_deepnote_index_column": 1558,
         "alcohol": 9.5,
         "chlorides": 0.235,
         "citric acid": 0.33,
         "density": 0.99787,
         "fixed acidity": 6.9,
         "free sulfur dioxide": 66,
         "pH": 3.22,
         "quality": 5,
         "residual sugar": 6.7,
         "sulphates": 0.56,
         "total sulfur dioxide": 115,
         "volatile acidity": 0.63
        },
        {
         "_deepnote_index_column": 1559,
         "alcohol": 9.9,
         "chlorides": 0.08,
         "citric acid": 0.26,
         "density": 0.99622,
         "fixed acidity": 7.8,
         "free sulfur dioxide": 31,
         "pH": 3.21,
         "quality": 5,
         "residual sugar": 2,
         "sulphates": 0.52,
         "total sulfur dioxide": 131,
         "volatile acidity": 0.6
        },
        {
         "_deepnote_index_column": 1560,
         "alcohol": 9.9,
         "chlorides": 0.08,
         "citric acid": 0.26,
         "density": 0.99622,
         "fixed acidity": 7.8,
         "free sulfur dioxide": 31,
         "pH": 3.21,
         "quality": 5,
         "residual sugar": 2,
         "sulphates": 0.52,
         "total sulfur dioxide": 131,
         "volatile acidity": 0.6
        },
        {
         "_deepnote_index_column": 1561,
         "alcohol": 9.9,
         "chlorides": 0.08,
         "citric acid": 0.26,
         "density": 0.99622,
         "fixed acidity": 7.8,
         "free sulfur dioxide": 31,
         "pH": 3.21,
         "quality": 5,
         "residual sugar": 2,
         "sulphates": 0.52,
         "total sulfur dioxide": 131,
         "volatile acidity": 0.6
        },
        {
         "_deepnote_index_column": 1562,
         "alcohol": 10.1,
         "chlorides": 0.076,
         "citric acid": 0.13,
         "density": 0.99546,
         "fixed acidity": 7.2,
         "free sulfur dioxide": 12,
         "pH": 3.29,
         "quality": 5,
         "residual sugar": 2,
         "sulphates": 0.54,
         "total sulfur dioxide": 20,
         "volatile acidity": 0.695
        },
        {
         "_deepnote_index_column": 1563,
         "alcohol": 10.1,
         "chlorides": 0.076,
         "citric acid": 0.13,
         "density": 0.99546,
         "fixed acidity": 7.2,
         "free sulfur dioxide": 12,
         "pH": 3.29,
         "quality": 5,
         "residual sugar": 2,
         "sulphates": 0.54,
         "total sulfur dioxide": 20,
         "volatile acidity": 0.695
        },
        {
         "_deepnote_index_column": 1564,
         "alcohol": 10.1,
         "chlorides": 0.076,
         "citric acid": 0.13,
         "density": 0.99546,
         "fixed acidity": 7.2,
         "free sulfur dioxide": 12,
         "pH": 3.29,
         "quality": 5,
         "residual sugar": 2,
         "sulphates": 0.54,
         "total sulfur dioxide": 20,
         "volatile acidity": 0.695
        },
        {
         "_deepnote_index_column": 1565,
         "alcohol": 10.9,
         "chlorides": 0.061,
         "citric acid": 0.02,
         "density": 0.99489,
         "fixed acidity": 6.7,
         "free sulfur dioxide": 26,
         "pH": 3.39,
         "quality": 6,
         "residual sugar": 1.9,
         "sulphates": 0.82,
         "total sulfur dioxide": 42,
         "volatile acidity": 0.67
        },
        {
         "_deepnote_index_column": 1566,
         "alcohol": 11.2,
         "chlorides": 0.059,
         "citric acid": 0.64,
         "density": 0.99494,
         "fixed acidity": 6.7,
         "free sulfur dioxide": 24,
         "pH": 3.34,
         "quality": 6,
         "residual sugar": 2.1,
         "sulphates": 0.71,
         "total sulfur dioxide": 52,
         "volatile acidity": 0.16
        },
        {
         "_deepnote_index_column": 1567,
         "alcohol": 10.1,
         "chlorides": 0.076,
         "citric acid": 0.13,
         "density": 0.99546,
         "fixed acidity": 7.2,
         "free sulfur dioxide": 12,
         "pH": 3.29,
         "quality": 5,
         "residual sugar": 2,
         "sulphates": 0.54,
         "total sulfur dioxide": 20,
         "volatile acidity": 0.695
        },
        {
         "_deepnote_index_column": 1568,
         "alcohol": 9.2,
         "chlorides": 0.077,
         "citric acid": 0.13,
         "density": 0.99629,
         "fixed acidity": 7,
         "free sulfur dioxide": 25,
         "pH": 3.34,
         "quality": 5,
         "residual sugar": 1.6,
         "sulphates": 0.59,
         "total sulfur dioxide": 42,
         "volatile acidity": 0.56
        },
        {
         "_deepnote_index_column": 1569,
         "alcohol": 11.5,
         "chlorides": 0.056,
         "citric acid": 0.14,
         "density": 0.99396,
         "fixed acidity": 6.2,
         "free sulfur dioxide": 15,
         "pH": 3.48,
         "quality": 6,
         "residual sugar": 1.9,
         "sulphates": 0.57,
         "total sulfur dioxide": 34,
         "volatile acidity": 0.51
        },
        {
         "_deepnote_index_column": 1570,
         "alcohol": 12.4,
         "chlorides": 0.23,
         "citric acid": 0.53,
         "density": 0.9934,
         "fixed acidity": 6.4,
         "free sulfur dioxide": 19,
         "pH": 3.37,
         "quality": 6,
         "residual sugar": 2.2,
         "sulphates": 0.93,
         "total sulfur dioxide": 35,
         "volatile acidity": 0.36
        },
        {
         "_deepnote_index_column": 1571,
         "alcohol": 11.1,
         "chlorides": 0.038,
         "citric acid": 0.14,
         "density": 0.99514,
         "fixed acidity": 6.4,
         "free sulfur dioxide": 15,
         "pH": 3.44,
         "quality": 6,
         "residual sugar": 2.2,
         "sulphates": 0.65,
         "total sulfur dioxide": 25,
         "volatile acidity": 0.38
        },
        {
         "_deepnote_index_column": 1572,
         "alcohol": 9.5,
         "chlorides": 0.069,
         "citric acid": 0.32,
         "density": 0.99632,
         "fixed acidity": 7.3,
         "free sulfur dioxide": 35,
         "pH": 3.33,
         "quality": 5,
         "residual sugar": 2.2,
         "sulphates": 0.51,
         "total sulfur dioxide": 104,
         "volatile acidity": 0.69
        },
        {
         "_deepnote_index_column": 1573,
         "alcohol": 12.5,
         "chlorides": 0.075,
         "citric acid": 0.2,
         "density": 0.99467,
         "fixed acidity": 6,
         "free sulfur dioxide": 15,
         "pH": 3.58,
         "quality": 6,
         "residual sugar": 2.4,
         "sulphates": 0.67,
         "total sulfur dioxide": 50,
         "volatile acidity": 0.58
        },
        {
         "_deepnote_index_column": 1574,
         "alcohol": 10.5,
         "chlorides": 0.074,
         "citric acid": 0.78,
         "density": 0.99677,
         "fixed acidity": 5.6,
         "free sulfur dioxide": 23,
         "pH": 3.39,
         "quality": 6,
         "residual sugar": 13.9,
         "sulphates": 0.48,
         "total sulfur dioxide": 92,
         "volatile acidity": 0.31
        },
        {
         "_deepnote_index_column": 1575,
         "alcohol": 11.8,
         "chlorides": 0.06,
         "citric acid": 0.4,
         "density": 0.99474,
         "fixed acidity": 7.5,
         "free sulfur dioxide": 12,
         "pH": 3.26,
         "quality": 6,
         "residual sugar": 2.2,
         "sulphates": 0.64,
         "total sulfur dioxide": 20,
         "volatile acidity": 0.52
        },
        {
         "_deepnote_index_column": 1576,
         "alcohol": 10.8,
         "chlorides": 0.081,
         "citric acid": 0.63,
         "density": 0.99588,
         "fixed acidity": 8,
         "free sulfur dioxide": 16,
         "pH": 3.3,
         "quality": 6,
         "residual sugar": 1.6,
         "sulphates": 0.78,
         "total sulfur dioxide": 29,
         "volatile acidity": 0.3
        },
        {
         "_deepnote_index_column": 1577,
         "alcohol": 11.9,
         "chlorides": 0.076,
         "citric acid": 0.15,
         "density": 0.99622,
         "fixed acidity": 6.2,
         "free sulfur dioxide": 13,
         "pH": 3.54,
         "quality": 6,
         "residual sugar": 5.1,
         "sulphates": 0.6,
         "total sulfur dioxide": 27,
         "volatile acidity": 0.7
        },
        {
         "_deepnote_index_column": 1578,
         "alcohol": 11.3,
         "chlorides": 0.118,
         "citric acid": 0.15,
         "density": 0.9954,
         "fixed acidity": 6.8,
         "free sulfur dioxide": 13,
         "pH": 3.42,
         "quality": 6,
         "residual sugar": 1.8,
         "sulphates": 0.67,
         "total sulfur dioxide": 20,
         "volatile acidity": 0.67
        },
        {
         "_deepnote_index_column": 1579,
         "alcohol": 11.3,
         "chlorides": 0.053,
         "citric acid": 0.09,
         "density": 0.99402,
         "fixed acidity": 6.2,
         "free sulfur dioxide": 24,
         "pH": 3.54,
         "quality": 5,
         "residual sugar": 1.7,
         "sulphates": 0.6,
         "total sulfur dioxide": 32,
         "volatile acidity": 0.56
        },
        {
         "_deepnote_index_column": 1580,
         "alcohol": 11.9,
         "chlorides": 0.068,
         "citric acid": 0.33,
         "density": 0.9947,
         "fixed acidity": 7.4,
         "free sulfur dioxide": 9,
         "pH": 3.36,
         "quality": 6,
         "residual sugar": 2.4,
         "sulphates": 0.6,
         "total sulfur dioxide": 26,
         "volatile acidity": 0.35
        },
        {
         "_deepnote_index_column": 1581,
         "alcohol": 11.3,
         "chlorides": 0.053,
         "citric acid": 0.09,
         "density": 0.99402,
         "fixed acidity": 6.2,
         "free sulfur dioxide": 24,
         "pH": 3.54,
         "quality": 5,
         "residual sugar": 1.7,
         "sulphates": 0.6,
         "total sulfur dioxide": 32,
         "volatile acidity": 0.56
        },
        {
         "_deepnote_index_column": 1582,
         "alcohol": 11.9,
         "chlorides": 0.053,
         "citric acid": 0.1,
         "density": 0.99362,
         "fixed acidity": 6.1,
         "free sulfur dioxide": 13,
         "pH": 3.57,
         "quality": 5,
         "residual sugar": 2.6,
         "sulphates": 0.5,
         "total sulfur dioxide": 27,
         "volatile acidity": 0.715
        },
        {
         "_deepnote_index_column": 1583,
         "alcohol": 9.8,
         "chlorides": 0.074,
         "citric acid": 0.29,
         "density": 0.99578,
         "fixed acidity": 6.2,
         "free sulfur dioxide": 32,
         "pH": 3.33,
         "quality": 5,
         "residual sugar": 2.1,
         "sulphates": 0.62,
         "total sulfur dioxide": 98,
         "volatile acidity": 0.46
        },
        {
         "_deepnote_index_column": 1584,
         "alcohol": 11.6,
         "chlorides": 0.061,
         "citric acid": 0.44,
         "density": 0.99484,
         "fixed acidity": 6.7,
         "free sulfur dioxide": 24,
         "pH": 3.29,
         "quality": 7,
         "residual sugar": 2.4,
         "sulphates": 0.8,
         "total sulfur dioxide": 34,
         "volatile acidity": 0.32
        },
        {
         "_deepnote_index_column": 1585,
         "alcohol": 11.5,
         "chlorides": 0.066,
         "citric acid": 0.44,
         "density": 0.99494,
         "fixed acidity": 7.2,
         "free sulfur dioxide": 22,
         "pH": 3.3,
         "quality": 6,
         "residual sugar": 2.6,
         "sulphates": 0.84,
         "total sulfur dioxide": 48,
         "volatile acidity": 0.39
        },
        {
         "_deepnote_index_column": 1586,
         "alcohol": 11.4,
         "chlorides": 0.065,
         "citric acid": 0.41,
         "density": 0.99492,
         "fixed acidity": 7.5,
         "free sulfur dioxide": 34,
         "pH": 3.34,
         "quality": 6,
         "residual sugar": 2.4,
         "sulphates": 0.85,
         "total sulfur dioxide": 60,
         "volatile acidity": 0.31
        },
        {
         "_deepnote_index_column": 1587,
         "alcohol": 10.9,
         "chlorides": 0.066,
         "citric acid": 0.11,
         "density": 0.99483,
         "fixed acidity": 5.8,
         "free sulfur dioxide": 18,
         "pH": 3.55,
         "quality": 6,
         "residual sugar": 1.8,
         "sulphates": 0.66,
         "total sulfur dioxide": 28,
         "volatile acidity": 0.61
        },
        {
         "_deepnote_index_column": 1588,
         "alcohol": 12.8,
         "chlorides": 0.068,
         "citric acid": 0.33,
         "density": 0.99414,
         "fixed acidity": 7.2,
         "free sulfur dioxide": 34,
         "pH": 3.27,
         "quality": 6,
         "residual sugar": 2.5,
         "sulphates": 0.78,
         "total sulfur dioxide": 102,
         "volatile acidity": 0.66
        },
        {
         "_deepnote_index_column": 1589,
         "alcohol": 9.2,
         "chlorides": 0.073,
         "citric acid": 0.2,
         "density": 0.9977,
         "fixed acidity": 6.6,
         "free sulfur dioxide": 29,
         "pH": 3.29,
         "quality": 5,
         "residual sugar": 7.8,
         "sulphates": 0.54,
         "total sulfur dioxide": 79,
         "volatile acidity": 0.725
        },
        {
         "_deepnote_index_column": 1590,
         "alcohol": 11.6,
         "chlorides": 0.077,
         "citric acid": 0.15,
         "density": 0.99314,
         "fixed acidity": 6.3,
         "free sulfur dioxide": 26,
         "pH": 3.32,
         "quality": 6,
         "residual sugar": 1.8,
         "sulphates": 0.82,
         "total sulfur dioxide": 35,
         "volatile acidity": 0.55
        },
        {
         "_deepnote_index_column": 1591,
         "alcohol": 11.6,
         "chlorides": 0.089,
         "citric acid": 0.09,
         "density": 0.99402,
         "fixed acidity": 5.4,
         "free sulfur dioxide": 16,
         "pH": 3.67,
         "quality": 6,
         "residual sugar": 1.7,
         "sulphates": 0.56,
         "total sulfur dioxide": 26,
         "volatile acidity": 0.74
        },
        {
         "_deepnote_index_column": 1592,
         "alcohol": 11,
         "chlorides": 0.076,
         "citric acid": 0.13,
         "density": 0.99574,
         "fixed acidity": 6.3,
         "free sulfur dioxide": 29,
         "pH": 3.42,
         "quality": 6,
         "residual sugar": 2.3,
         "sulphates": 0.75,
         "total sulfur dioxide": 40,
         "volatile acidity": 0.51
        },
        {
         "_deepnote_index_column": 1593,
         "alcohol": 9.5,
         "chlorides": 0.068,
         "citric acid": 0.08,
         "density": 0.99651,
         "fixed acidity": 6.8,
         "free sulfur dioxide": 28,
         "pH": 3.42,
         "quality": 6,
         "residual sugar": 1.9,
         "sulphates": 0.82,
         "total sulfur dioxide": 38,
         "volatile acidity": 0.62
        },
        {
         "_deepnote_index_column": 1594,
         "alcohol": 10.5,
         "chlorides": 0.09,
         "citric acid": 0.08,
         "density": 0.9949,
         "fixed acidity": 6.2,
         "free sulfur dioxide": 32,
         "pH": 3.45,
         "quality": 5,
         "residual sugar": 2,
         "sulphates": 0.58,
         "total sulfur dioxide": 44,
         "volatile acidity": 0.6
        },
        {
         "_deepnote_index_column": 1595,
         "alcohol": 11.2,
         "chlorides": 0.062,
         "citric acid": 0.1,
         "density": 0.99512,
         "fixed acidity": 5.9,
         "free sulfur dioxide": 39,
         "pH": 3.52,
         "quality": 6,
         "residual sugar": 2.2,
         "sulphates": 0.76,
         "total sulfur dioxide": 51,
         "volatile acidity": 0.55
        },
        {
         "_deepnote_index_column": 1596,
         "alcohol": 11,
         "chlorides": 0.076,
         "citric acid": 0.13,
         "density": 0.99574,
         "fixed acidity": 6.3,
         "free sulfur dioxide": 29,
         "pH": 3.42,
         "quality": 6,
         "residual sugar": 2.3,
         "sulphates": 0.75,
         "total sulfur dioxide": 40,
         "volatile acidity": 0.51
        },
        {
         "_deepnote_index_column": 1597,
         "alcohol": 10.2,
         "chlorides": 0.075,
         "citric acid": 0.12,
         "density": 0.99547,
         "fixed acidity": 5.9,
         "free sulfur dioxide": 32,
         "pH": 3.57,
         "quality": 5,
         "residual sugar": 2,
         "sulphates": 0.71,
         "total sulfur dioxide": 44,
         "volatile acidity": 0.645
        },
        {
         "_deepnote_index_column": 1598,
         "alcohol": 11,
         "chlorides": 0.067,
         "citric acid": 0.47,
         "density": 0.99549,
         "fixed acidity": 6,
         "free sulfur dioxide": 18,
         "pH": 3.39,
         "quality": 6,
         "residual sugar": 3.6,
         "sulphates": 0.66,
         "total sulfur dioxide": 42,
         "volatile acidity": 0.31
        }
       ],
       "rows_top": [
        {
         "_deepnote_index_column": 0,
         "alcohol": 9.4,
         "chlorides": 0.076,
         "citric acid": 0,
         "density": 0.9978,
         "fixed acidity": 7.4,
         "free sulfur dioxide": 11,
         "pH": 3.51,
         "quality": 5,
         "residual sugar": 1.9,
         "sulphates": 0.56,
         "total sulfur dioxide": 34,
         "volatile acidity": 0.7
        },
        {
         "_deepnote_index_column": 1,
         "alcohol": 9.8,
         "chlorides": 0.098,
         "citric acid": 0,
         "density": 0.9968,
         "fixed acidity": 7.8,
         "free sulfur dioxide": 25,
         "pH": 3.2,
         "quality": 5,
         "residual sugar": 2.6,
         "sulphates": 0.68,
         "total sulfur dioxide": 67,
         "volatile acidity": 0.88
        },
        {
         "_deepnote_index_column": 2,
         "alcohol": 9.8,
         "chlorides": 0.092,
         "citric acid": 0.04,
         "density": 0.997,
         "fixed acidity": 7.8,
         "free sulfur dioxide": 15,
         "pH": 3.26,
         "quality": 5,
         "residual sugar": 2.3,
         "sulphates": 0.65,
         "total sulfur dioxide": 54,
         "volatile acidity": 0.76
        },
        {
         "_deepnote_index_column": 3,
         "alcohol": 9.8,
         "chlorides": 0.075,
         "citric acid": 0.56,
         "density": 0.998,
         "fixed acidity": 11.2,
         "free sulfur dioxide": 17,
         "pH": 3.16,
         "quality": 6,
         "residual sugar": 1.9,
         "sulphates": 0.58,
         "total sulfur dioxide": 60,
         "volatile acidity": 0.28
        },
        {
         "_deepnote_index_column": 4,
         "alcohol": 9.4,
         "chlorides": 0.076,
         "citric acid": 0,
         "density": 0.9978,
         "fixed acidity": 7.4,
         "free sulfur dioxide": 11,
         "pH": 3.51,
         "quality": 5,
         "residual sugar": 1.9,
         "sulphates": 0.56,
         "total sulfur dioxide": 34,
         "volatile acidity": 0.7
        },
        {
         "_deepnote_index_column": 5,
         "alcohol": 9.4,
         "chlorides": 0.075,
         "citric acid": 0,
         "density": 0.9978,
         "fixed acidity": 7.4,
         "free sulfur dioxide": 13,
         "pH": 3.51,
         "quality": 5,
         "residual sugar": 1.8,
         "sulphates": 0.56,
         "total sulfur dioxide": 40,
         "volatile acidity": 0.66
        },
        {
         "_deepnote_index_column": 6,
         "alcohol": 9.4,
         "chlorides": 0.069,
         "citric acid": 0.06,
         "density": 0.9964,
         "fixed acidity": 7.9,
         "free sulfur dioxide": 15,
         "pH": 3.3,
         "quality": 5,
         "residual sugar": 1.6,
         "sulphates": 0.46,
         "total sulfur dioxide": 59,
         "volatile acidity": 0.6
        },
        {
         "_deepnote_index_column": 7,
         "alcohol": 10,
         "chlorides": 0.065,
         "citric acid": 0,
         "density": 0.9946,
         "fixed acidity": 7.3,
         "free sulfur dioxide": 15,
         "pH": 3.39,
         "quality": 7,
         "residual sugar": 1.2,
         "sulphates": 0.47,
         "total sulfur dioxide": 21,
         "volatile acidity": 0.65
        },
        {
         "_deepnote_index_column": 8,
         "alcohol": 9.5,
         "chlorides": 0.073,
         "citric acid": 0.02,
         "density": 0.9968,
         "fixed acidity": 7.8,
         "free sulfur dioxide": 9,
         "pH": 3.36,
         "quality": 7,
         "residual sugar": 2,
         "sulphates": 0.57,
         "total sulfur dioxide": 18,
         "volatile acidity": 0.58
        },
        {
         "_deepnote_index_column": 9,
         "alcohol": 10.5,
         "chlorides": 0.071,
         "citric acid": 0.36,
         "density": 0.9978,
         "fixed acidity": 7.5,
         "free sulfur dioxide": 17,
         "pH": 3.35,
         "quality": 5,
         "residual sugar": 6.1,
         "sulphates": 0.8,
         "total sulfur dioxide": 102,
         "volatile acidity": 0.5
        },
        {
         "_deepnote_index_column": 10,
         "alcohol": 9.2,
         "chlorides": 0.097,
         "citric acid": 0.08,
         "density": 0.9959,
         "fixed acidity": 6.7,
         "free sulfur dioxide": 15,
         "pH": 3.28,
         "quality": 5,
         "residual sugar": 1.8,
         "sulphates": 0.54,
         "total sulfur dioxide": 65,
         "volatile acidity": 0.58
        },
        {
         "_deepnote_index_column": 11,
         "alcohol": 10.5,
         "chlorides": 0.071,
         "citric acid": 0.36,
         "density": 0.9978,
         "fixed acidity": 7.5,
         "free sulfur dioxide": 17,
         "pH": 3.35,
         "quality": 5,
         "residual sugar": 6.1,
         "sulphates": 0.8,
         "total sulfur dioxide": 102,
         "volatile acidity": 0.5
        },
        {
         "_deepnote_index_column": 12,
         "alcohol": 9.9,
         "chlorides": 0.089,
         "citric acid": 0,
         "density": 0.9943,
         "fixed acidity": 5.6,
         "free sulfur dioxide": 16,
         "pH": 3.58,
         "quality": 5,
         "residual sugar": 1.6,
         "sulphates": 0.52,
         "total sulfur dioxide": 59,
         "volatile acidity": 0.615
        },
        {
         "_deepnote_index_column": 13,
         "alcohol": 9.1,
         "chlorides": 0.114,
         "citric acid": 0.29,
         "density": 0.9974,
         "fixed acidity": 7.8,
         "free sulfur dioxide": 9,
         "pH": 3.26,
         "quality": 5,
         "residual sugar": 1.6,
         "sulphates": 1.56,
         "total sulfur dioxide": 29,
         "volatile acidity": 0.61
        },
        {
         "_deepnote_index_column": 14,
         "alcohol": 9.2,
         "chlorides": 0.176,
         "citric acid": 0.18,
         "density": 0.9986,
         "fixed acidity": 8.9,
         "free sulfur dioxide": 52,
         "pH": 3.16,
         "quality": 5,
         "residual sugar": 3.8,
         "sulphates": 0.88,
         "total sulfur dioxide": 145,
         "volatile acidity": 0.62
        },
        {
         "_deepnote_index_column": 15,
         "alcohol": 9.2,
         "chlorides": 0.17,
         "citric acid": 0.19,
         "density": 0.9986,
         "fixed acidity": 8.9,
         "free sulfur dioxide": 51,
         "pH": 3.17,
         "quality": 5,
         "residual sugar": 3.9,
         "sulphates": 0.93,
         "total sulfur dioxide": 148,
         "volatile acidity": 0.62
        },
        {
         "_deepnote_index_column": 16,
         "alcohol": 10.5,
         "chlorides": 0.092,
         "citric acid": 0.56,
         "density": 0.9969,
         "fixed acidity": 8.5,
         "free sulfur dioxide": 35,
         "pH": 3.3,
         "quality": 7,
         "residual sugar": 1.8,
         "sulphates": 0.75,
         "total sulfur dioxide": 103,
         "volatile acidity": 0.28
        },
        {
         "_deepnote_index_column": 17,
         "alcohol": 9.3,
         "chlorides": 0.368,
         "citric acid": 0.28,
         "density": 0.9968,
         "fixed acidity": 8.1,
         "free sulfur dioxide": 16,
         "pH": 3.11,
         "quality": 5,
         "residual sugar": 1.7,
         "sulphates": 1.28,
         "total sulfur dioxide": 56,
         "volatile acidity": 0.56
        },
        {
         "_deepnote_index_column": 18,
         "alcohol": 9,
         "chlorides": 0.086,
         "citric acid": 0.08,
         "density": 0.9974,
         "fixed acidity": 7.4,
         "free sulfur dioxide": 6,
         "pH": 3.38,
         "quality": 4,
         "residual sugar": 4.4,
         "sulphates": 0.5,
         "total sulfur dioxide": 29,
         "volatile acidity": 0.59
        },
        {
         "_deepnote_index_column": 19,
         "alcohol": 9.2,
         "chlorides": 0.341,
         "citric acid": 0.51,
         "density": 0.9969,
         "fixed acidity": 7.9,
         "free sulfur dioxide": 17,
         "pH": 3.04,
         "quality": 6,
         "residual sugar": 1.8,
         "sulphates": 1.08,
         "total sulfur dioxide": 56,
         "volatile acidity": 0.32
        },
        {
         "_deepnote_index_column": 20,
         "alcohol": 9.4,
         "chlorides": 0.077,
         "citric acid": 0.48,
         "density": 0.9968,
         "fixed acidity": 8.9,
         "free sulfur dioxide": 29,
         "pH": 3.39,
         "quality": 6,
         "residual sugar": 1.8,
         "sulphates": 0.53,
         "total sulfur dioxide": 60,
         "volatile acidity": 0.22
        },
        {
         "_deepnote_index_column": 21,
         "alcohol": 9.7,
         "chlorides": 0.082,
         "citric acid": 0.31,
         "density": 0.9982,
         "fixed acidity": 7.6,
         "free sulfur dioxide": 23,
         "pH": 3.52,
         "quality": 5,
         "residual sugar": 2.3,
         "sulphates": 0.65,
         "total sulfur dioxide": 71,
         "volatile acidity": 0.39
        },
        {
         "_deepnote_index_column": 22,
         "alcohol": 9.5,
         "chlorides": 0.106,
         "citric acid": 0.21,
         "density": 0.9966,
         "fixed acidity": 7.9,
         "free sulfur dioxide": 10,
         "pH": 3.17,
         "quality": 5,
         "residual sugar": 1.6,
         "sulphates": 0.91,
         "total sulfur dioxide": 37,
         "volatile acidity": 0.43
        },
        {
         "_deepnote_index_column": 23,
         "alcohol": 9.4,
         "chlorides": 0.084,
         "citric acid": 0.11,
         "density": 0.9968,
         "fixed acidity": 8.5,
         "free sulfur dioxide": 9,
         "pH": 3.17,
         "quality": 5,
         "residual sugar": 2.3,
         "sulphates": 0.53,
         "total sulfur dioxide": 67,
         "volatile acidity": 0.49
        },
        {
         "_deepnote_index_column": 24,
         "alcohol": 9.7,
         "chlorides": 0.085,
         "citric acid": 0.14,
         "density": 0.9968,
         "fixed acidity": 6.9,
         "free sulfur dioxide": 21,
         "pH": 3.43,
         "quality": 6,
         "residual sugar": 2.4,
         "sulphates": 0.63,
         "total sulfur dioxide": 40,
         "volatile acidity": 0.4
        },
        {
         "_deepnote_index_column": 25,
         "alcohol": 9.3,
         "chlorides": 0.08,
         "citric acid": 0.16,
         "density": 0.9955,
         "fixed acidity": 6.3,
         "free sulfur dioxide": 11,
         "pH": 3.34,
         "quality": 5,
         "residual sugar": 1.4,
         "sulphates": 0.56,
         "total sulfur dioxide": 23,
         "volatile acidity": 0.39
        },
        {
         "_deepnote_index_column": 26,
         "alcohol": 9.5,
         "chlorides": 0.08,
         "citric acid": 0.24,
         "density": 0.9962,
         "fixed acidity": 7.6,
         "free sulfur dioxide": 4,
         "pH": 3.28,
         "quality": 5,
         "residual sugar": 1.8,
         "sulphates": 0.59,
         "total sulfur dioxide": 11,
         "volatile acidity": 0.41
        },
        {
         "_deepnote_index_column": 27,
         "alcohol": 9.5,
         "chlorides": 0.106,
         "citric acid": 0.21,
         "density": 0.9966,
         "fixed acidity": 7.9,
         "free sulfur dioxide": 10,
         "pH": 3.17,
         "quality": 5,
         "residual sugar": 1.6,
         "sulphates": 0.91,
         "total sulfur dioxide": 37,
         "volatile acidity": 0.43
        },
        {
         "_deepnote_index_column": 28,
         "alcohol": 9.4,
         "chlorides": 0.08,
         "citric acid": 0,
         "density": 0.9972,
         "fixed acidity": 7.1,
         "free sulfur dioxide": 14,
         "pH": 3.47,
         "quality": 5,
         "residual sugar": 1.9,
         "sulphates": 0.55,
         "total sulfur dioxide": 35,
         "volatile acidity": 0.71
        },
        {
         "_deepnote_index_column": 29,
         "alcohol": 9.8,
         "chlorides": 0.082,
         "citric acid": 0,
         "density": 0.9964,
         "fixed acidity": 7.8,
         "free sulfur dioxide": 8,
         "pH": 3.38,
         "quality": 6,
         "residual sugar": 2,
         "sulphates": 0.59,
         "total sulfur dioxide": 16,
         "volatile acidity": 0.645
        },
        {
         "_deepnote_index_column": 30,
         "alcohol": 10.1,
         "chlorides": 0.089,
         "citric acid": 0.07,
         "density": 0.9958,
         "fixed acidity": 6.7,
         "free sulfur dioxide": 17,
         "pH": 3.35,
         "quality": 5,
         "residual sugar": 2.4,
         "sulphates": 0.54,
         "total sulfur dioxide": 82,
         "volatile acidity": 0.675
        },
        {
         "_deepnote_index_column": 31,
         "alcohol": 10.6,
         "chlorides": 0.105,
         "citric acid": 0,
         "density": 0.9966,
         "fixed acidity": 6.9,
         "free sulfur dioxide": 22,
         "pH": 3.46,
         "quality": 6,
         "residual sugar": 2.5,
         "sulphates": 0.57,
         "total sulfur dioxide": 37,
         "volatile acidity": 0.685
        },
        {
         "_deepnote_index_column": 32,
         "alcohol": 9.8,
         "chlorides": 0.083,
         "citric acid": 0.12,
         "density": 0.9966,
         "fixed acidity": 8.3,
         "free sulfur dioxide": 15,
         "pH": 3.17,
         "quality": 5,
         "residual sugar": 2.3,
         "sulphates": 0.66,
         "total sulfur dioxide": 113,
         "volatile acidity": 0.655
        },
        {
         "_deepnote_index_column": 33,
         "alcohol": 9.4,
         "chlorides": 0.073,
         "citric acid": 0.12,
         "density": 0.9993,
         "fixed acidity": 6.9,
         "free sulfur dioxide": 40,
         "pH": 3.45,
         "quality": 6,
         "residual sugar": 10.7,
         "sulphates": 0.52,
         "total sulfur dioxide": 83,
         "volatile acidity": 0.605
        },
        {
         "_deepnote_index_column": 34,
         "alcohol": 9.2,
         "chlorides": 0.103,
         "citric acid": 0.25,
         "density": 0.9957,
         "fixed acidity": 5.2,
         "free sulfur dioxide": 13,
         "pH": 3.38,
         "quality": 5,
         "residual sugar": 1.8,
         "sulphates": 0.55,
         "total sulfur dioxide": 50,
         "volatile acidity": 0.32
        },
        {
         "_deepnote_index_column": 35,
         "alcohol": 9.6,
         "chlorides": 0.086,
         "citric acid": 0,
         "density": 0.9986,
         "fixed acidity": 7.8,
         "free sulfur dioxide": 5,
         "pH": 3.4,
         "quality": 6,
         "residual sugar": 5.5,
         "sulphates": 0.55,
         "total sulfur dioxide": 18,
         "volatile acidity": 0.645
        },
        {
         "_deepnote_index_column": 36,
         "alcohol": 10.8,
         "chlorides": 0.086,
         "citric acid": 0.14,
         "density": 0.9975,
         "fixed acidity": 7.8,
         "free sulfur dioxide": 3,
         "pH": 3.42,
         "quality": 6,
         "residual sugar": 2.4,
         "sulphates": 0.6,
         "total sulfur dioxide": 15,
         "volatile acidity": 0.6
        },
        {
         "_deepnote_index_column": 37,
         "alcohol": 9.7,
         "chlorides": 0.066,
         "citric acid": 0.28,
         "density": 0.9968,
         "fixed acidity": 8.1,
         "free sulfur dioxide": 13,
         "pH": 3.23,
         "quality": 7,
         "residual sugar": 2.1,
         "sulphates": 0.73,
         "total sulfur dioxide": 30,
         "volatile acidity": 0.38
        },
        {
         "_deepnote_index_column": 38,
         "alcohol": 9.8,
         "chlorides": 0.172,
         "citric acid": 0.09,
         "density": 0.994,
         "fixed acidity": 5.7,
         "free sulfur dioxide": 7,
         "pH": 3.5,
         "quality": 4,
         "residual sugar": 1.5,
         "sulphates": 0.48,
         "total sulfur dioxide": 19,
         "volatile acidity": 1.13
        },
        {
         "_deepnote_index_column": 39,
         "alcohol": 10.5,
         "chlorides": 0.074,
         "citric acid": 0.36,
         "density": 0.9978,
         "fixed acidity": 7.3,
         "free sulfur dioxide": 12,
         "pH": 3.33,
         "quality": 5,
         "residual sugar": 5.9,
         "sulphates": 0.83,
         "total sulfur dioxide": 87,
         "volatile acidity": 0.45
        },
        {
         "_deepnote_index_column": 40,
         "alcohol": 10.5,
         "chlorides": 0.074,
         "citric acid": 0.36,
         "density": 0.9978,
         "fixed acidity": 7.3,
         "free sulfur dioxide": 12,
         "pH": 3.33,
         "quality": 5,
         "residual sugar": 5.9,
         "sulphates": 0.83,
         "total sulfur dioxide": 87,
         "volatile acidity": 0.45
        }
       ]
      },
      "text/html": [
       "<div>\n",
       "<style scoped>\n",
       "    .dataframe tbody tr th:only-of-type {\n",
       "        vertical-align: middle;\n",
       "    }\n",
       "\n",
       "    .dataframe tbody tr th {\n",
       "        vertical-align: top;\n",
       "    }\n",
       "\n",
       "    .dataframe thead th {\n",
       "        text-align: right;\n",
       "    }\n",
       "</style>\n",
       "<table border=\"1\" class=\"dataframe\">\n",
       "  <thead>\n",
       "    <tr style=\"text-align: right;\">\n",
       "      <th></th>\n",
       "      <th>fixed acidity</th>\n",
       "      <th>volatile acidity</th>\n",
       "      <th>citric acid</th>\n",
       "      <th>residual sugar</th>\n",
       "      <th>chlorides</th>\n",
       "      <th>free sulfur dioxide</th>\n",
       "      <th>total sulfur dioxide</th>\n",
       "      <th>density</th>\n",
       "      <th>pH</th>\n",
       "      <th>sulphates</th>\n",
       "      <th>alcohol</th>\n",
       "      <th>quality</th>\n",
       "    </tr>\n",
       "  </thead>\n",
       "  <tbody>\n",
       "    <tr>\n",
       "      <th>0</th>\n",
       "      <td>7.4</td>\n",
       "      <td>0.700</td>\n",
       "      <td>0.00</td>\n",
       "      <td>1.9</td>\n",
       "      <td>0.076</td>\n",
       "      <td>11.0</td>\n",
       "      <td>34.0</td>\n",
       "      <td>0.99780</td>\n",
       "      <td>3.51</td>\n",
       "      <td>0.56</td>\n",
       "      <td>9.4</td>\n",
       "      <td>5</td>\n",
       "    </tr>\n",
       "    <tr>\n",
       "      <th>1</th>\n",
       "      <td>7.8</td>\n",
       "      <td>0.880</td>\n",
       "      <td>0.00</td>\n",
       "      <td>2.6</td>\n",
       "      <td>0.098</td>\n",
       "      <td>25.0</td>\n",
       "      <td>67.0</td>\n",
       "      <td>0.99680</td>\n",
       "      <td>3.20</td>\n",
       "      <td>0.68</td>\n",
       "      <td>9.8</td>\n",
       "      <td>5</td>\n",
       "    </tr>\n",
       "    <tr>\n",
       "      <th>2</th>\n",
       "      <td>7.8</td>\n",
       "      <td>0.760</td>\n",
       "      <td>0.04</td>\n",
       "      <td>2.3</td>\n",
       "      <td>0.092</td>\n",
       "      <td>15.0</td>\n",
       "      <td>54.0</td>\n",
       "      <td>0.99700</td>\n",
       "      <td>3.26</td>\n",
       "      <td>0.65</td>\n",
       "      <td>9.8</td>\n",
       "      <td>5</td>\n",
       "    </tr>\n",
       "    <tr>\n",
       "      <th>3</th>\n",
       "      <td>11.2</td>\n",
       "      <td>0.280</td>\n",
       "      <td>0.56</td>\n",
       "      <td>1.9</td>\n",
       "      <td>0.075</td>\n",
       "      <td>17.0</td>\n",
       "      <td>60.0</td>\n",
       "      <td>0.99800</td>\n",
       "      <td>3.16</td>\n",
       "      <td>0.58</td>\n",
       "      <td>9.8</td>\n",
       "      <td>6</td>\n",
       "    </tr>\n",
       "    <tr>\n",
       "      <th>4</th>\n",
       "      <td>7.4</td>\n",
       "      <td>0.700</td>\n",
       "      <td>0.00</td>\n",
       "      <td>1.9</td>\n",
       "      <td>0.076</td>\n",
       "      <td>11.0</td>\n",
       "      <td>34.0</td>\n",
       "      <td>0.99780</td>\n",
       "      <td>3.51</td>\n",
       "      <td>0.56</td>\n",
       "      <td>9.4</td>\n",
       "      <td>5</td>\n",
       "    </tr>\n",
       "    <tr>\n",
       "      <th>...</th>\n",
       "      <td>...</td>\n",
       "      <td>...</td>\n",
       "      <td>...</td>\n",
       "      <td>...</td>\n",
       "      <td>...</td>\n",
       "      <td>...</td>\n",
       "      <td>...</td>\n",
       "      <td>...</td>\n",
       "      <td>...</td>\n",
       "      <td>...</td>\n",
       "      <td>...</td>\n",
       "      <td>...</td>\n",
       "    </tr>\n",
       "    <tr>\n",
       "      <th>1594</th>\n",
       "      <td>6.2</td>\n",
       "      <td>0.600</td>\n",
       "      <td>0.08</td>\n",
       "      <td>2.0</td>\n",
       "      <td>0.090</td>\n",
       "      <td>32.0</td>\n",
       "      <td>44.0</td>\n",
       "      <td>0.99490</td>\n",
       "      <td>3.45</td>\n",
       "      <td>0.58</td>\n",
       "      <td>10.5</td>\n",
       "      <td>5</td>\n",
       "    </tr>\n",
       "    <tr>\n",
       "      <th>1595</th>\n",
       "      <td>5.9</td>\n",
       "      <td>0.550</td>\n",
       "      <td>0.10</td>\n",
       "      <td>2.2</td>\n",
       "      <td>0.062</td>\n",
       "      <td>39.0</td>\n",
       "      <td>51.0</td>\n",
       "      <td>0.99512</td>\n",
       "      <td>3.52</td>\n",
       "      <td>0.76</td>\n",
       "      <td>11.2</td>\n",
       "      <td>6</td>\n",
       "    </tr>\n",
       "    <tr>\n",
       "      <th>1596</th>\n",
       "      <td>6.3</td>\n",
       "      <td>0.510</td>\n",
       "      <td>0.13</td>\n",
       "      <td>2.3</td>\n",
       "      <td>0.076</td>\n",
       "      <td>29.0</td>\n",
       "      <td>40.0</td>\n",
       "      <td>0.99574</td>\n",
       "      <td>3.42</td>\n",
       "      <td>0.75</td>\n",
       "      <td>11.0</td>\n",
       "      <td>6</td>\n",
       "    </tr>\n",
       "    <tr>\n",
       "      <th>1597</th>\n",
       "      <td>5.9</td>\n",
       "      <td>0.645</td>\n",
       "      <td>0.12</td>\n",
       "      <td>2.0</td>\n",
       "      <td>0.075</td>\n",
       "      <td>32.0</td>\n",
       "      <td>44.0</td>\n",
       "      <td>0.99547</td>\n",
       "      <td>3.57</td>\n",
       "      <td>0.71</td>\n",
       "      <td>10.2</td>\n",
       "      <td>5</td>\n",
       "    </tr>\n",
       "    <tr>\n",
       "      <th>1598</th>\n",
       "      <td>6.0</td>\n",
       "      <td>0.310</td>\n",
       "      <td>0.47</td>\n",
       "      <td>3.6</td>\n",
       "      <td>0.067</td>\n",
       "      <td>18.0</td>\n",
       "      <td>42.0</td>\n",
       "      <td>0.99549</td>\n",
       "      <td>3.39</td>\n",
       "      <td>0.66</td>\n",
       "      <td>11.0</td>\n",
       "      <td>6</td>\n",
       "    </tr>\n",
       "  </tbody>\n",
       "</table>\n",
       "<p>1571 rows × 12 columns</p>\n",
       "</div>"
      ],
      "text/plain": [
       "      fixed acidity  volatile acidity  citric acid  residual sugar  chlorides  \\\n",
       "0               7.4             0.700         0.00             1.9      0.076   \n",
       "1               7.8             0.880         0.00             2.6      0.098   \n",
       "2               7.8             0.760         0.04             2.3      0.092   \n",
       "3              11.2             0.280         0.56             1.9      0.075   \n",
       "4               7.4             0.700         0.00             1.9      0.076   \n",
       "...             ...               ...          ...             ...        ...   \n",
       "1594            6.2             0.600         0.08             2.0      0.090   \n",
       "1595            5.9             0.550         0.10             2.2      0.062   \n",
       "1596            6.3             0.510         0.13             2.3      0.076   \n",
       "1597            5.9             0.645         0.12             2.0      0.075   \n",
       "1598            6.0             0.310         0.47             3.6      0.067   \n",
       "\n",
       "      free sulfur dioxide  total sulfur dioxide  density    pH  sulphates  \\\n",
       "0                    11.0                  34.0  0.99780  3.51       0.56   \n",
       "1                    25.0                  67.0  0.99680  3.20       0.68   \n",
       "2                    15.0                  54.0  0.99700  3.26       0.65   \n",
       "3                    17.0                  60.0  0.99800  3.16       0.58   \n",
       "4                    11.0                  34.0  0.99780  3.51       0.56   \n",
       "...                   ...                   ...      ...   ...        ...   \n",
       "1594                 32.0                  44.0  0.99490  3.45       0.58   \n",
       "1595                 39.0                  51.0  0.99512  3.52       0.76   \n",
       "1596                 29.0                  40.0  0.99574  3.42       0.75   \n",
       "1597                 32.0                  44.0  0.99547  3.57       0.71   \n",
       "1598                 18.0                  42.0  0.99549  3.39       0.66   \n",
       "\n",
       "      alcohol  quality  \n",
       "0         9.4        5  \n",
       "1         9.8        5  \n",
       "2         9.8        5  \n",
       "3         9.8        6  \n",
       "4         9.4        5  \n",
       "...       ...      ...  \n",
       "1594     10.5        5  \n",
       "1595     11.2        6  \n",
       "1596     11.0        6  \n",
       "1597     10.2        5  \n",
       "1598     11.0        6  \n",
       "\n",
       "[1571 rows x 12 columns]"
      ]
     },
     "execution_count": 24,
     "metadata": {},
     "output_type": "execute_result"
    }
   ],
   "source": [
    "ds = deepcopy(ds_raw)\n",
    "ds = ds[(ds[\"quality\"] != 3) & (ds[\"quality\"] != 8)]\n",
    "ds"
   ]
  },
  {
   "cell_type": "code",
   "execution_count": null,
   "metadata": {
    "cell_id": "00004-112aa6f9-8b47-4b75-861e-251267c166fc",
    "deepnote_cell_type": "code",
    "deepnote_output_heights": [
     97.9375
    ],
    "deepnote_to_be_reexecuted": false,
    "execution_millis": 1,
    "execution_start": 1634582167810,
    "source_hash": "c3997a3e",
    "tags": []
   },
   "outputs": [
    {
     "data": {
      "text/plain": [
       "5    681\n",
       "6    638\n",
       "7    199\n",
       "4     53\n",
       "Name: quality, dtype: int64"
      ]
     },
     "execution_count": 16,
     "metadata": {},
     "output_type": "execute_result"
    }
   ],
   "source": [
    "ds[\"quality\"].value_counts()"
   ]
  },
  {
   "cell_type": "code",
   "execution_count": null,
   "metadata": {
    "cell_id": "00005-601de6b5-2170-4681-b2d2-6cde512be9bb",
    "deepnote_cell_type": "code",
    "deepnote_to_be_reexecuted": false,
    "execution_millis": 1,
    "execution_start": 1634589885007,
    "source_hash": "4bb03b0b",
    "tags": []
   },
   "outputs": [],
   "source": [
    "ds[\"volatile acidity\"] = ds[\"volatile acidity\"].apply(lambda x: np.log(x))\n",
    "ds[\"residual sugar\"] = ds[\"residual sugar\"].apply(lambda x: np.log(x))\n",
    "ds[\"chlorides\"] = ds[\"chlorides\"].apply(lambda x: np.log(x))\n",
    "ds[\"total sulfur dioxide\"] = ds[\"total sulfur dioxide\"].apply(lambda x: np.log(x))\n",
    "ds[\"sulphates\"] = ds[\"sulphates\"].apply(lambda x: np.log(x))\n",
    "ds[\"alcohol\"] = ds[\"alcohol\"].apply(lambda x: np.log(x))"
   ]
  },
  {
   "cell_type": "code",
   "execution_count": null,
   "metadata": {
    "cell_id": "00005-427638b8-a012-4035-bad1-c93fd06f5ad9",
    "deepnote_cell_type": "code",
    "deepnote_output_heights": [
     611
    ],
    "deepnote_to_be_reexecuted": false,
    "execution_millis": 135,
    "execution_start": 1634589888880,
    "source_hash": "1a6941f7",
    "tags": []
   },
   "outputs": [
    {
     "data": {
      "text/html": [
       "<html>\n",
       "<head><meta charset=\"utf-8\" /></head>\n",
       "<body>\n",
       "    <div>            <script src=\"https://cdnjs.cloudflare.com/ajax/libs/mathjax/2.7.5/MathJax.js?config=TeX-AMS-MML_SVG\"></script><script type=\"text/javascript\">if (window.MathJax) {MathJax.Hub.Config({SVG: {font: \"STIX-Web\"}});}</script>                <script type=\"text/javascript\">window.PlotlyConfig = {MathJaxConfig: 'local'};</script>\n",
       "        <script src=\"https://cdn.plot.ly/plotly-2.4.2.min.js\"></script>                <div id=\"6593a12b-60de-494f-ba8d-c7f7a94d2996\" class=\"plotly-graph-div\" style=\"height:700px; width:1200px;\"></div>            <script type=\"text/javascript\">                                    window.PLOTLYENV=window.PLOTLYENV || {};                                    if (document.getElementById(\"6593a12b-60de-494f-ba8d-c7f7a94d2996\")) {                    Plotly.newPlot(                        \"6593a12b-60de-494f-ba8d-c7f7a94d2996\",                        [{\"diagonal\":{\"visible\":false},\"dimensions\":[{\"axis\":{\"matches\":true},\"label\":\"fixed acidity\",\"values\":[7.4,7.8,7.8,11.2,7.4,7.4,7.9,7.3,7.8,7.5,6.7,7.5,5.6,7.8,8.9,8.9,8.5,8.1,7.4,7.9,8.9,7.6,7.9,8.5,6.9,6.3,7.6,7.9,7.1,7.8,6.7,6.9,8.3,6.9,5.2,7.8,7.8,8.1,5.7,7.3,7.3,8.8,7.5,8.1,6.8,4.6,7.7,8.7,6.4,5.6,8.8,6.6,6.6,8.6,7.6,7.7,10.2,7.5,7.8,7.3,8.8,7.7,7.5,7.0,7.2,7.2,7.5,6.6,9.3,8.0,7.7,7.7,7.7,8.3,9.7,8.8,8.8,6.8,6.7,8.3,6.2,7.8,7.4,7.3,6.3,6.9,8.6,7.7,9.3,7.0,7.9,8.6,8.6,7.7,5.0,4.7,6.8,7.0,7.6,8.1,8.3,7.8,8.1,8.1,7.2,8.1,7.8,6.2,8.0,8.1,7.8,8.4,8.4,10.1,7.8,9.4,8.3,7.8,8.8,7.0,7.3,8.8,7.3,8.0,7.8,9.0,8.2,8.1,8.0,6.1,8.0,5.6,5.6,6.6,7.9,8.4,8.3,7.2,7.8,7.8,8.4,8.3,5.2,6.3,5.2,8.1,5.8,7.6,6.9,8.2,7.3,9.2,7.5,7.5,7.1,7.1,7.1,7.1,7.1,6.8,7.6,7.6,7.8,7.4,7.3,7.8,6.8,7.3,6.8,7.5,7.9,8.0,8.0,7.4,7.3,6.9,7.3,7.5,7.0,8.8,8.8,8.9,7.2,6.8,6.7,8.9,7.4,7.7,7.9,7.9,8.2,6.4,6.8,7.6,7.6,7.8,7.3,11.5,5.4,6.9,9.6,8.8,6.8,7.0,7.0,12.8,12.8,7.8,7.8,11.0,9.7,8.0,11.6,8.2,7.8,7.0,8.7,8.1,7.5,7.8,7.8,7.4,6.8,8.6,8.4,7.7,8.9,9.0,7.7,6.9,5.2,8.0,8.5,6.9,8.2,7.2,7.2,7.2,7.2,8.2,8.9,12.0,7.7,15.0,15.0,7.3,7.1,8.2,7.7,7.3,10.8,7.1,11.1,7.7,7.1,8.0,9.4,6.6,7.7,10.0,7.9,7.0,8.0,7.9,12.5,11.8,8.1,6.9,11.5,7.9,11.5,10.9,8.4,7.5,7.9,6.9,11.5,8.9,11.4,7.7,7.6,8.9,9.9,9.9,12.0,7.5,8.7,11.6,8.7,11.0,10.4,6.9,13.3,10.8,10.6,7.1,7.2,6.9,7.5,11.1,8.3,7.4,8.4,10.3,7.6,10.3,10.3,7.4,10.3,7.9,9.0,8.6,7.4,7.1,9.6,9.6,9.8,9.6,9.8,9.3,7.8,10.3,10.0,10.0,11.6,10.3,13.4,10.7,10.2,10.2,8.0,8.4,7.9,11.9,8.9,7.8,12.4,12.5,12.2,10.6,10.9,10.9,11.9,7.0,6.6,13.8,9.6,9.1,10.7,9.1,7.7,13.5,6.1,6.7,11.5,10.5,11.9,12.6,8.2,8.6,11.9,12.5,12.8,10.0,12.8,10.4,10.3,9.4,6.9,7.9,9.1,7.4,14.0,11.5,11.5,9.4,11.4,8.3,8.3,13.7,8.3,8.3,7.7,7.4,7.8,8.3,7.8,9.6,13.7,9.5,8.4,12.7,12.0,6.6,11.5,11.5,8.7,6.6,7.7,12.2,11.4,7.7,8.7,9.8,12.0,10.4,12.5,9.0,9.1,7.1,9.9,8.8,8.6,10.6,7.0,11.9,6.8,9.5,6.6,7.7,10.5,7.7,6.6,6.4,9.5,9.1,12.8,10.5,7.8,11.9,12.3,10.4,12.3,8.0,11.1,10.4,7.0,11.9,15.6,10.0,5.3,9.5,12.5,9.3,8.6,11.9,11.9,8.4,6.8,10.4,7.0,8.9,9.2,10.4,9.2,8.3,11.0,8.1,11.5,10.0,10.3,8.8,11.4,8.7,13.0,9.6,12.5,9.9,10.5,9.6,9.3,10.4,9.6,9.4,10.6,10.6,10.6,10.6,10.2,10.2,10.2,11.6,9.3,9.3,9.2,8.9,8.7,6.5,7.8,7.2,8.7,7.8,10.4,10.4,10.5,10.5,10.2,10.4,11.2,10.0,13.3,12.4,10.0,10.7,10.5,10.5,8.5,12.5,10.9,7.3,9.8,7.6,8.2,9.3,9.2,10.4,7.3,7.0,8.2,9.9,9.1,11.9,11.9,10.3,10.0,9.1,9.9,8.1,12.9,11.2,9.2,9.5,9.3,11.2,14.3,9.1,7.5,10.6,12.4,9.0,6.8,9.4,9.5,5.0,15.5,15.5,10.9,15.6,10.9,13.0,12.7,9.0,9.0,7.6,13.0,12.7,8.7,8.7,9.8,6.2,11.5,6.2,10.2,10.5,10.6,12.3,9.9,8.8,8.8,10.6,12.3,12.3,11.7,12.0,11.8,7.6,11.1,7.3,10.2,9.0,6.6,9.0,9.9,7.9,8.9,12.4,11.9,8.5,12.7,8.2,13.2,7.7,13.2,8.3,8.3,9.4,8.8,10.1,6.3,8.8,13.2,7.5,8.2,9.2,9.6,9.6,11.5,11.4,11.3,8.3,8.2,10.0,7.9,6.8,6.8,8.8,8.8,8.7,7.6,8.7,10.4,7.6,10.1,7.9,8.7,9.6,9.5,7.7,8.9,9.9,9.5,9.9,9.5,9.9,7.8,7.3,8.3,8.7,6.7,10.7,9.8,15.9,9.4,8.6,9.7,10.7,12.0,7.2,7.1,7.2,7.5,7.2,10.1,12.1,9.4,8.3,11.3,10.0,11.3,6.9,8.2,9.8,8.2,10.8,9.3,10.8,8.6,8.3,10.8,13.3,8.0,8.5,8.1,9.8,8.1,7.1,9.1,7.7,8.1,9.2,8.6,9.0,9.0,5.1,7.0,7.0,9.4,11.8,10.6,7.0,7.0,7.5,9.1,8.4,7.0,7.4,7.8,9.7,10.6,8.9,8.7,8.0,9.9,7.2,8.0,7.6,8.4,7.1,8.4,8.9,7.6,7.1,7.5,9.0,8.1,6.4,6.4,6.4,9.5,8.9,7.3,7.0,7.7,7.7,7.7,8.2,9.0,9.0,8.3,9.2,6.5,11.6,11.1,7.3,8.2,8.6,7.2,7.3,8.3,8.3,7.6,8.3,7.8,7.8,6.3,8.1,8.1,8.8,9.0,9.3,8.8,9.3,9.1,9.2,8.8,7.5,7.1,7.9,7.1,9.4,9.5,7.9,7.9,7.2,6.9,6.9,8.3,7.1,7.0,6.5,9.0,6.5,7.1,9.9,9.9,10.0,10.0,8.6,7.4,8.8,7.1,7.7,10.1,10.8,8.7,9.3,9.4,9.4,7.2,8.6,5.1,7.7,8.4,8.2,8.4,8.2,7.4,7.6,7.3,12.9,10.8,6.9,12.6,10.8,9.8,10.8,7.1,9.1,7.0,4.9,6.7,6.7,7.1,7.1,7.5,7.1,5.9,7.5,5.9,11.6,8.8,7.6,6.7,6.7,10.1,6.0,11.1,6.6,10.6,7.1,9.9,6.4,6.4,7.4,6.4,6.4,9.3,9.3,8.0,9.3,9.3,7.6,9.3,8.2,11.7,6.8,7.2,5.8,7.5,7.2,7.2,7.2,6.8,6.9,6.8,7.6,7.7,6.9,7.3,9.1,10.4,8.8,7.1,7.7,8.8,7.2,9.2,7.6,8.4,7.2,8.8,8.9,9.0,10.7,6.8,10.7,7.2,7.2,10.1,7.2,7.2,7.1,8.3,7.1,8.3,8.9,7.4,7.4,6.8,6.8,9.2,7.2,6.1,7.4,7.3,9.3,9.1,10.0,9.4,7.3,8.6,5.3,6.8,8.4,8.4,9.6,8.4,8.4,6.8,8.6,8.6,9.4,8.4,8.6,8.7,6.6,7.4,7.6,7.4,6.6,8.8,8.8,12.0,7.2,6.2,9.6,9.9,10.1,9.8,8.3,10.2,10.2,8.3,8.9,8.9,8.9,8.3,8.2,10.2,7.6,8.5,9.0,9.5,6.4,8.0,8.5,7.1,6.6,8.8,8.5,8.3,9.0,8.5,9.0,6.7,10.4,10.4,10.1,8.5,8.8,7.2,7.2,8.4,7.0,12.2,9.1,9.5,7.3,9.1,12.2,7.4,9.8,7.1,7.7,9.7,7.7,7.1,6.5,7.1,10.0,7.7,5.6,5.6,8.9,6.4,7.5,9.9,9.1,6.8,8.2,6.8,9.1,9.1,8.9,9.6,8.9,8.9,7.7,7.5,8.0,10.5,8.9,8.0,8.0,7.0,11.3,11.3,7.0,8.2,7.7,8.6,7.9,6.4,7.2,7.7,7.1,7.3,8.1,7.5,8.9,10.1,7.6,7.3,8.7,8.9,7.4,6.9,8.9,9.5,6.4,6.9,7.6,7.1,9.3,9.3,7.1,8.5,5.6,8.3,8.2,8.2,8.9,7.6,9.9,8.9,11.6,8.0,10.2,8.2,7.7,6.6,11.1,11.1,8.0,9.3,7.5,7.2,8.0,7.5,9.1,9.9,8.6,8.6,7.9,10.3,7.9,7.2,8.7,7.2,6.8,8.5,7.9,11.6,11.6,7.9,7.0,9.2,6.6,9.4,6.6,8.6,8.0,8.6,8.4,7.4,6.1,7.4,8.0,6.3,8.2,9.1,8.1,10.8,8.3,5.4,7.9,8.9,5.0,7.0,7.0,7.0,7.1,5.6,6.6,6.3,10.7,6.5,8.8,5.8,6.3,10.0,10.5,9.1,5.9,7.4,7.2,8.5,8.0,10.4,10.4,7.5,8.2,7.3,8.2,6.9,7.0,7.3,8.2,7.8,10.0,7.8,10.0,8.2,6.1,8.3,9.6,6.6,8.3,8.5,5.1,6.7,10.2,10.6,8.8,8.5,9.0,9.0,8.5,9.9,8.2,6.5,7.6,9.2,7.1,9.7,7.6,7.6,6.5,6.5,7.1,5.6,8.2,8.2,9.8,10.2,6.8,6.7,7.0,6.6,7.0,6.7,8.8,9.1,6.5,7.2,6.4,7.0,6.2,7.9,7.7,7.7,7.9,7.7,7.9,9.9,7.2,7.2,7.2,9.9,7.2,6.2,6.8,6.6,6.8,9.6,10.2,8.8,7.9,8.2,8.2,9.0,10.9,10.9,8.1,10.5,12.6,9.2,7.5,9.0,5.1,7.6,7.7,7.8,7.6,10.2,7.1,6.0,7.8,7.1,8.1,6.5,7.5,9.8,9.0,8.3,5.9,7.4,7.4,7.4,6.9,7.1,7.1,7.5,7.1,7.9,7.8,6.1,7.5,7.0,6.8,6.8,8.6,6.3,9.8,8.2,8.5,7.2,7.2,10.4,6.9,5.0,7.3,5.9,7.5,7.8,8.0,8.5,7.0,8.0,9.8,7.1,7.1,7.9,8.7,7.0,11.3,7.1,8.0,7.0,7.0,7.6,8.2,5.9,7.5,8.2,6.6,6.6,7.2,5.7,5.2,6.7,9.1,8.0,7.6,7.5,9.7,6.8,9.7,7.0,7.5,6.5,8.0,7.0,7.0,7.5,5.4,9.9,7.5,9.1,9.7,5.0,9.1,9.1,6.7,6.7,6.7,6.7,6.5,7.4,7.4,7.8,8.4,9.1,7.2,6.6,6.0,6.0,6.0,7.5,7.5,7.5,7.6,7.5,11.5,8.2,6.1,7.2,7.2,6.9,9.0,7.2,7.6,7.6,7.2,6.1,6.1,7.3,7.4,11.6,9.2,8.3,11.6,8.0,7.2,7.8,7.3,6.9,8.0,6.6,8.7,7.5,8.7,7.7,7.2,8.2,5.2,7.2,7.5,7.5,6.8,8.0,8.0,7.1,8.0,7.4,7.4,6.6,6.7,6.0,8.0,7.1,8.0,6.4,8.6,8.7,7.3,7.0,7.2,7.9,7.9,7.6,8.0,7.7,8.2,6.0,8.1,6.0,6.6,6.4,8.2,9.9,10.0,6.2,10.0,7.3,7.8,7.7,7.8,7.5,7.0,6.4,8.3,8.3,7.7,7.6,7.8,7.9,7.4,7.6,5.9,6.1,10.2,10.2,10.0,6.8,7.0,7.3,7.2,7.4,6.9,6.9,7.3,7.4,6.9,6.8,6.9,7.2,7.8,6.6,7.6,11.7,6.5,6.0,7.6,8.4,7.9,6.4,6.2,6.8,6.9,6.8,6.8,7.3,6.7,7.3,10.0,6.7,7.6,6.1,9.9,5.3,9.9,5.3,8.2,5.6,8.2,7.2,8.1,6.8,7.0,6.8,6.0,5.6,6.2,7.1,5.6,6.2,7.7,6.4,7.0,7.7,6.9,6.6,6.9,7.5,7.8,7.3,6.2,7.5,6.8,7.5,7.1,7.9,6.4,7.1,6.4,6.4,6.9,6.9,6.1,6.5,7.4,6.6,6.5,6.9,6.1,6.8,6.0,6.7,6.8,7.1,7.9,7.1,6.6,6.1,7.2,8.0,6.6,7.0,6.1,5.4,6.2,7.2,6.2,7.4,6.7,11.1,8.4,6.5,7.0,6.3,11.2,7.1,7.1,6.3,7.3,6.6,7.0,6.6,6.6,6.9,7.8,7.8,7.8,7.2,7.2,7.2,6.7,6.7,7.2,7.0,6.2,6.4,6.4,7.3,6.0,5.6,7.5,8.0,6.2,6.8,6.2,7.4,6.2,6.1,6.2,6.7,7.2,7.5,5.8,7.2,6.6,6.3,5.4,6.3,6.8,6.2,5.9,6.3,5.9,6.0]},{\"axis\":{\"matches\":true},\"label\":\"volatile acidity\",\"values\":[-0.35667494393873245,-0.12783337150988489,-0.2744368457017603,-1.2729656758128873,-0.35667494393873245,-0.4155154439616658,-0.5108256237659907,-0.4307829160924542,-0.5447271754416722,-0.6931471805599453,-0.5447271754416722,-0.6931471805599453,-0.4861330111756192,-0.4942963218147801,-0.4780358009429998,-0.4780358009429998,-1.2729656758128873,-0.579818495252942,-0.527632742082372,-1.1394342831883648,-1.5141277326297755,-0.941608539858445,-0.843970070294529,-0.7133498878774648,-0.916290731874155,-0.941608539858445,-0.8915981192837836,-0.843970070294529,-0.342490308946776,-0.43850496218636453,-0.3930425881096072,-0.3783364407199117,-0.4231200433468851,-0.5025268209512956,-1.1394342831883648,-0.43850496218636453,-0.5108256237659907,-0.9675840262617056,0.12221763272424911,-0.7985076962177716,-0.7985076962177716,-0.4942963218147801,-0.7133498878774648,-0.4155154439616658,-0.40047756659712525,-0.6539264674066639,-0.06720874969344999,-1.2378743560016174,-0.916290731874155,-1.171182981502945,-0.4155154439616658,-0.6539264674066639,-0.6931471805599453,-0.9675840262617056,-0.6733445532637656,-0.4780358009429998,-0.8675005677047231,-0.4620354595965587,-0.527632742082372,-0.941608539858445,-0.916290731874155,-0.37106368139083207,-0.6539264674066639,-0.3078847797693004,-0.32158362412746233,-0.32158362412746233,-0.6539264674066639,-0.34955747616986843,-1.1394342831883648,-0.34955747616986843,-0.4620354595965587,-0.40047756659712525,-0.37106368139083207,-0.3930425881096072,-1.1394342831883648,-0.8915981192837836,-0.8915981192837836,-0.24207156119972859,-0.2876820724517809,-0.4700036292457356,-0.7985076962177716,-0.843970070294529,-0.6931471805599453,-0.40047756659712525,-1.2039728043259361,-0.5978370007556204,-0.7133498878774648,-0.7133498878774648,-0.941608539858445,-0.4780358009429998,-0.6539264674066639,-0.7133498878774648,-0.7133498878774648,-0.7133498878774648,0.01980262729617973,-0.5108256237659907,-0.25489224962879004,-0.6931471805599453,-0.10536051565782628,-0.6069694843188929,-0.4942963218147801,-0.6931471805599453,-0.6069694843188929,-0.5533852381847867,-0.7133498878774648,-0.5533852381847867,-0.8915981192837836,-0.4620354595965587,-1.1086626245216111,-0.24207156119972859,-0.579818495252942,-0.4780358009429998,-0.5108256237659907,-1.171182981502945,-0.579818495252942,-0.916290731874155,-0.616186139423817,-0.579818495252942,-0.5978370007556204,-0.37106368139083207,0.06765864847381486,-0.5978370007556204,-0.363843433417345,-0.342490308946776,-0.6931471805599453,-0.4780358009429998,0.28517894223366247,0.28517894223366247,-0.527632742082372,-0.9675840262617056,-0.29437106060257756,-0.6931471805599453,-0.6931471805599453,-0.6931471805599453,0.03922071315328133,-0.29437106060257756,-0.33547273628812946,-0.8794767587514388,-0.579818495252942,-0.579818495252942,-0.29437106060257756,-0.33547273628812946,-1.0788096613719298,-0.941608539858445,-1.0788096613719298,-0.40047756659712525,-0.3856624808119846,-0.7133498878774648,-0.7133498878774648,-0.916290731874155,-1.1086626245216111,-0.6539264674066639,-0.5108256237659907,-0.5108256237659907,-0.843970070294529,-0.843970070294529,-0.843970070294529,-0.843970070294529,-0.3856624808119846,-0.5108256237659907,-0.05129329438755058,-0.3856624808119846,-0.6348782724359695,-0.5108256237659907,-0.527632742082372,-0.4620354595965587,-0.4462871026284195,-0.5978370007556204,-0.4620354595965587,-0.34955747616986843,-0.12216763397420753,-0.8675005677047231,-0.8675005677047231,-0.4780358009429998,-0.9675840262617056,-0.6931471805599453,-0.9675840262617056,-0.6539264674066639,-0.21691300156357363,-0.4942963218147801,-0.4942963218147801,-0.4942963218147801,-0.31471074483970024,-0.4942963218147801,-0.4780358009429998,-1.171182981502945,-0.941608539858445,-0.34955747616986843,-0.6931471805599453,-0.7133498878774648,-0.6931471805599453,-0.9942522733438669,-0.4620354595965587,-0.5978370007556204,-0.5978370007556204,-0.527632742082372,-0.5447271754416722,-1.2039728043259361,-0.18032355413128162,0.08617769624105241,-1.1394342831883648,-0.9942522733438669,-0.6931471805599453,-0.8675005677047231,-0.843970070294529,-1.2039728043259361,-1.2039728043259361,-0.5621189181535413,-0.8209805520698302,-1.2039728043259361,-0.6348782724359695,-0.32158362412746233,-0.8209805520698302,-0.5621189181535413,-0.3078847797693004,-0.7133498878774648,-0.4700036292457356,-0.32158362412746233,-0.7133498878774648,-0.6348782724359695,-1.0788096613719298,-0.6348782724359695,-0.4942963218147801,-0.43850496218636453,-0.4541302800894454,-0.843970070294529,-0.527632742082372,-0.19845093872383832,-0.843970070294529,-0.6539264674066639,-0.7339691750802004,-0.9675840262617056,-0.9942522733438669,-0.6539264674066639,0.0,-0.4620354595965587,-0.4620354595965587,-0.43850496218636453,-0.4620354595965587,0.0,-0.4541302800894454,-0.9675840262617056,-0.5447271754416722,-1.5606477482646683,-1.5606477482646683,-0.4155154439616658,-0.3856624808119846,-0.5108256237659907,-0.6348782724359695,-0.4155154439616658,-1.1394342831883648,-0.5108256237659907,-1.0498221244986778,-0.25489224962879004,-0.5108256237659907,-0.5621189181535413,-1.0788096613719298,-0.363843433417345,-0.8915981192837836,-1.171182981502945,-1.1086626245216111,-0.025317807984289897,-0.6539264674066639,-0.9942522733438669,-0.579818495252942,-1.3470736479666092,-0.13926206733350766,-0.616186139423817,-1.7147984280919266,-0.6069694843188929,-1.7147984280919266,-0.9942522733438669,-0.33547273628812946,-0.4307829160924542,-0.6069694843188929,-0.616186139423817,-1.7147984280919266,-0.916290731874155,-1.3470736479666092,-1.3093333199837622,-0.6539264674066639,-0.916290731874155,-0.527632742082372,-0.527632742082372,-0.7985076962177716,-0.916290731874155,-0.6539264674066639,-0.8675005677047231,-0.6539264674066639,-1.6094379124341003,-0.5978370007556204,-1.0216512475319814,-1.0788096613719298,-0.6931471805599453,-0.18632957819149348,-0.4620354595965587,-0.4307829160924542,-0.40047756659712525,-0.6348782724359695,-1.7147984280919266,-0.34955747616986843,-0.40047756659712525,-0.4307829160924542,-0.6348782724359695,-0.4780358009429998,-0.8915981192837836,-0.843970070294529,-1.2378743560016174,-0.6348782724359695,-0.6348782724359695,-0.7765287894989963,-0.7550225842780328,-1.0216512475319814,-1.0498221244986778,-0.579818495252942,-0.2613647641344075,-0.4155154439616658,-0.2613647641344075,-0.4155154439616658,-0.4942963218147801,-0.4780358009429998,-0.527632742082372,-0.7133498878774648,-0.7133498878774648,-0.6348782724359695,-0.8209805520698302,-1.3093333199837622,-0.7765287894989963,-1.0216512475319814,-1.0216512475319814,-0.5447271754416722,-0.579818495252942,-0.4307829160924542,-0.363843433417345,-0.843970070294529,-0.843970070294529,-0.7133498878774648,-1.2729656758128873,-1.0788096613719298,-0.8675005677047231,-0.941608539858445,-0.941608539858445,-0.5621189181535413,-0.3783364407199117,-0.2045671657412744,-0.7133498878774648,-0.579818495252942,-0.24207156119972859,-0.40047756659712525,-0.2294131643278051,-0.4079682383262829,-0.6348782724359695,-1.5606477482646683,-0.2876820724517809,-0.8915981192837836,-0.8675005677047231,-0.843970070294529,-0.9675840262617056,-0.35667494393873245,-0.7985076962177716,-0.5447271754416722,-0.7765287894989963,-0.4861330111756192,-0.8675005677047231,-0.4861330111756192,-0.5533852381847867,-1.0788096613719298,-1.3093333199837622,-0.2678794451556012,-1.4271163556401458,-1.2729656758128873,-0.5978370007556204,-0.8915981192837836,-0.616186139423817,-0.7985076962177716,-1.3093333199837622,-0.4700036292457356,-0.8675005677047231,-1.3470736479666092,-0.8794767587514388,-1.3470736479666092,-1.3470736479666092,-0.6733445532637656,-0.4620354595965587,-0.616186139423817,-0.4155154439616658,-0.7765287894989963,-0.9675840262617056,-0.8794767587514388,-0.9942522733438669,-0.4079682383262829,-0.5108256237659907,-0.9942522733438669,-0.3078847797693004,-0.527632742082372,-0.527632742082372,-0.2678794451556012,-0.3078847797693004,-1.3470736479666092,-0.7339691750802004,-0.5108256237659907,-0.37106368139083207,-1.171182981502945,-0.8209805520698302,-0.941608539858445,-1.0788096613719298,-0.7765287894989963,-0.843970070294529,-0.7985076962177716,-0.3078847797693004,-0.916290731874155,-0.6539264674066639,-0.32158362412746233,-0.7339691750802004,-0.5447271754416722,-0.9675840262617056,-0.2613647641344075,-0.579818495252942,-0.1743533871447778,-0.040821994520255166,-1.4271163556401458,-0.040821994520255166,-0.1743533871447778,-0.40047756659712525,-0.2484613592984996,-0.6539264674066639,-0.1743533871447778,-1.4271163556401458,-0.5978370007556204,-0.9942522733438669,-0.941608539858445,-0.8915981192837836,-0.941608539858445,-0.40047756659712525,-0.7985076962177716,-0.8915981192837836,-0.4780358009429998,-0.916290731874155,-0.3783364407199117,-0.8209805520698302,-0.5621189181535413,-0.3078847797693004,-0.9675840262617056,-0.7339691750802004,-0.6348782724359695,-0.941608539858445,-0.941608539858445,-0.9942522733438669,-0.579818495252942,-1.1086626245216111,-1.4696759700589417,-0.527632742082372,-0.4620354595965587,-1.1086626245216111,-0.843970070294529,-0.4861330111756192,-1.3470736479666092,-0.4155154439616658,-1.155182640156504,-1.2378743560016174,-0.6931471805599453,-0.7765287894989963,-1.0216512475319814,-0.19845093872383832,-1.1394342831883648,-0.616186139423817,-0.9942522733438669,-1.0498221244986778,-1.2729656758128873,-0.3856624808119846,-1.3093333199837622,-1.4271163556401458,-0.3856624808119846,-0.3783364407199117,-1.2729656758128873,-1.0216512475319814,-1.0216512475319814,-0.8209805520698302,-0.40047756659712525,-0.40047756659712525,-0.43850496218636453,-1.1394342831883648,-0.941608539858445,-0.25489224962879004,-0.8915981192837836,-0.916290731874155,-0.37106368139083207,-0.941608539858445,-0.6539264674066639,-1.0788096613719298,-0.37106368139083207,-0.6539264674066639,-0.8209805520698302,-0.8209805520698302,-1.3470736479666092,-1.4271163556401458,-0.7133498878774648,-1.4271163556401458,-0.40047756659712525,-0.527632742082372,-1.2378743560016174,-0.8675005677047231,-0.527632742082372,-0.916290731874155,-0.6733445532637656,-0.6733445532637656,-0.4231200433468851,-0.5108256237659907,-1.5606477482646683,-1.0078579253996456,-1.3862943611198906,-0.8915981192837836,-0.941608539858445,-0.916290731874155,-0.843970070294529,-0.4462871026284195,-1.0078579253996456,-0.9675840262617056,-0.8675005677047231,-0.4620354595965587,-1.5141277326297755,-0.9675840262617056,-0.9675840262617056,-1.3093333199837622,-0.7339691750802004,-1.5141277326297755,-0.4620354595965587,-0.19237189264745613,-1.0498221244986778,-0.6931471805599453,-0.527632742082372,-0.7765287894989963,-0.33547273628812946,-0.4155154439616658,-1.171182981502945,-0.7550225842780328,-0.5978370007556204,-1.171182981502945,-1.0498221244986778,-0.6348782724359695,-0.6733445532637656,-0.843970070294529,-0.7765287894989963,0.03922071315328133,-0.43850496218636453,-0.43850496218636453,-0.6348782724359695,-0.43850496218636453,-0.6348782724359695,-0.7550225842780328,-0.5108256237659907,-0.8209805520698302,-0.616186139423817,-1.2378743560016174,-0.7550225842780328,-0.5108256237659907,-0.35667494393873245,-0.35667494393873245,-0.6931471805599453,-1.0216512475319814,-1.0498221244986778,-1.0216512475319814,-1.4271163556401458,-0.527632742082372,-1.0788096613719298,-1.3093333199837622,-0.6931471805599453,-0.8209805520698302,-0.7550225842780328,-1.171182981502945,-0.6931471805599453,-0.6931471805599453,-0.7133498878774648,-1.2729656758128873,-1.1086626245216111,-0.6733445532637656,-1.171182981502945,-0.31471074483970024,-1.2378743560016174,-0.7985076962177716,-0.941608539858445,-0.7985076962177716,-0.7133498878774648,-0.3285040669720361,-0.5191938734365074,-0.916290731874155,-0.5447271754416722,-0.5361434317502807,-0.527632742082372,-0.0888312137066157,-0.7765287894989963,-0.18032355413128162,-0.7765287894989963,-0.5447271754416722,-0.5108256237659907,-0.8915981192837836,-0.7339691750802004,-0.4307829160924542,-1.0216512475319814,-1.4271163556401458,-0.9675840262617056,-0.4462871026284195,-0.941608539858445,-0.28103752973311236,-0.5108256237659907,-0.5108256237659907,-1.171182981502945,-0.7765287894989963,-0.9942522733438669,-0.616186139423817,-0.579818495252942,-0.5447271754416722,-0.6733445532637656,-0.37106368139083207,-0.37106368139083207,-0.5108256237659907,-0.5108256237659907,-0.616186139423817,-0.3783364407199117,-0.616186139423817,-1.2729656758128873,-0.8915981192837836,-0.06720874969344999,-1.0498221244986778,-0.1743533871447778,-0.12783337150988489,-0.12216763397420753,-0.0888312137066157,-1.2378743560016174,-0.616186139423817,-0.527632742082372,-0.616186139423817,-0.527632742082372,-0.616186139423817,-0.4462871026284195,-0.40047756659712525,-0.16841865162496325,-0.7339691750802004,-0.8675005677047231,-0.843970070294529,-0.12783337150988489,-1.0216512475319814,-1.1086626245216111,-0.7550225842780328,-0.5978370007556204,-0.843970070294529,-0.6931471805599453,-0.6539264674066639,-0.1743533871447778,-0.6539264674066639,-0.8675005677047231,-0.5621189181535413,-1.2729656758128873,-0.916290731874155,-0.527632742082372,-0.7133498878774648,-1.0788096613719298,-0.31471074483970024,-1.0788096613719298,-0.916290731874155,-0.31471074483970024,0.2151113796169455,-0.31471074483970024,-0.916290731874155,-0.8915981192837836,-0.916290731874155,-0.2231435513142097,-0.2484613592984996,-1.3470736479666092,-0.843970070294529,-0.7985076962177716,-0.7765287894989963,-0.2484613592984996,-0.020202707317519466,-0.2484613592984996,-0.4307829160924542,-0.4462871026284195,-0.4155154439616658,-0.9675840262617056,-0.08338160893905101,-0.7133498878774648,-0.7339691750802004,-0.7550225842780328,-0.7550225842780328,-0.4307829160924542,-0.4307829160924542,-0.4861330111756192,-0.9675840262617056,0.01980262729617973,-0.4307829160924542,-0.4462871026284195,-0.9675840262617056,-0.2678794451556012,0.03440142671733232,-0.2484613592984996,-0.7133498878774648,-0.6069694843188929,-1.171182981502945,0.024692612590371414,-0.5709295478356962,-0.37106368139083207,-0.843970070294529,-0.3011050927839216,-0.7133498878774648,-0.843970070294529,-0.7765287894989963,-0.579818495252942,-0.4155154439616658,-0.579818495252942,-0.7339691750802004,-0.8675005677047231,-1.171182981502945,0.10885440491208208,-0.4155154439616658,-0.3285040669720361,-0.5621189181535413,-0.5621189181535413,-0.14502577205025774,-0.5978370007556204,-0.13353139262452263,-0.18032355413128162,-0.7985076962177716,-0.579818495252942,-0.03562717764315116,-0.03562717764315116,-0.527632742082372,-0.7765287894989963,-0.37106368139083207,-0.2744368457017603,-0.6348782724359695,-0.4861330111756192,-0.8915981192837836,-0.941608539858445,-0.6733445532637656,-1.0788096613719298,-1.1086626245216111,-0.6931471805599453,-0.6733445532637656,-0.4307829160924542,-0.4307829160924542,-0.616186139423817,-0.4307829160924542,-0.7339691750802004,-0.09431067947124129,-0.020202707317519466,-0.13926206733350766,-0.13926206733350766,-0.8675005677047231,-0.5447271754416722,-0.4231200433468851,-0.35667494393873245,-0.4231200433468851,-0.3856624808119846,-0.40047756659712525,-0.527632742082372,-0.5108256237659907,-0.527632742082372,-0.3285040669720361,-0.527632742082372,-0.3783364407199117,-0.5621189181535413,-0.916290731874155,-0.916290731874155,0.0,-0.2678794451556012,-0.4541302800894454,-0.843970070294529,-0.6539264674066639,-0.5621189181535413,-0.7765287894989963,-0.19845093872383832,-0.7765287894989963,-0.527632742082372,-1.0498221244986778,-1.0498221244986778,-0.579818495252942,-0.579818495252942,-0.4620354595965587,-0.9942522733438669,-0.4462871026284195,-0.4942963218147801,-0.5108256237659907,-1.3093333199837622,-0.11653381625595151,-0.7765287894989963,-0.9942522733438669,-0.6931471805599453,-0.6931471805599453,-0.4942963218147801,-0.5978370007556204,-0.5361434317502807,-0.579818495252942,-0.6539264674066639,-1.2729656758128873,-1.3862943611198906,-1.2729656758128873,-0.6348782724359695,-0.7339691750802004,-0.7133498878774648,-0.6931471805599453,-0.7985076962177716,-0.941608539858445,-0.8915981192837836,-0.7985076962177716,-0.6733445532637656,-1.2378743560016174,-0.33547273628812946,-0.4155154439616658,-0.3783364407199117,-0.8675005677047231,-0.616186139423817,-0.616186139423817,-0.7339691750802004,-0.7765287894989963,-1.3093333199837622,-0.7765287894989963,-0.4942963218147801,-0.3783364407199117,-0.4942963218147801,-0.7550225842780328,-0.3783364407199117,-0.4079682383262829,-1.2729656758128873,-1.2729656758128873,-1.171182981502945,-0.6931471805599453,-0.8675005677047231,-0.4155154439616658,-0.6931471805599453,-0.3783364407199117,-1.3862943611198906,-0.4462871026284195,-0.4462871026284195,-0.3856624808119846,-0.4462871026284195,-0.4620354595965587,-0.843970070294529,-0.843970070294529,-0.8675005677047231,-1.0216512475319814,-1.0216512475319814,-0.3078847797693004,-1.0216512475319814,-1.3470736479666092,-1.2729656758128873,-0.579818495252942,-0.4780358009429998,0.009950330853168092,-0.8675005677047231,-0.4780358009429998,-0.4780358009429998,-0.4541302800894454,-0.7133498878774648,-0.6733445532637656,-0.579818495252942,-0.4620354595965587,-0.33547273628812946,-0.579818495252942,-1.0498221244986778,-1.5606477482646683,-0.9675840262617056,-1.171182981502945,-0.7550225842780328,-0.33547273628812946,-0.4942963218147801,-0.5108256237659907,-0.579818495252942,-0.33547273628812946,-1.171182981502945,-0.5108256237659907,-0.4942963218147801,-0.2876820724517809,-0.2231435513142097,-0.6539264674066639,-0.5621189181535413,-0.10536051565782628,-1.0788096613719298,-0.4155154439616658,-0.7985076962177716,-0.4155154439616658,-0.4620354595965587,-0.527632742082372,-1.171182981502945,-0.527632742082372,-1.171182981502945,-1.171182981502945,-0.4541302800894454,-0.4541302800894454,-0.527632742082372,-0.527632742082372,-0.5447271754416722,-0.616186139423817,-0.579818495252942,-0.6539264674066639,-1.1874435023747254,-0.9675840262617056,-1.2729656758128873,-0.7765287894989963,-0.9288695140810151,-1.1874435023747254,-1.155182640156504,-0.33547273628812946,-0.8915981192837836,-1.0216512475319814,-0.4780358009429998,-0.8915981192837836,-1.0216512475319814,-0.4780358009429998,-0.8915981192837836,-0.7550225842780328,-1.5141277326297755,-1.4271163556401458,-0.40047756659712525,-0.7550225842780328,-1.1086626245216111,-0.4942963218147801,-0.4942963218147801,-0.916290731874155,-0.4942963218147801,-0.4942963218147801,-1.2039728043259361,-1.2039728043259361,-0.4620354595965587,-0.9675840262617056,-0.7765287894989963,-1.1086626245216111,-1.3093333199837622,-0.843970070294529,-0.6931471805599453,-1.2039728043259361,-0.8209805520698302,-0.8209805520698302,-1.2729656758128873,-2.120263536200091,-2.120263536200091,-2.120263536200091,-1.2729656758128873,-1.171182981502945,-1.0788096613719298,-0.843970070294529,-1.5606477482646683,-1.0216512475319814,-0.9942522733438669,-0.5621189181535413,-0.527632742082372,-0.7550225842780328,-0.579818495252942,-0.5621189181535413,-1.3093333199837622,-0.7550225842780328,-1.0788096613719298,-0.9675840262617056,-0.4155154439616658,-0.916290731874155,-0.579818495252942,-1.3470736479666092,-1.3470736479666092,-0.9675840262617056,-1.0788096613719298,-1.1086626245216111,-0.8915981192837836,-0.8915981192837836,-0.527632742082372,-0.916290731874155,-0.7985076962177716,-0.6931471805599453,-0.15082288973458366,-0.6539264674066639,-0.6931471805599453,-0.7985076962177716,-0.5447271754416722,-1.0788096613719298,-1.0216512475319814,-0.941608539858445,-1.2207799226423173,-0.941608539858445,-1.0788096613719298,-0.916290731874155,-1.0788096613719298,-1.0498221244986778,-0.5108256237659907,-0.4155154439616658,-0.4155154439616658,-0.1743533871447778,-0.37106368139083207,-0.843970070294529,-1.0498221244986778,-1.2378743560016174,-1.0216512475319814,-0.843970070294529,-1.0216512475319814,-1.2378743560016174,-1.2039728043259361,-1.0498221244986778,-0.6931471805599453,-1.2729656758128873,-1.1394342831883648,0.004987541511038968,-0.342490308946776,-0.5447271754416722,-0.941608539858445,-0.9675840262617056,-1.7147984280919266,-1.7147984280919266,-0.6931471805599453,-1.0216512475319814,-1.0216512475319814,-0.6733445532637656,-1.1394342831883648,-0.5447271754416722,-0.18632957819149348,-1.171182981502945,-0.2294131643278051,-1.0788096613719298,-0.5447271754416722,-0.527632742082372,-0.5978370007556204,-0.19845093872383832,-0.5621189181535413,-0.29437106060257756,-0.9942522733438669,-1.171182981502945,-0.09431067947124129,-0.8915981192837836,-0.6931471805599453,-0.03562717764315116,-0.7133498878774648,-0.6931471805599453,-0.941608539858445,-0.941608539858445,-0.8209805520698302,-0.2484613592984996,-0.843970070294529,-0.7133498878774648,-0.6931471805599453,-0.843970070294529,-0.7765287894989963,-0.5025268209512956,-1.1086626245216111,-0.4462871026284195,-0.4462871026284195,-0.7339691750802004,-0.8675005677047231,-0.6348782724359695,-0.7339691750802004,-1.4696759700589417,-0.9675840262617056,-1.2378743560016174,-0.3011050927839216,-0.4942963218147801,-0.6539264674066639,-1.171182981502945,-1.171182981502945,-0.4780358009429998,-1.1086626245216111,-0.2613647641344075,-1.0498221244986778,-0.4780358009429998,-0.2613647641344075,-1.3862943611198906,-1.1394342831883648,-0.9942522733438669,-0.9942522733438669,-1.2039728043259361,-1.3093333199837622,-1.2039728043259361,-0.9675840262617056,-0.8675005677047231,-0.9675840262617056,-0.7339691750802004,-1.0788096613719298,-1.6607312068216509,-0.8915981192837836,-0.8915981192837836,-1.0788096613719298,-0.616186139423817,-1.171182981502945,-0.32158362412746233,-0.916290731874155,-0.32158362412746233,-0.6539264674066639,-1.171182981502945,-0.6539264674066639,-1.0788096613719298,-0.7133498878774648,-0.7339691750802004,-0.7133498878774648,-0.7339691750802004,-0.5621189181535413,-1.4696759700589417,-1.2039728043259361,-0.2484613592984996,-0.7550225842780328,-0.6348782724359695,-0.8675005677047231,-1.1086626245216111,-1.4271163556401458,-0.916290731874155,-0.37106368139083207,-0.37106368139083207,-0.37106368139083207,-0.941608539858445,-0.4155154439616658,-0.6931471805599453,-0.7550225842780328,-0.916290731874155,-0.5447271754416722,-1.4271163556401458,-1.2378743560016174,-0.2744368457017603,-0.843970070294529,-0.843970070294529,-0.5108256237659907,-1.6607312068216509,-1.0216512475319814,-0.7339691750802004,-1.2729656758128873,-1.3862943611198906,-0.6539264674066639,-0.6539264674066639,-0.8915981192837836,-0.6733445532637656,-0.916290731874155,-0.9675840262617056,-0.7985076962177716,-1.5141277326297755,-1.1394342831883648,-1.6094379124341003,-0.6931471805599453,-0.8915981192837836,-0.941608539858445,-1.0498221244986778,-1.1086626245216111,-0.5447271754416722,-0.5108256237659907,-0.8675005677047231,-0.5447271754416722,-0.5108256237659907,-1.7147984280919266,-0.6733445532637656,-0.8915981192837836,-0.8915981192837836,-1.0216512475319814,-0.7985076962177716,-1.1394342831883648,-0.24207156119972859,-0.24207156119972859,-0.8209805520698302,-0.616186139423817,-1.1086626245216111,-1.0788096613719298,-0.6931471805599453,-1.0216512475319814,-0.527632742082372,-0.8675005677047231,-1.0216512475319814,-1.0216512475319814,-0.4942963218147801,-0.12783337150988489,-0.4155154439616658,-0.0888312137066157,-1.0498221244986778,-1.0498221244986778,-0.941608539858445,-0.916290731874155,-0.4155154439616658,-0.4462871026284195,-0.843970070294529,-0.2231435513142097,-0.843970070294529,-0.4462871026284195,-0.046043938501406846,-0.916290731874155,-0.12216763397420753,-1.3862943611198906,-0.12216763397420753,-0.29437106060257756,-0.843970070294529,-0.5447271754416722,-0.5621189181535413,-1.3470736479666092,-0.5447271754416722,-0.5621189181535413,-1.0788096613719298,-0.3011050927839216,-1.0216512475319814,-1.0216512475319814,-1.0216512475319814,-0.3285040669720361,-1.0216512475319814,-0.941608539858445,-0.4307829160924542,-0.8209805520698302,-0.4307829160924542,-0.9675840262617056,-1.1086626245216111,-1.3093333199837622,-0.5621189181535413,-1.0788096613719298,-0.916290731874155,-0.941608539858445,-1.1394342831883648,-1.1394342831883648,-0.6348782724359695,-1.0216512475319814,-0.941608539858445,-0.7765287894989963,-0.5447271754416722,-0.5447271754416722,-0.8675005677047231,-0.843970070294529,-1.7147984280919266,-0.2045671657412744,-0.843970070294529,-1.4696759700589417,-0.2876820724517809,-1.1086626245216111,-0.5978370007556204,-0.2876820724517809,-0.31471074483970024,-0.40047756659712525,-0.4942963218147801,-0.9942522733438669,-0.916290731874155,-0.579818495252942,-1.2378743560016174,-0.5978370007556204,-0.3011050927839216,-0.5978370007556204,-0.8915981192837836,-0.5108256237659907,-0.5108256237659907,-0.5447271754416722,-0.3285040669720361,-0.4155154439616658,-0.35667494393873245,-0.4462871026284195,-0.527632742082372,-0.5447271754416722,-0.4462871026284195,-0.4462871026284195,-0.4541302800894454,0.01980262729617973,-0.7985076962177716,-0.2484613592984996,-0.9942522733438669,-0.5621189181535413,-0.5621189181535413,-0.843970070294529,-0.8915981192837836,-0.9675840262617056,-0.8209805520698302,-0.7765287894989963,-0.5447271754416722,-0.5447271754416722,-0.33547273628812946,-0.916290731874155,-0.37106368139083207,-0.33547273628812946,-1.2039728043259361,-0.7765287894989963,-0.7765287894989963,-0.2678794451556012,-0.4620354595965587,-0.8675005677047231,-0.9942522733438669,-1.8325814637483102,-0.5108256237659907,-0.5108256237659907,-0.5108256237659907,-0.3011050927839216,-0.4541302800894454,-0.9288695140810151,-0.28103752973311236,-0.4541302800894454,-0.4620354595965587,-0.4620354595965587,-0.6348782724359695,-0.5108256237659907,-0.43850496218636453,-0.15082288973458366,-0.9942522733438669,-1.2729656758128873,-0.23572233352106983,-0.4942963218147801,-0.37106368139083207,-0.3856624808119846,-0.37106368139083207,-0.4780358009429998,-0.4942963218147801,-0.6733445532637656,0.16551443847757333,-1.0216512475319814,-1.0216512475319814,-0.4620354595965587,-0.3011050927839216,-0.8209805520698302,-0.4620354595965587,-0.2744368457017603,-0.4155154439616658,-0.3011050927839216,-1.0788096613719298,-1.0216512475319814,-0.7765287894989963,-0.7765287894989963,-0.7765287894989963,-0.7765287894989963,-0.6539264674066639,-0.5108256237659907,-0.5108256237659907,-0.13926206733350766,-0.941608539858445,-0.25489224962879004,-0.18032355413128162,-0.5447271754416722,-0.6931471805599453,-0.6931471805599453,-0.6931471805599453,-0.6733445532637656,-0.6733445532637656,-0.6733445532637656,-0.616186139423817,-0.6733445532637656,-0.8675005677047231,-0.8209805520698302,-0.527632742082372,-0.4231200433468851,-0.4231200433468851,-0.5621189181535413,-0.5108256237659907,-0.4780358009429998,-0.43850496218636453,-0.43850496218636453,-0.5447271754416722,-1.1394342831883648,-1.0788096613719298,-0.843970070294529,-0.4462871026284195,-0.7444404749474959,-0.616186139423817,-0.16251892949777494,-0.7444404749474959,-0.18632957819149348,-0.5025268209512956,-0.6931471805599453,-0.3011050927839216,-0.616186139423817,-0.2613647641344075,-0.4942963218147801,-0.2484613592984996,-0.5447271754416722,-0.2484613592984996,-0.2876820724517809,-0.579818495252942,-0.12216763397420753,-0.7133498878774648,-0.7985076962177716,-0.5621189181535413,-0.5621189181535413,-0.18632957819149348,-0.5108256237659907,-0.5108256237659907,-0.28103752973311236,-0.21072103131565253,-0.4462871026284195,-0.4462871026284195,-0.4462871026284195,-0.7339691750802004,-0.7133498878774648,-0.4462871026284195,-0.4780358009429998,-0.6539264674066639,-0.5621189181535413,-0.3783364407199117,-0.3930425881096072,-0.527632742082372,-0.5108256237659907,-0.40047756659712525,-0.37106368139083207,-0.37106368139083207,-1.2039728043259361,-0.6931471805599453,-1.2729656758128873,-1.4271163556401458,-0.6733445532637656,-1.2378743560016174,-0.6733445532637656,-0.040821994520255166,-0.7550225842780328,-1.4271163556401458,-0.5621189181535413,-1.1394342831883648,-0.5447271754416722,-1.1394342831883648,-1.0788096613719298,-0.6348782724359695,-0.4462871026284195,-0.6348782724359695,-0.916290731874155,-0.616186139423817,-0.6348782724359695,-1.3470736479666092,-1.3470736479666092,-1.4696759700589417,-0.8915981192837836,-0.4462871026284195,-1.7147984280919266,-0.8915981192837836,-0.843970070294529,-0.8209805520698302,-0.916290731874155,-0.616186139423817,-0.616186139423817,-0.9675840262617056,-0.0888312137066157,-0.527632742082372,-0.40047756659712525,-0.9942522733438669,-0.24207156119972859,-0.4620354595965587,-0.5447271754416722,-0.40047756659712525,-0.24207156119972859,-0.4620354595965587,-0.40047756659712525,-0.5447271754416722,-0.9942522733438669,-1.1394342831883648,-0.5447271754416722,-0.7133498878774648,-0.7985076962177716,-0.10536051565782628,-0.616186139423817,-0.7133498878774648,-1.2378743560016174,-1.6094379124341003,-0.8675005677047231,-0.24207156119972859,-0.4462871026284195,-0.4620354595965587,-0.527632742082372,-0.527632742082372,-0.7339691750802004,0.03922071315328133,-0.7339691750802004,-0.37106368139083207,-0.35667494393873245,-1.0498221244986778,-0.5108256237659907,-0.6931471805599453,-0.7550225842780328,-0.6931471805599453,-0.7550225842780328,-1.2729656758128873,-0.4780358009429998,-1.2729656758128873,-0.5447271754416722,-1.1086626245216111,-0.09431067947124129,-0.4231200433468851,-0.3856624808119846,-0.4462871026284195,-0.616186139423817,-0.5621189181535413,-1.5141277326297755,-0.616186139423817,-0.4307829160924542,-0.616186139423817,-1.171182981502945,-0.843970070294529,-0.616186139423817,-0.3011050927839216,-0.11093156070728166,-0.3011050927839216,-0.32158362412746233,-0.19845093872383832,-0.5361434317502807,-0.8209805520698302,-0.9675840262617056,-0.21072103131565253,-0.9675840262617056,-1.3093333199837622,-1.7147984280919266,-1.0216512475319814,-0.37106368139083207,-0.23572233352106983,-0.579818495252942,-0.1743533871447778,-0.1743533871447778,-1.1394342831883648,-0.6348782724359695,-0.7550225842780328,-0.35667494393873245,-0.6348782724359695,-0.7339691750802004,-1.1394342831883648,-0.7339691750802004,-0.8675005677047231,-0.7339691750802004,-0.7550225842780328,-0.6348782724359695,-1.2378743560016174,-0.37106368139083207,-0.8209805520698302,-0.34955747616986843,-0.6348782724359695,-0.941608539858445,-0.579818495252942,-0.5978370007556204,-0.6348782724359695,-0.5447271754416722,-0.4462871026284195,-0.941608539858445,-0.6539264674066639,-1.3862943611198906,-0.15665381004537685,-0.8209805520698302,-0.9942522733438669,-0.4620354595965587,-0.5621189181535413,-0.5108256237659907,-0.916290731874155,-0.3856624808119846,-0.40047756659712525,-0.3856624808119846,-0.3078847797693004,-0.15665381004537685,-0.579818495252942,-0.12783337150988489,-0.15665381004537685,-0.4620354595965587,-0.5108256237659907,-0.5108256237659907,-0.5108256237659907,-0.363843433417345,-0.363843433417345,-0.363843433417345,-0.40047756659712525,-1.8325814637483102,-0.363843433417345,-0.579818495252942,-0.6733445532637656,-1.0216512475319814,-0.9675840262617056,-0.37106368139083207,-0.5447271754416722,-1.171182981502945,-0.6539264674066639,-1.2039728043259361,-0.35667494393873245,-0.40047756659712525,-0.579818495252942,-1.0498221244986778,-0.579818495252942,-0.33547273628812946,-0.7765287894989963,-1.1394342831883648,-0.941608539858445,-1.171182981502945,-0.4942963218147801,-0.4155154439616658,-0.32158362412746233,-0.5978370007556204,-0.3011050927839216,-0.6733445532637656,-0.4780358009429998,-0.5108256237659907,-0.5978370007556204,-0.6733445532637656,-0.43850496218636453,-1.171182981502945]},{\"axis\":{\"matches\":true},\"label\":\"citric acid\",\"values\":[0.0,0.0,0.04,0.56,0.0,0.0,0.06,0.0,0.02,0.36,0.08,0.36,0.0,0.29,0.18,0.19,0.56,0.28,0.08,0.51,0.48,0.31,0.21,0.11,0.14,0.16,0.24,0.21,0.0,0.0,0.07,0.0,0.12,0.12,0.25,0.0,0.14,0.28,0.09,0.36,0.36,0.3,0.2,0.22,0.02,0.15,0.43,0.52,0.23,0.37,0.26,0.04,0.04,0.36,0.15,0.04,0.57,0.12,0.18,0.31,0.4,0.49,0.16,0.05,0.05,0.05,0.11,0.07,0.57,0.05,0.08,0.23,0.22,0.26,0.54,0.64,0.64,0.0,0.12,0.2,0.2,0.7,0.47,0.26,0.48,0.15,0.28,0.26,0.44,0.08,0.26,0.28,0.29,0.26,0.04,0.17,0.0,0.25,0.06,0.18,0.3,0.3,0.18,0.22,0.24,0.22,0.68,0.31,0.53,0.52,0.19,0.09,0.1,0.44,0.19,0.31,0.28,0.12,0.04,0.08,0.09,0.04,0.0,0.0,0.17,0.04,0.0,0.0,0.16,0.15,0.56,0.09,0.09,0.01,0.05,0.11,0.15,0.36,0.19,0.19,0.11,0.15,0.0,0.08,0.0,0.55,0.02,0.26,0.1,0.44,0.47,1.0,0.03,0.03,0.42,0.42,0.42,0.42,0.0,0.18,0.03,0.02,0.04,0.26,0.26,0.48,0.1,0.03,0.07,0.24,0.03,0.17,0.17,0.05,0.21,0.04,0.21,0.42,0.0,0.14,0.14,0.49,0.02,0.2,0.21,0.57,0.48,0.1,0.33,0.32,0.35,0.25,0.12,0.21,0.21,0.33,0.3,0.6,0.08,0.06,0.47,0.48,0.11,0.35,0.36,0.74,0.74,0.31,0.28,0.58,0.6,0.24,0.64,0.26,0.08,0.49,0.16,0.22,0.19,0.33,0.37,0.26,0.04,0.25,0.36,0.25,0.5,0.14,0.25,0.25,0.04,0.06,0.2,0.25,0.09,0.0,0.0,0.0,0.0,0.09,0.37,0.56,0.1,0.44,0.44,0.0,0.07,0.17,0.06,0.0,0.44,0.0,0.48,0.42,0.0,0.23,0.37,0.0,0.76,0.47,0.23,0.04,0.03,0.23,0.49,0.52,0.0,0.04,0.51,0.06,0.51,0.58,0.2,0.18,0.06,0.04,0.51,0.32,0.44,0.68,0.12,0.32,0.07,0.07,0.55,0.12,0.09,0.53,0.09,0.48,0.23,0.25,0.52,0.46,0.37,0.06,0.02,0.06,0.06,0.48,0.12,0.12,0.6,0.48,0.32,0.42,0.44,0.38,0.48,0.24,0.31,0.3,0.29,0.29,0.23,0.12,0.39,0.12,0.39,0.26,0.05,0.42,0.2,0.2,0.66,0.5,0.62,0.39,0.64,0.64,0.28,0.08,0.01,0.53,0.45,0.32,0.58,0.54,0.5,0.48,0.47,0.47,0.5,0.0,0.02,0.67,0.31,0.0,0.22,0.0,0.0,0.79,0.4,0.01,0.52,0.66,0.66,0.66,0.23,0.31,0.66,0.63,0.66,0.5,0.66,0.61,0.52,0.53,0.02,0.4,0.48,0.22,0.63,0.71,0.5,0.53,0.66,0.38,0.42,0.68,0.42,0.42,0.28,0.07,0.26,0.15,0.26,0.31,0.68,0.52,0.61,0.65,0.76,0.02,0.59,0.59,0.22,0.02,0.3,0.54,0.49,0.05,0.46,0.47,0.66,0.58,0.49,0.34,0.35,0.16,0.53,0.34,0.24,0.64,0.12,0.51,0.0,0.33,0.03,0.2,0.47,0.2,0.03,0.08,0.22,0.33,0.63,0.47,0.35,0.69,0.63,0.55,0.63,0.3,0.73,0.55,0.18,0.65,0.76,0.49,0.01,0.1,0.6,0.29,0.22,0.69,0.69,0.53,0.03,0.63,0.4,0.39,0.21,0.63,0.52,0.22,0.68,0.7,0.54,0.4,0.42,0.45,0.69,0.02,0.65,0.42,0.55,0.55,0.51,0.24,0.41,0.49,0.24,0.11,0.39,0.59,0.6,0.68,0.39,0.39,0.36,0.55,0.4,0.27,0.5,0.51,0.31,0.23,0.25,0.32,0.31,0.25,0.73,0.73,0.47,0.42,0.63,0.46,0.55,0.31,0.75,0.49,0.31,0.48,0.64,0.64,0.49,0.49,0.49,0.49,0.49,0.49,0.49,0.49,0.49,0.24,0.49,0.49,0.49,0.24,0.24,0.49,0.49,0.24,0.24,0.24,0.24,0.24,0.49,0.74,0.24,0.49,0.24,0.24,0.74,0.49,0.24,0.49,0.49,0.49,0.01,0.24,0.24,0.24,0.49,0.49,0.49,0.49,0.49,0.49,0.49,0.49,0.49,0.49,0.49,0.49,0.24,0.24,0.49,0.24,0.49,0.24,0.49,0.49,0.49,0.49,0.24,0.49,0.49,0.49,0.49,0.49,0.49,0.49,0.49,0.24,0.49,0.24,0.49,0.49,0.49,0.49,0.58,0.17,0.41,0.51,0.58,0.18,0.45,0.27,0.52,0.0,0.52,0.13,0.13,0.48,0.41,0.37,0.19,0.54,0.55,0.0,0.38,0.18,0.5,0.5,0.51,0.5,0.41,0.24,0.23,0.22,0.25,0.0,0.0,0.29,0.29,0.26,0.23,0.26,0.54,0.14,0.22,0.21,0.0,0.28,0.27,0.12,0.35,0.45,0.44,0.45,0.44,0.45,0.1,0.05,0.01,0.3,0.27,0.39,0.25,0.65,0.59,0.47,0.17,0.39,0.59,0.07,0.02,0.07,0.31,0.06,0.46,0.52,0.14,0.36,0.45,0.43,0.45,0.24,0.21,0.34,0.21,0.41,0.39,0.41,0.11,0.1,0.45,0.58,0.23,0.31,0.23,0.32,0.23,0.18,0.23,0.04,0.48,0.24,0.51,0.32,0.31,0.02,0.02,0.02,0.28,0.55,0.43,0.02,0.02,0.48,0.04,0.15,0.08,0.19,0.12,0.47,0.43,0.34,0.0,0.36,0.28,0.18,0.36,0.11,0.04,0.0,0.04,0.24,0.08,0.3,0.1,0.17,0.09,0.02,0.02,0.03,0.66,0.13,0.03,0.34,0.2,0.1,0.1,0.0,0.23,0.0,0.29,0.24,0.0,0.58,0.54,0.18,0.38,0.4,0.18,0.18,0.1,0.1,0.13,0.1,0.68,0.07,0.01,0.0,0.0,0.21,0.25,0.26,0.0,0.26,0.11,0.1,0.18,0.32,0.02,0.01,0.02,0.26,0.27,0.29,0.3,0.0,0.18,0.17,0.3,0.03,0.0,0.14,0.05,0.14,0.01,0.41,0.41,0.24,0.24,0.17,0.43,0.17,0.02,0.0,0.54,0.3,0.31,0.44,0.34,0.34,0.08,0.09,0.0,0.08,0.22,0.4,0.39,0.4,0.12,0.31,0.1,0.55,0.33,0.24,0.54,0.33,0.19,0.42,0.0,0.15,0.0,0.0,0.13,0.13,0.28,0.14,0.34,0.14,0.08,0.07,0.08,0.44,0.26,0.1,0.28,0.28,0.35,0.04,0.47,0.0,0.45,0.35,0.46,0.21,0.21,0.16,0.21,0.21,0.44,0.44,0.32,0.39,0.39,0.02,0.39,0.34,0.47,0.22,0.06,0.66,0.32,0.06,0.06,0.07,0.22,0.23,0.22,0.03,0.01,0.03,0.24,0.37,0.46,0.4,0.0,0.01,0.19,0.04,0.18,0.0,0.29,0.04,0.19,0.14,0.12,0.38,0.0,0.34,0.24,0.03,0.23,0.03,0.03,0.01,0.39,0.01,0.39,0.36,0.1,0.1,0.06,0.06,0.2,0.27,0.0,0.13,0.39,0.48,0.46,0.44,0.46,0.39,0.4,0.19,0.31,0.32,0.12,0.37,0.32,0.12,0.31,0.27,0.36,0.33,0.19,0.27,0.38,0.01,0.01,0.29,0.01,0.01,0.38,0.38,0.5,0.38,0.17,0.52,0.49,0.4,0.34,0.49,0.42,0.58,0.48,0.45,0.45,0.45,0.48,0.4,0.48,0.4,0.52,0.52,0.52,0.12,0.05,0.27,0.14,0.02,0.39,0.27,0.4,0.41,0.2,0.43,0.09,0.48,0.48,0.5,0.44,0.41,0.3,0.3,0.29,0.32,0.49,0.3,0.26,0.32,0.3,0.49,0.0,0.39,0.3,0.12,0.4,0.12,0.28,0.1,0.28,0.45,0.06,0.0,0.0,0.34,0.0,0.3,0.38,0.33,0.32,0.29,0.32,0.33,0.34,0.4,0.36,0.45,0.31,0.15,0.0,0.16,0.46,0.4,0.37,0.37,0.14,0.66,0.66,0.09,0.42,0.01,0.0,0.32,0.0,0.21,0.01,0.0,0.01,0.0,0.08,0.18,0.34,0.34,0.1,0.41,0.21,0.0,0.19,0.21,0.41,0.33,0.0,0.0,0.17,0.36,0.36,0.17,0.59,0.05,0.42,0.27,0.27,0.53,0.25,0.57,0.53,0.57,0.44,0.65,0.09,0.18,0.08,0.53,0.53,0.35,0.45,0.2,0.26,0.33,0.2,0.34,0.56,0.65,0.65,0.68,0.56,0.68,0.3,0.45,0.3,0.08,0.4,0.42,0.54,0.54,0.42,0.09,0.36,0.09,0.47,0.09,0.38,0.45,0.38,0.42,0.27,0.09,0.27,0.34,0.28,0.42,0.41,0.1,0.43,0.0,0.27,0.41,0.39,0.5,0.07,0.07,0.07,0.12,0.0,0.0,0.0,0.37,0.0,0.35,0.26,0.0,0.33,0.35,0.0,0.21,0.34,0.07,0.35,0.43,0.45,0.45,0.15,0.24,0.3,0.32,0.11,0.3,0.23,0.43,0.12,0.45,0.42,0.47,0.32,0.23,0.25,0.35,0.0,0.25,0.51,0.18,0.43,0.43,0.57,0.43,0.42,0.24,0.24,0.5,0.26,0.39,0.27,0.29,0.34,0.0,0.46,0.31,0.31,0.0,0.03,0.0,0.0,0.33,0.33,0.43,0.4,0.07,0.23,0.3,0.03,0.3,0.23,0.05,0.57,0.0,0.37,0.0,0.12,0.22,0.23,0.21,0.26,0.23,0.21,0.36,0.19,0.46,0.46,0.46,0.55,0.46,0.43,0.02,0.15,0.02,0.42,0.46,0.46,0.31,0.37,0.31,0.4,0.52,0.52,0.22,0.47,0.49,0.23,0.03,0.25,0.0,0.29,0.34,0.01,0.29,0.37,0.01,0.32,0.0,0.01,0.0,0.0,0.2,0.39,0.41,0.22,0.25,0.19,0.07,0.19,0.33,0.01,0.01,0.14,0.0,0.0,0.06,0.02,0.22,0.28,0.0,0.0,0.68,0.0,0.38,0.0,0.32,0.05,0.05,0.5,0.31,0.01,0.2,0.0,0.2,0.13,0.22,0.4,0.0,0.22,0.39,0.2,0.2,0.0,0.28,0.19,0.5,0.44,0.08,0.3,0.3,0.0,0.1,0.13,0.0,0.1,0.0,0.0,0.14,0.0,0.0,0.07,0.32,0.44,0.21,0.26,0.32,0.09,0.32,0.1,0.26,0.15,0.21,0.21,0.21,0.27,0.0,0.46,0.27,0.68,0.34,0.0,0.42,0.39,0.24,0.24,0.24,0.24,0.11,0.26,0.26,0.26,0.1,0.22,0.0,0.02,0.0,0.0,0.0,0.02,0.02,0.02,0.02,0.02,0.48,0.24,0.01,0.03,0.03,0.0,0.29,0.01,0.03,0.03,0.03,0.25,0.25,0.24,0.17,0.4,0.31,0.14,0.4,0.27,0.02,0.09,0.08,0.3,0.32,0.0,0.51,0.56,0.51,0.27,0.26,0.2,0.26,0.15,0.02,0.02,0.09,0.22,0.22,0.15,0.25,0.07,0.07,0.31,0.02,0.0,0.22,0.06,0.25,0.14,0.1,0.1,0.26,0.12,0.0,0.21,0.21,0.42,0.39,0.3,0.34,0.0,0.36,0.0,0.0,0.4,0.34,0.25,0.59,0.0,0.59,0.33,0.01,0.21,0.01,0.18,0.0,0.09,0.37,0.37,0.37,0.33,0.0,0.4,0.24,0.31,0.0,0.16,0.37,0.37,0.38,0.29,0.0,0.02,0.32,0.19,0.02,0.2,0.02,0.19,0.02,0.0,0.01,0.32,0.44,0.02,0.33,0.63,0.0,0.06,0.33,0.4,0.35,0.09,0.0,0.03,0.01,0.1,0.1,0.32,0.08,0.32,0.11,0.08,0.6,0.08,0.5,0.11,0.5,0.11,0.6,0.03,0.6,0.54,0.44,0.06,0.16,0.21,0.05,0.04,0.1,0.49,0.04,0.06,0.26,0.09,0.02,0.26,0.03,0.04,0.03,0.04,0.29,0.18,0.39,0.57,0.05,0.57,0.6,0.4,0.21,0.04,0.04,0.15,0.21,0.21,0.25,0.06,0.46,0.08,0.06,0.2,0.25,0.25,0.19,0.08,0.08,0.07,0.49,0.08,0.09,0.1,0.13,0.3,0.14,0.13,0.08,0.08,0.09,0.32,0.08,0.29,0.02,0.42,0.43,0.33,0.02,0.1,0.5,0.0,0.0,0.01,0.0,0.02,0.17,0.04,0.02,0.33,0.26,0.26,0.26,0.13,0.13,0.13,0.02,0.64,0.13,0.13,0.14,0.53,0.14,0.32,0.2,0.78,0.4,0.63,0.15,0.15,0.09,0.33,0.09,0.1,0.29,0.44,0.44,0.41,0.11,0.33,0.2,0.15,0.09,0.13,0.08,0.08,0.1,0.13,0.12,0.47]},{\"axis\":{\"matches\":true},\"label\":\"residual sugar\",\"values\":[0.6418538861723947,0.9555114450274363,0.8329091229351039,0.6418538861723947,0.6418538861723947,0.5877866649021191,0.47000362924573563,0.1823215567939546,0.6931471805599453,1.8082887711792655,0.5877866649021191,1.8082887711792655,0.47000362924573563,0.47000362924573563,1.33500106673234,1.3609765531356006,0.5877866649021191,0.5306282510621704,1.4816045409242156,0.5877866649021191,0.5877866649021191,0.8329091229351039,0.47000362924573563,0.8329091229351039,0.8754687373538999,0.3364722366212129,0.5877866649021191,0.47000362924573563,0.6418538861723947,0.6931471805599453,0.8754687373538999,0.9162907318741551,0.8329091229351039,2.3702437414678603,0.5877866649021191,1.7047480922384253,0.8754687373538999,0.7419373447293773,0.4054651081081644,1.7749523509116738,1.7749523509116738,1.0296194171811581,0.9555114450274363,0.7884573603642703,0.5877866649021191,0.7419373447293773,0.7884573603642703,0.47000362924573563,0.47000362924573563,0.3364722366212129,0.5306282510621704,0.7884573603642703,0.7419373447293773,1.0986122886681098,1.0296194171811581,1.33500106673234,1.2237754316221157,1.62924053973028,0.8329091229351039,0.8754687373538999,0.7884573603642703,0.5877866649021191,0.6418538861723947,0.6931471805599453,1.536867219599265,1.536867219599265,0.4054651081081644,0.47000362924573563,0.6931471805599453,0.6418538861723947,0.6418538861723947,0.7419373447293773,0.6418538861723947,0.7419373447293773,0.9162907318741551,0.7884573603642703,0.7884573603642703,0.8754687373538999,0.6931471805599453,0.4054651081081644,0.47000362924573563,0.6418538861723947,0.6931471805599453,0.5877866649021191,0.5877866649021191,0.7884573603642703,0.6418538861723947,0.6418538861723947,0.7419373447293773,0.5877866649021191,0.6418538861723947,0.6418538861723947,0.6931471805599453,0.6418538861723947,0.3364722366212129,0.8329091229351039,1.0986122886681098,0.6931471805599453,0.9162907318741551,0.6418538861723947,0.7419373447293773,0.6418538861723947,0.6418538861723947,0.7419373447293773,0.7884573603642703,0.7419373447293773,0.5306282510621704,0.5306282510621704,0.9162907318741551,0.6931471805599453,0.5877866649021191,0.7884573603642703,0.7884573603642703,0.8329091229351039,0.5877866649021191,0.7884573603642703,0.6418538861723947,0.6931471805599453,0.7884573603642703,0.5877866649021191,0.5306282510621704,0.7884573603642703,0.9162907318741551,0.9555114450274363,0.47000362924573563,0.6418538861723947,0.5306282510621704,0.5877866649021191,0.5877866649021191,0.5877866649021191,0.6931471805599453,0.8329091229351039,0.8329091229351039,0.4054651081081644,0.7884573603642703,0.6418538861723947,0.5877866649021191,0.6931471805599453,0.7419373447293773,0.6931471805599453,0.6418538861723947,0.5877866649021191,0.5877866649021191,0.5306282510621704,0.5877866649021191,0.5877866649021191,0.5877866649021191,0.47000362924573563,0.8329091229351039,1.0296194171811581,0.7419373447293773,1.2237754316221157,0.5877866649021191,0.5877866649021191,1.7047480922384253,1.7047480922384253,1.7047480922384253,1.7047480922384253,0.7884573603642703,0.6418538861723947,0.6931471805599453,0.26236426446749106,0.5306282510621704,1.9878743481543455,1.9740810260220096,0.5306282510621704,0.7419373447293773,0.47000362924573563,0.7419373447293773,0.5877866649021191,0.5877866649021191,0.6931471805599453,0.6931471805599453,0.6418538861723947,0.6931471805599453,0.4054651081081644,0.6931471805599453,0.8329091229351039,0.9162907318741551,0.8754687373538999,0.8754687373538999,0.6931471805599453,0.9162907318741551,0.5877866649021191,0.6418538861723947,0.6931471805599453,0.6931471805599453,0.9555114450274363,0.6931471805599453,0.6418538861723947,1.0647107369924282,0.6418538861723947,1.33500106673234,0.7884573603642703,0.7884573603642703,0.6931471805599453,0.8754687373538999,0.6931471805599453,0.1823215567939546,0.7419373447293773,0.3364722366212129,0.7419373447293773,0.4054651081081644,0.47000362924573563,0.47000362924573563,0.9555114450274363,0.9555114450274363,0.5877866649021191,0.9932517730102834,0.7419373447293773,0.6931471805599453,1.0296194171811581,0.7419373447293773,0.7884573603642703,0.8754687373538999,1.7227665977411035,0.6931471805599453,0.7884573603642703,0.6418538861723947,0.8754687373538999,0.6931471805599453,0.6931471805599453,0.4054651081081644,0.6931471805599453,0.6931471805599453,0.9555114450274363,0.6931471805599453,0.9555114450274363,0.9555114450274363,0.9555114450274363,0.47000362924573563,0.5877866649021191,1.0296194171811581,0.9555114450274363,0.8329091229351039,0.6418538861723947,0.6418538861723947,0.6418538861723947,0.6418538861723947,0.8329091229351039,0.5306282510621704,0.7419373447293773,0.5877866649021191,0.7884573603642703,0.7884573603642703,0.6931471805599453,0.6418538861723947,0.8329091229351039,0.5306282510621704,0.6931471805599453,0.47000362924573563,0.5877866649021191,1.1314021114911006,0.6418538861723947,0.5877866649021191,1.1631508098056809,0.7884573603642703,0.7419373447293773,0.5877866649021191,0.9555114450274363,0.5306282510621704,0.6931471805599453,0.5306282510621704,0.5877866649021191,0.8754687373538999,0.5877866649021191,1.1939224684724346,1.0986122886681098,1.3862943611198906,1.3862943611198906,1.3862943611198906,1.3862943611198906,0.8754687373538999,1.9459101490553132,1.3862943611198906,1.0986122886681098,1.3862943611198906,1.7227665977411035,1.2809338454620642,1.252762968495368,1.0986122886681098,1.7227665977411035,1.2237754316221157,1.2237754316221157,0.6931471805599453,1.0986122886681098,0.9162907318741551,1.1939224684724346,0.9162907318741551,0.6931471805599453,0.9932517730102834,0.8754687373538999,1.1631508098056809,0.9162907318741551,0.9555114450274363,0.6931471805599453,0.8329091229351039,0.7419373447293773,0.9555114450274363,0.4054651081081644,0.9555114450274363,0.47000362924573563,0.7419373447293773,0.9162907318741551,0.7884573603642703,0.8754687373538999,0.8754687373538999,0.5306282510621704,0.9162907318741551,0.6931471805599453,1.0296194171811581,1.0986122886681098,0.9555114450274363,0.9162907318741551,1.2237754316221157,1.0647107369924282,1.1631508098056809,1.0647107369924282,1.1631508098056809,1.2237754316221157,0.8329091229351039,1.0296194171811581,2.3978952727983707,2.3978952727983707,1.2947271675944,1.5040773967762742,0.9555114450274363,0.6931471805599453,1.0647107369924282,1.0647107369924282,1.1631508098056809,0.7419373447293773,0.9162907318741551,1.2237754316221157,0.6418538861723947,1.0296194171811581,1.0986122886681098,0.8329091229351039,0.8754687373538999,0.9932517730102834,0.5877866649021191,0.5877866649021191,0.9555114450274363,0.6418538861723947,0.9932517730102834,1.0986122886681098,1.0296194171811581,0.9555114450274363,0.9932517730102834,0.9555114450274363,0.8754687373538999,1.5686159179138452,0.3364722366212129,0.8754687373538999,1.0986122886681098,1.0818051703517284,1.1314021114911006,0.9555114450274363,0.6931471805599453,0.9555114450274363,0.9162907318741551,0.6931471805599453,1.7578579175523736,1.2237754316221157,1.7578579175523736,0.9555114450274363,1.0296194171811581,0.8754687373538999,0.8329091229351039,0.47000362924573563,0.5877866649021191,0.7884573603642703,1.33500106673234,1.4816045409242156,1.0986122886681098,0.8754687373538999,1.824549292051046,0.9162907318741551,0.6931471805599453,1.0647107369924282,0.6931471805599453,0.6931471805599453,0.7419373447293773,0.8754687373538999,0.6931471805599453,0.6418538861723947,0.6418538861723947,0.9162907318741551,1.0647107369924282,0.6931471805599453,0.6931471805599453,0.8329091229351039,1.4350845252893227,2.066862759472976,0.9555114450274363,0.9555114450274363,0.8329091229351039,2.066862759472976,0.5306282510621704,0.9555114450274363,0.9932517730102834,0.9932517730102834,0.3364722366212129,0.9162907318741551,1.0986122886681098,1.308332819650179,1.5040773967762742,0.9162907318741551,0.8754687373538999,0.6418538861723947,1.9021075263969205,0.9932517730102834,1.8870696490323797,0.7884573603642703,0.6418538861723947,0.6931471805599453,0.5877866649021191,0.8754687373538999,0.8329091229351039,0.6931471805599453,0.7419373447293773,0.6931471805599453,0.8329091229351039,0.7419373447293773,0.6418538861723947,0.26236426446749106,0.8754687373538999,0.7419373447293773,0.7884573603642703,0.8329091229351039,0.8329091229351039,1.1631508098056809,0.8329091229351039,0.6931471805599453,1.1631508098056809,1.1631508098056809,0.4054651081081644,0.7654678421395714,1.308332819650179,0.9932517730102834,0.5306282510621704,0.7419373447293773,0.9555114450274363,0.7419373447293773,0.6931471805599453,1.0296194171811581,1.0296194171811581,0.5877866649021191,0.5306282510621704,1.0296194171811581,0.47000362924573563,0.8329091229351039,0.9932517730102834,1.0296194171811581,0.8329091229351039,0.9555114450274363,0.9360933591703348,0.7884573603642703,0.7419373447293773,1.0647107369924282,0.6931471805599453,0.9555114450274363,0.7419373447293773,0.1823215567939546,0.9555114450274363,0.8754687373538999,0.9555114450274363,0.7419373447293773,0.5306282510621704,0.7884573603642703,0.6931471805599453,0.5877866649021191,0.7884573603642703,0.9932517730102834,2.740840023925201,0.7884573603642703,0.7884573603642703,1.410986973710262,0.6418538861723947,0.6418538861723947,0.5877866649021191,1.0296194171811581,0.9555114450274363,1.0296194171811581,0.9162907318741551,0.9555114450274363,1.0986122886681098,2.1162555148025524,0.6418538861723947,0.9162907318741551,1.0986122886681098,0.6418538861723947,1.8794650496471605,1.8794650496471605,0.6418538861723947,0.5877866649021191,1.0647107369924282,0.5877866649021191,0.8329091229351039,0.7884573603642703,1.0296194171811581,1.5260563034950492,0.7884573603642703,0.7419373447293773,0.8754687373538999,0.8754687373538999,1.8082887711792655,1.4586150226995167,1.0296194171811581,0.9162907318741551,0.9932517730102834,0.6931471805599453,0.8329091229351039,0.9162907318741551,0.8754687373538999,1.0296194171811581,0.9162907318741551,0.9162907318741551,0.9555114450274363,0.8754687373538999,0.7419373447293773,0.9932517730102834,0.9932517730102834,0.7419373447293773,0.9932517730102834,0.7419373447293773,0.8754687373538999,0.7419373447293773,1.7578579175523736,1.6389967146756448,1.1939224684724346,1.840549633397487,0.7419373447293773,0.9162907318741551,0.5877866649021191,0.9555114450274363,0.6931471805599453,0.9162907318741551,0.9555114450274363,0.6418538861723947,0.7419373447293773,1.0296194171811581,0.9932517730102834,0.47000362924573563,1.4350845252893227,1.4350845252893227,1.5260563034950492,1.4350845252893227,1.5260563034950492,1.4586150226995167,1.0296194171811581,0.8754687373538999,1.0647107369924282,0.9932517730102834,1.4586150226995167,1.0296194171811581,0.9162907318741551,0.9162907318741551,0.9555114450274363,0.7884573603642703,1.1939224684724346,0.7884573603642703,0.8754687373538999,0.7419373447293773,1.1631508098056809,1.1314021114911006,0.8329091229351039,1.0296194171811581,1.0647107369924282,0.7884573603642703,0.7884573603642703,0.7884573603642703,0.7884573603642703,0.6418538861723947,1.2237754316221157,0.8754687373538999,0.9932517730102834,0.6418538861723947,0.9555114450274363,0.9555114450274363,0.5306282510621704,0.9555114450274363,1.252762968495368,0.9555114450274363,2.066862759472976,0.6931471805599453,0.6418538861723947,0.7419373447293773,0.8329091229351039,0.7419373447293773,0.7884573603642703,0.9555114450274363,0.7884573603642703,1.0647107369924282,0.9555114450274363,1.5260563034950492,1.1939224684724346,1.62924053973028,1.1631508098056809,0.9162907318741551,0.9932517730102834,0.8754687373538999,0.4054651081081644,0.7884573603642703,0.8329091229351039,0.8329091229351039,0.7884573603642703,0.9932517730102834,0.8329091229351039,1.2237754316221157,1.2237754316221157,0.6418538861723947,1.0647107369924282,1.7227665977411035,1.7227665977411035,0.7884573603642703,0.7884573603642703,0.9162907318741551,0.8329091229351039,0.9162907318741551,0.9932517730102834,1.0986122886681098,1.2237754316221157,0.6418538861723947,0.3364722366212129,0.8754687373538999,0.8329091229351039,0.7884573603642703,0.6418538861723947,0.8329091229351039,0.8329091229351039,0.8329091229351039,0.8329091229351039,0.8329091229351039,1.791759469228055,1.2809338454620642,0.7884573603642703,1.0296194171811581,2.151762203259462,0.7884573603642703,0.9162907318741551,2.0149030205422647,1.0296194171811581,0.8754687373538999,1.0647107369924282,0.7884573603642703,0.3364722366212129,0.3364722366212129,1.4816045409242156,0.3364722366212129,0.47000362924573563,0.47000362924573563,0.5877866649021191,0.6931471805599453,0.6931471805599453,0.5877866649021191,0.6931471805599453,0.8329091229351039,0.6931471805599453,0.9162907318741551,0.5306282510621704,0.6931471805599453,0.5306282510621704,0.7884573603642703,0.7884573603642703,0.7884573603642703,0.8329091229351039,0.9555114450274363,1.1939224684724346,0.6418538861723947,0.7884573603642703,0.8109302162163288,0.9555114450274363,0.8329091229351039,0.9555114450274363,0.5877866649021191,1.1314021114911006,0.47000362924573563,0.5877866649021191,0.9555114450274363,0.6931471805599453,1.0296194171811581,0.9932517730102834,0.26236426446749106,0.7419373447293773,0.7419373447293773,1.1631508098056809,0.7419373447293773,1.0647107369924282,0.7419373447293773,0.7419373447293773,0.9555114450274363,0.47000362924573563,1.791759469228055,0.6931471805599453,1.0986122886681098,0.9162907318741551,0.47000362924573563,1.0296194171811581,1.0986122886681098,1.1631508098056809,0.8329091229351039,0.9555114450274363,0.9932517730102834,0.8329091229351039,0.9555114450274363,0.6931471805599453,1.3609765531356006,0.6931471805599453,1.0473189942805592,0.9932517730102834,0.7884573603642703,1.1314021114911006,1.0986122886681098,1.0296194171811581,0.5877866649021191,0.5877866649021191,1.1631508098056809,0.8329091229351039,1.2383742310432684,0.7419373447293773,0.9932517730102834,0.6931471805599453,0.7419373447293773,0.7419373447293773,0.9162907318741551,1.0296194171811581,0.8754687373538999,1.4350845252893227,0.9555114450274363,0.6418538861723947,1.0296194171811581,0.9932517730102834,0.7419373447293773,0.9162907318741551,0.9555114450274363,0.7419373447293773,0.7419373447293773,1.0647107369924282,1.0647107369924282,0.9162907318741551,1.0647107369924282,0.5306282510621704,0.6418538861723947,0.6931471805599453,0.7884573603642703,0.7884573603642703,0.9162907318741551,1.0296194171811581,0.6931471805599453,0.5306282510621704,0.6931471805599453,1.0296194171811581,1.0986122886681098,1.0647107369924282,0.9932517730102834,0.8329091229351039,0.6418538861723947,0.8329091229351039,0.8754687373538999,0.8329091229351039,0.5877866649021191,0.5877866649021191,1.0986122886681098,0.8754687373538999,0.8754687373538999,1.2237754316221157,0.9555114450274363,0.6931471805599453,0.8754687373538999,0.8754687373538999,0.8754687373538999,0.9162907318741551,0.8329091229351039,0.8329091229351039,0.7884573603642703,0.7884573603642703,1.0647107369924282,0.9555114450274363,1.0647107369924282,0.9162907318741551,0.9555114450274363,0.8329091229351039,0.9555114450274363,0.9162907318741551,0.47000362924573563,1.2809338454620642,1.2809338454620642,1.3862943611198906,1.1939224684724346,0.5306282510621704,0.9162907318741551,0.9932517730102834,0.8754687373538999,0.6931471805599453,0.8754687373538999,0.6418538861723947,1.0296194171811581,0.9555114450274363,1.0296194171811581,0.9162907318741551,0.7419373447293773,1.0296194171811581,0.9162907318741551,1.1631508098056809,0.47000362924573563,0.8544153281560676,1.1631508098056809,0.6418538861723947,0.7419373447293773,0.6931471805599453,0.6931471805599453,1.0296194171811581,1.0296194171811581,0.8329091229351039,1.0296194171811581,0.7419373447293773,0.9162907318741551,0.7419373447293773,0.47000362924573563,0.47000362924573563,0.4054651081081644,0.8754687373538999,0.8754687373538999,0.47000362924573563,0.7884573603642703,0.9745596399981308,1.0986122886681098,0.9555114450274363,0.6931471805599453,0.5306282510621704,0.5877866649021191,0.5877866649021191,0.5877866649021191,0.5877866649021191,0.47000362924573563,0.6418538861723947,0.6418538861723947,0.9162907318741551,0.4054651081081644,0.4054651081081644,0.9162907318741551,0.4054651081081644,0.9162907318741551,0.5306282510621704,0.5877866649021191,0.9932517730102834,0.6931471805599453,0.9932517730102834,0.9162907318741551,0.9932517730102834,0.9555114450274363,0.8329091229351039,0.6931471805599453,0.5877866649021191,0.6931471805599453,0.7419373447293773,0.4054651081081644,0.6931471805599453,0.47000362924573563,0.7419373447293773,1.0296194171811581,0.7884573603642703,0.7419373447293773,1.3862943611198906,0.9162907318741551,0.47000362924573563,0.7419373447293773,1.1314021114911006,0.9162907318741551,1.3862943611198906,0.9162907318741551,0.8754687373538999,0.9555114450274363,0.9162907318741551,1.8870696490323797,0.6931471805599453,0.8329091229351039,0.6418538861723947,0.8329091229351039,0.7884573603642703,0.8329091229351039,0.8754687373538999,0.8329091229351039,0.8754687373538999,0.9555114450274363,0.8754687373538999,0.8754687373538999,1.791759469228055,1.791759469228055,1.0986122886681098,0.9555114450274363,0.7884573603642703,0.8754687373538999,0.1823215567939546,1.33500106673234,2.1972245773362196,1.0647107369924282,1.5260563034950492,0.1823215567939546,0.7884573603642703,0.4054651081081644,2.174751721484161,0.7884573603642703,0.5877866649021191,0.8329091229351039,0.7884573603642703,0.5877866649021191,2.174751721484161,0.8329091229351039,0.6418538861723947,0.8329091229351039,0.7884573603642703,0.8329091229351039,1.1939224684724346,0.6418538861723947,0.6931471805599453,0.6418538861723947,0.6931471805599453,0.6418538861723947,0.8329091229351039,0.8329091229351039,0.3364722366212129,1.0296194171811581,0.47000362924573563,0.7884573603642703,1.6094379124341003,0.9555114450274363,0.8329091229351039,1.33500106673234,0.6931471805599453,1.410986973710262,0.7419373447293773,0.5877866649021191,0.5877866649021191,0.5877866649021191,0.7419373447293773,0.7884573603642703,0.7419373447293773,0.9932517730102834,0.6418538861723947,0.7419373447293773,0.6931471805599453,0.8329091229351039,0.6931471805599453,0.6418538861723947,0.47000362924573563,0.7419373447293773,0.6931471805599453,0.6418538861723947,0.8754687373538999,0.8754687373538999,0.7419373447293773,0.8754687373538999,1.0647107369924282,0.6418538861723947,0.6418538861723947,0.8754687373538999,0.5306282510621704,1.7749523509116738,0.7419373447293773,0.7419373447293773,0.9555114450274363,1.2809338454620642,0.3364722366212129,0.6418538861723947,0.6418538861723947,0.7419373447293773,0.6418538861723947,0.3364722366212129,0.6931471805599453,0.3364722366212129,0.47000362924573563,0.5306282510621704,0.4054651081081644,0.5306282510621704,0.6931471805599453,0.6931471805599453,0.6931471805599453,0.9162907318741551,0.6931471805599453,0.7884573603642703,0.7884573603642703,0.3364722366212129,0.5007752879124892,0.7884573603642703,0.4054651081081644,0.7178397931503168,0.5877866649021191,0.47000362924573563,0.5877866649021191,0.7178397931503168,0.6931471805599453,1.2809338454620642,1.0296194171811581,0.5306282510621704,0.6931471805599453,0.7419373447293773,0.47000362924573563,0.6931471805599453,0.7884573603642703,0.7884573603642703,-0.10536051565782628,-0.10536051565782628,0.5877866649021191,0.8754687373538999,0.8754687373538999,0.7419373447293773,0.8329091229351039,0.5877866649021191,1.0296194171811581,0.6418538861723947,0.7884573603642703,0.9162907318741551,0.5877866649021191,0.7419373447293773,0.5877866649021191,1.410986973710262,0.9555114450274363,0.9162907318741551,0.8754687373538999,0.9162907318741551,0.5877866649021191,1.824549292051046,0.7884573603642703,0.7884573603642703,0.5306282510621704,0.7884573603642703,2.186051276738094,1.1939224684724346,0.3364722366212129,0.5306282510621704,0.5877866649021191,0.5306282510621704,0.5877866649021191,0.5877866649021191,0.3364722366212129,0.8754687373538999,0.8329091229351039,0.6931471805599453,0.6931471805599453,1.3862943611198906,1.3609765531356006,0.8754687373538999,1.3862943611198906,0.5877866649021191,0.6418538861723947,0.8754687373538999,0.6931471805599453,0.8754687373538999,0.8754687373538999,0.7884573603642703,0.7884573603642703,1.0296194171811581,0.4054651081081644,2.0918640616783932,0.5877866649021191,0.9932517730102834,2.0918640616783932,0.6931471805599453,0.6931471805599453,1.8562979903656263,1.8562979903656263,2.1162555148025524,0.3364722366212129,2.1162555148025524,0.5877866649021191,0.8754687373538999,0.5877866649021191,0.5877866649021191,1.547562508716013,0.47000362924573563,0.4054651081081644,0.4054651081081644,0.6931471805599453,0.6931471805599453,0.7884573603642703,1.7047480922384253,0.9162907318741551,1.7047480922384253,0.4054651081081644,0.7419373447293773,0.4054651081081644,0.7419373447293773,0.7419373447293773,0.5306282510621704,0.7419373447293773,0.7884573603642703,0.7419373447293773,0.6418538861723947,0.6931471805599453,1.1939224684724346,0.7419373447293773,0.3364722366212129,0.6931471805599453,0.4054651081081644,0.47000362924573563,1.4586150226995167,0.9162907318741551,0.9162907318741551,0.9162907318741551,0.7419373447293773,0.9162907318741551,0.5877866649021191,0.3364722366212129,0.6418538861723947,0.7884573603642703,0.5306282510621704,0.5306282510621704,1.0647107369924282,0.9932517730102834,1.1939224684724346,0.6418538861723947,0.5306282510621704,0.5877866649021191,1.7047480922384253,0.5306282510621704,0.5306282510621704,0.6931471805599453,0.6931471805599453,1.308332819650179,0.6931471805599453,0.5306282510621704,0.9162907318741551,0.8754687373538999,0.5877866649021191,0.8329091229351039,0.9162907318741551,0.5877866649021191,1.824549292051046,0.6931471805599453,0.6931471805599453,1.0296194171811581,0.9162907318741551,0.7884573603642703,0.7419373447293773,0.7884573603642703,0.7884573603642703,0.5596157879354227,0.7419373447293773,1.0296194171811581,0.7884573603642703,0.8329091229351039,0.3364722366212129,0.8329091229351039,0.5306282510621704,0.5306282510621704,0.6418538861723947,0.6931471805599453,0.9162907318741551,1.0296194171811581,0.8329091229351039,0.47000362924573563,0.7884573603642703,0.7419373447293773,0.5306282510621704,0.5306282510621704,0.7884573603642703,1.7227665977411035,0.8754687373538999,0.7419373447293773,0.8754687373538999,0.8754687373538999,0.5007752879124892,0.9162907318741551,0.47000362924573563,0.7419373447293773,0.6931471805599453,2.0541237336955462,0.6931471805599453,0.7419373447293773,0.5877866649021191,1.5260563034950492,0.8329091229351039,0.9162907318741551,0.8329091229351039,0.5877866649021191,0.5877866649021191,0.8329091229351039,0.4054651081081644,0.6931471805599453,0.8329091229351039,0.4054651081081644,0.6418538861723947,1.7578579175523736,0.7419373447293773,0.7419373447293773,0.7419373447293773,0.5306282510621704,0.7419373447293773,0.6931471805599453,0.7419373447293773,0.7419373447293773,0.7419373447293773,0.6418538861723947,0.6418538861723947,0.7419373447293773,0.6931471805599453,0.6418538861723947,0.6418538861723947,0.26236426446749106,0.5877866649021191,0.5877866649021191,0.7884573603642703,0.7884573603642703,0.9162907318741551,0.9555114450274363,1.410986973710262,0.6931471805599453,0.5877866649021191,0.7419373447293773,0.9932517730102834,0.9555114450274363,0.7419373447293773,0.7884573603642703,0.7884573603642703,2.5572273113676265,0.5306282510621704,0.7884573603642703,0.9162907318741551,1.4586150226995167,0.5306282510621704,0.9162907318741551,0.6931471805599453,0.8754687373538999,2.5952547069568657,0.5877866649021191,0.5306282510621704,0.5877866649021191,0.7884573603642703,0.8329091229351039,0.8329091229351039,0.7884573603642703,0.5877866649021191,0.3364722366212129,0.6418538861723947,0.8754687373538999,0.5877866649021191,1.5686159179138452,0.9932517730102834,0.9932517730102834,0.5877866649021191,0.6931471805599453,0.9162907318741551,0.7884573603642703,0.5877866649021191,0.8329091229351039,0.8329091229351039,0.8329091229351039,0.6931471805599453,0.47000362924573563,0.47000362924573563,0.6418538861723947,0.6931471805599453,0.7419373447293773,0.8329091229351039,1.840549633397487,0.6418538861723947,0.8329091229351039,0.5306282510621704,0.6418538861723947,0.6418538861723947,0.6931471805599453,0.9932517730102834,0.8329091229351039,0.5877866649021191,0.9162907318741551,0.9555114450274363,1.5040773967762742,1.5040773967762742,0.6418538861723947,0.7419373447293773,0.8754687373538999,0.6418538861723947,0.7419373447293773,1.4586150226995167,1.4586150226995167,0.7419373447293773,0.3364722366212129,0.7654678421395714,0.6931471805599453,0.7419373447293773,0.5877866649021191,0.8329091229351039,0.6418538861723947,0.9162907318741551,1.3609765531356006,0.9162907318741551,0.3364722366212129,0.6418538861723947,1.0986122886681098,0.6418538861723947,0.8329091229351039,0.8754687373538999,0.6931471805599453,0.1823215567939546,0.7884573603642703,0.6931471805599453,0.5306282510621704,0.9555114450274363,0.1823215567939546,0.5877866649021191,0.5877866649021191,0.5306282510621704,0.5306282510621704,0.5306282510621704,0.5306282510621704,0.5877866649021191,0.7419373447293773,0.7419373447293773,1.33500106673234,0.5306282510621704,0.7884573603642703,0.6931471805599453,0.8754687373538999,0.3364722366212129,0.3364722366212129,0.3364722366212129,0.5306282510621704,0.5306282510621704,0.5306282510621704,0.5306282510621704,0.5306282510621704,0.9555114450274363,0.8329091229351039,0.7419373447293773,0.5877866649021191,0.5877866649021191,1.0296194171811581,0.6931471805599453,0.8329091229351039,0.6418538861723947,0.6418538861723947,0.8329091229351039,0.5877866649021191,0.5877866649021191,0.9162907318741551,1.6863989535702288,0.3364722366212129,0.8329091229351039,0.9162907318741551,0.3364722366212129,0.6931471805599453,0.6418538861723947,0.7884573603642703,0.5306282510621704,0.7884573603642703,0.7419373447293773,0.47000362924573563,0.5306282510621704,1.1314021114911006,0.5306282510621704,1.33500106673234,0.6931471805599453,0.3364722366212129,0.8329091229351039,0.6931471805599453,0.9555114450274363,0.9555114450274363,0.5877866649021191,0.7419373447293773,0.7419373447293773,0.5877866649021191,1.2237754316221157,0.5877866649021191,0.5877866649021191,1.8082887711792655,0.7884573603642703,0.8329091229351039,0.8754687373538999,0.26236426446749106,0.6931471805599453,1.3609765531356006,0.47000362924573563,0.47000362924573563,0.6931471805599453,0.7884573603642703,0.7884573603642703,0.7419373447293773,0.7419373447293773,0.6931471805599453,0.9555114450274363,0.6931471805599453,1.62924053973028,0.7419373447293773,0.7884573603642703,0.7419373447293773,0.5877866649021191,0.8754687373538999,1.62924053973028,0.6931471805599453,0.7884573603642703,0.47000362924573563,0.7884573603642703,0.9162907318741551,0.47000362924573563,0.7884573603642703,0.47000362924573563,0.47000362924573563,0.7419373447293773,1.3609765531356006,0.3364722366212129,0.3364722366212129,0.5877866649021191,0.9162907318741551,0.6418538861723947,0.7884573603642703,0.5877866649021191,0.7419373447293773,0.47000362924573563,0.5877866649021191,2.7343675094195836,2.7343675094195836,0.47000362924573563,1.5686159179138452,0.5306282510621704,0.7884573603642703,0.6931471805599453,1.6486586255873816,0.6418538861723947,0.5596157879354227,0.7884573603642703,1.6486586255873816,0.6418538861723947,0.6418538861723947,0.6418538861723947,0.6931471805599453,0.9932517730102834,0.6931471805599453,0.6418538861723947,0.7884573603642703,0.47000362924573563,0.5877866649021191,0.6418538861723947,0.5306282510621704,0.5306282510621704,0.8329091229351039,0.7419373447293773,0.8329091229351039,0.8754687373538999,0.5306282510621704,0.5306282510621704,0.7419373447293773,0.8329091229351039,0.7419373447293773,0.3364722366212129,1.3217558399823195,0.9555114450274363,0.5877866649021191,2.624668592163159,0.7884573603642703,2.624668592163159,0.7884573603642703,1.0986122886681098,0.4054651081081644,1.0986122886681098,0.7419373447293773,0.4054651081081644,0.6931471805599453,0.7419373447293773,0.7419373447293773,0.6418538861723947,0.5306282510621704,0.7419373447293773,0.5877866649021191,0.5306282510621704,0.47000362924573563,0.6418538861723947,0.3364722366212129,0.6418538861723947,0.6418538861723947,0.8329091229351039,0.8329091229351039,0.8329091229351039,0.4054651081081644,1.4586150226995167,0.8754687373538999,0.9162907318741551,0.8329091229351039,0.6931471805599453,0.8329091229351039,0.7419373447293773,0.5877866649021191,0.7884573603642703,0.7419373447293773,0.7884573603642703,0.5877866649021191,1.410986973710262,1.410986973710262,0.8329091229351039,0.6931471805599453,0.7884573603642703,0.9555114450274363,0.6931471805599453,0.6418538861723947,0.8329091229351039,0.6931471805599453,0.6931471805599453,0.7419373447293773,0.7884573603642703,0.5306282510621704,0.7884573603642703,0.7419373447293773,0.7884573603642703,1.0296194171811581,0.6931471805599453,0.6418538861723947,0.8754687373538999,0.7884573603642703,0.6418538861723947,0.6418538861723947,0.9162907318741551,0.5877866649021191,1.4816045409242156,0.7884573603642703,0.6418538861723947,0.7884573603642703,0.8329091229351039,0.5877866649021191,0.6931471805599453,0.47000362924573563,0.6931471805599453,0.8329091229351039,0.8329091229351039,1.308332819650179,0.7884573603642703,0.8754687373538999,0.5306282510621704,0.7884573603642703,0.8754687373538999,1.9021075263969205,0.6931471805599453,0.6931471805599453,0.6931471805599453,0.6931471805599453,0.6931471805599453,0.6931471805599453,0.6418538861723947,0.7419373447293773,0.6931471805599453,0.47000362924573563,0.6418538861723947,0.7884573603642703,0.7884573603642703,0.7884573603642703,0.8754687373538999,2.631888840136646,0.7884573603642703,0.47000362924573563,1.62924053973028,0.5877866649021191,0.5306282510621704,0.8754687373538999,0.5306282510621704,0.9555114450274363,0.7419373447293773,0.8754687373538999,0.9555114450274363,0.8754687373538999,0.5877866649021191,0.9162907318741551,2.0541237336955462,0.5877866649021191,0.5306282510621704,0.8329091229351039,0.6418538861723947,0.6931471805599453,0.7884573603642703,0.8329091229351039,0.6931471805599453,1.2809338454620642]},{\"axis\":{\"matches\":true},\"label\":\"chlorides\",\"values\":[-2.577021938695806,-2.322787800311565,-2.385966701933097,-2.5902671654458267,-2.577021938695806,-2.5902671654458267,-2.6736487743848776,-2.7333680090865,-2.617295837833746,-2.645075401940822,-2.333044300478754,-2.645075401940822,-2.419118909249997,-2.1715568305876416,-1.7372712839439852,-1.7719568419318752,-2.385966701933097,-0.9996723408132061,-2.4534079827286295,-1.07587280169862,-2.563949857128453,-2.501036031717884,-2.24431618487007,-2.4769384801388235,-2.4651040224918206,-2.5257286443082556,-2.5257286443082556,-2.24431618487007,-2.5257286443082556,-2.501036031717884,-2.419118909249997,-2.2537949288246137,-2.488914671185539,-2.617295837833746,-2.2730262907525014,-2.4534079827286295,-2.4534079827286295,-2.7181005369557116,-1.760260802168684,-2.6036901857779675,-2.6036901857779675,-2.430418464503931,-1.1026203100656484,-2.6736487743848776,-2.995732273553991,-2.9187712324178627,-2.1715568305876416,-2.1803674602697964,-2.7181005369557116,-2.6036901857779675,-2.6036901857779675,-2.6736487743848776,-2.6882475738060303,-2.513306124309698,-2.2072749131897207,-2.4769384801388235,-2.659260036932778,-2.198225077669803,-2.577021938695806,-2.6036901857779675,-2.5383074265151158,-2.162823150618887,-2.4651040224918206,-2.513306124309698,-2.4534079827286295,-2.4534079827286295,-2.5383074265151158,-2.577021938695806,-2.6036901857779675,-2.6036901857779675,-2.577021938695806,-2.430418464503931,-2.4769384801388235,-2.4769384801388235,-2.364460496712133,-2.375155785828881,-2.375155785828881,-2.2633643798407643,-2.4534079827286295,-2.5257286443082556,-2.6736487743848776,-0.7678707267558817,-2.4534079827286295,-0.9137938516755678,-2.6736487743848776,-2.577021938695806,-2.2072749131897207,-2.7806208939370456,-2.234926444520231,-2.577021938695806,-2.5383074265151158,-2.2072749131897207,-2.2072749131897207,-2.7806208939370456,-3.101092789211817,-2.8473122684357177,-2.282782465697866,-2.659260036932778,-2.5383074265151158,-2.5257286443082556,-2.4769384801388235,-2.5902671654458267,-2.5257286443082556,-2.563949857128453,-2.659260036932778,-2.563949857128453,-0.7614260213132397,-2.430418464503931,-2.396895772465287,-2.1037342342488805,-2.2633643798407643,-2.4769384801388235,-2.4651040224918206,-2.5257286443082556,-2.2633643798407643,-2.4079456086518722,-2.563949857128453,-2.501036031717884,-2.1286317858706076,-2.333044300478754,-1.725971728690052,-2.1286317858706076,-2.5902671654458267,-2.5257286443082556,-2.501036031717884,-1.9241486572738007,-2.513306124309698,-2.501036031717884,-2.7333680090865,-2.631089159966082,-2.137070654516472,-3.0159349808715104,-3.0159349808715104,-2.8134107167600364,-2.4769384801388235,-2.4079456086518722,-2.419118909249997,-2.513306124309698,-2.513306124309698,-2.513306124309698,-2.4079456086518722,-2.419118909249997,-2.995732273553991,-2.7181005369557116,-2.995732273553991,-2.145581344184381,-2.4418471603275536,-1.443923473956527,-2.6036901857779675,-2.419118909249997,-2.563949857128453,-0.4942963218147801,-2.353878387381596,-2.353878387381596,-2.659260036932778,-2.645075401940822,-2.659260036932778,-2.645075401940822,-2.617295837833746,-2.5383074265151158,-2.4079456086518722,-2.631089159966082,-2.577021938695806,-2.659260036932778,-2.659260036932778,-2.3025850929940455,-2.4651040224918206,-2.631089159966082,-2.419118909249997,-1.0216512475319814,-2.8473122684357177,-2.617295837833746,-2.617295837833746,-2.6882475738060303,-2.5257286443082556,-2.4651040224918206,-2.5257286443082556,-2.4418471603275536,-2.6882475738060303,-2.703062659591171,-2.703062659591171,-1.3093333199837622,-2.577021938695806,-2.563949857128453,-2.5383074265151158,-2.198225077669803,-2.501036031717884,-2.4769384801388235,-2.4769384801388235,-2.501036031717884,-2.563949857128453,-2.6036901857779675,-2.312635428847547,-2.645075401940822,-2.645075401940822,-2.6036901857779675,-2.6036901857779675,-2.703062659591171,-3.079113882493042,-2.796881414808826,-2.8824035882469876,-2.333044300478754,-2.5902671654458267,-2.430418464503931,-2.419118909249997,-2.353878387381596,-2.353878387381596,-2.6736487743848776,-2.3025850929940455,-2.9187712324178627,-3.2441936328524905,-2.488914671185539,-2.8302178350764176,-2.8134107167600364,-2.385966701933097,-2.8134107167600364,-2.2926347621408776,-2.631089159966082,-2.577021938695806,-2.5257286443082556,-2.501036031717884,-2.2926347621408776,-2.864704011147587,-2.488914671185539,-2.419118909249997,-2.617295837833746,-1.0876723486297752,-2.419118909249997,-2.617295837833746,-2.513306124309698,-2.9187712324178627,-2.551046452292545,-2.4079456086518722,-2.513306124309698,-2.7333680090865,-2.333044300478754,-2.333044300478754,-2.333044300478754,-2.333044300478754,-2.7333680090865,-1.3356012468043725,-2.375155785828881,-2.282782465697866,-2.5902671654458267,-2.5902671654458267,-2.4769384801388235,-2.5902671654458267,-2.631089159966082,-2.6036901857779675,-2.4769384801388235,-2.7646205525906042,-2.6036901857779675,-2.4079456086518722,-2.385966701933097,-2.6036901857779675,-2.617295837833746,-2.5902671654458267,-2.5902671654458267,-0.49265831981054176,-2.4651040224918206,-2.563949857128453,-2.4418471603275536,-2.659260036932778,-2.563949857128453,-2.7488721956224653,-2.645075401940822,-2.3434070875143007,-2.563949857128453,-2.2633643798407643,-2.4418471603275536,-2.2633643798407643,-2.645075401940822,-2.577021938695806,-2.430418464503931,-2.4418471603275536,-2.563949857128453,-2.2633643798407643,-2.4418471603275536,-2.645075401940822,-1.0272222925814367,-2.703062659591171,-2.4418471603275536,-2.282782465697866,-2.282782465697866,-2.617295837833746,-2.385966701933097,-2.396895772465287,-2.2537949288246137,-2.396895772465287,-1.0700248318161971,-2.396895772465287,-2.322787800311565,-2.364460496712133,-2.617295837833746,-2.4534079827286295,-2.488914671185539,-2.364460496712133,-2.5257286443082556,-2.4534079827286295,-2.6882475738060303,-2.385966701933097,-1.6820086052689358,-2.1892564076870427,-2.7646205525906042,-2.501036031717884,-1.546463113272712,-1.5417792639602856,-2.7806208939370456,-2.7646205525906042,-2.631089159966082,-2.375155785828881,-2.577021938695806,-2.4418471603275536,-2.3434070875143007,-2.282782465697866,-2.501036031717884,-2.488914671185539,-2.501036031717884,-2.488914671185539,-2.4079456086518722,-2.5383074265151158,-2.4079456086518722,-2.645075401940822,-2.645075401940822,-2.111964733385396,-2.234926444520231,-2.501036031717884,-2.796881414808826,-2.1037342342488805,-2.1037342342488805,-2.7181005369557116,-2.2537949288246137,-2.551046452292545,-2.05572501506252,-2.9565115604007097,-2.5257286443082556,-2.2730262907525014,-2.501036031717884,-2.7181005369557116,-2.7333680090865,-2.137070654516472,-2.137070654516472,-2.501036031717884,-2.703062659591171,-2.631089159966082,-2.375155785828881,-2.419118909249997,-2.375155785828881,-2.234926444520231,-2.3434070875143007,-2.4079456086518722,-2.120263536200091,-2.7181005369557116,-2.551046452292545,-2.5257286443082556,-2.1541650878757723,-2.2164073967529934,-2.430418464503931,-2.312635428847547,-2.4534079827286295,-2.631089159966082,-2.645075401940822,-2.488914671185539,-2.234926444520231,-2.488914671185539,-2.577021938695806,-1.8388510767619055,-2.6036901857779675,-2.7646205525906042,-2.8824035882469876,-2.703062659591171,-2.24431618487007,-2.419118909249997,-2.0874737133771,-2.551046452292545,-2.6036901857779675,-2.430418464503931,-2.364460496712133,-2.5257286443082556,-2.4651040224918206,-2.5257286443082556,-2.5257286443082556,-2.4418471603275536,-2.4079456086518722,-2.430418464503931,-2.5383074265151158,-2.430418464503931,-2.3434070875143007,-2.4651040224918206,-2.501036031717884,-2.1892564076870427,-2.7646205525906042,-2.7181005369557116,-2.1037342342488805,-2.4418471603275536,-2.4418471603275536,-2.7488721956224653,-2.1037342342488805,-2.8302178350764176,-2.4651040224918206,-2.4651040224918206,-2.5902671654458267,-2.8302178350764176,-2.7646205525906042,-2.375155785828881,-1.7486999797676082,-2.659260036932778,-2.5257286443082556,-2.5257286443082556,-2.3025850929940455,-2.333044300478754,-2.4418471603275536,-2.145581344184381,-2.198225077669803,-2.396895772465287,-2.111964733385396,-2.7181005369557116,-2.419118909249997,-2.8302178350764176,-3.0576076772720784,-2.7181005369557116,-3.0576076772720784,-2.8302178350764176,-3.101092789211817,-2.563949857128453,-2.659260036932778,-2.430418464503931,-2.7181005369557116,-2.6036901857779675,-2.551046452292545,-2.396895772465287,-2.577021938695806,-2.396895772465287,-2.8134107167600364,-2.7181005369557116,-2.577021938695806,-2.7806208939370456,-2.6882475738060303,-2.3025850929940455,-2.563949857128453,-2.9187712324178627,-2.5383074265151158,-2.513306124309698,-2.0635681925235456,-2.3025850929940455,-2.353878387381596,-2.353878387381596,-0.8843076860211043,-2.4769384801388235,-2.4769384801388235,-2.7646205525906042,-2.353878387381596,-2.333044300478754,-2.4769384801388235,-2.488914671185539,-2.4418471603275536,-2.4651040224918206,-2.322787800311565,-2.4769384801388235,-2.322787800311565,-2.6736487743848776,-2.7333680090865,-2.4079456086518722,-2.659260036932778,-2.375155785828881,-2.513306124309698,-2.488914671185539,-2.7806208939370456,-2.5257286443082556,-2.4418471603275536,-2.396895772465287,-2.5902671654458267,-2.4418471603275536,-2.563949857128453,-2.6736487743848776,-1.8838747581358606,-1.8838747581358606,-2.1715568305876416,-2.9187712324178627,-2.9187712324178627,-2.9374633654300153,-2.513306124309698,-2.617295837833746,-2.551046452292545,-2.900422093749666,-2.9565115604007097,-2.4534079827286295,-2.9759296462578115,-2.513306124309698,-2.4079456086518722,-2.4534079827286295,-2.513306124309698,-2.6036901857779675,-2.6036901857779675,-2.551046452292545,-2.563949857128453,-2.631089159966082,-2.5902671654458267,-2.4769384801388235,-2.4079456086518722,-2.4769384801388235,-2.617295837833746,-2.4079456086518722,-2.0794415416798357,-2.234926444520231,-2.234926444520231,-2.1037342342488805,-2.3025850929940455,-2.430418464503931,-2.430418464503931,-2.430418464503931,-2.430418464503931,-2.312635428847547,-2.4651040224918206,-2.4534079827286295,-2.2537949288246137,-2.430418464503931,-2.333044300478754,-2.4769384801388235,-2.563949857128453,-2.551046452292545,-2.322787800311565,-2.322787800311565,-2.631089159966082,-2.282782465697866,-2.551046452292545,-2.563949857128453,-2.4769384801388235,-2.7181005369557116,-2.3025850929940455,-2.2926347621408776,-2.7488721956224653,-2.659260036932778,-2.4651040224918206,-2.5902671654458267,-2.364460496712133,-2.551046452292545,-2.703062659591171,-2.5383074265151158,-1.7660917224794772,-2.6036901857779675,-2.385966701933097,-2.385966701933097,-2.995732273553991,-2.353878387381596,-2.353878387381596,-2.137070654516472,-2.353878387381596,-2.137070654516472,-2.4651040224918206,-2.5902671654458267,-2.551046452292545,-2.364460496712133,-2.385966701933097,-2.4651040224918206,-2.5902671654458267,-1.487220279709851,-1.487220279709851,-1.3862943611198906,-2.353878387381596,-2.659260036932778,-2.353878387381596,-2.5902671654458267,-2.659260036932778,-2.551046452292545,-2.5383074265151158,-2.2730262907525014,-2.488914671185539,-2.4651040224918206,-2.7646205525906042,-2.419118909249997,-2.419118909249997,-2.488914671185539,-2.6036901857779675,-2.375155785828881,-2.396895772465287,-2.364460496712133,-2.2256240518579173,-2.8302178350764176,-2.4769384801388235,-2.659260036932778,-2.4769384801388235,-2.364460496712133,-2.3434070875143007,-2.4534079827286295,-2.8302178350764176,-2.645075401940822,-2.551046452292545,-2.501036031717884,-2.430418464503931,-2.645075401940822,-2.513306124309698,-2.645075401940822,-2.3434070875143007,-2.4651040224918206,-2.631089159966082,-2.385966701933097,-2.2072749131897207,-2.5902671654458267,-2.488914671185539,-2.513306124309698,-2.563949857128453,-2.8473122684357177,-1.9105430052180221,-2.5383074265151158,-2.5383074265151158,-2.5383074265151158,-2.1037342342488805,-2.430418464503931,-2.577021938695806,-2.551046452292545,-2.5257286443082556,-2.563949857128453,-2.0874737133771,-2.0874737133771,-2.322787800311565,-2.322787800311565,-2.333044300478754,-2.198225077669803,-2.333044300478754,-2.2537949288246137,-2.4418471603275536,-2.2537949288246137,-2.617295837833746,-2.7333680090865,-2.4534079827286295,-2.4769384801388235,-1.9449106487222299,-2.703062659591171,-2.645075401940822,-2.645075401940822,-2.645075401940822,-2.645075401940822,-2.645075401940822,-2.162823150618887,-2.234926444520231,-2.659260036932778,-2.7181005369557116,-2.6882475738060303,-2.24431618487007,-2.2633643798407643,-2.3434070875143007,-2.5383074265151158,-2.6036901857779675,-2.4418471603275536,-2.24431618487007,-2.617295837833746,-2.6036901857779675,-2.3434070875143007,-2.6036901857779675,-2.5257286443082556,-2.577021938695806,-2.995732273553991,-2.385966701933097,-2.4769384801388235,-1.5050778971098575,-2.501036031717884,-2.8302178350764176,-2.501036031717884,-2.488914671185539,-2.6036901857779675,-2.5383074265151158,-2.6036901857779675,-2.4769384801388235,-2.7488721956224653,-2.4769384801388235,-2.4769384801388235,-2.513306124309698,-2.8134107167600364,-2.659260036932778,-2.364460496712133,-2.551046452292545,-2.8302178350764176,-2.551046452292545,-2.8302178350764176,-2.659260036932778,-2.353878387381596,-3.2441936328524905,-1.851509473633829,-2.4418471603275536,-0.8627499649461253,-2.4769384801388235,-2.4769384801388235,-3.3813947543659757,-2.7181005369557116,-2.7181005369557116,-2.4418471603275536,-2.645075401940822,-2.577021938695806,-2.7181005369557116,-2.703062659591171,-2.617295837833746,-2.551046452292545,-2.617295837833746,-2.375155785828881,-2.563949857128453,-2.6882475738060303,-2.7806208939370456,-2.5257286443082556,-2.375155785828881,-2.4769384801388235,-2.5902671654458267,-2.551046452292545,-2.6736487743848776,-2.5902671654458267,-2.5383074265151158,-2.501036031717884,-2.4534079827286295,-2.501036031717884,-2.364460496712133,-2.4769384801388235,-2.9374633654300153,-2.4534079827286295,-2.563949857128453,-2.4769384801388235,-2.703062659591171,-2.703062659591171,-2.645075401940822,-0.9493305859523552,-2.430418464503931,-2.385966701933097,-2.501036031717884,-2.5902671654458267,-2.1892564076870427,-2.1892564076870427,-2.375155785828881,-2.385966701933097,-2.430418464503931,-2.5902671654458267,-2.551046452292545,-2.7333680090865,-2.3434070875143007,-2.353878387381596,-2.659260036932778,-2.5257286443082556,-2.488914671185539,-2.645075401940822,-2.659260036932778,-2.419118909249997,-2.419118909249997,-2.333044300478754,-2.419118909249997,-0.8794767587514388,-2.8473122684357177,-2.864704011147587,-2.4769384801388235,-2.4769384801388235,-2.385966701933097,-2.5902671654458267,-2.3434070875143007,-2.6736487743848776,-2.3434070875143007,-2.375155785828881,-2.396895772465287,-2.419118909249997,-2.2730262907525014,-2.501036031717884,-2.577021938695806,-2.501036031717884,-2.501036031717884,-2.501036031717884,-1.851509473633829,-1.851509473633829,-2.282782465697866,-1.4146938356415886,-1.422958345491482,-2.5383074265151158,-2.577021938695806,-1.6607312068216509,-2.1715568305876416,-2.513306124309698,-2.1715568305876416,-2.563949857128453,-2.488914671185539,-2.488914671185539,-2.5383074265151158,-2.5383074265151158,-2.312635428847547,-2.501036031717884,-2.4769384801388235,-2.513306124309698,-2.900422093749666,-2.7333680090865,-2.0249533563957662,-2.071473372030659,-3.270169119255751,-2.501036031717884,-2.501036031717884,-2.501036031717884,-2.6882475738060303,-3.123565645063876,-2.1715568305876416,-2.4769384801388235,-2.9565115604007097,-3.1941832122778293,-2.9565115604007097,-1.8018098050815563,-2.659260036932778,-2.6882475738060303,-2.631089159966082,-2.312635428847547,-2.282782465697866,-2.2730262907525014,-2.312635428847547,-2.513306124309698,-2.4769384801388235,-2.645075401940822,-2.333044300478754,-2.312635428847547,-3.036554268074246,-2.577021938695806,-2.577021938695806,-2.6882475738060303,-2.577021938695806,-2.995732273553991,-2.577021938695806,-2.645075401940822,-2.8473122684357177,-2.645075401940822,-1.9173226922034008,-2.430418464503931,-2.7181005369557116,-4.422848629194137,-4.422848629194137,-2.5902671654458267,-2.385966701933097,-2.4651040224918206,-2.162823150618887,-2.1286317858706076,-2.430418464503931,-2.7806208939370456,-2.513306124309698,-2.513306124309698,-2.551046452292545,-2.513306124309698,-2.5257286443082556,-2.4651040224918206,-2.4651040224918206,-2.5257286443082556,-2.5257286443082556,-2.5257286443082556,-2.645075401940822,-2.5257286443082556,-2.617295837833746,-2.9187712324178627,-2.6036901857779675,-2.563949857128453,-3.2441936328524905,-2.703062659591171,-2.551046452292545,-2.563949857128453,-2.563949857128453,-2.645075401940822,-2.631089159966082,-2.6036901857779675,-2.5257286443082556,-2.7488721956224653,-2.4534079827286295,-2.703062659591171,-2.703062659591171,-2.2633643798407643,-2.2164073967529934,-2.703062659591171,-2.7488721956224653,-2.364460496712133,-2.577021938695806,-2.551046452292545,-2.6882475738060303,-1.6398971199188088,-2.577021938695806,-2.364460496712133,-2.4534079827286295,-2.488914671185539,-2.7181005369557116,-2.631089159966082,-2.1892564076870427,-2.645075401940822,-2.551046452292545,-2.501036031717884,-2.551046452292545,-2.5257286443082556,-2.5257286443082556,-2.551046452292545,-2.5257286443082556,-2.551046452292545,-2.8824035882469876,-2.5257286443082556,-2.5257286443082556,-2.8134107167600364,-2.8134107167600364,-2.513306124309698,-2.4769384801388235,-2.5383074265151158,-2.551046452292545,-2.8302178350764176,-2.0249533563957662,-2.1715568305876416,-2.7333680090865,-2.364460496712133,-2.8302178350764176,-2.5383074265151158,-1.8263509139976741,-2.4769384801388235,-2.513306124309698,-2.631089159966082,-2.396895772465287,-2.513306124309698,-2.631089159966082,-2.4769384801388235,-2.900422093749666,-2.7488721956224653,-2.796881414808826,-2.375155785828881,-2.900422093749666,-2.7646205525906042,-2.5257286443082556,-2.6036901857779675,-2.551046452292545,-2.6036901857779675,-2.5257286443082556,-2.8134107167600364,-2.8134107167600364,-2.645075401940822,-2.6882475738060303,-2.617295837833746,-2.6036901857779675,-2.501036031717884,-2.385966701933097,-2.364460496712133,-2.4079456086518722,-2.645075401940822,-2.385966701933097,-2.375155785828881,-2.5902671654458267,-2.5902671654458267,-2.5902671654458267,-2.375155785828881,-2.8473122684357177,-2.9565115604007097,-2.501036031717884,-2.4079456086518722,-2.198225077669803,-2.430418464503931,-2.120263536200091,-2.419118909249997,-2.8473122684357177,-2.551046452292545,-2.162823150618887,-2.3025850929940455,-2.8473122684357177,-2.7333680090865,-2.2730262907525014,-2.333044300478754,-2.6882475738060303,-2.5383074265151158,-2.7181005369557116,-2.7181005369557116,-2.2633643798407643,-2.5383074265151158,-2.617295837833746,-2.488914671185539,-2.488914671185539,-2.2164073967529934,-2.796881414808826,-2.5902671654458267,-2.7333680090865,-2.5383074265151158,-2.659260036932778,-2.7333680090865,-2.5902671654458267,-2.7488721956224653,-2.7181005369557116,-2.5257286443082556,-2.333044300478754,-2.617295837833746,-2.333044300478754,-2.501036031717884,-2.577021938695806,-2.501036031717884,-2.385966701933097,-2.5383074265151158,-2.4418471603275536,-2.4418471603275536,-2.995732273553991,-2.900422093749666,-2.7806208939370456,-2.8473122684357177,-2.7646205525906042,-2.703062659591171,-2.513306124309698,-2.703062659591171,-2.7646205525906042,-2.7488721956224653,-2.2072749131897207,-2.1541650878757723,-2.703062659591171,-2.430418464503931,-2.282782465697866,-2.385966701933097,-2.120263536200091,-2.5902671654458267,-2.6882475738060303,-3.0159349808715104,-3.0159349808715104,-2.551046452292545,-2.0955709236097197,-2.0955709236097197,-2.7806208939370456,-2.322787800311565,-2.430418464503931,-2.353878387381596,-2.7181005369557116,-2.7333680090865,-2.5902671654458267,-2.430418464503931,-2.396895772465287,-2.375155785828881,-2.353878387381596,-2.419118909249997,-2.563949857128453,-2.4651040224918206,-2.501036031717884,-2.6036901857779675,-2.551046452292545,-2.430418464503931,-2.430418464503931,-2.5383074265151158,-2.430418464503931,-2.6736487743848776,-3.079113882493042,-2.659260036932778,-2.577021938695806,-2.501036031717884,-2.513306124309698,-2.4769384801388235,-2.501036031717884,-0.8818893051568227,-2.617295837833746,-2.659260036932778,-2.353878387381596,-2.353878387381596,-2.2926347621408776,-2.2633643798407643,-2.375155785828881,-2.2926347621408776,-2.6036901857779675,-2.322787800311565,-2.5902671654458267,-2.703062659591171,-2.488914671185539,-2.659260036932778,-2.8134107167600364,-2.8134107167600364,-2.4534079827286295,-2.864704011147587,-2.322787800311565,-2.488914671185539,-2.430418464503931,-2.322787800311565,-2.645075401940822,-2.617295837833746,-2.5257286443082556,-2.5257286443082556,-2.995732273553991,-3.0576076772720784,-2.995732273553991,-2.617295837833746,-2.631089159966082,-2.617295837833746,-2.6036901857779675,-2.900422093749666,-2.864704011147587,-2.353878387381596,-2.353878387381596,-2.4534079827286295,-2.513306124309698,-2.5383074265151158,-2.145581344184381,-2.4418471603275536,-2.145581344184381,-2.3434070875143007,-1.5324768712979722,-2.3434070875143007,-2.631089159966082,-2.645075401940822,-2.551046452292545,-2.645075401940822,-2.617295837833746,-3.036554268074246,-2.6736487743848776,-2.6882475738060303,-2.4079456086518722,-1.7660917224794772,-2.659260036932778,-2.385966701933097,-2.8824035882469876,-2.6036901857779675,-3.079113882493042,-2.396895772465287,-2.396895772465287,-2.396895772465287,-2.7333680090865,-2.7181005369557116,-2.7806208939370456,-2.900422093749666,-2.513306124309698,-2.3434070875143007,-2.900422093749666,-2.7646205525906042,-2.631089159966082,-2.353878387381596,-2.385966701933097,-2.8473122684357177,-3.101092789211817,-2.5902671654458267,-2.419118909249997,-2.796881414808826,-2.703062659591171,-2.5257286443082556,-2.5257286443082556,-2.2633643798407643,-2.5383074265151158,-2.5257286443082556,-2.5257286443082556,-3.146555163288575,-2.7333680090865,-2.7181005369557116,-2.577021938695806,-1.725971728690052,-2.645075401940822,-2.4534079827286295,-2.796881414808826,-2.703062659591171,-3.123565645063876,-2.137070654516472,-2.488914671185539,-2.3025850929940455,-2.137070654516472,-2.645075401940822,-3.170085660698769,-2.577021938695806,-2.2072749131897207,-2.4418471603275536,-2.577021938695806,-2.5902671654458267,-2.551046452292545,-2.551046452292545,-0.9969586349416099,-2.198225077669803,-2.6036901857779675,-2.703062659591171,-2.4534079827286295,-2.7806208939370456,-2.551046452292545,-2.6036901857779675,-2.5383074265151158,-2.5383074265151158,-2.353878387381596,-2.5383074265151158,-2.9565115604007097,-3.1941832122778293,-2.577021938695806,-2.577021938695806,-2.6882475738060303,-2.6882475738060303,-2.659260036932778,-2.5257286443082556,-2.4651040224918206,-2.5383074265151158,-2.4651040224918206,-2.5257286443082556,-2.5902671654458267,-2.5257286443082556,-1.7957674906255938,-2.7646205525906042,-1.7957674906255938,-2.1715568305876416,-2.551046452292545,-2.577021938695806,-2.6736487743848776,-2.9565115604007097,-2.577021938695806,-2.6736487743848776,-2.7333680090865,-2.198225077669803,-2.6036901857779675,-2.6036901857779675,-2.6036901857779675,-1.995100393246085,-2.6036901857779675,-2.645075401940822,-2.551046452292545,-2.577021938695806,-2.551046452292545,-2.645075401940822,-2.513306124309698,-2.353878387381596,-2.5383074265151158,-2.864704011147587,-2.501036031717884,-3.123565645063876,-2.0249533563957662,-2.0249533563957662,-2.551046452292545,-2.6036901857779675,-2.5257286443082556,-2.396895772465287,-2.5257286443082556,-2.2633643798407643,-3.123565645063876,-2.5902671654458267,-2.7181005369557116,-2.6036901857779675,-2.5902671654458267,-2.864704011147587,-2.8302178350764176,-2.9187712324178627,-2.659260036932778,-2.8302178350764176,-2.513306124309698,-2.864704011147587,-2.577021938695806,-2.5383074265151158,-2.8473122684357177,-2.501036031717884,-2.703062659591171,-2.501036031717884,-2.4534079827286295,-2.501036031717884,-2.513306124309698,-2.5383074265151158,-2.5383074265151158,-2.563949857128453,-2.0955709236097197,-2.3434070875143007,-2.5383074265151158,-2.6736487743848776,-2.501036031717884,-2.4651040224918206,-2.0955709236097197,-2.0955709236097197,-0.908818717035454,-2.488914671185539,-2.513306124309698,-2.419118909249997,-2.7181005369557116,-2.513306124309698,-2.513306124309698,-2.6882475738060303,-2.5383074265151158,-3.036554268074246,-3.0159349808715104,-2.563949857128453,-2.617295837833746,-2.282782465697866,-2.5902671654458267,-2.995732273553991,-2.1715568305876416,-2.5902671654458267,-2.7806208939370456,-2.563949857128453,-2.563949857128453,-2.4769384801388235,-2.3434070875143007,-2.645075401940822,-2.4079456086518722,-2.6882475738060303,-2.8824035882469876,-2.6882475738060303,-2.6882475738060303,-2.3025850929940455,-2.617295837833746,-2.8824035882469876,-2.4769384801388235,-2.617295837833746,-2.375155785828881,-2.375155785828881,-2.7488721956224653,-2.7646205525906042,-2.5257286443082556,-2.3025850929940455,-2.7488721956224653,-2.513306124309698,-2.4418471603275536,-2.617295837833746,-2.430418464503931,-2.6882475738060303,-2.430418464503931,-2.645075401940822,-2.617295837833746,-2.7488721956224653,-2.488914671185539,-2.4534079827286295,-2.4534079827286295,-2.488914671185539,-3.1941832122778293,-2.396895772465287,-2.488914671185539,-0.8818893051568227,-2.364460496712133,-3.1941832122778293,-2.8473122684357177,-2.8134107167600364,-2.563949857128453,-2.563949857128453,-2.563949857128453,-2.563949857128453,-2.617295837833746,-2.488914671185539,-2.488914671185539,-2.234926444520231,-2.5902671654458267,-2.5383074265151158,-1.7957674906255938,-2.6736487743848776,-2.864704011147587,-2.864704011147587,-2.864704011147587,-2.4769384801388235,-2.4769384801388235,-2.4769384801388235,-2.4651040224918206,-2.4769384801388235,-2.563949857128453,-2.7646205525906042,-2.8824035882469876,-2.551046452292545,-2.551046452292545,-2.513306124309698,-2.6736487743848776,-2.7333680090865,-2.4534079827286295,-2.4534079827286295,-2.563949857128453,-2.4534079827286295,-2.4769384801388235,-2.551046452292545,-1.783791299578878,-2.396895772465287,-2.1892564076870427,-2.375155785828881,-2.396895772465287,-2.5257286443082556,-2.3434070875143007,-2.162823150618887,-2.364460496712133,-2.430418464503931,-2.5383074265151158,-2.6736487743848776,-0.8794767587514388,-1.8773173575897015,-0.8794767587514388,-2.2072749131897207,-2.488914671185539,-2.4534079827286295,-2.4079456086518722,-2.551046452292545,-2.563949857128453,-2.563949857128453,-2.6036901857779675,-2.5257286443082556,-2.5257286443082556,-2.234926444520231,-2.577021938695806,-2.3025850929940455,-2.3025850929940455,-2.488914671185539,-2.5257286443082556,-2.6882475738060303,-2.364460496712133,-2.659260036932778,-2.551046452292545,-2.659260036932778,-2.385966701933097,-2.4079456086518722,-2.5257286443082556,-2.488914671185539,-2.6882475738060303,-2.5257286443082556,-2.5257286443082556,-2.9565115604007097,-2.501036031717884,-2.7806208939370456,-2.7806208939370456,-2.7488721956224653,-3.036554268074246,-2.7488721956224653,-2.501036031717884,-2.645075401940822,-2.7806208939370456,-2.2633643798407643,-2.563949857128453,-2.7333680090865,-2.563949857128453,-2.7488721956224653,-2.563949857128453,-2.563949857128453,-2.563949857128453,-2.5383074265151158,-2.5383074265151158,-2.0955709236097197,-2.577021938695806,-2.577021938695806,-3.079113882493042,-2.551046452292545,-2.631089159966082,-3.0159349808715104,-2.7181005369557116,-2.6736487743848776,-3.170085660698769,-2.6736487743848776,-1.5417792639602856,-1.5417792639602856,-1.7778565640590636,-2.659260036932778,-2.9565115604007097,-2.631089159966082,-2.7806208939370456,-2.364460496712133,-2.551046452292545,-2.8473122684357177,-2.631089159966082,-2.364460496712133,-2.551046452292545,-2.5257286443082556,-2.5257286443082556,-2.7806208939370456,-2.2633643798407643,-2.7806208939370456,-2.6036901857779675,-2.617295837833746,-2.9565115604007097,-2.995732273553991,-2.6036901857779675,-2.703062659591171,-2.9187712324178627,-2.9187712324178627,-2.8134107167600364,-2.5902671654458267,-2.577021938695806,-2.7646205525906042,-2.7646205525906042,-2.7806208939370456,-2.703062659591171,-2.7806208939370456,-2.4769384801388235,-2.703062659591171,-2.617295837833746,-2.645075401940822,-1.584745299843729,-3.036554268074246,-1.584745299843729,-3.036554268074246,-2.2633643798407643,-2.5257286443082556,-2.2633643798407643,-2.1715568305876416,-3.170085660698769,-2.8134107167600364,-2.6036901857779675,-2.659260036932778,-2.7181005369557116,-3.0159349808715104,-3.036554268074246,-3.2441936328524905,-3.0159349808715104,-2.995732273553991,-2.419118909249997,-2.7181005369557116,-2.5257286443082556,-2.419118909249997,-2.9187712324178627,-2.6882475738060303,-2.9187712324178627,-2.577021938695806,-2.488914671185539,-2.551046452292545,-2.563949857128453,-2.24431618487007,-2.659260036932778,-2.24431618487007,-2.6036901857779675,-2.7806208939370456,-3.0576076772720784,-2.6882475738060303,-2.796881414808826,-2.551046452292545,-2.6036901857779675,-2.6036901857779675,-2.645075401940822,-2.7646205525906042,-2.1715568305876416,-2.24431618487007,-2.7646205525906042,-2.501036031717884,-2.645075401940822,-2.577021938695806,-2.5902671654458267,-2.7488721956224653,-2.7488721956224653,-2.645075401940822,-2.3434070875143007,-2.7646205525906042,-2.7646205525906042,-2.513306124309698,-2.8473122684357177,-2.6036901857779675,-2.7488721956224653,-2.5902671654458267,-2.563949857128453,-2.8302178350764176,-2.513306124309698,-2.7333680090865,-2.645075401940822,-2.9187712324178627,-2.7488721956224653,-2.7488721956224653,-2.7646205525906042,-2.8302178350764176,-2.631089159966082,-3.036554268074246,-2.312635428847547,-2.4418471603275536,-2.488914671185539,-2.2730262907525014,-2.5257286443082556,-2.7806208939370456,-2.7333680090865,-2.7181005369557116,-2.7806208939370456,-1.448169764837978,-2.5257286443082556,-2.5257286443082556,-2.5257286443082556,-2.577021938695806,-2.577021938695806,-2.577021938695806,-2.796881414808826,-2.8302178350764176,-2.577021938695806,-2.563949857128453,-2.8824035882469876,-1.4696759700589417,-3.270169119255751,-2.6736487743848776,-2.5902671654458267,-2.6036901857779675,-2.8134107167600364,-2.513306124309698,-2.577021938695806,-2.137070654516472,-2.9374633654300153,-2.6882475738060303,-2.9374633654300153,-2.9374633654300153,-2.6036901857779675,-2.796881414808826,-2.7181005369557116,-2.7333680090865,-2.7181005369557116,-2.6882475738060303,-2.617295837833746,-2.563949857128453,-2.419118909249997,-2.577021938695806,-2.6882475738060303,-2.4079456086518722,-2.7806208939370456,-2.577021938695806,-2.5902671654458267,-2.703062659591171]},{\"axis\":{\"matches\":true},\"label\":\"free sulfur dioxide\",\"values\":[11.0,25.0,15.0,17.0,11.0,13.0,15.0,15.0,9.0,17.0,15.0,17.0,16.0,9.0,52.0,51.0,35.0,16.0,6.0,17.0,29.0,23.0,10.0,9.0,21.0,11.0,4.0,10.0,14.0,8.0,17.0,22.0,15.0,40.0,13.0,5.0,3.0,13.0,7.0,12.0,12.0,17.0,8.0,9.0,5.0,8.0,22.0,12.0,5.0,12.0,4.0,8.0,6.0,30.0,33.0,25.0,4.0,50.0,17.0,9.0,19.0,20.0,12.0,13.0,4.0,4.0,11.0,6.0,27.0,8.0,15.0,17.0,18.0,11.0,28.0,9.0,9.0,14.0,12.0,27.0,3.0,22.0,21.0,16.0,18.0,19.0,20.0,9.0,34.0,8.0,42.0,20.0,19.0,9.0,41.0,17.0,8.0,3.0,5.0,13.0,11.0,8.0,13.0,12.0,5.0,12.0,18.0,15.0,18.0,37.0,12.0,11.0,14.0,22.0,12.0,13.0,11.0,7.0,14.0,22.0,10.0,14.0,3.0,11.0,21.0,27.0,3.0,3.0,3.0,6.0,30.0,17.0,17.0,17.0,13.0,16.0,10.0,13.0,15.0,17.0,16.0,10.0,27.0,3.0,27.0,32.0,21.0,10.0,12.0,11.0,5.0,32.0,25.0,25.0,29.0,28.0,29.0,28.0,12.0,18.0,7.0,9.0,17.0,36.0,35.0,14.0,18.0,17.0,11.0,15.0,4.0,6.0,6.0,24.0,7.0,19.0,7.0,8.0,7.0,10.0,10.0,23.0,16.0,11.0,8.0,26.0,14.0,9.0,15.0,17.0,21.0,21.0,16.0,7.0,7.0,24.0,15.0,12.0,13.0,12.0,9.0,39.0,16.0,16.0,14.0,9.0,9.0,26.0,18.0,7.0,5.0,10.0,5.0,28.0,10.0,26.0,13.0,11.0,10.0,24.0,24.0,16.0,5.0,8.0,15.0,29.0,27.0,9.0,29.0,10.0,19.0,12.0,18.0,10.0,7.0,14.0,14.0,15.0,14.0,7.0,5.0,6.0,28.0,10.0,10.0,6.0,16.0,11.0,9.0,6.0,16.0,16.0,5.0,8.0,16.0,17.0,5.0,12.0,8.0,14.0,18.0,12.0,10.0,23.0,5.0,6.0,26.0,7.0,4.0,27.0,4.0,17.0,10.0,27.0,27.0,7.0,4.0,10.0,6.0,5.0,12.0,10.0,32.0,32.0,25.0,29.0,20.0,33.0,20.0,6.0,18.0,5.0,17.0,5.0,26.0,8.0,5.0,8.0,20.0,7.0,12.0,5.0,12.0,6.0,7.0,6.0,5.0,9.0,6.0,15.0,19.0,30.0,26.0,20.0,37.0,30.0,21.0,30.0,21.0,25.0,6.0,35.0,13.0,13.0,6.0,5.0,6.0,7.0,10.0,10.0,21.0,16.0,17.0,7.0,6.0,29.0,28.0,12.0,10.0,5.0,6.0,6.0,6.0,40.0,17.0,6.0,15.0,11.0,17.0,11.0,8.0,23.0,40.5,17.0,29.0,12.0,10.0,10.0,14.0,21.0,6.0,6.0,7.0,7.0,7.0,11.0,15.0,6.0,35.0,11.0,26.0,12.0,6.0,6.0,19.0,6.0,6.0,24.0,11.0,17.0,11.0,11.0,23.0,11.0,23.0,17.0,23.0,16.0,17.0,6.0,13.0,6.0,7.0,68.0,13.0,13.0,9.0,68.0,20.0,19.0,10.0,15.0,11.0,9.0,12.0,6.0,26.0,26.0,23.0,15.0,6.0,24.0,31.0,6.0,34.0,7.0,34.0,35.0,32.0,15.0,6.0,15.0,32.0,19.0,6.0,9.0,13.0,6.0,21.0,12.0,6.0,22.0,6.0,38.0,6.0,22.0,7.0,7.0,6.0,11.0,5.0,6.0,31.0,6.0,7.0,17.0,17.0,9.0,18.0,5.0,21.0,5.0,29.0,5.0,14.0,6.0,10.0,25.0,5.0,10.0,21.0,7.0,6.0,36.0,15.0,25.0,25.0,5.0,10.0,5.0,6.0,6.0,5.0,6.0,6.0,6.0,7.0,6.0,6.0,6.0,5.0,35.0,10.0,24.0,12.0,13.0,23.0,28.0,14.0,43.0,23.0,14.0,38.0,38.0,6.0,6.0,10.0,6.0,6.0,26.0,23.0,19.0,26.0,15.0,6.0,6.0,34.0,5.0,11.0,39.0,15.0,16.0,47.0,38.0,23.0,29.0,39.0,33.0,32.0,6.0,1.0,12.0,12.0,15.0,13.0,1.0,6.0,5.0,5.0,5.0,20.0,5.0,5.0,16.0,6.0,38.0,10.0,6.0,27.0,6.0,9.0,14.0,14.0,32.0,10.0,10.0,10.0,10.0,10.0,6.0,5.0,26.0,41.0,25.0,6.0,5.0,5.0,5.0,5.0,19.0,10.0,19.0,10.0,14.0,20.0,28.0,6.0,18.0,17.0,18.0,5.0,5.0,5.0,10.0,54.0,8.0,16.0,18.0,5.0,21.0,23.0,21.0,9.0,20.0,30.0,6.0,5.0,5.0,11.0,7.0,12.0,6.0,12.0,14.0,6.0,10.0,26.0,11.0,15.0,25.0,5.0,18.0,10.0,10.0,28.0,28.0,14.0,4.0,6.0,16.0,14.0,9.0,21.0,21.0,21.0,5.0,5.0,7.0,20.0,7.0,5.0,21.0,11.0,46.0,24.0,30.0,31.0,7.0,25.0,16.0,21.0,16.0,21.0,16.0,5.0,6.0,5.0,10.0,24.0,8.0,35.0,22.0,9.0,7.0,20.0,8.0,23.0,5.0,5.0,5.0,15.0,9.0,5.0,15.0,25.0,6.0,6.0,15.0,6.0,30.0,5.0,32.0,5.0,7.0,12.0,7.0,12.0,45.0,20.0,15.0,16.0,32.0,5.0,35.0,5.0,13.0,13.0,4.0,5.0,12.0,16.0,21.0,24.0,18.0,8.0,8.0,18.0,5.0,26.0,8.0,9.0,22.0,4.0,11.0,10.0,16.0,11.0,13.0,21.0,16.0,13.0,10.0,21.0,13.0,10.0,12.0,10.0,17.0,10.0,35.0,15.0,36.0,5.0,5.0,18.0,4.0,4.0,27.0,12.0,4.0,10.0,16.0,9.0,11.0,11.0,19.0,28.0,19.0,12.0,28.0,9.0,25.0,21.0,12.0,12.0,16.0,12.0,12.0,17.0,17.0,24.0,17.0,14.0,22.0,15.0,10.0,10.0,33.0,9.0,5.0,8.0,5.0,11.0,12.0,12.0,13.0,24.0,7.0,24.0,23.0,23.0,1.0,2.0,7.0,5.5,6.0,7.0,21.0,12.0,9.0,26.0,9.0,20.0,11.0,11.0,19.0,19.0,21.0,18.0,25.0,17.0,7.0,7.0,7.0,24.0,21.0,5.0,5.0,26.0,8.0,14.0,14.0,4.0,4.0,4.0,4.0,4.0,4.0,4.0,7.0,20.0,4.0,19.0,20.0,8.0,19.0,21.0,9.0,9.0,16.0,15.0,15.0,6.0,15.0,4.0,15.0,16.0,5.0,16.0,36.0,16.0,27.0,36.0,36.0,9.0,13.0,9.0,21.0,34.0,9.0,26.0,14.0,14.0,12.0,14.0,12.0,9.0,9.0,26.0,41.0,41.0,10.0,41.0,16.0,17.0,15.0,15.0,15.0,7.0,17.0,15.0,16.0,13.0,13.0,15.0,27.0,31.0,36.0,28.0,6.0,6.0,7.0,7.0,31.0,30.0,18.0,10.0,30.0,14.0,18.0,30.0,9.0,8.0,29.0,32.0,23.0,30.0,16.0,10.0,16.0,17.0,27.0,17.0,27.0,17.0,10.0,16.0,16.0,11.0,11.0,15.0,12.0,6.0,34.0,7.0,3.0,3.0,4.0,3.0,7.0,3.0,7.0,26.0,32.0,38.0,10.0,32.0,38.0,26.0,14.0,53.0,52.0,11.0,14.0,10.0,8.0,13.0,29.0,13.0,8.0,19.0,19.0,6.0,23.0,7.0,13.0,9.0,13.0,10.0,11.0,7.0,11.0,6.0,10.0,10.0,10.0,6.0,6.0,5.0,6.0,9.0,5.0,12.0,25.0,12.0,18.0,7.0,6.0,20.0,18.0,24.0,6.0,23.0,29.0,7.0,6.0,6.0,6.0,6.0,7.0,35.0,35.0,31.0,9.0,3.0,8.0,13.0,51.0,8.0,3.0,7.0,3.0,35.0,19.0,14.0,19.0,31.0,30.0,31.0,20.0,19.0,3.0,3.0,4.0,7.0,6.0,31.0,13.0,4.0,27.0,4.0,13.0,12.0,12.0,26.0,7.0,12.0,11.0,22.0,3.0,14.0,12.0,36.0,36.0,10.0,3.0,3.0,4.0,3.0,12.0,17.0,14.0,28.0,41.0,12.0,9.0,9.0,5.0,14.0,15.0,5.0,26.0,20.0,25.0,21.0,16.0,13.0,21.0,18.0,12.0,32.0,33.0,27.0,3.0,6.0,27.0,16.0,19.0,9.0,5.0,5.0,3.0,28.0,30.0,3.0,3.0,6.0,6.0,5.0,6.0,13.0,3.0,3.0,28.0,19.0,30.0,33.0,16.0,30.0,45.0,3.0,3.0,3.0,37.5,3.0,37.5,31.0,32.0,31.0,40.0,3.0,18.0,22.0,22.0,8.0,10.0,11.0,9.0,6.0,9.0,5.0,5.0,5.0,23.0,14.0,18.0,14.0,16.0,13.0,9.0,10.0,4.0,27.0,6.0,23.0,6.0,3.0,29.0,15.0,15.0,15.0,14.0,7.0,21.0,27.0,17.0,3.0,13.0,3.0,26.0,28.0,24.0,5.0,57.0,18.0,10.0,6.0,22.0,6.0,6.0,29.0,16.0,33.0,24.0,6.0,16.0,35.0,31.0,6.0,6.0,9.0,6.0,4.0,16.0,9.0,17.0,50.0,9.0,45.0,16.0,22.0,11.0,6.0,12.0,12.0,10.0,10.0,15.0,7.0,29.0,8.0,5.0,5.0,26.0,5.0,26.0,26.0,48.0,23.0,6.0,17.0,11.0,11.0,5.0,41.0,16.0,11.0,6.0,6.0,6.0,11.0,5.0,6.0,6.0,11.0,6.0,15.0,21.0,23.0,4.0,19.0,23.0,4.0,5.0,33.0,24.0,24.0,24.0,24.0,24.0,14.0,8.0,22.0,8.0,5.0,6.0,20.0,10.0,43.0,8.0,25.0,17.0,17.0,33.0,9.0,8.0,18.0,27.0,8.0,18.0,19.0,15.0,48.0,19.0,14.0,11.0,6.0,7.0,11.0,12.0,11.0,36.0,28.0,15.0,10.0,72.0,15.0,15.0,15.0,22.0,24.0,24.0,27.0,6.0,6.0,20.0,26.0,43.0,12.0,15.0,15.0,19.0,17.0,34.0,13.0,26.0,16.0,16.0,13.0,21.0,26.0,24.0,25.0,34.0,17.0,13.0,3.0,3.0,13.0,3.0,28.0,28.0,9.0,17.0,18.0,20.0,17.0,3.0,20.0,20.0,6.0,25.0,14.0,6.0,25.0,51.0,51.0,15.0,11.0,15.0,20.0,4.0,28.0,21.0,24.0,22.0,15.0,22.0,27.0,24.0,12.0,14.0,20.0,24.0,17.0,16.0,10.0,17.0,18.0,12.0,16.0,9.0,21.0,18.0,18.0,18.0,18.0,13.0,17.0,17.0,31.0,6.0,12.0,4.0,19.0,15.0,15.0,15.0,13.0,13.0,13.0,17.0,13.0,8.0,10.0,5.0,7.0,7.0,21.0,32.0,8.0,14.0,14.0,7.0,5.0,4.0,27.0,52.0,6.0,11.0,13.0,6.0,11.0,10.0,10.0,10.0,9.0,16.0,4.0,12.0,5.0,12.0,34.0,13.0,7.0,23.0,10.0,11.0,11.0,4.0,25.0,25.0,20.0,34.0,8.0,8.0,7.0,36.0,15.0,5.0,5.0,19.0,27.0,3.0,4.0,17.0,13.0,10.0,33.0,33.0,6.0,12.0,18.0,8.0,40.0,35.0,40.0,5.0,8.0,8.0,12.0,3.0,8.0,3.0,21.0,3.0,32.0,3.0,24.0,39.0,14.0,8.0,8.0,23.0,6.0,27.0,38.0,18.0,13.0,3.0,11.0,55.0,55.0,27.0,15.0,3.0,31.0,15.0,19.0,18.0,8.0,31.0,19.0,18.0,22.0,40.0,15.0,8.0,37.0,27.0,7.0,9.0,38.0,27.0,8.0,7.0,34.0,6.0,14.0,14.0,34.0,34.0,31.0,19.0,31.0,8.0,8.0,23.0,14.0,48.0,16.0,48.0,16.0,10.0,6.0,10.0,3.0,6.0,4.0,8.0,9.0,9.0,5.0,4.0,8.0,5.0,6.0,23.0,15.0,15.0,23.0,7.0,7.0,7.0,8.0,21.0,15.0,6.0,5.0,6.0,5.0,17.0,7.0,26.0,19.0,11.0,17.0,16.0,16.0,23.0,29.0,7.0,14.0,29.0,9.0,23.0,29.0,22.0,18.0,18.0,15.0,21.0,42.0,9.0,13.0,18.0,32.0,13.0,15.0,24.0,20.0,15.0,34.0,11.0,19.0,29.0,14.0,12.0,16.0,17.0,12.0,19.0,17.0,18.0,32.0,18.0,15.0,15.0,12.0,15.0,66.0,31.0,31.0,31.0,12.0,12.0,12.0,26.0,24.0,12.0,25.0,15.0,19.0,15.0,35.0,15.0,23.0,12.0,16.0,13.0,13.0,24.0,9.0,24.0,13.0,32.0,24.0,22.0,34.0,18.0,34.0,29.0,26.0,16.0,29.0,28.0,32.0,39.0,29.0,32.0,18.0]},{\"axis\":{\"matches\":true},\"label\":\"total sulfur dioxide\",\"values\":[3.5263605246161616,4.204692619390966,3.9889840465642745,4.0943445622221,3.5263605246161616,3.6888794541139363,4.07753744390572,3.044522437723423,2.8903717578961645,4.624972813284271,4.174387269895637,4.624972813284271,4.07753744390572,3.367295829986474,4.976733742420574,4.997212273764115,4.634728988229636,4.02535169073515,3.367295829986474,4.02535169073515,4.0943445622221,4.2626798770413155,3.6109179126442243,4.204692619390966,3.6888794541139363,3.1354942159291497,2.3978952727983707,3.6109179126442243,3.5553480614894135,2.772588722239781,4.406719247264253,3.6109179126442243,4.727387818712341,4.418840607796598,3.912023005428146,2.8903717578961645,2.70805020110221,3.4011973816621555,2.9444389791664403,4.465908118654584,4.465908118654584,3.828641396489095,2.6390573296152584,3.1354942159291497,2.3978952727983707,4.174387269895637,4.736198448394496,3.6109179126442243,2.4849066497880004,4.564348191467836,3.1354942159291497,2.70805020110221,2.6390573296152584,4.77912349311153,4.290459441148391,3.8066624897703196,2.302585092994046,4.700480365792417,3.9889840465642745,3.828641396489095,3.9512437185814275,4.718498871295094,3.5553480614894135,3.9889840465642745,2.3978952727983707,2.3978952727983707,3.6635616461296463,2.70805020110221,4.174387269895637,2.9444389791664403,3.295836866004329,4.564348191467836,4.543294782270004,3.7612001156935624,4.418840607796598,3.7376696182833684,3.7376696182833684,3.4011973816621555,4.382026634673881,4.77912349311153,2.70805020110221,4.204692619390966,4.290459441148391,3.9318256327243257,4.110873864173311,3.6888794541139363,4.912654885736052,3.4339872044851463,4.8283137373023015,3.1780538303479458,4.941642422609304,4.912654885736052,4.890349128221754,3.4339872044851463,4.442651256490317,4.663439094112067,3.1354942159291497,3.091042453358316,2.302585092994046,3.5553480614894135,3.912023005428146,3.091042453358316,3.5553480614894135,4.174387269895637,3.58351893845611,4.174387269895637,4.23410650459726,4.1588830833596715,4.382026634673881,5.030437921392435,3.8501476017100584,4.68213122712422,4.709530201312334,3.828641396489095,3.8501476017100584,4.127134385045092,3.6888794541139363,3.332204510175204,4.02535169073515,4.48863636973214,4.48863636973214,4.02535169073515,2.5649493574615367,3.5263605246161616,4.624972813284271,4.499809670330265,2.4849066497880004,2.4849066497880004,2.772588722239781,2.9444389791664403,4.897839799950911,4.59511985013459,4.59511985013459,3.258096538021482,3.367295829986474,4.143134726391533,3.9512437185814275,3.8066624897703196,4.653960350157523,4.68213122712422,4.143134726391533,3.9512437185814275,4.143134726391533,2.995732273553991,4.143134726391533,4.948759890378168,4.543294782270004,4.477336814478207,3.4011973816621555,3.7612001156935624,2.3978952727983707,4.23410650459726,4.59511985013459,4.59511985013459,4.859812404361672,4.852030263919617,4.859812404361672,4.852030263919617,3.091042453358316,4.454347296253507,2.995732273553991,2.995732273553991,3.4339872044851463,4.795790545596741,4.795790545596741,4.564348191467836,4.61512051684126,3.7376696182833684,3.784189633918261,4.143134726391533,2.0794415416798357,2.8903717578961645,2.8903717578961645,3.7376696182833684,3.5553480614894135,3.8918202981106265,3.5553480614894135,3.6375861597263857,2.995732273553991,3.7376696182833684,3.7376696182833684,4.700480365792417,3.7376696182833684,4.174387269895637,4.127134385045092,4.442651256490317,4.204692619390966,3.258096538021482,4.962844630259907,4.969813299576001,4.844187086458591,3.8918202981106265,4.836281906951478,3.332204510175204,3.332204510175204,4.787491742782046,4.007333185232471,3.295836866004329,4.532599493153256,3.4339872044851463,3.1780538303479458,4.976733742420574,3.8918202981106265,3.6635616461296463,3.6109179126442243,3.332204510175204,3.332204510175204,4.787491742782046,4.553876891600541,2.9444389791664403,2.9444389791664403,4.127134385045092,2.70805020110221,4.174387269895637,3.713572066704308,4.795790545596741,3.8918202981106265,3.713572066704308,3.784189633918261,4.969813299576001,4.060443010546419,4.276666119016055,2.302585092994046,3.332204510175204,4.007333185232471,4.143134726391533,4.394449154672439,3.1354942159291497,4.143134726391533,3.6109179126442243,4.663439094112067,3.8918202981106265,4.060443010546419,3.6109179126442243,3.6109179126442243,3.6375861597263857,3.6375861597263857,3.6635616461296463,3.6375861597263857,3.6109179126442243,4.127134385045092,3.1780538303479458,4.6913478822291435,3.1780538303479458,3.1780538303479458,3.1354942159291497,3.9318256327243257,4.290459441148391,3.6635616461296463,3.1354942159291497,3.6109179126442243,3.5263605246161616,3.044522437723423,4.454347296253507,3.5263605246161616,4.77912349311153,2.5649493574615367,4.02535169073515,3.8066624897703196,3.4965075614664802,3.8066624897703196,4.204692619390966,3.5553480614894135,3.8918202981106265,3.295836866004329,2.302585092994046,4.110873864173311,3.295836866004329,3.1354942159291497,4.110873864173311,3.1354942159291497,4.174387269895637,3.6375861597263857,4.543294782270004,4.110873864173311,3.295836866004329,3.1354942159291497,3.8501476017100584,2.9444389791664403,2.302585092994046,3.970291913552122,3.8501476017100584,4.2626798770413155,4.2626798770413155,3.8918202981106265,3.970291913552122,3.8918202981106265,4.584967478670572,3.8918202981106265,2.8903717578961645,3.871201010907891,2.772588722239781,3.970291913552122,3.295836866004329,4.248495242049359,3.367295829986474,3.4339872044851463,3.4965075614664802,3.784189633918261,2.70805020110221,3.332204510175204,3.044522437723423,4.499809670330265,3.2188758248682006,3.9889840465642745,2.6390573296152584,2.4849066497880004,3.4011973816621555,3.2188758248682006,4.653960350157523,4.584967478670572,4.90527477843843,4.276666119016055,3.970291913552122,4.5217885770490405,4.30406509320417,4.07753744390572,4.30406509320417,4.07753744390572,4.465908118654584,2.8903717578961645,4.290459441148391,3.912023005428146,3.912023005428146,2.6390573296152584,2.5649493574615367,3.044522437723423,2.70805020110221,3.713572066704308,3.713572066704308,4.736198448394496,3.784189633918261,3.6375861597263857,3.044522437723423,2.772588722239781,4.060443010546419,4.59511985013459,3.367295829986474,3.044522437723423,2.8903717578961645,2.6390573296152584,2.6390573296152584,3.4657359027997265,4.143134726391533,3.5263605246161616,2.70805020110221,3.828641396489095,3.332204510175204,3.5263605246161616,3.258096538021482,2.9444389791664403,4.343805421853684,5.10594547390058,3.4657359027997265,4.007333185232471,3.367295829986474,3.1354942159291497,3.713572066704308,4.394449154672439,3.912023005428146,3.6109179126442243,2.70805020110221,3.7376696182833684,3.044522437723423,3.7376696182833684,3.1780538303479458,4.31748811353631,2.8903717578961645,4.143134726391533,3.2188758248682006,3.828641396489095,4.276666119016055,3.8501476017100584,2.70805020110221,3.8501476017100584,2.8903717578961645,3.1780538303479458,4.0943445622221,3.295836866004329,3.7612001156935624,3.295836866004329,3.295836866004329,3.9889840465642745,3.6109179126442243,3.871201010907891,3.7376696182833684,3.970291913552122,3.8918202981106265,3.7612001156935624,3.258096538021482,4.553876891600541,3.2188758248682006,3.6375861597263857,4.820281565605037,3.8918202981106265,3.8918202981106265,3.7376696182833684,4.820281565605037,3.6375861597263857,4.1588830833596715,3.713572066704308,3.295836866004329,3.2188758248682006,3.332204510175204,3.4011973816621555,2.772588722239781,3.8918202981106265,4.454347296253507,4.356708826689592,4.343805421853684,2.9444389791664403,4.804021044733257,4.897839799950911,2.995732273553991,4.820281565605037,2.995732273553991,3.9512437185814275,4.204692619390966,3.871201010907891,4.0943445622221,3.1780538303479458,4.0943445622221,3.871201010907891,3.871201010907891,3.4657359027997265,3.4011973816621555,3.5553480614894135,3.1780538303479458,4.189654742026425,3.1780538303479458,2.8903717578961645,3.9889840465642745,2.8903717578961645,4.127134385045092,3.091042453358316,3.9889840465642745,3.912023005428146,3.295836866004329,3.7612001156935624,2.9444389791664403,3.295836866004329,3.4339872044851463,4.276666119016055,2.772588722239781,3.295836866004329,3.5553480614894135,3.5553480614894135,3.258096538021482,3.5553480614894135,3.091042453358316,4.204692619390966,3.091042453358316,4.174387269895637,3.091042453358316,3.1354942159291497,2.9444389791664403,3.2188758248682006,4.859812404361672,2.70805020110221,3.258096538021482,3.9318256327243257,2.8903717578961645,3.044522437723423,3.871201010907891,3.8501476017100584,3.9512437185814275,4.219507705176107,2.6390573296152584,3.1780538303479458,3.332204510175204,2.772588722239781,2.995732273553991,3.332204510175204,3.4339872044851463,3.1354942159291497,2.8903717578961645,2.8903717578961645,3.1780538303479458,2.833213344056216,2.833213344056216,2.6390573296152584,4.204692619390966,3.258096538021482,4.02535169073515,3.2188758248682006,3.295836866004329,4.394449154672439,4.51085950651685,3.6375861597263857,4.727387818712341,4.394449154672439,3.6375861597263857,4.330733340286331,4.330733340286331,3.1780538303479458,3.091042453358316,3.258096538021482,3.044522437723423,2.5649493574615367,4.127134385045092,3.7612001156935624,3.7612001156935624,4.127134385045092,3.8918202981106265,2.70805020110221,2.70805020110221,5.017279836814924,2.6390573296152584,3.4657359027997265,4.663439094112067,3.4965075614664802,3.7612001156935624,4.890349128221754,4.955827057601261,4.7535901911063645,3.970291913552122,4.663439094112067,4.442651256490317,4.007333185232471,3.4965075614664802,3.332204510175204,3.7376696182833684,3.7376696182833684,3.4965075614664802,3.4657359027997265,3.332204510175204,3.4965075614664802,2.5649493574615367,3.5553480614894135,2.833213344056216,3.8501476017100584,2.833213344056216,2.995732273553991,3.970291913552122,2.70805020110221,4.663439094112067,3.332204510175204,3.044522437723423,4.23410650459726,3.2188758248682006,3.2188758248682006,3.8066624897703196,3.784189633918261,4.564348191467836,3.1354942159291497,3.1354942159291497,2.833213344056216,3.1354942159291497,2.833213344056216,3.8501476017100584,2.9444389791664403,4.795790545596741,4.700480365792417,4.0943445622221,3.8501476017100584,2.9444389791664403,2.70805020110221,2.70805020110221,2.995732273553991,3.7376696182833684,3.6109179126442243,3.7376696182833684,3.332204510175204,3.8501476017100584,4.356708826689592,3.828641396489095,2.6390573296152584,4.709530201312334,4.700480365792417,3.6888794541139363,2.6390573296152584,2.6390573296152584,2.70805020110221,3.044522437723423,4.382026634673881,3.6375861597263857,3.8501476017100584,4.624972813284271,2.5649493574615367,4.31748811353631,5.003946305945459,4.31748811353631,3.7612001156935624,3.6375861597263857,4.6913478822291435,3.1780538303479458,2.8903717578961645,3.4011973816621555,3.091042453358316,3.1354942159291497,3.5553480614894135,2.6390573296152584,3.5553480614894135,4.143134726391533,3.1780538303479458,2.995732273553991,3.9512437185814275,4.174387269895637,3.6635616461296463,4.04305126783455,2.772588722239781,3.367295829986474,3.367295829986474,4.634728988229636,4.2626798770413155,4.2626798770413155,3.332204510175204,2.833213344056216,2.772588722239781,4.718498871295094,4.6443908991413725,3.4657359027997265,3.8066624897703196,4.060443010546419,4.060443010546419,2.70805020110221,2.70805020110221,3.4339872044851463,4.430816798843313,3.4339872044851463,2.9444389791664403,3.7612001156935624,4.454347296253507,4.624972813284271,3.4965075614664802,4.990432586778736,4.976733742420574,3.1354942159291497,4.04305126783455,3.6888794541139363,4.219507705176107,3.6888794541139363,4.219507705176107,3.6888794541139363,2.3978952727983707,2.995732273553991,2.6390573296152584,3.332204510175204,4.997212273764115,3.4657359027997265,5.043425116919247,4.2626798770413155,3.4011973816621555,3.367295829986474,3.970291913552122,3.4657359027997265,3.7376696182833684,2.995732273553991,2.5649493574615367,2.995732273553991,3.7376696182833684,3.295836866004329,2.5649493574615367,3.9889840465642745,3.871201010907891,2.772588722239781,2.70805020110221,3.4339872044851463,2.70805020110221,3.8066624897703196,2.5649493574615367,5.017279836814924,2.5649493574615367,2.833213344056216,3.4339872044851463,2.833213344056216,3.4339872044851463,4.465908118654584,3.8918202981106265,3.6888794541139363,3.367295829986474,4.060443010546419,2.70805020110221,5.0238805208462765,2.70805020110221,3.6888794541139363,3.6375861597263857,2.1972245773362196,2.833213344056216,4.532599493153256,4.127134385045092,4.804021044733257,4.8283137373023015,3.784189633918261,3.2188758248682006,3.2188758248682006,4.276666119016055,2.9444389791664403,4.477336814478207,3.2188758248682006,3.1354942159291497,4.430816798843313,2.6390573296152584,3.9889840465642745,2.9444389791664403,3.6109179126442243,3.5553480614894135,3.4965075614664802,4.430816798843313,4.718498871295094,3.4965075614664802,3.871201010907891,4.343805421853684,3.5263605246161616,3.871201010907891,3.8918202981106265,3.091042453358316,3.8066624897703196,3.091042453358316,4.663439094112067,3.871201010907891,4.844187086458591,2.4849066497880004,2.5649493574615367,3.8918202981106265,2.3978952727983707,2.3978952727983707,4.060443010546419,3.6109179126442243,2.6390573296152584,2.9444389791664403,4.276666119016055,3.6635616461296463,3.091042453358316,3.091042453358316,4.060443010546419,4.6443908991413725,3.6375861597263857,2.772588722239781,4.9344739331306915,2.8903717578961645,4.61512051684126,4.61512051684126,3.332204510175204,4.04305126783455,4.219507705176107,3.4339872044851463,3.332204510175204,3.6888794541139363,3.6888794541139363,4.189654742026425,3.6888794541139363,3.4657359027997265,3.8501476017100584,3.4965075614664802,3.4339872044851463,3.4339872044851463,4.477336814478207,4.6443908991413725,3.5553480614894135,2.9444389791664403,3.5553480614894135,3.784189633918261,3.871201010907891,4.30406509320417,4.584967478670572,4.543294782270004,3.4657359027997265,4.543294782270004,4.962844630259907,4.969813299576001,3.784189633918261,3.8066624897703196,2.772588722239781,3.871201010907891,2.8903717578961645,3.5263605246161616,4.5217885770490405,3.8066624897703196,3.6109179126442243,4.564348191467836,3.6109179126442243,4.442651256490317,4.110873864173311,4.110873864173311,4.060443010546419,4.060443010546419,4.77912349311153,4.406719247264253,4.867534450455582,4.465908118654584,2.5649493574615367,3.258096538021482,4.0943445622221,4.1588830833596715,3.7376696182833684,2.6390573296152584,2.6390573296152584,4.68213122712422,2.833213344056216,4.454347296253507,3.828641396489095,2.8903717578961645,2.302585092994046,2.302585092994046,2.302585092994046,2.4849066497880004,2.70805020110221,2.6390573296152584,3.1780538303479458,3.6375861597263857,1.9459101490553132,3.713572066704308,3.6375861597263857,3.4011973816621555,3.295836866004329,3.8501476017100584,4.07753744390572,3.091042453358316,3.7376696182833684,3.58351893845611,3.58351893845611,2.772588722239781,3.6109179126442243,2.0794415416798357,3.6109179126442243,3.1780538303479458,2.1972245773362196,3.1780538303479458,3.9318256327243257,3.1354942159291497,4.007333185232471,4.605170185988092,4.605170185988092,3.332204510175204,3.258096538021482,3.5263605246161616,3.4339872044851463,4.219507705176107,4.5217885770490405,3.7376696182833684,3.4339872044851463,3.4339872044851463,3.6635616461296463,3.4339872044851463,3.4657359027997265,3.091042453358316,3.091042453358316,4.804021044733257,4.007333185232471,4.007333185232471,2.6390573296152584,4.007333185232471,3.8501476017100584,3.4657359027997265,3.1780538303479458,4.442651256490317,4.477336814478207,3.2188758248682006,4.430816798843313,4.442651256490317,4.454347296253507,3.1780538303479458,3.091042453358316,3.1780538303479458,3.7612001156935624,3.7612001156935624,3.828641396489095,3.871201010907891,2.302585092994046,2.302585092994046,2.772588722239781,2.6390573296152584,3.7612001156935624,4.23410650459726,4.477336814478207,3.044522437723423,3.5553480614894135,3.258096538021482,4.477336814478207,4.23410650459726,3.4011973816621555,3.332204510175204,4.02535169073515,4.1588830833596715,4.59511985013459,3.9512437185814275,4.454347296253507,2.8903717578961645,4.454347296253507,4.477336814478207,3.7612001156935624,3.7612001156935624,3.7612001156935624,3.7612001156935624,3.6635616461296463,3.4965075614664802,3.4965075614664802,2.8903717578961645,2.8903717578961645,4.74493212836325,4.356708826689592,2.1972245773362196,4.110873864173311,2.3978952727983707,2.3978952727983707,2.1972245773362196,2.0794415416798357,2.302585092994046,2.3978952727983707,1.791759469228055,4.127134385045092,3.8066624897703196,4.3694478524670215,3.828641396489095,3.1354942159291497,4.3694478524670215,3.828641396489095,3.8066624897703196,3.332204510175204,4.343805421853684,4.290459441148391,4.31748811353631,3.332204510175204,2.9444389791664403,3.2188758248682006,3.6375861597263857,4.189654742026425,3.6375861597263857,3.2188758248682006,4.276666119016055,4.276666119016055,3.258096538021482,3.7376696182833684,2.3978952727983707,3.2188758248682006,2.833213344056216,3.9512437185814275,3.8066624897703196,3.1780538303479458,2.995732273553991,3.1780538303479458,2.4849066497880004,3.044522437723423,3.044522437723423,3.044522437723423,2.4849066497880004,2.302585092994046,2.1972245773362196,2.3978952727983707,3.1354942159291497,2.302585092994046,3.9318256327243257,3.58351893845611,3.4657359027997265,3.6375861597263857,2.8903717578961645,2.772588722239781,3.295836866004329,3.6375861597263857,3.871201010907891,2.302585092994046,4.727387818712341,3.828641396489095,3.091042453358316,2.302585092994046,2.302585092994046,2.5649493574615367,2.4849066497880004,2.5649493574615367,4.276666119016055,4.276666119016055,4.77912349311153,3.367295829986474,1.791759469228055,2.833213344056216,3.332204510175204,4.248495242049359,2.833213344056216,1.791759469228055,2.3978952727983707,1.9459101490553132,4.248495242049359,3.295836866004329,3.044522437723423,3.295836866004329,4.219507705176107,3.8501476017100584,4.219507705176107,4.477336814478207,3.713572066704308,2.3978952727983707,2.3978952727983707,2.302585092994046,2.4849066497880004,2.4849066497880004,3.8501476017100584,3.295836866004329,2.0794415416798357,3.8066624897703196,2.0794415416798357,3.295836866004329,3.2188758248682006,3.1780538303479458,4.007333185232471,2.4849066497880004,2.9444389791664403,3.4657359027997265,3.4339872044851463,1.9459101490553132,3.295836866004329,3.332204510175204,4.6913478822291435,4.6913478822291435,3.1354942159291497,2.0794415416798357,2.0794415416798357,2.1972245773362196,2.1972245773362196,2.8903717578961645,3.7612001156935624,3.58351893845611,3.9512437185814275,4.219507705176107,2.8903717578961645,2.6390573296152584,2.70805020110221,2.6390573296152584,3.295836866004329,3.871201010907891,2.833213344056216,3.5553480614894135,4.02535169073515,3.7376696182833684,3.6635616461296463,3.4657359027997265,3.258096538021482,3.6635616461296463,3.6635616461296463,3.970291913552122,3.6375861597263857,3.8066624897703196,3.9318256327243257,2.6390573296152584,2.833213344056216,3.9318256327243257,3.8066624897703196,3.2188758248682006,2.995732273553991,4.343805421853684,4.343805421853684,2.302585092994046,4.499809670330265,3.9512437185814275,2.302585092994046,2.0794415416798357,2.70805020110221,2.833213344056216,2.302585092994046,2.995732273553991,3.258096538021482,2.302585092994046,2.302585092994046,3.9512437185814275,3.6109179126442243,4.5217885770490405,4.31748811353631,3.6109179126442243,4.5217885770490405,4.204692619390966,2.0794415416798357,2.0794415416798357,2.0794415416798357,5.627621113690637,2.0794415416798357,5.666426688112432,4.248495242049359,4.07753744390572,4.248495242049359,4.1588830833596715,2.1972245773362196,3.4011973816621555,3.713572066704308,3.713572066704308,2.9444389791664403,2.772588722239781,3.4339872044851463,2.833213344056216,2.995732273553991,2.833213344056216,2.8903717578961645,2.772588722239781,2.8903717578961645,3.58351893845611,3.2188758248682006,3.4011973816621555,3.2188758248682006,3.2188758248682006,3.8918202981106265,2.833213344056216,3.1780538303479458,2.5649493574615367,4.189654742026425,2.6390573296152584,4.007333185232471,3.5553480614894135,2.302585092994046,4.382026634673881,3.044522437723423,3.044522437723423,3.044522437723423,3.1780538303479458,2.70805020110221,3.332204510175204,3.4965075614664802,3.367295829986474,2.5649493574615367,3.295836866004329,2.3978952727983707,3.9512437185814275,4.48863636973214,4.248495242049359,2.302585092994046,4.90527477843843,3.6375861597263857,2.8903717578961645,2.70805020110221,3.912023005428146,2.5649493574615367,2.5649493574615367,4.543294782270004,4.454347296253507,4.3694478524670215,4.2626798770413155,2.4849066497880004,2.995732273553991,4.248495242049359,3.9318256327243257,3.044522437723423,2.6390573296152584,3.044522437723423,2.3978952727983707,2.4849066497880004,4.248495242049359,3.6375861597263857,3.6375861597263857,4.143134726391533,3.6375861597263857,4.477336814478207,4.61512051684126,3.9889840465642745,3.6109179126442243,2.995732273553991,3.044522437723423,2.9444389791664403,3.044522437723423,3.044522437723423,3.6375861597263857,4.0943445622221,3.871201010907891,3.784189633918261,2.6390573296152584,2.4849066497880004,3.784189633918261,2.772588722239781,4.174387269895637,4.174387269895637,4.07753744390572,3.8501476017100584,2.3978952727983707,4.356708826689592,3.8501476017100584,3.8501476017100584,2.3978952727983707,3.9889840465642745,4.110873864173311,4.77912349311153,3.6635616461296463,2.4849066497880004,3.6635616461296463,4.77912349311153,2.9444389791664403,2.995732273553991,2.4849066497880004,3.713572066704308,2.4849066497880004,4.1588830833596715,4.02535169073515,4.543294782270004,2.1972245773362196,4.343805421853684,4.543294782270004,2.1972245773362196,2.302585092994046,4.330733340286331,3.784189633918261,3.784189633918261,3.784189633918261,3.9512437185814275,3.784189633918261,3.1780538303479458,2.70805020110221,3.970291913552122,2.70805020110221,2.5649493574615367,2.1972245773362196,3.367295829986474,4.3694478524670215,4.30406509320417,3.1780538303479458,3.912023005428146,3.784189633918261,3.784189633918261,4.48863636973214,3.1354942159291497,2.995732273553991,4.343805421853684,3.828641396489095,3.044522437723423,4.477336814478207,4.189654742026425,4.060443010546419,4.499809670330265,4.189654742026425,3.58351893845611,2.8903717578961645,4.727387818712341,2.833213344056216,2.8903717578961645,3.1780538303479458,2.995732273553991,4.0943445622221,4.174387269895637,3.6888794541139363,4.454347296253507,5.075173815233827,3.5263605246161616,3.871201010907891,3.5263605246161616,3.58351893845611,3.6109179126442243,3.6109179126442243,4.0943445622221,2.6390573296152584,2.5649493574615367,3.5553480614894135,3.828641396489095,4.0943445622221,4.23410650459726,3.4965075614664802,3.4965075614664802,4.02535169073515,3.1780538303479458,4.189654742026425,3.258096538021482,3.9318256327243257,3.58351893845611,3.58351893845611,2.9444389791664403,3.9318256327243257,4.0943445622221,4.1588830833596715,3.784189633918261,3.784189633918261,3.58351893845611,4.394449154672439,2.302585092994046,2.302585092994046,4.394449154672439,2.1972245773362196,3.9889840465642745,3.9889840465642745,3.091042453358316,4.23410650459726,3.58351893845611,3.8501476017100584,3.4339872044851463,1.9459101490553132,4.700480365792417,4.700480365792417,2.4849066497880004,4.0943445622221,3.332204510175204,2.4849066497880004,4.0943445622221,4.350277936359301,4.350277936359301,3.367295829986474,2.8903717578961645,3.332204510175204,4.04305126783455,2.70805020110221,4.219507705176107,4.219507705176107,4.477336814478207,4.51085950651685,3.367295829986474,4.51085950651685,4.143134726391533,4.477336814478207,3.295836866004329,3.713572066704308,4.174387269895637,4.23410650459726,4.51085950651685,3.828641396489095,3.713572066704308,4.51085950651685,4.1588830833596715,4.477336814478207,3.828641396489095,2.8903717578961645,4.007333185232471,3.5263605246161616,3.5263605246161616,3.5263605246161616,3.5263605246161616,3.6375861597263857,4.51085950651685,4.51085950651685,4.204692619390966,3.2188758248682006,3.871201010907891,2.3978952727983707,3.6888794541139363,3.258096538021482,3.258096538021482,3.258096538021482,3.4339872044851463,3.4339872044851463,3.4339872044851463,3.4339872044851463,3.4339872044851463,2.995732273553991,3.332204510175204,2.5649493574615367,2.4849066497880004,2.4849066497880004,3.713572066704308,4.290459441148391,3.828641396489095,4.04305126783455,4.04305126783455,3.332204510175204,3.4657359027997265,3.332204510175204,4.204692619390966,4.584967478670572,3.332204510175204,3.6375861597263857,3.9889840465642745,3.332204510175204,4.143134726391533,3.4339872044851463,3.7376696182833684,3.8066624897703196,4.653960350157523,4.30406509320417,2.0794415416798357,4.189654742026425,2.6390573296152584,4.189654742026425,4.48863636973214,4.605170185988092,3.4339872044851463,4.30406509320417,3.332204510175204,3.5553480614894135,3.5553480614894135,3.2188758248682006,4.653960350157523,4.653960350157523,4.430816798843313,4.442651256490317,3.1354942159291497,3.1354942159291497,3.8918202981106265,4.709530201312334,3.4965075614664802,3.4965075614664802,2.4849066497880004,4.07753744390572,4.290459441148391,2.4849066497880004,2.3978952727983707,4.6443908991413725,3.332204510175204,3.1780538303479458,4.948759890378168,4.948759890378168,3.1780538303479458,3.828641396489095,3.5263605246161616,3.091042453358316,3.9889840465642745,3.970291913552122,3.9889840465642745,2.772588722239781,2.9444389791664403,3.091042453358316,4.48863636973214,2.70805020110221,2.8903717578961645,2.70805020110221,3.6109179126442243,2.9444389791664403,4.890349128221754,2.9444389791664403,4.060443010546419,4.007333185232471,3.4339872044851463,3.1354942159291497,3.1354942159291497,4.0943445622221,3.1354942159291497,4.007333185232471,4.204692619390966,3.8501476017100584,4.30406509320417,2.3978952727983707,3.2188758248682006,4.553876891600541,4.553876891600541,4.499809670330265,3.6635616461296463,2.0794415416798357,4.5217885770490405,3.332204510175204,4.584967478670572,3.4011973816621555,3.091042453358316,4.5217885770490405,4.584967478670572,3.4011973816621555,3.6635616461296463,3.9889840465642745,3.332204510175204,2.833213344056216,3.970291913552122,4.442651256490317,3.1354942159291497,2.833213344056216,4.48863636973214,4.442651256490317,2.995732273553991,2.70805020110221,4.1588830833596715,2.5649493574615367,3.4339872044851463,3.6635616461296463,3.970291913552122,3.970291913552122,3.9889840465642745,3.4657359027997265,3.9889840465642745,3.1780538303479458,2.772588722239781,3.784189633918261,3.8066624897703196,4.406719247264253,4.48863636973214,4.406719247264253,4.48863636973214,3.091042453358316,2.5649493574615367,3.091042453358316,2.1972245773362196,2.4849066497880004,2.3978952727983707,3.2188758248682006,3.1354942159291497,2.833213344056216,2.5649493574615367,2.3978952727983707,2.8903717578961645,2.5649493574615367,2.8903717578961645,4.990432586778736,3.332204510175204,3.332204510175204,4.990432586778736,2.772588722239781,2.5649493574615367,2.772588722239781,2.70805020110221,4.1588830833596715,4.0943445622221,2.6390573296152584,2.4849066497880004,2.6390573296152584,2.4849066497880004,3.2188758248682006,2.995732273553991,3.871201010907891,3.295836866004329,2.833213344056216,4.174387269895637,4.174387269895637,4.174387269895637,4.060443010546419,3.784189633918261,2.995732273553991,3.295836866004329,3.784189633918261,3.1354942159291497,4.060443010546419,4.110873864173311,3.8501476017100584,3.5263605246161616,3.6375861597263857,3.1780538303479458,4.07753744390572,3.9512437185814275,2.8903717578961645,3.332204510175204,3.091042453358316,4.430816798843313,3.367295829986474,3.5553480614894135,3.8066624897703196,3.4339872044851463,3.258096538021482,4.0943445622221,3.4657359027997265,3.8918202981106265,3.6375861597263857,2.9444389791664403,2.9444389791664403,3.332204510175204,3.258096538021482,3.258096538021482,3.912023005428146,3.258096538021482,3.295836866004329,3.9889840465642745,3.332204510175204,3.1354942159291497,3.1780538303479458,2.995732273553991,3.1354942159291497,4.74493212836325,4.875197323201151,4.875197323201151,4.875197323201151,2.995732273553991,2.995732273553991,2.995732273553991,3.7376696182833684,3.9512437185814275,2.995732273553991,3.7376696182833684,3.5263605246161616,3.5553480614894135,3.2188758248682006,4.6443908991413725,3.912023005428146,4.5217885770490405,2.995732273553991,3.367295829986474,3.295836866004329,2.995732273553991,3.4657359027997265,3.258096538021482,3.4657359027997265,3.295836866004329,4.584967478670572,3.5263605246161616,3.871201010907891,4.0943445622221,3.332204510175204,4.624972813284271,4.3694478524670215,3.5553480614894135,3.258096538021482,3.6888794541139363,3.6375861597263857,3.784189633918261,3.9318256327243257,3.6888794541139363,3.784189633918261,3.7376696182833684]},{\"axis\":{\"matches\":true},\"label\":\"density\",\"values\":[0.9978,0.9968,0.997,0.998,0.9978,0.9978,0.9964,0.9946,0.9968,0.9978,0.9959,0.9978,0.9943,0.9974,0.9986,0.9986,0.9969,0.9968,0.9974,0.9969,0.9968,0.9982,0.9966,0.9968,0.9968,0.9955,0.9962,0.9966,0.9972,0.9964,0.9958,0.9966,0.9966,0.9993,0.9957,0.9986,0.9975,0.9968,0.994,0.9978,0.9978,0.9976,0.9968,0.9968,0.9962,0.9934,0.997,0.9969,0.9958,0.9954,0.9971,0.9956,0.9955,0.997,0.9955,0.9978,0.9971,0.9983,0.9975,0.9962,0.998,0.9968,0.9968,0.9966,0.9962,0.9962,0.9968,0.9962,0.9969,0.9962,0.9967,0.9962,0.9961,0.9976,0.9984,0.9986,0.9986,0.9966,0.9958,0.9972,0.9958,0.9974,0.997,0.9969,0.9959,0.9961,0.9972,0.9966,0.9978,0.9978,0.9964,0.9972,0.9972,0.9966,0.9938,0.9932,0.9965,0.9963,0.9967,0.9972,0.9972,0.9959,0.9972,0.9967,0.996,0.9967,0.9973,0.9969,0.9976,0.9969,0.9964,0.9964,0.9964,0.9988,0.9964,0.9966,0.9978,0.997,0.9962,0.9959,0.9962,0.9962,0.998,0.9976,0.996,0.9984,0.9964,0.9964,0.9962,0.9955,0.9968,0.9937,0.9937,0.9952,0.9959,0.9965,0.9968,0.9972,0.9962,0.9962,0.9965,0.9968,0.9916,0.9954,0.9916,0.9968,0.9944,0.9968,0.9959,0.9975,0.9958,0.9996,0.995,0.995,0.9973,0.9973,0.9973,0.9973,0.9969,0.9968,0.9959,0.9965,0.9964,0.9982,0.9981,0.9961,0.9956,0.9956,0.9953,0.9964,0.9972,0.9972,0.9972,0.9961,0.9961,0.9958,0.9961,0.9972,0.9969,0.9969,0.9969,0.9972,0.9972,0.9971,0.997,0.9971,0.9972,0.9976,0.9968,0.9968,0.9976,0.9974,0.9969,0.9964,0.9964,0.9968,0.9968,0.9981,0.9924,0.9948,0.99695,0.9975,0.99545,0.9961,0.99615,0.9994,0.9994,0.99625,0.9966,0.998,0.99585,0.99685,0.998,0.9959,0.9974,0.9974,0.9962,0.9967,0.9957,0.99655,0.9964,0.9957,0.99525,0.99815,0.99745,0.99615,0.9964,0.9984,0.99615,0.99685,0.9927,0.99625,0.998,0.99685,0.99685,0.99675,0.99675,0.99675,0.99675,0.99685,0.9971,0.99925,0.99565,1.00005,1.00005,0.9983,0.99685,0.9963,0.99615,0.9983,0.9985,0.9972,0.9986,0.9959,0.9972,0.99675,0.998,0.9968,0.9968,0.99965,0.99625,0.99565,0.99575,0.9963,0.9999,0.9968,1.00025,0.9987,0.9996,0.9965,0.9996,0.99935,0.99735,0.99915,0.9965,0.9987,0.9996,0.9991,0.9986,0.9972,0.9971,0.9991,1.00015,1.00015,0.9997,0.9967,0.9976,1.001,0.9976,0.9979,0.9994,0.9964,1.0014,1.0001,0.9981,0.99855,0.9993,0.99845,0.9965,0.9973,0.9994,0.996,0.9973,0.9998,0.9966,0.9994,0.9994,0.9968,0.9998,0.996,0.99815,0.9976,0.99645,0.9962,0.9996,0.99865,0.9989,0.99865,0.9989,0.99975,0.99735,0.999,1.0015,1.0015,0.9978,0.998,1.0002,0.9981,0.998,0.998,0.9973,0.9958,0.9963,0.9992,0.9948,0.9974,1.0008,0.9997,1.0,0.9972,0.9982,0.9982,1.0006,0.9979,0.9955,0.9986,0.9979,0.9994,1.0004,0.9994,0.9974,1.0018,0.9912,0.9955,1.0001,0.997,1.0,1.001,0.9973,0.9982,0.9992,0.9988,1.0022,0.9979,1.0022,1.0,0.9998,0.9962,0.9975,0.9967,0.9967,0.9959,1.0014,0.9984,1.0003,0.9962,0.9988,0.9979,0.9974,1.0014,0.9974,0.9974,0.998,0.9979,0.9981,0.9972,0.9981,0.9982,1.0014,0.998,0.997,0.9997,1.0004,0.9994,0.9988,0.9988,0.9963,0.9994,0.9949,1.0,0.9994,0.9974,0.9966,0.9981,0.9996,0.997,0.9981,0.9987,0.9987,0.9966,0.9986,0.9982,1.0014,0.997,0.9956,0.9996,0.9976,0.9972,0.9952,0.9955,0.9978,0.9955,0.9952,0.9949,0.9988,0.9978,0.9997,0.9978,0.9974,0.9958,1.0004,0.9996,1.0004,0.9958,0.9986,0.9996,0.9951,0.9988,1.0032,0.9963,0.9934,0.9986,0.9996,0.9968,0.9967,0.9994,0.9994,0.9979,0.9968,0.9998,0.9952,0.9986,0.9988,0.9998,0.9976,0.9982,0.997,0.9972,0.9987,1.0006,0.9982,0.9947,1.0,0.9952,0.9996,0.997,0.9995,0.9971,0.9982,0.9988,0.998,0.9977,0.9988,0.9984,1.0026,0.9986,0.9986,0.997,0.9976,0.9976,0.9982,1.0002,0.9984,0.9984,0.9952,0.995,1.0002,0.9952,0.9984,0.9966,1.0002,0.9984,0.999,0.999,0.9976,0.9976,0.9968,0.9976,1.0,0.9994,0.9986,0.9978,0.9994,0.998,0.9973,0.9973,1.001,1.001,0.9972,0.9966,0.9982,0.998,0.9979,0.9978,0.9976,0.9998,0.9966,0.9962,0.9988,0.9974,0.999,1.0004,1.0004,0.9956,1.0,0.999,0.9974,0.9972,1.0014,0.9996,0.9988,0.9988,0.9966,0.9993,1.0008,0.9982,0.9983,0.9987,0.9994,0.9975,0.9958,0.998,0.998,0.9934,1.00315,1.00315,1.0002,1.00315,1.0002,1.0021,0.9994,0.9978,0.9982,0.9971,1.0021,0.9994,0.9991,0.9991,0.999,0.9946,1.0003,0.9946,0.9978,0.9991,0.9992,0.9993,0.9978,0.9982,0.9982,0.9976,1.0002,1.0002,1.0,0.9976,1.0002,0.998,0.9986,0.9967,0.9976,0.9987,0.9922,0.9987,1.0004,0.9978,0.9998,0.9994,0.998,0.9967,1.0,0.9962,1.0006,0.9975,1.0006,0.9984,0.9984,0.9973,0.9982,1.0026,0.9956,0.9983,1.0006,0.9965,0.9962,0.9969,0.9997,0.9997,0.9982,1.0006,0.9988,0.9976,0.9976,0.9974,0.9974,0.9997,0.9997,0.9988,0.9988,0.9976,0.9964,0.9976,0.9988,0.9964,1.001,0.9964,0.9954,0.9979,0.9978,0.9964,0.997,0.9991,0.9992,0.9991,0.9992,0.9991,0.9984,0.9972,0.9967,0.9964,0.9948,0.9986,1.001,0.9976,0.9976,0.9979,1.0004,0.9986,0.998,0.9973,0.997,0.9973,0.9978,0.9972,0.9974,1.0,0.9981,0.998,0.9988,0.9966,0.9988,0.9959,0.9968,0.998,0.9968,0.9984,0.9984,0.9984,0.9979,0.9983,0.9972,1.0004,0.9962,0.998,0.997,0.998,0.997,0.997,0.9998,0.9962,0.9976,0.9998,0.9979,0.9984,0.9984,0.9921,0.9972,0.9972,1.0001,0.9986,0.9984,0.9972,0.997,0.9972,0.998,0.999,0.9956,0.9966,0.996,0.9983,0.9985,0.9998,0.9992,0.9976,0.998,0.9967,0.9976,0.9968,0.9976,0.9976,0.9976,0.9982,0.9968,0.9965,0.9958,0.9976,0.9994,0.997,0.997,0.995,0.9982,0.9994,0.9966,0.998,0.9987,0.9963,0.9963,1.0002,0.9983,0.999,0.9965,0.99788,0.9972,1.00024,1.0001,0.99768,0.9978,0.99782,0.99761,0.99768,0.99803,0.99803,0.99785,0.99803,0.99656,0.99525,0.99488,0.99656,0.99656,0.99823,0.99779,0.99738,0.99701,0.99738,0.99888,0.99888,0.99738,0.99938,0.99744,0.99668,0.99744,0.9978,0.99782,0.9973,0.99727,0.99586,0.99612,0.9961,0.99788,0.99745,0.99676,0.99732,0.99814,0.99732,0.99746,0.9982,0.9982,0.9991,0.9991,0.998,0.99708,0.99818,0.99745,0.99639,0.99531,0.99786,0.99746,0.99526,0.9987,0.9987,0.99641,0.99735,0.99264,0.9971,0.99682,0.99356,0.99386,0.99356,0.99702,0.99693,0.99562,1.00012,0.99818,0.99462,0.99939,0.99818,0.9984,0.99545,0.99632,0.99976,0.99606,0.99154,0.9973,0.9973,0.99682,0.99624,0.9951,0.99624,0.99376,0.99632,0.99376,0.99836,0.99694,0.99655,0.99064,0.99064,0.99672,0.99647,0.99736,0.99629,0.99708,0.9963,0.9959,0.99689,0.99689,0.9977,0.99689,0.99689,0.99708,0.99708,0.99801,0.99652,0.99652,0.99538,0.99652,0.99594,0.99686,0.99438,0.99746,0.99357,0.99628,0.99746,0.99746,0.99748,0.99438,0.99438,0.99438,0.99578,0.99371,0.99522,0.99576,0.99552,0.99664,0.99614,0.99517,0.99371,0.99787,0.99745,0.99576,0.99533,0.99536,0.99745,0.99787,0.99824,0.99836,0.99577,0.99491,1.00289,0.99576,0.99743,0.99774,0.99743,0.99745,0.9955,0.99444,0.9955,0.99444,0.99562,0.99736,0.99736,0.9962,0.9962,0.998,0.9964,0.9948,0.99528,0.99331,0.99577,0.99901,0.99674,0.99639,0.99331,0.99512,0.99395,0.99824,0.9964,0.99504,0.99786,0.9964,0.99504,0.99824,0.99516,0.99604,0.99786,0.99736,0.99516,0.99468,0.99746,0.99748,0.9971,0.99748,0.99746,0.99543,0.99543,0.99791,0.99356,0.99425,0.99509,0.99484,0.99834,0.99864,0.99498,0.99566,0.99745,0.99408,0.99552,0.99552,0.99552,0.99408,0.99536,0.99458,0.99538,0.99648,0.99568,0.99613,0.99519,0.99735,0.99518,0.99592,0.99654,0.99546,0.99518,0.99554,0.99604,0.99733,0.9943,0.99669,0.99724,0.99724,0.99643,0.99605,0.99658,0.997,0.997,0.99801,0.99416,0.9969,0.99774,0.99712,0.99418,0.99774,0.9969,0.99562,0.9947,0.99693,0.99596,0.99556,0.99596,0.99694,0.99554,0.99694,0.99918,0.99697,0.99378,0.99378,0.99554,0.99162,0.99495,0.99676,0.99516,0.9928,0.99603,0.9928,0.99516,0.99516,0.99549,0.99722,0.99354,0.9957,0.99604,0.99635,0.99454,0.99598,0.99486,0.99007,0.99007,0.99636,0.99642,0.99642,0.99584,0.99506,0.99568,0.99822,0.99364,0.99378,0.99586,0.99568,0.99488,0.99514,0.99854,0.99592,0.99739,0.99683,0.99356,0.99672,0.9953,0.99692,0.99756,0.99547,0.99692,0.99859,0.99294,0.99438,0.99612,0.99634,0.99702,0.99704,0.99634,0.99702,0.99258,0.99426,0.99747,0.99747,0.99586,0.99784,0.9971,0.99586,0.9981,0.9956,0.99565,0.99418,0.9963,0.99358,0.99572,0.99572,0.997,0.99498,0.99892,0.9968,0.9972,0.99892,0.99769,0.99534,0.99817,0.99817,0.99316,0.99471,0.99316,0.99685,0.99617,0.99685,0.99529,0.99738,0.994,0.99735,0.99735,0.99546,0.99479,0.99615,0.99655,0.99772,0.99655,0.99666,0.99358,0.99666,0.99392,0.99388,0.99402,0.99388,0.9936,0.99374,0.99376,0.99523,0.99855,0.9982,0.99593,0.99471,0.99396,0.99698,0.9902,0.99572,0.99572,0.99572,0.99252,0.99256,0.99352,0.9922,0.99674,0.99557,0.99394,0.9915,0.99379,0.9984,0.99798,0.9977,0.99341,0.9933,0.99684,0.99524,0.9946,0.99774,0.99774,0.99786,0.99764,0.9969,0.99624,0.99354,0.99672,0.99588,0.99672,0.996,0.99702,0.99526,0.99585,0.99473,0.99352,0.99616,0.99622,0.99544,0.99616,0.99524,0.9924,0.99572,0.99728,0.99676,0.99551,0.99434,0.99692,0.99692,0.99634,0.99709,0.99528,0.99384,0.99502,0.99667,0.99522,0.99649,0.99716,0.99716,0.99541,0.99572,0.99318,0.99346,0.99599,0.99599,0.99478,0.99754,0.99572,0.99538,0.99346,0.9963,0.99346,0.99538,0.99616,0.99652,0.99551,0.99439,0.99551,0.99588,0.99633,0.99686,0.99458,0.9951,0.99686,0.99458,0.99419,0.99878,0.99534,0.99534,0.99534,0.99752,0.99534,0.99428,0.99498,0.9957,0.99498,0.99659,0.99628,0.99488,0.99677,0.99408,0.996,0.99478,0.99734,0.99734,0.99678,0.99638,0.9992,0.99922,0.99592,0.99769,0.99157,0.99718,0.9947,0.99621,0.99718,0.99614,0.99242,0.99572,0.99659,0.99242,0.99798,0.99488,0.99494,0.99729,0.99414,0.9983,0.99721,0.99655,0.99502,0.99655,0.9949,0.99514,0.99514,0.9963,0.99627,0.99569,0.99628,0.99358,0.99499,0.99633,0.99538,0.99538,0.99632,0.99437,0.99726,0.9978,0.99456,0.99564,0.99564,0.996,0.99668,0.99084,0.9935,0.99385,0.99494,0.9944,0.99688,0.99566,0.99636,0.99688,0.9948,0.9956,0.9956,0.99619,0.99734,0.99476,0.99734,0.99328,0.99286,0.99914,0.99914,0.99521,0.99638,0.99362,0.99672,0.99638,0.99558,0.99558,0.99323,0.99191,0.99444,0.99598,0.99576,0.99501,0.9955,0.99612,0.9979,0.99524,0.9979,0.996,0.99612,0.9929,0.99532,0.99558,0.99556,0.99616,0.99258,0.99638,0.99616,0.99652,0.99796,0.99258,0.99392,0.99495,0.9948,0.9948,0.9948,0.9948,0.9955,0.99616,0.99616,0.99668,0.99581,0.9976,0.99608,0.99387,0.99448,0.99448,0.99448,0.99538,0.99538,0.99538,0.99589,0.99538,0.99852,0.99613,0.99472,0.99587,0.99587,0.99518,0.99654,0.99332,0.9969,0.9969,0.99568,0.99464,0.99464,0.99648,0.99736,0.99704,0.99699,0.99724,0.99704,0.99652,0.995,0.9971,0.99576,0.99725,0.99656,0.99396,0.99623,0.99476,0.99623,0.99664,0.99586,0.9946,0.9953,0.99609,0.99557,0.99557,0.99534,0.99613,0.99613,0.99593,0.99668,0.9961,0.9961,0.99718,0.99524,0.99292,0.99612,0.9942,0.99612,0.99669,0.99745,0.99745,0.99584,0.9966,0.9956,0.9962,0.9962,0.9963,0.9985,0.9952,0.9974,0.995,0.995,0.995,0.9936,0.9963,0.9974,0.9963,0.9994,0.9966,0.9994,0.9952,0.995,0.9956,0.995,0.9965,0.9956,0.9968,0.9974,0.9974,0.9971,0.9957,0.9962,0.996,0.9956,0.9958,0.9944,0.9955,1.00369,1.00369,0.99914,0.99577,0.996,0.99566,0.9947,0.99713,0.99712,0.99322,0.99566,0.99713,0.99712,0.99701,0.99683,0.9947,0.99732,0.99374,0.99706,0.99974,0.99467,0.99236,0.99706,0.99603,0.99458,0.99724,0.99664,0.99545,0.99522,0.9958,0.9958,0.99728,0.99648,0.99728,0.99578,0.99334,0.99656,0.99336,1.00242,0.99182,1.00242,0.99182,0.99828,0.99498,0.99828,0.99719,0.99542,0.99592,0.99606,0.99546,0.99496,0.9942,0.99448,0.99344,0.9942,0.99348,0.99636,0.99459,0.99492,0.99636,0.99508,0.99582,0.99508,0.99508,0.99642,0.99638,0.99555,0.99605,0.99562,0.99605,0.99814,0.9941,0.99661,0.99712,0.99588,0.99294,0.99842,0.99842,0.99633,0.99489,0.99647,0.99665,0.99489,0.99585,0.99633,0.9953,0.99522,0.99552,0.99553,0.9951,0.99714,0.99608,0.99444,0.99631,0.99573,0.99717,0.99397,0.9959,0.99528,0.99484,0.99538,0.99714,0.99646,0.99666,0.99472,0.99758,0.9955,0.99531,0.99575,0.99306,0.99783,0.99783,0.99768,0.99586,0.99765,0.99627,0.99514,0.99636,0.99627,0.99787,0.99622,0.99622,0.99622,0.99546,0.99546,0.99546,0.99489,0.99494,0.99546,0.99629,0.99396,0.9934,0.99514,0.99632,0.99467,0.99677,0.99474,0.99588,0.99622,0.9954,0.99402,0.9947,0.99402,0.99362,0.99578,0.99484,0.99494,0.99492,0.99483,0.99414,0.9977,0.99314,0.99402,0.99574,0.99651,0.9949,0.99512,0.99574,0.99547,0.99549]},{\"axis\":{\"matches\":true},\"label\":\"pH\",\"values\":[3.51,3.2,3.26,3.16,3.51,3.51,3.3,3.39,3.36,3.35,3.28,3.35,3.58,3.26,3.16,3.17,3.3,3.11,3.38,3.04,3.39,3.52,3.17,3.17,3.43,3.34,3.28,3.17,3.47,3.38,3.35,3.46,3.17,3.45,3.38,3.4,3.42,3.23,3.5,3.33,3.33,3.26,3.21,3.3,3.48,3.9,3.25,3.25,3.34,3.32,3.15,3.4,3.39,3.2,3.17,3.34,3.04,3.26,3.43,3.41,3.44,3.21,3.38,3.39,3.41,3.41,3.42,3.44,3.28,3.34,3.32,3.32,3.31,3.31,3.28,3.54,3.54,3.52,3.38,3.16,3.41,3.13,3.36,3.16,3.44,3.41,2.93,3.39,3.14,3.48,3.23,2.93,2.93,3.39,3.75,3.85,3.45,3.25,3.39,3.3,3.4,3.31,3.3,3.29,3.33,3.29,3.08,3.46,3.37,3.21,3.19,3.15,3.15,3.32,3.19,3.07,3.39,3.37,3.21,3.34,3.3,3.21,3.49,3.44,3.39,3.16,3.53,3.54,3.42,3.42,3.24,3.63,3.63,3.4,3.22,3.19,3.23,3.48,3.33,3.32,3.19,3.23,3.68,3.34,3.68,3.17,3.54,3.11,3.42,3.53,3.33,2.74,3.35,3.35,3.42,3.42,3.42,3.42,3.48,3.59,3.2,3.17,3.33,3.37,3.37,3.19,3.34,3.37,3.47,3.0,3.36,3.29,3.29,3.42,3.33,3.35,3.33,3.58,3.48,3.19,3.19,3.12,3.44,3.54,3.52,3.26,3.34,3.39,3.2,3.2,3.23,3.57,3.28,3.28,3.28,3.25,3.46,3.11,3.57,3.51,3.22,3.04,3.36,3.34,3.34,3.2,3.2,3.29,3.22,3.31,3.3,3.35,3.21,3.3,3.24,3.34,3.14,3.36,3.39,3.3,3.34,3.15,3.42,3.28,3.31,3.37,3.04,3.39,3.37,3.46,3.54,3.37,3.34,3.46,3.32,3.37,3.37,3.37,3.37,3.32,3.0,3.14,3.08,3.07,3.07,3.61,3.38,3.2,3.35,3.61,3.22,3.47,3.17,3.23,3.47,3.26,3.22,3.49,3.06,3.36,3.29,3.35,3.34,3.28,3.08,3.2,3.6,3.69,3.28,3.36,3.28,3.22,3.31,3.38,3.36,3.69,3.28,3.38,3.12,3.25,3.36,3.38,3.31,3.31,3.1,3.37,3.34,3.2,3.34,3.3,3.22,3.41,3.05,3.05,3.16,3.67,3.67,3.68,3.38,3.22,3.51,3.39,3.2,3.12,3.36,3.19,3.19,3.41,3.12,3.27,3.32,3.3,3.39,3.42,3.3,3.3,3.37,3.3,3.37,3.24,3.29,3.28,3.16,3.16,3.05,3.28,3.16,3.18,3.23,3.23,3.22,3.13,3.34,3.17,3.35,3.31,3.16,3.11,3.12,3.21,3.3,3.3,3.12,3.6,3.58,3.02,3.11,3.36,3.28,3.35,3.27,3.18,3.25,3.55,3.26,3.24,3.15,3.17,3.19,3.37,3.05,2.99,3.07,3.26,3.07,3.16,3.18,3.2,3.57,3.32,3.32,3.05,3.01,3.01,3.26,3.2,3.11,3.31,3.21,3.06,3.21,3.21,3.42,3.43,3.41,3.31,3.43,3.19,3.06,3.18,3.16,3.03,3.22,3.47,3.18,3.18,3.1,3.47,3.29,3.1,3.15,3.26,3.36,3.24,3.18,3.19,3.05,3.38,3.38,3.27,3.27,3.26,3.32,3.26,3.44,3.24,3.62,3.28,3.52,3.36,3.15,3.36,3.52,3.49,3.26,3.24,3.1,3.15,3.25,3.0,3.16,3.15,3.16,3.26,3.17,3.15,3.08,3.06,2.95,3.23,3.57,3.23,3.1,3.22,3.2,3.1,3.1,3.06,3.44,3.26,3.5,3.37,3.28,3.26,3.35,3.26,3.18,3.08,2.98,3.48,3.16,3.32,3.17,3.2,3.05,3.2,3.15,3.26,3.2,3.14,3.28,3.18,3.14,3.19,3.12,3.04,3.04,3.06,3.17,3.17,3.17,3.32,3.34,3.31,3.34,3.32,3.48,3.44,3.43,3.32,3.48,3.43,3.17,3.17,3.18,3.21,3.16,3.25,3.17,3.18,3.04,3.02,3.18,3.03,3.09,3.09,3.31,3.25,3.22,3.36,3.42,3.48,3.38,3.22,3.23,3.24,3.36,3.39,3.34,3.09,3.41,3.16,3.16,3.22,3.28,3.41,3.09,3.37,3.2,3.22,3.26,3.21,3.12,3.06,2.86,3.08,3.45,3.26,3.12,3.27,3.33,3.19,3.12,3.74,2.92,2.92,3.07,2.92,3.07,3.3,3.14,3.23,3.08,3.31,3.3,3.14,3.32,3.32,3.31,3.57,3.32,3.57,3.14,3.3,3.19,3.2,3.34,3.3,3.29,3.14,3.19,3.19,3.19,2.98,3.3,3.47,3.12,3.26,3.05,3.35,3.12,3.35,3.29,3.4,3.27,3.04,3.09,3.2,3.0,3.26,3.1,3.3,3.1,3.17,3.31,3.34,3.31,3.32,3.56,3.39,2.98,3.32,3.26,2.87,3.5,3.5,3.03,3.13,3.09,3.27,3.28,3.13,3.49,3.46,3.46,3.36,3.36,3.27,3.21,3.27,3.25,3.32,3.43,3.27,3.27,3.24,3.24,3.35,3.18,3.39,3.46,3.39,3.46,3.39,3.37,3.4,3.32,3.33,3.16,2.89,3.41,2.98,3.12,3.08,3.14,2.89,2.92,3.32,3.41,3.32,3.31,3.36,3.04,3.03,3.14,3.18,2.94,3.15,2.94,3.26,3.2,3.15,3.2,3.08,3.26,3.08,3.4,3.48,3.13,3.06,3.21,3.33,3.37,3.25,3.37,3.44,3.28,3.4,3.3,3.48,3.03,3.32,3.31,3.9,3.47,3.47,3.31,3.11,3.08,3.47,3.47,3.32,3.29,3.37,3.4,3.37,3.34,3.27,3.06,3.38,3.36,3.34,3.28,3.29,3.34,3.21,3.22,3.46,3.22,3.1,3.21,2.94,3.54,3.29,3.43,3.46,3.46,3.61,3.17,3.44,3.39,3.55,3.48,3.26,3.26,3.5,3.1,3.35,3.45,3.21,3.46,3.13,3.13,3.52,3.3,3.3,3.52,3.52,3.29,3.29,3.39,3.29,3.09,3.51,3.6,3.25,3.25,3.19,3.23,3.25,3.31,3.25,3.31,3.31,3.14,3.45,3.55,3.39,3.55,3.28,3.27,3.3,3.31,3.43,3.4,3.4,3.36,3.5,3.31,3.66,3.36,3.66,3.55,3.21,3.21,3.18,3.18,3.09,3.33,3.23,3.48,3.38,3.17,2.99,3.1,3.24,3.29,3.29,3.25,3.23,3.56,3.24,3.26,3.33,3.27,3.33,3.26,3.22,3.3,3.09,3.24,3.44,3.21,3.24,3.23,3.28,3.29,3.28,3.34,3.71,3.61,3.61,3.24,3.36,3.4,3.36,3.56,3.38,3.56,3.38,3.32,3.39,3.26,3.26,3.24,3.46,3.24,3.45,3.23,3.28,3.18,3.59,3.59,3.5,3.59,3.58,3.28,3.28,3.22,3.47,3.47,3.51,3.47,3.4,3.15,3.4,3.51,3.66,3.24,3.51,3.51,3.51,3.41,3.4,3.4,3.44,3.41,3.53,3.43,3.23,3.12,3.31,3.4,3.41,3.22,3.53,3.15,3.48,3.22,3.53,3.22,3.34,3.33,3.15,3.43,3.22,3.44,3.53,3.22,3.53,3.53,3.42,3.31,3.42,3.31,3.4,3.58,3.58,3.41,3.41,3.23,3.39,3.59,3.43,3.29,3.23,3.18,3.33,3.27,3.29,3.27,3.62,3.38,3.3,3.38,3.24,3.3,3.38,3.38,3.18,3.47,3.47,3.2,3.18,3.3,3.69,3.48,3.45,3.48,3.69,3.39,3.39,3.07,3.34,3.61,3.36,3.19,3.22,3.24,3.27,3.14,3.29,3.26,3.41,3.41,3.41,3.26,3.31,3.2,3.44,3.36,3.31,3.29,3.47,3.36,3.16,3.27,3.38,3.15,3.16,3.34,3.13,3.13,3.2,3.46,3.33,3.33,3.22,3.52,3.3,3.44,3.44,3.15,3.28,3.13,3.32,3.25,3.34,3.32,3.13,3.45,3.19,3.44,3.16,3.14,3.16,3.45,3.36,3.45,3.15,3.39,3.71,3.71,3.12,3.47,3.44,3.26,3.26,3.36,3.25,3.36,3.26,3.26,3.23,3.18,3.25,3.17,3.23,3.38,3.22,3.06,3.27,2.89,2.89,3.53,3.2,3.2,3.35,3.27,3.32,3.33,3.41,3.49,3.37,3.32,3.42,3.35,3.36,3.3,3.2,3.17,3.22,3.35,3.24,3.33,3.58,3.38,3.33,3.29,3.36,3.32,3.31,3.49,3.27,3.27,3.49,3.03,3.56,3.38,3.13,3.13,3.21,3.15,3.19,3.21,3.14,3.3,3.22,3.28,3.29,3.4,3.02,3.02,3.31,3.18,3.2,3.4,3.31,3.2,3.44,3.15,3.27,3.27,3.01,3.16,3.01,3.42,3.33,3.42,3.12,3.38,3.29,3.02,3.02,3.35,3.43,3.33,3.35,3.15,3.35,3.2,3.15,3.2,3.11,3.35,3.45,3.35,3.28,3.41,3.21,3.27,3.36,3.17,3.25,3.78,3.29,3.12,3.49,3.38,3.38,3.38,3.3,3.52,3.44,3.45,3.12,3.62,3.14,3.39,3.51,3.22,3.21,3.18,3.32,3.38,3.37,3.3,3.38,3.22,3.22,3.14,3.34,3.41,3.27,3.3,3.61,3.43,3.53,3.28,3.21,3.39,3.23,3.3,3.46,3.15,3.23,3.59,3.15,3.33,3.46,3.42,3.16,3.14,3.21,3.14,3.29,3.29,3.01,2.94,3.32,3.21,3.32,3.2,3.42,3.27,3.46,3.46,3.61,3.58,3.35,3.68,3.27,3.27,3.19,3.38,3.29,3.36,3.33,3.52,3.33,3.36,3.3,3.28,3.56,3.52,3.56,3.22,3.52,3.21,3.16,3.15,3.21,3.16,3.27,3.14,3.4,3.4,3.4,3.35,3.4,3.45,3.35,3.32,3.35,3.15,3.1,3.26,3.29,3.23,3.24,3.2,3.28,3.28,3.26,3.23,3.07,3.15,3.02,3.27,3.68,3.4,3.37,3.38,3.4,3.23,3.39,3.3,3.26,3.39,3.38,3.45,3.1,3.16,3.22,3.37,3.33,3.49,3.12,3.49,3.41,3.4,3.4,3.28,3.45,3.43,3.4,3.47,3.1,3.32,3.44,3.44,3.02,3.59,3.15,3.37,3.38,3.38,3.38,3.1,3.47,3.7,3.38,3.5,3.1,3.24,3.24,3.28,3.35,3.24,3.14,3.37,3.37,3.33,3.26,3.39,3.15,3.35,3.22,3.3,3.3,3.36,3.29,3.62,3.34,3.29,3.2,3.2,3.35,3.45,3.78,3.6,3.3,3.36,3.12,3.3,3.29,3.41,3.29,3.28,3.3,3.33,3.34,3.4,3.4,3.26,4.01,3.18,3.26,2.9,3.26,4.01,3.18,3.18,3.39,3.39,3.39,3.39,3.34,3.29,3.29,3.26,3.09,3.18,3.39,3.38,3.36,3.36,3.36,3.36,3.36,3.36,3.37,3.36,3.09,3.25,3.52,3.34,3.34,3.41,3.34,3.32,3.37,3.37,3.35,3.36,3.36,3.6,3.28,3.07,3.24,3.36,3.07,3.29,3.46,3.18,3.24,3.25,3.27,3.33,3.0,3.21,3.0,3.24,3.26,3.11,3.71,3.29,3.36,3.36,3.38,3.3,3.3,3.19,3.19,3.3,3.3,3.35,3.1,3.58,3.37,3.17,3.3,3.32,3.31,3.31,3.28,3.52,3.42,3.25,3.25,3.44,3.43,3.28,3.22,3.54,3.27,3.54,3.5,3.56,3.22,3.04,3.2,3.56,3.2,3.35,3.16,3.27,3.16,3.34,3.39,3.5,3.26,3.26,3.41,3.3,3.31,3.33,3.37,3.26,3.48,3.42,3.18,3.18,3.15,3.53,3.41,3.32,3.23,3.16,3.4,3.38,3.32,3.16,3.4,3.4,3.4,3.23,3.33,3.35,3.41,3.21,3.5,3.3,3.41,3.39,3.32,3.41,3.59,3.36,3.34,3.41,3.41,3.3,3.52,3.3,2.88,3.43,3.38,3.38,3.16,3.54,3.16,3.54,3.39,3.66,3.39,3.33,3.35,3.53,3.37,3.38,3.52,3.72,3.44,3.39,3.72,3.57,3.26,3.42,3.35,3.26,3.45,3.53,3.45,3.26,3.16,3.31,3.51,3.36,3.51,3.36,3.38,3.28,3.47,3.44,3.53,3.33,3.53,3.53,3.42,3.38,3.32,3.44,3.38,3.39,3.42,3.34,3.39,3.33,3.3,3.29,3.31,3.42,3.42,3.6,3.21,3.39,3.42,3.36,3.6,3.5,3.57,3.46,3.56,3.4,3.3,3.25,3.17,3.36,3.36,3.55,3.1,3.45,3.44,3.51,3.41,3.54,3.44,3.53,3.54,3.22,3.21,3.21,3.21,3.29,3.29,3.29,3.39,3.34,3.29,3.34,3.48,3.37,3.44,3.33,3.58,3.39,3.26,3.3,3.54,3.42,3.54,3.36,3.54,3.57,3.33,3.29,3.3,3.34,3.55,3.27,3.29,3.32,3.67,3.42,3.42,3.45,3.52,3.42,3.57,3.39]},{\"axis\":{\"matches\":true},\"label\":\"sulphates\",\"values\":[-0.579818495252942,-0.3856624808119846,-0.4307829160924542,-0.5447271754416722,-0.579818495252942,-0.579818495252942,-0.7765287894989963,-0.7550225842780328,-0.5621189181535413,-0.2231435513142097,-0.616186139423817,-0.2231435513142097,-0.6539264674066639,0.44468582126144574,-0.12783337150988489,-0.07257069283483537,-0.2876820724517809,0.2468600779315258,-0.6931471805599453,0.0769610411361284,-0.6348782724359695,-0.4307829160924542,-0.09431067947124129,-0.6348782724359695,-0.4620354595965587,-0.579818495252942,-0.527632742082372,-0.09431067947124129,-0.5978370007556204,-0.527632742082372,-0.616186139423817,-0.5621189181535413,-0.4155154439616658,-0.6539264674066639,-0.5978370007556204,-0.5978370007556204,-0.5108256237659907,-0.31471074483970024,-0.7339691750802004,-0.18632957819149348,-0.18632957819149348,-0.6733445532637656,-0.10536051565782628,0.1823215567939546,-0.6539264674066639,-0.579818495252942,-0.31471074483970024,-0.5447271754416722,-0.579818495252942,-0.5447271754416722,-0.3011050927839216,-0.4620354595965587,-0.4462871026284195,-0.579818495252942,-0.4620354595965587,-0.6348782724359695,-0.4620354595965587,-0.2613647641344075,-0.527632742082372,-0.616186139423817,-0.4462871026284195,-0.342490308946776,-0.4780358009429998,-0.5621189181535413,-0.941608539858445,-0.941608539858445,-0.5447271754416722,-0.5447271754416722,-0.23572233352106983,-0.05129329438755058,-0.616186139423817,-0.7339691750802004,-0.7339691750802004,-0.6348782724359695,-0.19845093872383832,-0.4155154439616658,-0.4155154439616658,-0.5978370007556204,-0.6539264674066639,0.11332868530700327,-0.579818495252942,0.2468600779315258,-0.5621189181535413,0.131028262406404,-0.2484613592984996,-0.527632742082372,0.6678293725756554,-0.4462871026284195,0.19885085874516517,-0.6348782724359695,-0.616186139423817,0.6678293725756554,0.6830968447064438,-0.4462871026284195,-0.7339691750802004,-0.5108256237659907,-0.579818495252942,-0.4620354595965587,-0.579818495252942,-0.527632742082372,-0.4942963218147801,-0.579818495252942,-0.527632742082372,-0.6733445532637656,-0.7339691750802004,-0.6733445532637656,0.2700271372130602,-0.23572233352106983,-0.2231435513142097,-0.37106368139083207,-0.07257069283483537,-0.4155154439616658,-0.4155154439616658,-0.40047756659712525,-0.07257069283483537,-0.4620354595965587,-0.4942963218147801,-0.6931471805599453,-0.5108256237659907,-0.616186139423817,-0.5621189181535413,-0.5108256237659907,-0.6539264674066639,-0.6348782724359695,-0.7339691750802004,-0.35667494393873245,-0.7133498878774648,-0.7339691750802004,-0.08338160893905101,-0.5621189181535413,-0.4155154439616658,-0.4620354595965587,-0.4620354595965587,-0.5447271754416722,-0.5978370007556204,-0.19845093872383832,-0.2613647641344075,-0.4462871026284195,-0.616186139423817,-0.616186139423817,-0.19845093872383832,-0.2613647641344075,-0.23572233352106983,-0.5447271754416722,-0.23572233352106983,-0.4780358009429998,-0.6539264674066639,-0.2231435513142097,-0.5447271754416722,-0.4942963218147801,-0.6348782724359695,0.6931471805599453,-0.616186139423817,-0.616186139423817,-0.3285040669720361,-0.342490308946776,-0.3285040669720361,-0.342490308946776,-0.6931471805599453,-0.5621189181535413,-0.579818495252942,0.0769610411361284,-0.579818495252942,-0.7133498878774648,-0.7133498878774648,-0.4780358009429998,-0.6539264674066639,-0.7339691750802004,-0.5978370007556204,0.4637340162321402,-1.1086626245216111,-0.4942963218147801,-0.4942963218147801,-0.5621189181535413,-0.7550225842780328,-0.2484613592984996,-0.7550225842780328,-0.4942963218147801,-0.579818495252942,-0.527632742082372,-0.527632742082372,0.01980262729617973,-0.6539264674066639,-0.5447271754416722,-0.5447271754416722,-0.6348782724359695,-0.5978370007556204,-0.7133498878774648,-0.5978370007556204,-0.5978370007556204,-0.4780358009429998,-0.4780358009429998,-0.4942963218147801,-0.5978370007556204,-0.5978370007556204,-0.616186139423817,-0.527632742082372,-0.030459207484708574,-0.16251892949777494,-0.843970070294529,-0.19845093872383832,0.02955880224154443,-0.23572233352106983,-0.5978370007556204,-0.579818495252942,-0.2613647641344075,-0.2613647641344075,-0.6348782724359695,-0.40047756659712525,-0.12783337150988489,-0.15082288973458366,-0.579818495252942,-0.40047756659712525,-0.843970070294529,-0.342490308946776,-0.2744368457017603,-0.5621189181535413,-0.5978370007556204,-0.616186139423817,-0.5108256237659907,-0.527632742082372,-0.5621189181535413,-0.5108256237659907,-0.5108256237659907,-0.5621189181535413,-0.5447271754416722,0.4762341789963717,-0.4620354595965587,-0.5447271754416722,-0.6931471805599453,-0.4780358009429998,-0.6539264674066639,-0.35667494393873245,-0.6931471805599453,-0.5978370007556204,-0.5447271754416722,-0.5447271754416722,-0.5447271754416722,-0.5447271754416722,-0.5978370007556204,0.08617769624105241,-0.342490308946776,-0.7133498878774648,-0.1743533871447778,-0.1743533871447778,-0.040821994520255166,-0.6539264674066639,-0.7985076962177716,-0.7339691750802004,-0.040821994520255166,-0.2484613592984996,-0.35667494393873245,-0.6348782724359695,-0.527632742082372,-0.35667494393873245,-0.5621189181535413,-0.4780358009429998,-0.40047756659712525,0.23111172096338664,-0.2231435513142097,-0.4307829160924542,-0.5108256237659907,-0.5621189181535413,-0.40047756659712525,-0.13926206733350766,-0.3285040669720361,-0.3285040669720361,-0.09431067947124129,-0.030459207484708574,-0.40047756659712525,-0.030459207484708574,-0.2484613592984996,-0.4462871026284195,-0.2613647641344075,-0.40047756659712525,-0.09431067947124129,-0.030459207484708574,-0.2613647641344075,-0.19845093872383832,0.0769610411361284,-0.5621189181535413,-0.2613647641344075,-0.342490308946776,-0.342490308946776,-0.2744368457017603,-0.35667494393873245,-0.15082288973458366,-0.05129329438755058,-0.15082288973458366,-0.342490308946776,-0.4462871026284195,-0.5108256237659907,-0.21072103131565253,-0.4462871026284195,-0.6539264674066639,-0.31471074483970024,-0.2231435513142097,-0.342490308946776,-0.527632742082372,-0.4462871026284195,-0.3285040669720361,-0.616186139423817,-0.6539264674066639,-0.527632742082372,-0.6539264674066639,-0.4780358009429998,-0.4620354595965587,-0.6348782724359695,-0.527632742082372,-0.616186139423817,-0.4620354595965587,-0.6348782724359695,-0.3856624808119846,-0.4307829160924542,-0.4307829160924542,-0.4462871026284195,-0.342490308946776,-0.4462871026284195,-0.342490308946776,-0.4780358009429998,-0.4620354595965587,-0.35667494393873245,-0.37106368139083207,-0.37106368139083207,-0.3011050927839216,-0.18632957819149348,-0.40047756659712525,-0.4780358009429998,-0.4155154439616658,-0.4155154439616658,-0.616186139423817,-0.6539264674066639,-0.3011050927839216,-0.1743533871447778,-0.35667494393873245,-0.4462871026284195,0.0,0.3074846997479607,0.16551443847757333,-0.13926206733350766,-0.2876820724517809,-0.2876820724517809,-0.2484613592984996,-0.21072103131565253,-0.11653381625595151,-0.07257069283483537,-0.08338160893905101,-0.15082288973458366,-0.020202707317519466,-0.18632957819149348,-0.31471074483970024,-0.2613647641344075,-0.527632742082372,-0.4942963218147801,-0.12783337150988489,-0.2876820724517809,-0.16251892949777494,-0.3856624808119846,-0.35667494393873245,-0.09431067947124129,-0.579818495252942,-0.13926206733350766,-0.31471074483970024,-0.07257069283483537,-0.31471074483970024,-0.37106368139083207,-0.4462871026284195,0.12221763272424911,-0.2484613592984996,-0.13926206733350766,0.03922071315328133,-0.4620354595965587,-0.21072103131565253,-0.18632957819149348,0.10436001532424286,0.12221763272424911,-0.01005033585350145,-0.35667494393873245,-0.2231435513142097,-0.2231435513142097,-0.2231435513142097,-0.2231435513142097,-0.3011050927839216,-0.2744368457017603,-0.3011050927839216,-0.616186139423817,-0.3011050927839216,-0.35667494393873245,-0.2231435513142097,-0.6733445532637656,-0.616186139423817,-0.5621189181535413,-0.5108256237659907,-0.6348782724359695,-0.4307829160924542,-0.4307829160924542,-0.5978370007556204,-0.6348782724359695,-0.7550225842780328,-0.4942963218147801,-0.4620354595965587,-0.4942963218147801,-0.2744368457017603,-0.4307829160924542,-0.4620354595965587,-0.35667494393873245,-0.5621189181535413,-0.4780358009429998,-0.4780358009429998,-0.4462871026284195,-0.19845093872383832,-0.4942963218147801,0.06765864847381486,-0.4155154439616658,-0.7339691750802004,-0.2744368457017603,-0.3856624808119846,-0.31471074483970024,-0.579818495252942,-0.8209805520698302,-0.10536051565782628,-0.8209805520698302,-0.579818495252942,-0.7133498878774648,-0.579818495252942,-0.5108256237659907,-0.5108256237659907,-0.10536051565782628,-0.579818495252942,-0.4307829160924542,-0.7133498878774648,-0.11653381625595151,-0.7133498878774648,-0.579818495252942,-0.4155154439616658,-0.11653381625595151,-0.5108256237659907,-0.3856624808119846,-0.3856624808119846,-0.4620354595965587,-0.1743533871447778,-0.579818495252942,-0.31471074483970024,-0.3285040669720361,-0.579818495252942,-0.4942963218147801,-0.4942963218147801,0.058268908123975824,-0.4620354595965587,-0.3011050927839216,-0.4620354595965587,-0.5447271754416722,-0.5447271754416722,-0.3011050927839216,-0.4942963218147801,-0.4942963218147801,-0.4942963218147801,-0.6348782724359695,-0.35667494393873245,-0.09431067947124129,-0.3285040669720361,-0.23572233352106983,-0.4780358009429998,-0.5447271754416722,-0.4942963218147801,-0.342490308946776,-0.19845093872383832,-0.23572233352106983,-0.11653381625595151,-0.5108256237659907,-0.35667494393873245,0.058268908123975824,-0.5108256237659907,-0.35667494393873245,-0.4155154439616658,0.04879016416943205,0.058268908123975824,-0.4155154439616658,-0.7550225842780328,-0.7550225842780328,-0.8675005677047231,-0.08338160893905101,-0.2876820724517809,-0.40047756659712525,-0.23572233352106983,-0.10536051565782628,-0.3011050927839216,-0.5978370007556204,-0.4307829160924542,-0.23572233352106983,-0.3011050927839216,-0.4307829160924542,-0.16251892949777494,-0.16251892949777494,0.03922071315328133,0.04879016416943205,-0.2484613592984996,0.01980262729617973,-0.342490308946776,-0.4620354595965587,-0.3856624808119846,-0.4942963218147801,-0.4620354595965587,-0.21072103131565253,-0.4155154439616658,-0.4155154439616658,0.131028262406404,-0.3011050927839216,-0.3856624808119846,-0.2484613592984996,-0.10536051565782628,-0.4462871026284195,-0.01005033585350145,-0.5978370007556204,-0.4462871026284195,-0.40047756659712525,-0.2484613592984996,-0.2613647641344075,-0.2876820724517809,-0.5621189181535413,-0.13926206733350766,-0.4942963218147801,-0.4942963218147801,-0.4155154439616658,-0.579818495252942,-0.13926206733350766,-0.5621189181535413,-0.2613647641344075,-0.4155154439616658,-0.4780358009429998,-0.40047756659712525,-0.31471074483970024,-0.527632742082372,-0.3285040669720361,-0.23572233352106983,-0.527632742082372,-0.2484613592984996,-0.15082288973458366,-0.2876820724517809,-0.4942963218147801,-0.579818495252942,-0.31471074483970024,-0.3011050927839216,-0.4780358009429998,-0.3011050927839216,-0.3011050927839216,-0.579818495252942,-0.3011050927839216,-0.579818495252942,-0.3856624808119846,-0.5621189181535413,-0.5447271754416722,-0.4942963218147801,-0.4942963218147801,-0.3856624808119846,-0.5621189181535413,-0.5108256237659907,-0.5108256237659907,-0.23572233352106983,-0.5621189181535413,-0.09431067947124129,-0.5621189181535413,-0.4942963218147801,-0.579818495252942,-0.35667494393873245,-0.2231435513142097,-0.6539264674066639,-0.5108256237659907,-0.5108256237659907,-0.6733445532637656,-0.8209805520698302,-0.8209805520698302,-0.843970070294529,-0.4155154439616658,-0.2744368457017603,-0.4155154439616658,0.01980262729617973,-0.527632742082372,-0.3011050927839216,-0.5621189181535413,-0.6931471805599453,-0.5621189181535413,-0.5447271754416722,-0.6348782724359695,-0.5621189181535413,-0.5108256237659907,-0.4620354595965587,-0.7339691750802004,-0.35667494393873245,-0.7550225842780328,-0.579818495252942,-0.6539264674066639,-0.579818495252942,-0.4780358009429998,-0.527632742082372,-0.23572233352106983,-0.6348782724359695,-0.4462871026284195,-0.6539264674066639,-0.616186139423817,-0.616186139423817,-0.5108256237659907,-0.3011050927839216,0.3074846997479607,-0.5621189181535413,-0.5621189181535413,-0.07257069283483537,-0.35667494393873245,-0.2231435513142097,-0.4942963218147801,-0.4780358009429998,-0.5978370007556204,-0.040821994520255166,-0.3285040669720361,-0.3285040669720361,-0.7133498878774648,-0.7133498878774648,-0.5108256237659907,-0.4942963218147801,-0.5108256237659907,-0.4620354595965587,-0.5621189181535413,-0.4462871026284195,-0.5447271754416722,-0.5978370007556204,-0.6348782724359695,-0.6348782724359695,-0.4307829160924542,0.3074846997479607,-0.4780358009429998,-0.4620354595965587,-0.4780358009429998,-0.4620354595965587,-0.4780358009429998,-0.37106368139083207,-0.4620354595965587,-0.5447271754416722,-0.40047756659712525,-0.5621189181535413,-0.6931471805599453,-0.40047756659712525,-0.1743533871447778,-0.616186139423817,-0.7765287894989963,-0.4942963218147801,-0.6931471805599453,-0.3856624808119846,-0.21072103131565253,-0.5621189181535413,-0.21072103131565253,-0.4462871026284195,-0.35667494393873245,-0.23572233352106983,-0.4155154439616658,-0.579818495252942,-0.5108256237659907,-0.4155154439616658,-0.5621189181535413,-0.4155154439616658,-0.5447271754416722,-0.6539264674066639,-0.6348782724359695,-0.6539264674066639,-0.40047756659712525,-0.4307829160924542,-0.40047756659712525,-0.7339691750802004,-0.6348782724359695,-0.616186139423817,-0.7133498878774648,-0.7133498878774648,-0.616186139423817,-0.579818495252942,-0.7339691750802004,-0.579818495252942,-0.5108256237659907,-0.527632742082372,-0.7550225842780328,0.04879016416943205,-0.616186139423817,0.1570037488096647,-0.4780358009429998,-0.4942963218147801,-0.4780358009429998,-0.40047756659712525,-0.40047756659712525,-0.6348782724359695,-0.4780358009429998,-0.5621189181535413,-0.40047756659712525,-0.40047756659712525,-0.35667494393873245,-0.616186139423817,-0.7133498878774648,-0.7550225842780328,-0.6733445532637656,-0.4942963218147801,-0.4155154439616658,-0.5621189181535413,-0.4942963218147801,-0.7985076962177716,-0.7765287894989963,-0.6733445532637656,-0.7339691750802004,-0.7765287894989963,-0.5621189181535413,-0.8209805520698302,-0.616186139423817,-0.8209805520698302,-0.6348782724359695,-0.527632742082372,0.4824261492442928,-0.5108256237659907,-0.5978370007556204,-0.3285040669720361,-0.3856624808119846,-0.3856624808119846,-0.7133498878774648,-0.40047756659712525,-0.6539264674066639,-0.7550225842780328,-0.5108256237659907,-0.4780358009429998,-0.6931471805599453,-0.6931471805599453,-0.4307829160924542,-0.579818495252942,-0.5108256237659907,-0.3856624808119846,-0.5621189181535413,-0.4307829160924542,-0.6348782724359695,-0.6733445532637656,-0.31471074483970024,-0.7550225842780328,-0.7339691750802004,-0.3285040669720361,-0.31471074483970024,-0.5978370007556204,-0.5978370007556204,-0.4942963218147801,-0.5978370007556204,0.058268908123975824,-0.843970070294529,-0.7765287894989963,-0.6931471805599453,-0.6931471805599453,-0.6539264674066639,-0.5621189181535413,-0.8675005677047231,-0.6348782724359695,-0.8675005677047231,-0.5978370007556204,-0.616186139423817,-0.616186139423817,-0.4780358009429998,-0.6348782724359695,-0.616186139423817,-0.6348782724359695,-0.5978370007556204,-0.5978370007556204,-0.08338160893905101,-0.09431067947124129,-0.7765287894989963,-0.5108256237659907,-0.527632742082372,-0.4942963218147801,-0.5108256237659907,-0.5108256237659907,-0.4307829160924542,-0.6348782724359695,-0.4307829160924542,-0.527632742082372,-0.6931471805599453,-0.6931471805599453,-0.579818495252942,-0.579818495252942,-0.6539264674066639,-0.3856624808119846,-0.616186139423817,-0.5108256237659907,-0.579818495252942,-0.6348782724359695,0.16551443847757333,-0.3011050927839216,-0.21072103131565253,-0.6539264674066639,-0.6539264674066639,-0.6733445532637656,-0.8209805520698302,-0.06187540371808753,-0.4155154439616658,-0.5621189181535413,-0.35667494393873245,-0.342490308946776,-0.35667494393873245,-0.15082288973458366,-0.5978370007556204,-0.7550225842780328,-0.3856624808119846,-0.342490308946776,-0.5447271754416722,-0.2744368457017603,-0.342490308946776,-0.5447271754416722,-0.31471074483970024,-0.7985076962177716,-0.616186139423817,-0.5108256237659907,-0.3011050927839216,-0.4462871026284195,-0.4462871026284195,-0.6348782724359695,-0.7133498878774648,-0.4462871026284195,-0.7133498878774648,-0.2613647641344075,-0.5978370007556204,-0.2613647641344075,-0.15082288973458366,-0.7550225842780328,-0.6733445532637656,-0.941608539858445,-0.941608539858445,-0.18632957819149348,-0.7550225842780328,-0.2613647641344075,-0.4620354595965587,-0.3285040669720361,-0.4780358009429998,-0.18632957819149348,-0.4155154439616658,-0.4155154439616658,-0.35667494393873245,-0.4155154439616658,-0.4155154439616658,-0.5978370007556204,-0.5978370007556204,0.06765864847381486,-0.31471074483970024,-0.31471074483970024,-0.342490308946776,-0.31471074483970024,-0.2484613592984996,-0.40047756659712525,-0.19845093872383832,-0.616186139423817,-0.5108256237659907,-0.8209805520698302,-0.6348782724359695,-0.616186139423817,-0.616186139423817,-0.18632957819149348,-0.1743533871447778,-0.19845093872383832,-0.4462871026284195,-0.5621189181535413,-0.5621189181535413,-0.616186139423817,-0.5447271754416722,-0.4307829160924542,-0.23572233352106983,-0.5447271754416722,-0.5621189181535413,-0.6931471805599453,-0.5978370007556204,-0.7133498878774648,-0.4307829160924542,-0.2484613592984996,-0.5978370007556204,-0.6931471805599453,-0.4462871026284195,-0.4307829160924542,-0.23572233352106983,-0.579818495252942,-0.3856624808119846,-0.5447271754416722,-0.5621189181535413,-0.4307829160924542,-0.5621189181535413,-0.5447271754416722,-0.5447271754416722,-0.2613647641344075,-0.5447271754416722,-0.2613647641344075,-0.37106368139083207,-0.37106368139083207,-0.37106368139083207,-0.527632742082372,-0.527632742082372,-0.527632742082372,-0.342490308946776,-0.616186139423817,-0.527632742082372,-0.6539264674066639,-0.5621189181535413,-0.5108256237659907,-0.4780358009429998,-0.4462871026284195,-0.6539264674066639,-0.40047756659712525,-0.4942963218147801,-0.4462871026284195,-0.3285040669720361,-0.11653381625595151,-0.579818495252942,-0.3285040669720361,-0.11653381625595151,-0.4462871026284195,-0.2231435513142097,-0.13926206733350766,-0.10536051565782628,-0.527632742082372,-0.2231435513142097,-0.31471074483970024,-0.31471074483970024,-0.4307829160924542,-0.527632742082372,-0.4307829160924542,-0.31471074483970024,-0.3285040669720361,-0.3285040669720361,-0.5108256237659907,-0.3285040669720361,-0.616186139423817,-0.2744368457017603,-0.6539264674066639,-0.4462871026284195,-0.5108256237659907,-0.4462871026284195,-0.23572233352106983,-0.01005033585350145,-0.4780358009429998,-0.2744368457017603,-0.2744368457017603,-0.2744368457017603,-0.4780358009429998,-0.3856624808119846,-0.37106368139083207,-0.616186139423817,-0.40047756659712525,-0.4780358009429998,-0.5447271754416722,-0.342490308946776,-0.4942963218147801,-0.16251892949777494,-0.4780358009429998,-0.37106368139083207,-0.37106368139083207,-0.16251892949777494,-0.15082288973458366,-0.5447271754416722,-0.7339691750802004,-0.5108256237659907,-0.4942963218147801,-0.13926206733350766,-0.13926206733350766,-0.4307829160924542,-0.4620354595965587,-0.4780358009429998,-0.6539264674066639,-0.6539264674066639,-0.6931471805599453,-0.7133498878774648,-0.4620354595965587,-0.342490308946776,-0.4780358009429998,-0.19845093872383832,-0.342490308946776,-0.4620354595965587,-0.5447271754416722,-0.5978370007556204,-0.6931471805599453,-0.7133498878774648,-0.6733445532637656,-0.7133498878774648,-0.7339691750802004,-0.7339691750802004,-0.7339691750802004,-0.843970070294529,-0.4780358009429998,-0.4620354595965587,-0.4620354595965587,-0.7339691750802004,-0.6348782724359695,-0.3285040669720361,-0.19845093872383832,-0.1743533871447778,-0.5978370007556204,-0.616186139423817,-0.5978370007556204,-0.1743533871447778,-0.1743533871447778,-0.35667494393873245,-0.3856624808119846,-0.5978370007556204,-0.5978370007556204,-0.7339691750802004,-0.5447271754416722,-0.5447271754416722,-0.1743533871447778,-0.2876820724517809,-0.8209805520698302,-0.8209805520698302,-0.4942963218147801,-0.6348782724359695,-0.6348782724359695,-0.616186139423817,-0.5978370007556204,-0.579818495252942,-0.5108256237659907,-0.579818495252942,-0.6539264674066639,-0.616186139423817,-0.579818495252942,-0.5978370007556204,-0.5447271754416722,-0.6348782724359695,-0.527632742082372,-0.7550225842780328,-0.4307829160924542,-0.527632742082372,-0.579818495252942,-0.2613647641344075,-0.18632957819149348,-0.40047756659712525,-0.4462871026284195,-0.18632957819149348,-0.21072103131565253,-0.4780358009429998,-0.5447271754416722,-0.4780358009429998,-0.4462871026284195,-0.2484613592984996,-0.2613647641344075,-0.4462871026284195,0.29266961396282004,-0.5978370007556204,-0.2613647641344075,-0.4780358009429998,-0.4780358009429998,-0.527632742082372,-0.5621189181535413,-0.2744368457017603,-0.527632742082372,-0.35667494393873245,-0.4462871026284195,-0.4620354595965587,-0.5621189181535413,-0.5108256237659907,-0.3285040669720361,-0.18632957819149348,-0.18632957819149348,-0.4780358009429998,-0.11653381625595151,-0.5447271754416722,-0.5447271754416722,-0.5447271754416722,-0.5447271754416722,-0.15082288973458366,-0.31471074483970024,-0.5447271754416722,-0.5447271754416722,-0.6733445532637656,-0.6733445532637656,-0.6733445532637656,-0.527632742082372,-0.2613647641344075,-0.527632742082372,-0.7133498878774648,-0.4155154439616658,-0.37106368139083207,-0.2744368457017603,-0.2744368457017603,-0.5108256237659907,-0.527632742082372,-0.15082288973458366,-0.7133498878774648,-0.6931471805599453,-0.7133498878774648,-0.6539264674066639,-0.21072103131565253,-0.6539264674066639,-0.2484613592984996,-0.4620354595965587,-0.616186139423817,-0.4620354595965587,-0.4155154439616658,-0.5108256237659907,-0.616186139423817,-0.16251892949777494,-0.7133498878774648,-0.2744368457017603,-0.4462871026284195,-0.4462871026284195,-0.342490308946776,-0.527632742082372,-0.4155154439616658,-0.5108256237659907,-0.5108256237659907,-0.5108256237659907,-0.6348782724359695,-0.5447271754416722,-0.5978370007556204,-0.7339691750802004,-0.4307829160924542,-0.4780358009429998,-0.527632742082372,-0.616186139423817,-0.5108256237659907,-0.3856624808119846,-0.37106368139083207,-0.4620354595965587,-0.8209805520698302,-0.12783337150988489,-0.3856624808119846,-0.3011050927839216,-0.5108256237659907,-0.2744368457017603,-0.2744368457017603,-0.5447271754416722,-0.4462871026284195,-0.4307829160924542,-0.16251892949777494,-0.4307829160924542,-0.19845093872383832,-0.4780358009429998,-0.21072103131565253,-0.13926206733350766,-0.7133498878774648,-0.4155154439616658,-0.6539264674066639,-0.2744368457017603,-0.4307829160924542,-0.6348782724359695,-0.4155154439616658,-0.3856624808119846,-0.6348782724359695,-0.2744368457017603,-0.13926206733350766,0.14842000511827322,-0.40047756659712525,-0.3285040669720361,-0.2876820724517809,-0.342490308946776,-0.40047756659712525,-0.40047756659712525,0.09531017980432493,-0.020202707317519466,-0.12783337150988489,-0.579818495252942,-0.4780358009429998,-0.40047756659712525,-0.3856624808119846,-0.3011050927839216,-0.4780358009429998,-0.4780358009429998,-0.35667494393873245,-0.6931471805599453,-0.4155154439616658,-0.31471074483970024,-0.21072103131565253,-0.21072103131565253,-0.7765287894989963,-0.15082288973458366,-0.5108256237659907,-0.35667494393873245,-0.7765287894989963,-0.6931471805599453,-0.7765287894989963,-0.35667494393873245,-0.8209805520698302,-0.5621189181535413,-0.6733445532637656,-0.2231435513142097,-0.6733445532637656,-0.527632742082372,-0.5108256237659907,-0.5447271754416722,-0.616186139423817,-0.23572233352106983,-0.5447271754416722,-0.616186139423817,-0.616186139423817,-0.5978370007556204,-0.16251892949777494,-0.16251892949777494,-0.16251892949777494,-0.06187540371808753,-0.16251892949777494,-0.13926206733350766,-0.4780358009429998,-0.4780358009429998,-0.4780358009429998,-0.2876820724517809,-0.7339691750802004,-0.579818495252942,-0.37106368139083207,-0.21072103131565253,-0.37106368139083207,-0.18632957819149348,-0.2613647641344075,-0.2613647641344075,-0.7765287894989963,-0.2744368457017603,-0.19845093872383832,-0.6733445532637656,-0.7550225842780328,-0.3285040669720361,-0.31471074483970024,-0.4462871026284195,-0.2484613592984996,-0.4780358009429998,-0.4462871026284195,-0.7133498878774648,-0.916290731874155,-0.579818495252942,-0.4462871026284195,-0.916290731874155,-0.7765287894989963,-0.579818495252942,-0.916290731874155,-0.527632742082372,-0.5108256237659907,-0.4780358009429998,-0.616186139423817,-0.3856624808119846,-0.7339691750802004,-0.3856624808119846,-0.2876820724517809,-0.4942963218147801,-0.4942963218147801,-0.527632742082372,-0.5447271754416722,-0.5447271754416722,-0.37106368139083207,-0.7985076962177716,-0.8675005677047231,-0.35667494393873245,-0.4620354595965587,-0.4620354595965587,0.13976194237515863,-0.5978370007556204,-0.5447271754416722,-0.7765287894989963,-0.3285040669720361,-0.5108256237659907,-0.5108256237659907,-0.13926206733350766,-0.5978370007556204,-0.2876820724517809,-0.5621189181535413,-0.6348782724359695,-0.843970070294529,-0.6348782724359695,-0.616186139423817,-0.579818495252942,-0.5108256237659907,-0.616186139423817,-0.5621189181535413,-0.4462871026284195,-0.4462871026284195,-0.3856624808119846,-0.4620354595965587,-0.579818495252942,-0.5621189181535413,-0.616186139423817,-0.9942522733438669,0.1570037488096647,0.1570037488096647,-0.527632742082372,-0.2876820724517809,-0.40047756659712525,-0.7133498878774648,-0.2876820724517809,-0.7985076962177716,-0.7985076962177716,-0.4942963218147801,-0.579818495252942,-0.4942963218147801,-0.3011050927839216,-0.2231435513142097,-0.4155154439616658,-0.8209805520698302,-0.6348782724359695,-0.4780358009429998,-0.6539264674066639,-0.4780358009429998,-0.4942963218147801,-0.6348782724359695,-0.527632742082372,-0.7550225842780328,-0.616186139423817,-0.6348782724359695,-0.5447271754416722,-0.527632742082372,-0.37106368139083207,-0.5447271754416722,0.28517894223366247,-0.4155154439616658,-0.527632742082372,-0.5978370007556204,-0.19845093872383832,-0.5108256237659907,-0.5108256237659907,-0.5108256237659907,-0.5108256237659907,-0.6539264674066639,-0.579818495252942,-0.579818495252942,-0.7765287894989963,-0.843970070294529,-0.6733445532637656,-0.6539264674066639,-0.4155154439616658,-0.7985076962177716,-0.7985076962177716,-0.7985076962177716,-0.616186139423817,-0.616186139423817,-0.616186139423817,-0.6733445532637656,-0.616186139423817,-0.6348782724359695,-0.6348782724359695,-0.579818495252942,-0.941608539858445,-0.941608539858445,-0.6539264674066639,-0.5621189181535413,-0.6733445532637656,-0.7765287894989963,-0.7765287894989963,-0.6539264674066639,-0.8209805520698302,-0.8209805520698302,-0.527632742082372,-0.6931471805599453,-0.4307829160924542,-0.579818495252942,-0.616186139423817,-0.4307829160924542,-0.7339691750802004,-0.6348782724359695,-0.4780358009429998,-0.6931471805599453,0.16551443847757333,-0.6931471805599453,-0.9942522733438669,0.1570037488096647,0.02955880224154443,0.1570037488096647,-0.7985076962177716,-0.6539264674066639,-0.7765287894989963,-0.4780358009429998,-0.6733445532637656,-0.4780358009429998,-0.4780358009429998,-0.7985076962177716,-0.7133498878774648,-0.7133498878774648,-0.6931471805599453,-0.8675005677047231,-0.5447271754416722,-0.5447271754416722,-0.3856624808119846,-0.6348782724359695,-0.527632742082372,-0.5447271754416722,-0.7339691750802004,-0.7339691750802004,-0.7339691750802004,-0.4307829160924542,-0.4307829160924542,-0.6539264674066639,-0.4780358009429998,-0.3285040669720361,-0.6733445532637656,-0.6733445532637656,-0.19845093872383832,-0.4780358009429998,-0.10536051565782628,-0.06187540371808753,-0.07257069283483537,0.009950330853168092,-0.07257069283483537,-0.8209805520698302,-0.31471074483970024,-0.06187540371808753,-0.10536051565782628,-0.2484613592984996,-0.1743533871447778,-0.2484613592984996,-0.2613647641344075,-0.7765287894989963,-0.7985076962177716,-0.7765287894989963,-0.5447271754416722,-0.1743533871447778,-0.40047756659712525,-0.35667494393873245,-0.35667494393873245,-0.342490308946776,-0.5447271754416722,-0.4620354595965587,-0.07257069283483537,-0.4780358009429998,-0.616186139423817,-0.16251892949777494,-0.3011050927839216,-0.2613647641344075,-0.2613647641344075,-0.4307829160924542,-0.616186139423817,-0.7550225842780328,-0.3856624808119846,-0.31471074483970024,-0.6539264674066639,-0.2876820724517809,-0.7133498878774648,-0.3856624808119846,-0.6539264674066639,-0.2876820724517809,-0.3011050927839216,-0.31471074483970024,-0.31471074483970024,-0.2484613592984996,-0.2744368457017603,-0.5447271754416722,-0.37106368139083207,-0.4620354595965587,-0.6931471805599453,-0.5447271754416722,-0.5108256237659907,-0.2231435513142097,-0.3856624808119846,-0.4942963218147801,-0.5447271754416722,-0.6348782724359695,-0.40047756659712525,-0.40047756659712525,-0.4307829160924542,-0.5621189181535413,-0.4307829160924542,-0.7550225842780328,-0.6539264674066639,-0.23572233352106983,-0.616186139423817,-0.2876820724517809,-0.12783337150988489,-0.2876820724517809,-0.12783337150988489,-0.3856624808119846,-0.4780358009429998,-0.3856624808119846,-0.5621189181535413,-0.4942963218147801,-0.4462871026284195,-0.5978370007556204,-0.5108256237659907,-0.2484613592984996,-0.5447271754416722,-0.2744368457017603,-0.579818495252942,-0.5447271754416722,-0.616186139423817,-0.527632742082372,-0.35667494393873245,-0.21072103131565253,-0.527632742082372,-0.4620354595965587,-0.5447271754416722,-0.4620354595965587,-0.6348782724359695,-0.6348782724359695,-0.616186139423817,-0.37106368139083207,-0.5978370007556204,-0.4155154439616658,-0.5978370007556204,-0.3285040669720361,-0.35667494393873245,-0.2613647641344075,-0.40047756659712525,-0.4307829160924542,-0.5108256237659907,-0.3285040669720361,-0.3285040669720361,-0.030459207484708574,-0.18632957819149348,-0.4620354595965587,-0.5447271754416722,-0.18632957819149348,-0.843970070294529,-0.030459207484708574,-0.5108256237659907,-0.2484613592984996,-0.4462871026284195,-0.4307829160924542,-0.4155154439616658,-0.40047756659712525,-0.5108256237659907,-0.37106368139083207,-0.4155154439616658,-0.3856624808119846,-0.4942963218147801,-0.4780358009429998,-0.527632742082372,-0.3856624808119846,-0.4462871026284195,-0.4620354595965587,-0.2484613592984996,-0.4620354595965587,-0.2744368457017603,-0.579818495252942,-0.5621189181535413,-0.21072103131565253,-0.4462871026284195,-0.4942963218147801,-0.6733445532637656,-0.5447271754416722,-0.6348782724359695,-0.616186139423817,-0.4155154439616658,-0.5108256237659907,-0.5108256237659907,-0.3856624808119846,-0.579818495252942,-0.5108256237659907,-0.579818495252942,-0.6539264674066639,-0.6539264674066639,-0.6539264674066639,-0.616186139423817,-0.616186139423817,-0.616186139423817,-0.19845093872383832,-0.342490308946776,-0.616186139423817,-0.527632742082372,-0.5621189181535413,-0.07257069283483537,-0.4307829160924542,-0.6733445532637656,-0.40047756659712525,-0.7339691750802004,-0.4462871026284195,-0.2484613592984996,-0.5108256237659907,-0.40047756659712525,-0.5108256237659907,-0.5108256237659907,-0.5108256237659907,-0.6931471805599453,-0.4780358009429998,-0.2231435513142097,-0.1743533871447778,-0.16251892949777494,-0.4155154439616658,-0.2484613592984996,-0.616186139423817,-0.19845093872383832,-0.579818495252942,-0.2876820724517809,-0.19845093872383832,-0.5447271754416722,-0.2744368457017603,-0.2876820724517809,-0.342490308946776,-0.4155154439616658]},{\"axis\":{\"matches\":true},\"label\":\"alcohol\",\"values\":[2.2407096892759584,2.2823823856765264,2.2823823856765264,2.2823823856765264,2.2407096892759584,2.2407096892759584,2.2407096892759584,2.302585092994046,2.2512917986064953,2.3513752571634776,2.2192034840549946,2.3513752571634776,2.2925347571405443,2.2082744135228043,2.2192034840549946,2.2192034840549946,2.3513752571634776,2.2300144001592104,2.1972245773362196,2.2192034840549946,2.2407096892759584,2.272125885509337,2.2512917986064953,2.2407096892759584,2.272125885509337,2.2300144001592104,2.2512917986064953,2.2512917986064953,2.2407096892759584,2.2823823856765264,2.312535423847214,2.3608540011180215,2.2823823856765264,2.2407096892759584,2.2192034840549946,2.2617630984737906,2.379546134130174,2.272125885509337,2.2823823856765264,2.3513752571634776,2.3513752571634776,2.2300144001592104,2.3513752571634776,2.33214389523559,2.2512917986064953,2.5726122302071057,2.2192034840549946,2.2512917986064953,2.2192034840549946,2.2192034840549946,2.2192034840549946,2.2407096892759584,2.2407096892759584,2.2407096892759584,2.322387720290225,2.2512917986064953,2.2617630984737906,2.2407096892759584,2.302585092994046,2.2407096892759584,2.2192034840549946,2.2300144001592104,2.2512917986064953,2.2823823856765264,2.388762789235098,2.388762789235098,2.2617630984737906,2.3702437414678603,2.3702437414678603,2.3513752571634776,2.2512917986064953,2.2512917986064953,2.2512917986064953,2.2192034840549946,2.2617630984737906,2.3513752571634776,2.3513752571634776,2.3702437414678603,2.312535423847214,2.2082744135228043,2.2192034840549946,2.2407096892759584,2.2082744135228043,2.2407096892759584,2.33214389523559,2.312535423847214,2.2925347571405443,2.2617630984737906,2.2512917986064953,2.1972245773362196,2.2512917986064953,2.2925347571405443,2.2823823856765264,2.2617630984737906,2.3513752571634776,2.5572273113676265,2.3702437414678603,2.2192034840549946,2.2823823856765264,2.1972245773362196,2.322387720290225,2.341805806147327,2.1972245773362196,2.2192034840549946,2.2407096892759584,2.2192034840549946,2.2300144001592104,2.2300144001592104,2.2617630984737906,2.2300144001592104,2.2512917986064953,2.2823823856765264,2.2823823856765264,2.272125885509337,2.2512917986064953,2.3513752571634776,2.302585092994046,2.2407096892759584,2.388762789235098,2.2192034840549946,2.1972245773362196,2.388762789235098,2.2192034840549946,2.2512917986064953,2.2512917986064953,2.2407096892759584,2.388762789235098,2.388762789235098,2.3513752571634776,2.2407096892759584,2.2407096892759584,2.5649493574615367,2.5649493574615367,2.2823823856765264,2.2925347571405443,2.2617630984737906,2.2512917986064953,2.2192034840549946,2.2512917986064953,2.2512917986064953,2.2617630984737906,2.2512917986064953,2.6390573296152584,2.2407096892759584,2.6390573296152584,2.2407096892759584,2.302585092994046,2.2300144001592104,2.322387720290225,2.3513752571634776,2.33214389523559,2.2407096892759584,2.312535423847214,2.312535423847214,2.3513752571634776,2.3513752571634776,2.3513752571634776,2.3513752571634776,2.2300144001592104,2.2300144001592104,2.2617630984737906,2.2192034840549946,2.302585092994046,2.2407096892759584,2.2407096892759584,2.2512917986064953,2.322387720290225,2.1972245773362196,2.341805806147327,2.2512917986064953,2.2082744135228043,2.2192034840549946,2.2192034840549946,2.4423470353692043,2.2512917986064953,2.2512917986064953,2.2512917986064953,2.3513752571634776,2.2617630984737906,2.2512917986064953,2.2512917986064953,2.2300144001592104,2.2300144001592104,2.2300144001592104,2.2300144001592104,2.272125885509337,2.2192034840549946,2.272125885509337,2.2512917986064953,2.2512917986064953,2.2407096892759584,2.2823823856765264,2.2512917986064953,2.272125885509337,2.272125885509337,2.2407096892759584,2.322387720290225,2.312535423847214,2.5649493574615367,2.4336133554004498,2.33214389523559,2.2300144001592104,2.2512917986064953,2.2192034840549946,2.2192034840549946,2.379546134130174,2.379546134130174,2.2300144001592104,2.2407096892759584,2.3513752571634776,2.517696472610991,2.302585092994046,2.322387720290225,2.312535423847214,2.2823823856765264,2.3513752571634776,2.3978952727983707,2.2082744135228043,2.272125885509337,2.2512917986064953,2.2407096892759584,2.2407096892759584,2.2512917986064953,2.302585092994046,2.341805806147327,2.3513752571634776,2.2512917986064953,2.2823823856765264,2.3513752571634776,2.3978952727983707,2.501435951739211,2.2925347571405443,2.2617630984737906,2.3978952727983707,2.1972245773362196,2.1972245773362196,2.1972245773362196,2.2192034840549946,2.1972245773362196,2.1972245773362196,2.2300144001592104,2.388762789235098,2.2823823856765264,2.2192034840549946,2.2192034840549946,2.2925347571405443,2.2512917986064953,2.2300144001592104,2.2823823856765264,2.2925347571405443,2.302585092994046,2.2925347571405443,2.3513752571634776,2.2512917986064953,2.2925347571405443,2.2300144001592104,2.2192034840549946,2.2192034840549946,2.2407096892759584,2.3513752571634776,2.2300144001592104,2.2407096892759584,2.302585092994046,2.2300144001592104,2.388762789235098,2.322387720290225,2.2823823856765264,2.2407096892759584,2.312535423847214,2.3702437414678603,2.312535423847214,2.312535423847214,2.2407096892759584,2.2407096892759584,2.3702437414678603,2.2407096892759584,2.312535423847214,2.3513752571634776,2.2300144001592104,2.2925347571405443,2.2082744135228043,2.3513752571634776,2.2823823856765264,2.2823823856765264,2.33214389523559,2.33214389523559,2.3608540011180215,2.2192034840549946,2.3608540011180215,2.3513752571634776,2.33214389523559,2.312535423847214,2.2512917986064953,2.2512917986064953,2.2925347571405443,2.2617630984737906,2.272125885509337,2.2617630984737906,2.3702437414678603,2.312535423847214,2.302585092994046,2.2512917986064953,2.2192034840549946,2.2300144001592104,2.2407096892759584,2.2512917986064953,2.2512917986064953,2.2512917986064953,2.2300144001592104,2.2407096892759584,2.2512917986064953,2.2407096892759584,2.3978952727983707,2.3978952727983707,2.312535423847214,2.341805806147327,2.4423470353692043,2.341805806147327,2.4423470353692043,2.272125885509337,2.2300144001592104,2.2512917986064953,2.2192034840549946,2.2192034840549946,2.4423470353692043,2.4423470353692043,2.272125885509337,2.2512917986064953,2.5257286443082556,2.5257286443082556,2.2407096892759584,2.3978952727983707,2.4595888418037104,2.501435951739211,2.5257286443082556,2.33214389523559,2.4423470353692043,2.2823823856765264,2.2192034840549946,2.424802725718295,2.2823823856765264,2.2823823856765264,2.3702437414678603,2.2925347571405443,2.509599262378372,2.4849066497880004,2.302585092994046,2.2407096892759584,2.2925347571405443,2.2407096892759584,2.2300144001592104,2.5649493574615367,2.4765384001174837,2.5494451709255714,2.3978952727983707,2.4595888418037104,2.341805806147327,2.2823823856765264,2.2407096892759584,2.2925347571405443,2.302585092994046,2.322387720290225,2.302585092994046,2.468099531471619,2.302585092994046,2.1972245773362196,2.2407096892759584,2.4849066497880004,2.2925347571405443,2.163323025660538,2.3608540011180215,2.2192034840549946,2.379546134130174,2.468099531471619,2.3978952727983707,2.4849066497880004,2.5877640352277083,2.379546134130174,2.2407096892759584,2.302585092994046,2.2407096892759584,2.2407096892759584,2.2192034840549946,2.272125885509337,2.2192034840549946,2.2617630984737906,2.2192034840549946,2.302585092994046,2.302585092994046,2.2512917986064953,2.2082744135228043,2.2925347571405443,2.5649493574615367,2.2925347571405443,2.3978952727983707,2.3978952727983707,2.2407096892759584,2.2925347571405443,2.379546134130174,2.3513752571634776,2.3513752571634776,2.2082744135228043,2.312535423847214,2.379546134130174,2.379546134130174,2.424802725718295,2.2617630984737906,2.2512917986064953,2.2512917986064953,2.2300144001592104,2.4595888418037104,2.2512917986064953,2.2300144001592104,2.4595888418037104,2.3513752571634776,2.341805806147327,2.2925347571405443,2.468099531471619,2.509599262378372,2.388762789235098,2.3978952727983707,2.388762789235098,2.509599262378372,2.4336133554004498,2.3608540011180215,2.2300144001592104,2.341805806147327,2.3978952727983707,2.2192034840549946,2.5494451709255714,2.2512917986064953,2.2925347571405443,2.2512917986064953,2.322387720290225,2.4159137783010487,2.2925347571405443,2.2300144001592104,2.424802725718295,2.4159137783010487,2.451005098112319,2.5257286443082556,2.312535423847214,2.3513752571634776,2.4159137783010487,2.322387720290225,2.379546134130174,2.379546134130174,2.2082744135228043,2.302585092994046,2.4159137783010487,2.4069451083182885,2.33214389523559,2.2617630984737906,2.4159137783010487,2.424802725718295,2.2300144001592104,2.468099531471619,2.1972245773362196,2.2192034840549946,2.272125885509337,2.4423470353692043,2.6390573296152584,2.2192034840549946,2.2823823856765264,2.3608540011180215,2.4336133554004498,2.341805806147327,2.3608540011180215,2.2407096892759584,2.322387720290225,2.272125885509337,2.3978952727983707,2.322387720290225,2.312535423847214,2.2192034840549946,2.2407096892759584,2.2407096892759584,2.5952547069568657,2.302585092994046,2.302585092994046,2.302585092994046,2.379546134130174,2.322387720290225,2.3608540011180215,2.5877640352277083,2.5952547069568657,2.451005098112319,2.4932054526026954,2.1972245773362196,2.4069451083182885,2.451005098112319,2.1972245773362196,2.4849066497880004,2.4849066497880004,2.388762789235098,2.379546134130174,2.5257286443082556,2.379546134130174,2.2512917986064953,2.322387720290225,2.4336133554004498,2.2512917986064953,2.322387720290225,2.272125885509337,2.468099531471619,2.468099531471619,2.2300144001592104,2.4765384001174837,2.4595888418037104,2.3978952727983707,2.302585092994046,2.2082744135228043,2.2823823856765264,2.2407096892759584,2.2512917986064953,2.2925347571405443,2.3978952727983707,2.4336133554004498,2.163323025660538,2.2407096892759584,2.33214389523559,2.33214389523559,2.33214389523559,2.5494451709255714,2.302585092994046,2.33214389523559,2.2407096892759584,2.3702437414678603,2.4849066497880004,2.4159137783010487,2.2617630984737906,2.3978952727983707,2.2925347571405443,2.3978952727983707,2.128231705849268,2.2082744135228043,2.2512917986064953,2.3702437414678603,2.341805806147327,2.2407096892759584,2.2512917986064953,2.302585092994046,2.302585092994046,2.4423470353692043,2.4069451083182885,2.4069451083182885,2.4595888418037104,2.4069451083182885,2.4595888418037104,2.5416019934645457,2.4336133554004498,2.2192034840549946,2.2192034840549946,2.312535423847214,2.5416019934645457,2.4336133554004498,2.1972245773362196,2.1972245773362196,2.3702437414678603,2.4595888418037104,2.3978952727983707,2.4595888418037104,2.341805806147327,2.2617630984737906,2.302585092994046,2.322387720290225,2.302585092994046,2.2512917986064953,2.2823823856765264,2.2823823856765264,2.2617630984737906,2.2617630984737906,2.2192034840549946,2.2925347571405443,2.3702437414678603,2.2617630984737906,2.3608540011180215,2.2300144001592104,2.3513752571634776,2.272125885509337,2.4423470353692043,2.272125885509337,2.1972245773362196,2.2512917986064953,2.2300144001592104,2.2300144001592104,2.302585092994046,2.2823823856765264,2.2300144001592104,2.302585092994046,2.1972245773362196,2.2300144001592104,2.1972245773362196,2.2082744135228043,2.2192034840549946,2.501435951739211,2.3513752571634776,2.341805806147327,2.5416019934645457,2.2192034840549946,2.2407096892759584,2.302585092994046,2.2823823856765264,2.322387720290225,2.272125885509337,2.272125885509337,2.2823823856765264,2.322387720290225,2.2300144001592104,2.2407096892759584,2.2407096892759584,2.2512917986064953,2.4932054526026954,2.322387720290225,2.322387720290225,2.2082744135228043,2.2082744135228043,2.2300144001592104,2.2300144001592104,2.2300144001592104,2.2512917986064953,2.3513752571634776,2.424802725718295,2.2512917986064953,2.272125885509337,2.2407096892759584,2.2407096892759584,2.322387720290225,2.33214389523559,2.2407096892759584,2.2512917986064953,2.2407096892759584,2.2512917986064953,2.2407096892759584,2.312535423847214,2.312535423847214,2.3978952727983707,2.4159137783010487,2.424802725718295,2.2617630984737906,2.4159137783010487,2.7013612129514133,2.4849066497880004,2.2512917986064953,2.2407096892759584,2.2617630984737906,2.3513752571634776,2.2617630984737906,2.3978952727983707,2.2617630984737906,2.1972245773362196,2.2617630984737906,2.322387720290225,2.322387720290225,2.272125885509337,2.2512917986064953,2.2192034840549946,2.3978952727983707,2.2192034840549946,2.302585092994046,2.2512917986064953,2.2512917986064953,2.2512917986064953,2.2300144001592104,2.322387720290225,2.2300144001592104,2.2925347571405443,2.302585092994046,2.2617630984737906,2.1972245773362196,2.322387720290225,2.2823823856765264,2.424802725718295,2.2407096892759584,2.424802725718295,2.2082744135228043,2.272125885509337,2.2407096892759584,2.2407096892759584,2.2823823856765264,2.1972245773362196,2.2407096892759584,2.2407096892759584,2.5494451709255714,2.2512917986064953,2.2512917986064953,2.272125885509337,2.379546134130174,2.312535423847214,2.2512917986064953,2.2407096892759584,2.2617630984737906,2.272125885509337,2.2925347571405443,2.302585092994046,2.3513752571634776,2.451005098112319,2.302585092994046,2.312535423847214,2.2512917986064953,2.2407096892759584,2.2407096892759584,2.2823823856765264,2.2192034840549946,2.2407096892759584,2.302585092994046,2.2617630984737906,2.2512917986064953,2.2617630984737906,2.2192034840549946,2.302585092994046,2.2512917986064953,2.4159137783010487,2.341805806147327,2.4069451083182885,2.2512917986064953,2.2512917986064953,2.5416019934645457,2.2617630984737906,2.4423470353692043,2.2617630984737906,2.2512917986064953,2.2300144001592104,2.2512917986064953,2.2512917986064953,2.2300144001592104,2.2192034840549946,2.2300144001592104,2.4423470353692043,2.2512917986064953,2.2192034840549946,2.302585092994046,2.2512917986064953,2.2512917986064953,2.1972245773362196,2.2407096892759584,2.2617630984737906,2.2512917986064953,2.2512917986064953,2.2512917986064953,2.2407096892759584,2.2512917986064953,2.2082744135228043,2.3702437414678603,2.4159137783010487,2.2823823856765264,2.2823823856765264,2.2192034840549946,2.272125885509337,2.2617630984737906,2.302585092994046,2.2617630984737906,2.2512917986064953,2.2512917986064953,2.2407096892759584,2.2512917986064953,2.272125885509337,2.2617630984737906,2.272125885509337,2.2407096892759584,2.2407096892759584,2.2512917986064953,2.2512917986064953,2.302585092994046,2.33214389523559,2.33214389523559,2.3513752571634776,2.2823823856765264,2.2407096892759584,2.2823823856765264,2.302585092994046,2.2823823856765264,2.2823823856765264,2.2512917986064953,2.2512917986064953,2.312535423847214,2.312535423847214,2.2300144001592104,2.272125885509337,2.2617630984737906,2.272125885509337,2.379546134130174,2.5257286443082556,2.322387720290225,2.2617630984737906,2.379546134130174,2.3702437414678603,2.3702437414678603,2.2407096892759584,2.302585092994046,2.5572273113676265,2.2617630984737906,2.2925347571405443,2.5494451709255714,2.5257286443082556,2.5494451709255714,2.2192034840549946,2.33214389523559,2.3513752571634776,2.388762789235098,2.379546134130174,2.4336133554004498,2.424802725718295,2.379546134130174,2.3513752571634776,2.4765384001174837,2.2407096892759584,2.2617630984737906,2.272125885509337,2.6390573296152584,2.2823823856765264,2.2823823856765264,2.33214389523559,2.3702437414678603,2.3978952727983707,2.3702437414678603,2.4069451083182885,2.388762789235098,2.4069451083182885,2.2925347571405443,2.2407096892759584,2.2300144001592104,2.4595888418037104,2.4595888418037104,2.4159137783010487,2.302585092994046,2.4932054526026954,2.33214389523559,2.388762789235098,2.2407096892759584,2.3608540011180215,2.2823823856765264,2.2823823856765264,2.2925347571405443,2.2823823856765264,2.2823823856765264,2.2512917986064953,2.2512917986064953,2.272125885509337,2.388762789235098,2.388762789235098,2.4595888418037104,2.388762789235098,2.424802725718295,2.3608540011180215,2.4159137783010487,2.2512917986064953,2.4423470353692043,2.341805806147327,2.272125885509337,2.2512917986064953,2.272125885509337,2.424802725718295,2.4159137783010487,2.4159137783010487,2.388762789235098,2.468099531471619,2.3608540011180215,2.302585092994046,2.4069451083182885,2.468099531471619,2.468099531471619,2.388762789235098,2.468099531471619,2.302585092994046,2.2512917986064953,2.2925347571405443,2.4336133554004498,2.4849066497880004,2.2512917986064953,2.302585092994046,2.3513752571634776,2.341805806147327,2.4932054526026954,2.4159137783010487,2.2300144001592104,2.312535423847214,2.272125885509337,2.2300144001592104,2.272125885509337,2.2823823856765264,2.3702437414678603,2.5257286443082556,2.3702437414678603,2.5257286443082556,2.468099531471619,2.379546134130174,2.379546134130174,2.379546134130174,2.379546134130174,2.2512917986064953,2.3978952727983707,2.4423470353692043,2.379546134130174,2.4423470353692043,2.580216829592325,2.388762789235098,2.501435951739211,2.501435951739211,2.4423470353692043,2.4765384001174837,2.3978952727983707,2.312535423847214,2.3978952727983707,2.468099531471619,2.3513752571634776,2.3978952727983707,2.468099531471619,2.312535423847214,2.4159137783010487,2.3978952727983707,2.322387720290225,2.2192034840549946,2.4159137783010487,2.4849066497880004,2.3513752571634776,2.2823823856765264,2.2512917986064953,2.2823823856765264,2.3513752571634776,2.468099531471619,2.468099531471619,2.341805806147327,2.5572273113676265,2.4336133554004498,2.517696472610991,2.5257286443082556,2.302585092994046,2.272125885509337,2.4932054526026954,2.4069451083182885,2.4849066497880004,2.517696472610991,2.4765384001174837,2.4765384001174837,2.4765384001174837,2.517696472610991,2.4159137783010487,2.4932054526026954,2.501435951739211,2.341805806147327,2.424802725718295,2.4069451083182885,2.424802725718295,2.302585092994046,2.4069451083182885,2.2300144001592104,2.2512917986064953,2.4159137783010487,2.4069451083182885,2.3978952727983707,2.4765384001174837,2.2192034840549946,2.501435951739211,2.322387720290225,2.388762789235098,2.388762789235098,2.451005098112319,2.3702437414678603,2.4932054526026954,2.2407096892759584,2.2407096892759584,2.2082744135228043,2.424802725718295,2.341805806147327,2.3513752571634776,2.302585092994046,2.5572273113676265,2.3513752571634776,2.341805806147327,2.424802725718295,2.4336133554004498,2.2407096892759584,2.2407096892759584,2.388762789235098,2.2407096892759584,2.2407096892759584,2.2407096892759584,2.2407096892759584,2.2407096892759584,2.312535423847214,2.5494451709255714,2.5494451709255714,2.2082744135228043,2.5572273113676265,2.4423470353692043,2.3608540011180215,2.4595888418037104,2.5494451709255714,2.33214389523559,2.5494451709255714,2.4595888418037104,2.4595888418037104,2.4849066497880004,2.388762789235098,2.509599262378372,2.341805806147327,2.302585092994046,2.302585092994046,2.4159137783010487,2.4336133554004498,2.533696813957432,2.5416019934645457,2.5416019934645457,2.341805806147327,2.4765384001174837,2.4765384001174837,2.3513752571634776,2.509599262378372,2.3513752571634776,2.341805806147327,2.533696813957432,2.451005098112319,2.312535423847214,2.3513752571634776,2.4423470353692043,2.3978952727983707,2.2617630984737906,2.341805806147327,2.272125885509337,2.3608540011180215,2.5257286443082556,2.2192034840549946,2.533696813957432,2.4069451083182885,2.322387720290225,2.2823823856765264,2.4069451083182885,2.388762789235098,2.501435951739211,2.4336133554004498,2.3702437414678603,2.341805806147327,2.388762789235098,2.379546134130174,2.341805806147327,2.2192034840549946,2.5572273113676265,2.5416019934645457,2.2082744135228043,2.2082744135228043,2.4932054526026954,2.2082744135228043,2.451005098112319,2.4932054526026954,2.2925347571405443,2.4336133554004498,2.468099531471619,2.468099531471619,2.322387720290225,2.5257286443082556,2.388762789235098,2.388762789235098,2.379546134130174,2.4069451083182885,2.2192034840549946,2.2512917986064953,2.3702437414678603,2.2192034840549946,2.322387720290225,2.4336133554004498,2.3978952727983707,2.3978952727983707,2.509599262378372,2.468099531471619,2.509599262378372,2.2512917986064953,2.4849066497880004,2.2512917986064953,2.2617630984737906,2.451005098112319,2.4159137783010487,2.2925347571405443,2.2925347571405443,2.4336133554004498,2.4423470353692043,2.4849066497880004,2.379546134130174,2.3513752571634776,2.379546134130174,2.2407096892759584,2.5257286443082556,2.2407096892759584,2.517696472610991,2.4849066497880004,2.4159137783010487,2.4849066497880004,2.517696472610991,2.5494451709255714,2.509599262378372,2.4595888418037104,2.2512917986064953,2.379546134130174,2.302585092994046,2.509599262378372,2.3978952727983707,2.2512917986064953,2.6100697927420065,2.424802725718295,2.424802725718295,2.424802725718295,2.5877640352277083,2.5572273113676265,2.509599262378372,2.509599262378372,2.4159137783010487,2.4423470353692043,2.424802725718295,2.6026896854443837,2.4423470353692043,2.302585092994046,2.3513752571634776,2.341805806147327,2.2512917986064953,2.6100697927420065,2.4159137783010487,2.468099531471619,2.4765384001174837,2.4336133554004498,2.4336133554004498,2.2082744135228043,2.2512917986064953,2.2512917986064953,2.3978952727983707,2.4336133554004498,2.302585092994046,2.312535423847214,2.341805806147327,2.2823823856765264,2.468099531471619,2.451005098112319,2.4849066497880004,2.5494451709255714,2.5257286443082556,2.2823823856765264,2.4069451083182885,2.4336133554004498,2.2823823856765264,2.468099531471619,2.5572273113676265,2.3608540011180215,2.379546134130174,2.4069451083182885,2.322387720290225,2.468099531471619,2.302585092994046,2.302585092994046,2.2407096892759584,2.322387720290225,2.517696472610991,2.4849066497880004,2.4423470353692043,2.3513752571634776,2.379546134130174,2.509599262378372,2.2512917986064953,2.2512917986064953,2.4423470353692043,2.4159137783010487,2.5416019934645457,2.4336133554004498,2.3978952727983707,2.3978952727983707,2.4336133554004498,2.3513752571634776,2.2300144001592104,2.388762789235098,2.4765384001174837,2.501435951739211,2.4765384001174837,2.388762789235098,2.2617630984737906,2.5257286443082556,2.379546134130174,2.517696472610991,2.379546134130174,2.2512917986064953,2.2512917986064953,2.2512917986064953,2.2823823856765264,2.388762789235098,2.2512917986064953,2.2823823856765264,2.4159137783010487,2.2407096892759584,2.3978952727983707,2.3978952727983707,2.3978952727983707,2.302585092994046,2.3978952727983707,2.4159137783010487,2.341805806147327,2.2300144001592104,2.341805806147327,2.3513752571634776,2.341805806147327,2.424802725718295,2.2512917986064953,2.4849066497880004,2.3608540011180215,2.388762789235098,2.4423470353692043,2.4423470353692043,2.2617630984737906,2.4849066497880004,2.33214389523559,2.2407096892759584,2.2192034840549946,2.2617630984737906,2.6100697927420065,2.2512917986064953,2.468099531471619,2.379546134130174,2.2512917986064953,2.2300144001592104,2.5494451709255714,2.4423470353692043,2.2407096892759584,2.5494451709255714,2.2617630984737906,2.468099531471619,2.2300144001592104,2.2823823856765264,2.501435951739211,2.2512917986064953,2.33214389523559,2.3513752571634776,2.302585092994046,2.3513752571634776,2.4069451083182885,2.388762789235098,2.388762789235098,2.2823823856765264,2.2823823856765264,2.2512917986064953,2.388762789235098,2.3978952727983707,2.2192034840549946,2.3978952727983707,2.424802725718295,2.424802725718295,2.2300144001592104,2.4159137783010487,2.2823823856765264,2.2617630984737906,2.468099531471619,2.33214389523559,2.33214389523559,2.4336133554004498,2.2512917986064953,2.6390573296152584,2.4595888418037104,2.4159137783010487,2.2300144001592104,2.4159137783010487,2.2512917986064953,2.4849066497880004,2.272125885509337,2.2512917986064953,2.4423470353692043,2.341805806147327,2.341805806147327,2.388762789235098,2.322387720290225,2.388762789235098,2.3513752571634776,2.517696472610991,2.5649493574615367,2.322387720290225,2.322387720290225,2.3978952727983707,2.388762789235098,2.517696472610991,2.272125885509337,2.388762789235098,2.2512917986064953,2.2512917986064953,2.4932054526026954,2.501435951739211,2.5257286443082556,2.4595888418037104,2.4159137783010487,2.4159137783010487,2.2192034840549946,2.2823823856765264,2.312535423847214,2.4069451083182885,2.312535423847214,2.2192034840549946,2.2823823856765264,2.5494451709255714,2.3513752571634776,2.312535423847214,2.312535423847214,2.2823823856765264,2.5257286443082556,2.4765384001174837,2.2823823856765264,2.2082744135228043,2.312535423847214,2.5257286443082556,2.4336133554004498,2.3978952727983707,2.3608540011180215,2.3608540011180215,2.3608540011180215,2.3608540011180215,2.2300144001592104,2.2823823856765264,2.2823823856765264,2.2192034840549946,2.272125885509337,2.2617630984737906,2.302585092994046,2.533696813957432,2.2512917986064953,2.2512917986064953,2.2512917986064953,2.3513752571634776,2.3513752571634776,2.3513752571634776,2.341805806147327,2.3513752571634776,2.3978952727983707,2.322387720290225,2.4336133554004498,2.2512917986064953,2.2512917986064953,2.379546134130174,2.302585092994046,2.468099531471619,2.33214389523559,2.33214389523559,2.302585092994046,2.312535423847214,2.312535423847214,2.4069451083182885,2.2512917986064953,2.305912883086717,2.388762789235098,2.312535423847214,2.305912883086717,2.2823823856765264,2.468099531471619,2.2512917986064953,2.2823823856765264,2.3513752571634776,2.2823823856765264,2.341805806147327,2.2192034840549946,2.451005098112319,2.2192034840549946,2.2300144001592104,2.2925347571405443,2.302585092994046,2.501435951739211,2.2925347571405443,2.379546134130174,2.379546134130174,2.2617630984737906,2.2925347571405443,2.2925347571405443,2.2512917986064953,2.2192034840549946,2.2617630984737906,2.2617630984737906,2.33214389523559,2.272125885509337,2.5257286443082556,2.3978952727983707,2.2823823856765264,2.322387720290225,2.2192034840549946,2.256541154492639,2.256541154492639,2.2925347571405443,2.322387720290225,2.4069451083182885,2.2925347571405443,2.2925347571405443,2.4765384001174837,2.3702437414678603,2.424802725718295,2.388762789235098,2.3702437414678603,2.517696472610991,2.3702437414678603,2.4765384001174837,2.3608540011180215,2.388762789235098,2.312535423847214,2.2617630984737906,2.2407096892759584,2.2617630984737906,2.4932054526026954,2.2823823856765264,2.2925347571405443,2.2823823856765264,2.2407096892759584,2.4336133554004498,2.3978952727983707,2.2617630984737906,2.2617630984737906,2.4932054526026954,2.4159137783010487,2.3978952727983707,2.424802725718295,2.341805806147327,2.2925347571405443,2.4595888418037104,2.312535423847214,2.1972245773362196,2.1972245773362196,2.1400661634962708,2.4069451083182885,2.33214389523559,2.4039375872543363,2.424802725718295,2.258284834097466,2.2823823856765264,2.4595888418037104,2.4069451083182885,2.2617630984737906,2.2823823856765264,2.272125885509337,2.272125885509337,2.424802725718295,2.3978952727983707,2.451005098112319,2.1972245773362196,2.388762789235098,2.388762789235098,2.3561258599220753,2.1972245773362196,2.3513752571634776,2.4765384001174837,2.341805806147327,2.302585092994046,2.341805806147327,2.379546134130174,2.272125885509337,2.272125885509337,2.302585092994046,2.3978952727983707,2.302585092994046,2.272125885509337,2.533696813957432,2.4069451083182885,2.3978952727983707,2.174751721484161,2.607615803780442,2.174751721484161,2.6100697927420065,2.3608540011180215,2.312535423847214,2.3608540011180215,2.33214389523559,2.3702437414678603,2.388762789235098,2.272125885509337,2.33214389523559,2.3608540011180215,2.4336133554004498,2.379546134130174,2.517696472610991,2.4336133554004498,2.4807312783775197,2.272125885509337,2.302585092994046,2.3608540011180215,2.272125885509337,2.4423470353692043,2.379546134130174,2.4423470353692043,2.2617630984737906,2.2407096892759584,2.2823823856765264,2.3978952727983707,2.4336133554004498,2.379546134130174,2.4336133554004498,2.3608540011180215,2.4069451083182885,2.272125885509337,2.2823823856765264,2.341805806147327,2.3513752571634776,2.2228201245251826,2.224623551524334,2.3608540011180215,2.33214389523559,2.3513752571634776,2.322387720290225,2.33214389523559,2.2027647577118348,2.3608540011180215,2.341805806147327,2.302585092994046,2.272125885509337,2.2617630984737906,2.379546134130174,2.312535423847214,2.322387720290225,2.424802725718295,2.322387720290225,2.2925347571405443,2.1972245773362196,2.4595888418037104,2.272125885509337,2.33214389523559,2.322387720290225,2.4849066497880004,2.2925347571405443,2.451005098112319,2.388762789235098,2.3749057545736716,2.341805806147327,2.4159137783010487,2.312535423847214,2.322387720290225,2.4932054526026954,2.341805806147327,2.2512917986064953,2.2407096892759584,2.424802725718295,2.2407096892759584,2.3978952727983707,2.3561258599220753,2.2925347571405443,2.3978952727983707,2.2512917986064953,2.2925347571405443,2.2925347571405443,2.2925347571405443,2.312535423847214,2.312535423847214,2.312535423847214,2.388762789235098,2.4159137783010487,2.312535423847214,2.2192034840549946,2.4423470353692043,2.517696472610991,2.4069451083182885,2.2512917986064953,2.5257286443082556,2.3513752571634776,2.468099531471619,2.379546134130174,2.4765384001174837,2.424802725718295,2.424802725718295,2.4765384001174837,2.424802725718295,2.4765384001174837,2.2823823856765264,2.451005098112319,2.4423470353692043,2.4336133554004498,2.388762789235098,2.5494451709255714,2.2192034840549946,2.451005098112319,2.451005098112319,2.3978952727983707,2.2512917986064953,2.3513752571634776,2.4159137783010487,2.3978952727983707,2.322387720290225,2.3978952727983707]}],\"hovertemplate\":\"%{xaxis.title.text}=%{x}<br>%{yaxis.title.text}=%{y}<br>quality=%{marker.color}<extra></extra>\",\"legendgroup\":\"\",\"marker\":{\"color\":[5,5,5,6,5,5,5,7,7,5,5,5,5,5,5,5,7,5,4,6,6,5,5,5,6,5,5,5,5,6,5,6,5,6,5,6,6,7,4,5,5,4,6,5,5,4,5,5,5,5,5,6,6,5,6,5,5,5,5,6,5,5,7,5,5,5,5,5,5,6,6,5,5,4,5,5,5,6,5,4,5,5,5,5,6,5,6,5,5,5,5,6,5,5,4,6,5,5,5,6,6,6,6,5,5,5,5,5,6,5,5,5,5,6,5,6,6,6,6,6,5,6,5,5,5,5,5,5,7,5,5,5,5,6,6,5,5,5,5,5,5,5,6,5,6,5,5,5,6,6,6,4,5,5,5,5,5,5,5,6,5,4,6,5,5,5,5,4,6,5,4,6,6,6,5,5,5,6,5,5,5,5,5,5,6,5,5,5,5,5,5,6,5,5,5,5,5,6,7,4,7,5,5,5,6,7,7,5,5,7,6,6,6,5,6,5,5,5,5,5,6,5,5,6,4,6,6,5,6,5,7,6,6,5,6,6,6,6,6,6,5,6,6,7,7,6,5,5,6,6,6,6,5,5,6,5,5,5,5,7,5,4,5,5,5,7,4,6,6,6,6,5,5,5,6,6,6,7,6,7,5,7,5,5,6,6,7,5,7,5,6,6,6,5,5,5,5,5,6,6,5,5,5,6,5,6,6,6,6,6,6,5,5,6,5,6,7,6,7,5,5,6,6,6,7,5,6,5,6,6,6,5,7,7,6,5,6,7,6,6,6,6,6,5,7,6,6,6,6,6,5,5,6,6,5,7,7,6,5,6,5,5,7,6,7,5,5,7,5,6,6,5,6,7,6,7,6,6,6,6,6,6,5,6,6,6,6,7,6,5,5,5,7,5,6,6,5,5,6,6,6,5,6,6,7,6,4,6,5,5,7,5,5,6,5,6,5,7,7,5,7,5,7,6,6,5,6,7,5,6,5,6,5,6,6,6,5,6,7,7,7,6,5,5,6,6,6,6,6,7,5,5,5,7,6,5,5,5,6,5,6,6,6,5,5,6,6,5,6,5,5,6,5,6,5,5,5,6,5,5,6,7,6,6,7,7,6,6,6,5,6,6,7,7,7,7,7,7,6,6,7,5,6,6,7,7,5,6,6,5,6,5,5,5,5,5,5,6,6,5,6,5,5,6,6,6,5,6,7,5,5,6,5,6,6,5,6,6,6,6,6,6,6,5,5,5,6,5,6,6,5,5,5,6,6,5,6,6,6,6,6,6,5,4,6,6,4,5,5,6,5,5,5,7,7,6,7,5,7,5,6,5,5,5,5,6,6,6,6,4,6,5,6,6,6,7,6,6,6,5,5,6,5,6,5,5,6,5,5,5,5,5,6,5,5,5,5,6,5,6,5,6,4,5,5,5,5,7,6,5,5,5,5,5,7,5,4,7,6,5,5,5,6,5,5,5,7,6,4,6,5,6,6,5,5,6,6,5,6,5,5,5,5,6,5,6,5,5,5,5,6,5,5,5,5,5,5,5,5,5,5,5,5,6,6,6,5,6,6,6,6,4,4,5,5,5,6,6,5,5,5,5,5,6,5,5,5,5,5,5,5,5,4,5,6,5,5,6,5,5,5,5,5,5,5,6,5,5,6,5,5,5,5,6,6,5,6,6,5,5,5,5,6,6,6,5,5,5,5,5,6,5,6,6,5,5,6,5,6,5,5,6,6,5,6,6,5,5,6,5,5,5,5,5,5,6,6,5,6,5,6,5,6,5,5,7,6,6,5,5,7,6,6,7,7,7,5,6,5,6,5,4,6,5,6,6,5,5,5,7,5,5,5,5,7,5,6,4,6,4,5,5,7,7,7,5,7,5,6,5,6,5,5,6,5,5,5,5,5,6,6,7,6,7,7,6,5,6,5,5,5,5,6,6,6,6,6,5,4,7,7,7,4,6,6,5,5,6,6,5,6,5,6,7,6,5,5,5,6,5,6,6,7,6,7,5,7,7,7,7,5,5,6,6,6,6,6,6,7,6,6,5,6,6,6,5,6,6,6,5,7,6,4,5,7,5,5,6,5,5,6,6,4,7,5,7,7,7,7,7,7,7,7,7,7,7,7,7,7,6,5,6,6,7,5,6,5,5,6,6,6,7,5,6,5,6,6,7,5,7,5,5,5,7,5,6,5,6,6,5,6,7,5,5,6,5,5,6,5,5,6,7,7,6,6,7,7,7,7,5,7,7,7,7,5,7,6,5,6,6,6,7,6,6,5,6,6,5,6,7,6,6,5,6,7,7,7,5,6,6,7,7,5,7,6,5,6,6,7,6,6,6,5,6,6,5,5,5,7,6,6,7,5,7,7,6,6,6,6,6,7,7,7,5,7,5,6,6,5,7,6,5,5,7,6,7,6,6,6,5,7,6,7,7,6,6,7,6,5,6,5,7,5,6,6,6,6,6,5,6,7,5,6,6,7,6,6,6,6,6,6,6,5,6,6,6,4,7,6,6,5,6,6,5,7,7,7,6,6,6,5,6,6,6,6,6,5,6,6,7,6,6,7,6,5,6,6,5,7,7,6,5,7,6,7,5,5,5,5,7,6,6,6,6,6,6,6,6,4,7,5,6,6,5,6,5,5,6,5,6,5,4,6,5,7,5,6,6,6,6,6,6,6,7,5,7,7,7,5,7,7,6,5,6,6,6,6,6,6,6,6,6,6,6,6,6,5,5,5,7,5,6,5,5,4,6,4,6,6,4,4,5,5,6,5,6,5,5,5,6,6,6,5,5,5,5,5,5,6,6,6,5,4,5,4,6,6,6,6,6,6,6,5,5,6,6,4,6,6,7,6,6,6,6,5,5,6,5,5,5,5,6,6,4,6,5,5,6,6,6,6,6,5,5,5,5,4,5,5,5,6,5,6,6,6,6,6,6,6,5,6,5,7,6,6,6,6,5,6,6,5,6,5,5,6,5,5,5,6,6,6,6,6,5,6,5,5,5,5,5,6,5,5,5,5,5,6,5,6,5,5,6,4,6,5,5,6,6,4,5,6,5,5,5,5,6,6,6,6,5,5,5,5,5,5,5,5,5,6,5,5,5,5,6,5,5,7,6,5,5,6,6,7,6,6,7,6,6,6,6,5,5,5,5,7,5,5,5,5,6,4,6,6,6,5,5,5,5,6,6,7,6,6,5,5,5,6,7,6,5,5,6,6,5,5,5,7,7,7,5,6,6,6,5,5,7,6,4,6,6,5,5,7,4,7,5,5,6,5,5,7,5,7,5,4,5,4,5,4,5,5,5,5,6,6,5,5,5,7,6,5,6,6,6,5,5,5,6,6,6,6,6,5,6,5,6,6,6,6,5,6,5,5,6,4,5,5,6,5,6,6,6,6,6,5,6,5,7,6,6,6,5,5,6,7,6,6,7,6,5,5,5,5,5,6,5,6,7,5,6,5,5,5,5,5,5,5,6,6,5,5,6,6,6,5,6,6,6,6,6,6,5,6,5,5,5,7,6,6,6,6,5,6,6,6,6,5,6,6,5,6],\"coloraxis\":\"coloraxis\",\"symbol\":\"circle\"},\"name\":\"\",\"showlegend\":false,\"type\":\"splom\"}],                        {\"coloraxis\":{\"colorbar\":{\"title\":{\"text\":\"quality\"}},\"colorscale\":[[0.0,\"#0d0887\"],[0.1111111111111111,\"#46039f\"],[0.2222222222222222,\"#7201a8\"],[0.3333333333333333,\"#9c179e\"],[0.4444444444444444,\"#bd3786\"],[0.5555555555555556,\"#d8576b\"],[0.6666666666666666,\"#ed7953\"],[0.7777777777777778,\"#fb9f3a\"],[0.8888888888888888,\"#fdca26\"],[1.0,\"#f0f921\"]]},\"dragmode\":\"select\",\"height\":700,\"legend\":{\"tracegroupgap\":0},\"template\":{\"data\":{\"bar\":[{\"error_x\":{\"color\":\"#2a3f5f\"},\"error_y\":{\"color\":\"#2a3f5f\"},\"marker\":{\"line\":{\"color\":\"#E5ECF6\",\"width\":0.5},\"pattern\":{\"fillmode\":\"overlay\",\"size\":10,\"solidity\":0.2}},\"type\":\"bar\"}],\"barpolar\":[{\"marker\":{\"line\":{\"color\":\"#E5ECF6\",\"width\":0.5},\"pattern\":{\"fillmode\":\"overlay\",\"size\":10,\"solidity\":0.2}},\"type\":\"barpolar\"}],\"carpet\":[{\"aaxis\":{\"endlinecolor\":\"#2a3f5f\",\"gridcolor\":\"white\",\"linecolor\":\"white\",\"minorgridcolor\":\"white\",\"startlinecolor\":\"#2a3f5f\"},\"baxis\":{\"endlinecolor\":\"#2a3f5f\",\"gridcolor\":\"white\",\"linecolor\":\"white\",\"minorgridcolor\":\"white\",\"startlinecolor\":\"#2a3f5f\"},\"type\":\"carpet\"}],\"choropleth\":[{\"colorbar\":{\"outlinewidth\":0,\"ticks\":\"\"},\"type\":\"choropleth\"}],\"contour\":[{\"colorbar\":{\"outlinewidth\":0,\"ticks\":\"\"},\"colorscale\":[[0.0,\"#0d0887\"],[0.1111111111111111,\"#46039f\"],[0.2222222222222222,\"#7201a8\"],[0.3333333333333333,\"#9c179e\"],[0.4444444444444444,\"#bd3786\"],[0.5555555555555556,\"#d8576b\"],[0.6666666666666666,\"#ed7953\"],[0.7777777777777778,\"#fb9f3a\"],[0.8888888888888888,\"#fdca26\"],[1.0,\"#f0f921\"]],\"type\":\"contour\"}],\"contourcarpet\":[{\"colorbar\":{\"outlinewidth\":0,\"ticks\":\"\"},\"type\":\"contourcarpet\"}],\"heatmap\":[{\"colorbar\":{\"outlinewidth\":0,\"ticks\":\"\"},\"colorscale\":[[0.0,\"#0d0887\"],[0.1111111111111111,\"#46039f\"],[0.2222222222222222,\"#7201a8\"],[0.3333333333333333,\"#9c179e\"],[0.4444444444444444,\"#bd3786\"],[0.5555555555555556,\"#d8576b\"],[0.6666666666666666,\"#ed7953\"],[0.7777777777777778,\"#fb9f3a\"],[0.8888888888888888,\"#fdca26\"],[1.0,\"#f0f921\"]],\"type\":\"heatmap\"}],\"heatmapgl\":[{\"colorbar\":{\"outlinewidth\":0,\"ticks\":\"\"},\"colorscale\":[[0.0,\"#0d0887\"],[0.1111111111111111,\"#46039f\"],[0.2222222222222222,\"#7201a8\"],[0.3333333333333333,\"#9c179e\"],[0.4444444444444444,\"#bd3786\"],[0.5555555555555556,\"#d8576b\"],[0.6666666666666666,\"#ed7953\"],[0.7777777777777778,\"#fb9f3a\"],[0.8888888888888888,\"#fdca26\"],[1.0,\"#f0f921\"]],\"type\":\"heatmapgl\"}],\"histogram\":[{\"marker\":{\"pattern\":{\"fillmode\":\"overlay\",\"size\":10,\"solidity\":0.2}},\"type\":\"histogram\"}],\"histogram2d\":[{\"colorbar\":{\"outlinewidth\":0,\"ticks\":\"\"},\"colorscale\":[[0.0,\"#0d0887\"],[0.1111111111111111,\"#46039f\"],[0.2222222222222222,\"#7201a8\"],[0.3333333333333333,\"#9c179e\"],[0.4444444444444444,\"#bd3786\"],[0.5555555555555556,\"#d8576b\"],[0.6666666666666666,\"#ed7953\"],[0.7777777777777778,\"#fb9f3a\"],[0.8888888888888888,\"#fdca26\"],[1.0,\"#f0f921\"]],\"type\":\"histogram2d\"}],\"histogram2dcontour\":[{\"colorbar\":{\"outlinewidth\":0,\"ticks\":\"\"},\"colorscale\":[[0.0,\"#0d0887\"],[0.1111111111111111,\"#46039f\"],[0.2222222222222222,\"#7201a8\"],[0.3333333333333333,\"#9c179e\"],[0.4444444444444444,\"#bd3786\"],[0.5555555555555556,\"#d8576b\"],[0.6666666666666666,\"#ed7953\"],[0.7777777777777778,\"#fb9f3a\"],[0.8888888888888888,\"#fdca26\"],[1.0,\"#f0f921\"]],\"type\":\"histogram2dcontour\"}],\"mesh3d\":[{\"colorbar\":{\"outlinewidth\":0,\"ticks\":\"\"},\"type\":\"mesh3d\"}],\"parcoords\":[{\"line\":{\"colorbar\":{\"outlinewidth\":0,\"ticks\":\"\"}},\"type\":\"parcoords\"}],\"pie\":[{\"automargin\":true,\"type\":\"pie\"}],\"scatter\":[{\"marker\":{\"colorbar\":{\"outlinewidth\":0,\"ticks\":\"\"}},\"type\":\"scatter\"}],\"scatter3d\":[{\"line\":{\"colorbar\":{\"outlinewidth\":0,\"ticks\":\"\"}},\"marker\":{\"colorbar\":{\"outlinewidth\":0,\"ticks\":\"\"}},\"type\":\"scatter3d\"}],\"scattercarpet\":[{\"marker\":{\"colorbar\":{\"outlinewidth\":0,\"ticks\":\"\"}},\"type\":\"scattercarpet\"}],\"scattergeo\":[{\"marker\":{\"colorbar\":{\"outlinewidth\":0,\"ticks\":\"\"}},\"type\":\"scattergeo\"}],\"scattergl\":[{\"marker\":{\"colorbar\":{\"outlinewidth\":0,\"ticks\":\"\"}},\"type\":\"scattergl\"}],\"scattermapbox\":[{\"marker\":{\"colorbar\":{\"outlinewidth\":0,\"ticks\":\"\"}},\"type\":\"scattermapbox\"}],\"scatterpolar\":[{\"marker\":{\"colorbar\":{\"outlinewidth\":0,\"ticks\":\"\"}},\"type\":\"scatterpolar\"}],\"scatterpolargl\":[{\"marker\":{\"colorbar\":{\"outlinewidth\":0,\"ticks\":\"\"}},\"type\":\"scatterpolargl\"}],\"scatterternary\":[{\"marker\":{\"colorbar\":{\"outlinewidth\":0,\"ticks\":\"\"}},\"type\":\"scatterternary\"}],\"surface\":[{\"colorbar\":{\"outlinewidth\":0,\"ticks\":\"\"},\"colorscale\":[[0.0,\"#0d0887\"],[0.1111111111111111,\"#46039f\"],[0.2222222222222222,\"#7201a8\"],[0.3333333333333333,\"#9c179e\"],[0.4444444444444444,\"#bd3786\"],[0.5555555555555556,\"#d8576b\"],[0.6666666666666666,\"#ed7953\"],[0.7777777777777778,\"#fb9f3a\"],[0.8888888888888888,\"#fdca26\"],[1.0,\"#f0f921\"]],\"type\":\"surface\"}],\"table\":[{\"cells\":{\"fill\":{\"color\":\"#EBF0F8\"},\"line\":{\"color\":\"white\"}},\"header\":{\"fill\":{\"color\":\"#C8D4E3\"},\"line\":{\"color\":\"white\"}},\"type\":\"table\"}]},\"layout\":{\"annotationdefaults\":{\"arrowcolor\":\"#2a3f5f\",\"arrowhead\":0,\"arrowwidth\":1},\"autotypenumbers\":\"strict\",\"coloraxis\":{\"colorbar\":{\"outlinewidth\":0,\"ticks\":\"\"}},\"colorscale\":{\"diverging\":[[0,\"#8e0152\"],[0.1,\"#c51b7d\"],[0.2,\"#de77ae\"],[0.3,\"#f1b6da\"],[0.4,\"#fde0ef\"],[0.5,\"#f7f7f7\"],[0.6,\"#e6f5d0\"],[0.7,\"#b8e186\"],[0.8,\"#7fbc41\"],[0.9,\"#4d9221\"],[1,\"#276419\"]],\"sequential\":[[0.0,\"#0d0887\"],[0.1111111111111111,\"#46039f\"],[0.2222222222222222,\"#7201a8\"],[0.3333333333333333,\"#9c179e\"],[0.4444444444444444,\"#bd3786\"],[0.5555555555555556,\"#d8576b\"],[0.6666666666666666,\"#ed7953\"],[0.7777777777777778,\"#fb9f3a\"],[0.8888888888888888,\"#fdca26\"],[1.0,\"#f0f921\"]],\"sequentialminus\":[[0.0,\"#0d0887\"],[0.1111111111111111,\"#46039f\"],[0.2222222222222222,\"#7201a8\"],[0.3333333333333333,\"#9c179e\"],[0.4444444444444444,\"#bd3786\"],[0.5555555555555556,\"#d8576b\"],[0.6666666666666666,\"#ed7953\"],[0.7777777777777778,\"#fb9f3a\"],[0.8888888888888888,\"#fdca26\"],[1.0,\"#f0f921\"]]},\"colorway\":[\"#636efa\",\"#EF553B\",\"#00cc96\",\"#ab63fa\",\"#FFA15A\",\"#19d3f3\",\"#FF6692\",\"#B6E880\",\"#FF97FF\",\"#FECB52\"],\"font\":{\"color\":\"#2a3f5f\"},\"geo\":{\"bgcolor\":\"white\",\"lakecolor\":\"white\",\"landcolor\":\"#E5ECF6\",\"showlakes\":true,\"showland\":true,\"subunitcolor\":\"white\"},\"hoverlabel\":{\"align\":\"left\"},\"hovermode\":\"closest\",\"mapbox\":{\"style\":\"light\"},\"paper_bgcolor\":\"white\",\"plot_bgcolor\":\"#E5ECF6\",\"polar\":{\"angularaxis\":{\"gridcolor\":\"white\",\"linecolor\":\"white\",\"ticks\":\"\"},\"bgcolor\":\"#E5ECF6\",\"radialaxis\":{\"gridcolor\":\"white\",\"linecolor\":\"white\",\"ticks\":\"\"}},\"scene\":{\"xaxis\":{\"backgroundcolor\":\"#E5ECF6\",\"gridcolor\":\"white\",\"gridwidth\":2,\"linecolor\":\"white\",\"showbackground\":true,\"ticks\":\"\",\"zerolinecolor\":\"white\"},\"yaxis\":{\"backgroundcolor\":\"#E5ECF6\",\"gridcolor\":\"white\",\"gridwidth\":2,\"linecolor\":\"white\",\"showbackground\":true,\"ticks\":\"\",\"zerolinecolor\":\"white\"},\"zaxis\":{\"backgroundcolor\":\"#E5ECF6\",\"gridcolor\":\"white\",\"gridwidth\":2,\"linecolor\":\"white\",\"showbackground\":true,\"ticks\":\"\",\"zerolinecolor\":\"white\"}},\"shapedefaults\":{\"line\":{\"color\":\"#2a3f5f\"}},\"ternary\":{\"aaxis\":{\"gridcolor\":\"white\",\"linecolor\":\"white\",\"ticks\":\"\"},\"baxis\":{\"gridcolor\":\"white\",\"linecolor\":\"white\",\"ticks\":\"\"},\"bgcolor\":\"#E5ECF6\",\"caxis\":{\"gridcolor\":\"white\",\"linecolor\":\"white\",\"ticks\":\"\"}},\"title\":{\"x\":0.05},\"xaxis\":{\"automargin\":true,\"gridcolor\":\"white\",\"linecolor\":\"white\",\"ticks\":\"\",\"title\":{\"standoff\":15},\"zerolinecolor\":\"white\",\"zerolinewidth\":2},\"yaxis\":{\"automargin\":true,\"gridcolor\":\"white\",\"linecolor\":\"white\",\"ticks\":\"\",\"title\":{\"standoff\":15},\"zerolinecolor\":\"white\",\"zerolinewidth\":2}}},\"title\":{\"text\":\"Wine quality dataset\"},\"width\":1200},                        {\"responsive\": true}                    ).then(function(){\n",
       "                            \n",
       "var gd = document.getElementById('6593a12b-60de-494f-ba8d-c7f7a94d2996');\n",
       "var x = new MutationObserver(function (mutations, observer) {{\n",
       "        var display = window.getComputedStyle(gd).display;\n",
       "        if (!display || display === 'none') {{\n",
       "            console.log([gd, 'removed!']);\n",
       "            Plotly.purge(gd);\n",
       "            observer.disconnect();\n",
       "        }}\n",
       "}});\n",
       "\n",
       "// Listen for the removal of the full notebook cells\n",
       "var notebookContainer = gd.closest('#notebook-container');\n",
       "if (notebookContainer) {{\n",
       "    x.observe(notebookContainer, {childList: true});\n",
       "}}\n",
       "\n",
       "// Listen for the clearing of the current output cell\n",
       "var outputEl = gd.closest('.output');\n",
       "if (outputEl) {{\n",
       "    x.observe(outputEl, {childList: true});\n",
       "}}\n",
       "\n",
       "                        })                };                            </script>        </div>\n",
       "</body>\n",
       "</html>"
      ]
     },
     "metadata": {},
     "output_type": "display_data"
    }
   ],
   "source": [
    "fig = px.scatter_matrix(ds, dimensions=ds.columns[:-1], color=\"quality\", title='Wine quality dataset', width=1200, height=700)\n",
    "fig.update_traces(diagonal_visible=False)\n",
    "fig.show()"
   ]
  },
  {
   "cell_type": "code",
   "execution_count": null,
   "metadata": {
    "cell_id": "00006-ab09fc16-21f0-4d92-8647-ae75cde5ccb6",
    "deepnote_cell_type": "code",
    "deepnote_output_heights": [
     338
    ],
    "deepnote_to_be_reexecuted": false,
    "execution_millis": 2556,
    "execution_start": 1634589896056,
    "source_hash": "3c24dd5b",
    "tags": []
   },
   "outputs": [
    {
     "data": {
      "image/png": "[encoded data removed]",
      "text/plain": [
       "<Figure size 432x288 with 2 Axes>"
      ]
     },
     "metadata": {
      "image/png": {
       "height": 336,
       "width": 441
      },
      "needs_background": "light"
     },
     "output_type": "display_data"
    }
   ],
   "source": [
    "sns.heatmap(ds.corr(), annot = True);"
   ]
  },
  {
   "cell_type": "code",
   "execution_count": null,
   "metadata": {
    "cell_id": "00006-880505dd-ed8c-44ab-b091-35ff56b76f8d",
    "deepnote_cell_type": "code",
    "deepnote_to_be_reexecuted": false,
    "execution_millis": 5,
    "execution_start": 1634589901607,
    "source_hash": "548313db",
    "tags": []
   },
   "outputs": [],
   "source": [
    "X, y = ds[ds.columns[:-1]], ds[\"quality\"]"
   ]
  },
  {
   "cell_type": "code",
   "execution_count": null,
   "metadata": {
    "cell_id": "00006-2aa8fb0e-1f6a-4cd7-adde-23e0d06431b1",
    "deepnote_cell_type": "code",
    "deepnote_to_be_reexecuted": false,
    "execution_millis": 9,
    "execution_start": 1634589903329,
    "source_hash": "81c82671",
    "tags": []
   },
   "outputs": [],
   "source": [
    "scaler = StandardScaler()\n",
    "X_scaled = scaler.fit_transform(X)"
   ]
  },
  {
   "cell_type": "code",
   "execution_count": null,
   "metadata": {
    "cell_id": "00007-ab3f9931-2d5d-4f33-bedb-2c3a640867f6",
    "deepnote_cell_type": "code",
    "deepnote_to_be_reexecuted": false,
    "execution_millis": 125,
    "execution_start": 1634589904860,
    "source_hash": "f8a938d8",
    "tags": []
   },
   "outputs": [
    {
     "data": {
      "application/vnd.deepnote.dataframe.v2+json": {
       "column_count": 11,
       "columns": [
        {
         "dtype": "float64",
         "name": "fixed acidity",
         "stats": {
          "histogram": [
           {
            "bin_end": -1.4893264800080517,
            "bin_start": -2.139976551770534,
            "count": 42
           },
           {
            "bin_end": -0.8386764082455695,
            "bin_start": -1.4893264800080517,
            "count": 227
           },
           {
            "bin_end": -0.18802633648308742,
            "bin_start": -0.8386764082455695,
            "count": 532
           },
           {
            "bin_end": 0.46262373527939493,
            "bin_start": -0.18802633648308742,
            "count": 368
           },
           {
            "bin_end": 1.1132738070418773,
            "bin_start": 0.46262373527939493,
            "count": 186
           },
           {
            "bin_end": 1.7639238788043592,
            "bin_start": 1.1132738070418773,
            "count": 104
           },
           {
            "bin_end": 2.414573950566842,
            "bin_start": 1.7639238788043592,
            "count": 75
           },
           {
            "bin_end": 3.065224022329324,
            "bin_start": 2.414573950566842,
            "count": 25
           },
           {
            "bin_end": 3.715874094091806,
            "bin_start": 3.065224022329324,
            "count": 5
           },
           {
            "bin_end": 4.366524165854289,
            "bin_start": 3.715874094091806,
            "count": 7
           }
          ],
          "max": "4.366524165854289",
          "min": "-2.139976551770534",
          "nan_count": 0,
          "unique_count": 95
         }
        },
        {
         "dtype": "float64",
         "name": "volatile acidity",
         "stats": {
          "histogram": [
           {
            "bin_end": -3.3611012015175437,
            "bin_start": -4.04609184574141,
            "count": 3
           },
           {
            "bin_end": -2.676110557293677,
            "bin_start": -3.3611012015175437,
            "count": 14
           },
           {
            "bin_end": -1.9911199130698103,
            "bin_start": -2.676110557293677,
            "count": 33
           },
           {
            "bin_end": -1.306129268845944,
            "bin_start": -1.9911199130698103,
            "count": 122
           },
           {
            "bin_end": -0.6211386246220778,
            "bin_start": -1.306129268845944,
            "count": 226
           },
           {
            "bin_end": 0.06385201960178932,
            "bin_start": -0.6211386246220778,
            "count": 346
           },
           {
            "bin_end": 0.7488426638256556,
            "bin_start": 0.06385201960178932,
            "count": 471
           },
           {
            "bin_end": 1.4338333080495218,
            "bin_start": 0.7488426638256556,
            "count": 269
           },
           {
            "bin_end": 2.118823952273388,
            "bin_start": 1.4338333080495218,
            "count": 79
           },
           {
            "bin_end": 2.8038145964972543,
            "bin_start": 2.118823952273388,
            "count": 8
           }
          ],
          "max": "2.8038145964972543",
          "min": "-4.04609184574141",
          "nan_count": 0,
          "unique_count": 141
         }
        },
        {
         "dtype": "float64",
         "name": "citric acid",
         "stats": {
          "histogram": [
           {
            "bin_end": -0.8781634308395713,
            "bin_start": -1.3940154910582994,
            "count": 393
           },
           {
            "bin_end": -0.3623113706208432,
            "bin_start": -0.8781634308395713,
            "count": 203
           },
           {
            "bin_end": 0.15354068959788503,
            "bin_start": -0.3623113706208432,
            "count": 314
           },
           {
            "bin_end": 0.669392749816613,
            "bin_start": 0.15354068959788503,
            "count": 201
           },
           {
            "bin_end": 1.185244810035341,
            "bin_start": 0.669392749816613,
            "count": 258
           },
           {
            "bin_end": 1.7010968702540694,
            "bin_start": 1.185244810035341,
            "count": 127
           },
           {
            "bin_end": 2.2169489304727974,
            "bin_start": 1.7010968702540694,
            "count": 60
           },
           {
            "bin_end": 2.7328009906915254,
            "bin_start": 2.2169489304727974,
            "count": 14
           },
           {
            "bin_end": 3.248653050910254,
            "bin_start": 2.7328009906915254,
            "count": 0
           },
           {
            "bin_end": 3.764505111128982,
            "bin_start": 3.248653050910254,
            "count": 1
           }
          ],
          "max": "3.764505111128982",
          "min": "-1.3940154910582994",
          "nan_count": 0,
          "unique_count": 79
         }
        },
        {
         "dtype": "float64",
         "name": "residual sugar",
         "stats": {
          "histogram": [
           {
            "bin_end": -1.8823409757526588,
            "bin_start": -2.68104332934125,
            "count": 2
           },
           {
            "bin_end": -1.0836386221640675,
            "bin_start": -1.8823409757526588,
            "count": 75
           },
           {
            "bin_end": -0.28493626857547616,
            "bin_start": -1.0836386221640675,
            "count": 658
           },
           {
            "bin_end": 0.5137660850131152,
            "bin_start": -0.28493626857547616,
            "count": 576
           },
           {
            "bin_end": 1.3124684386017065,
            "bin_start": 0.5137660850131152,
            "count": 113
           },
           {
            "bin_end": 2.111170792190298,
            "bin_start": 1.3124684386017065,
            "count": 65
           },
           {
            "bin_end": 2.9098731457788887,
            "bin_start": 2.111170792190298,
            "count": 48
           },
           {
            "bin_end": 3.7085754993674804,
            "bin_start": 2.9098731457788887,
            "count": 19
           },
           {
            "bin_end": 4.507277852956072,
            "bin_start": 3.7085754993674804,
            "count": 7
           },
           {
            "bin_end": 5.305980206544663,
            "bin_start": 4.507277852956072,
            "count": 8
           }
          ],
          "max": "5.305980206544663",
          "min": "-2.68104332934125",
          "nan_count": 0,
          "unique_count": 89
         }
        },
        {
         "dtype": "float64",
         "name": "chlorides",
         "stats": {
          "histogram": [
           {
            "bin_end": -4.677722256561146,
            "bin_start": -5.883496166977803,
            "count": 2
           },
           {
            "bin_end": -3.4719483461444884,
            "bin_start": -4.677722256561146,
            "count": 0
           },
           {
            "bin_end": -2.266174435727831,
            "bin_start": -3.4719483461444884,
            "count": 7
           },
           {
            "bin_end": -1.0604005253111737,
            "bin_start": -2.266174435727831,
            "count": 106
           },
           {
            "bin_end": 0.1453733851054837,
            "bin_start": -1.0604005253111737,
            "count": 932
           },
           {
            "bin_end": 1.351147295522141,
            "bin_start": 0.1453733851054837,
            "count": 448
           },
           {
            "bin_end": 2.5569212059387993,
            "bin_start": 1.351147295522141,
            "count": 34
           },
           {
            "bin_end": 3.762695116355456,
            "bin_start": 2.5569212059387993,
            "count": 20
           },
           {
            "bin_end": 4.968469026772112,
            "bin_start": 3.762695116355456,
            "count": 11
           },
           {
            "bin_end": 6.174242937188771,
            "bin_start": 4.968469026772112,
            "count": 11
           }
          ],
          "max": "6.174242937188771",
          "min": "-5.883496166977803",
          "nan_count": 0,
          "unique_count": 149
         }
        },
        {
         "dtype": "float64",
         "name": "free sulfur dioxide",
         "stats": {
          "histogram": [
           {
            "bin_end": -0.7499393324302781,
            "bin_start": -1.4294654299502063,
            "count": 448
           },
           {
            "bin_end": -0.0704132349103499,
            "bin_start": -0.7499393324302781,
            "count": 456
           },
           {
            "bin_end": 0.6091128626095783,
            "bin_start": -0.0704132349103499,
            "count": 295
           },
           {
            "bin_end": 1.2886389601295065,
            "bin_start": 0.6091128626095783,
            "count": 196
           },
           {
            "bin_end": 1.9681650576494347,
            "bin_start": 1.2886389601295065,
            "count": 111
           },
           {
            "bin_end": 2.6476911551693627,
            "bin_start": 1.9681650576494347,
            "count": 38
           },
           {
            "bin_end": 3.327217252689291,
            "bin_start": 2.6476911551693627,
            "count": 11
           },
           {
            "bin_end": 4.006743350209219,
            "bin_start": 3.327217252689291,
            "count": 12
           },
           {
            "bin_end": 4.686269447729147,
            "bin_start": 4.006743350209219,
            "count": 0
           },
           {
            "bin_end": 5.3657955452490755,
            "bin_start": 4.686269447729147,
            "count": 4
           }
          ],
          "max": "5.3657955452490755",
          "min": "-1.4294654299502063",
          "nan_count": 0,
          "unique_count": 60
         }
        },
        {
         "dtype": "float64",
         "name": "total sulfur dioxide",
         "stats": {
          "histogram": [
           {
            "bin_end": -2.0304241286695923,
            "bin_start": -2.580992154056249,
            "count": 21
           },
           {
            "bin_end": -1.4798561032829358,
            "bin_start": -2.0304241286695923,
            "count": 118
           },
           {
            "bin_end": -0.9292880778962793,
            "bin_start": -1.4798561032829358,
            "count": 176
           },
           {
            "bin_end": -0.3787200525096228,
            "bin_start": -0.9292880778962793,
            "count": 276
           },
           {
            "bin_end": 0.17184797287703368,
            "bin_start": -0.3787200525096228,
            "count": 261
           },
           {
            "bin_end": 0.7224159982636902,
            "bin_start": 0.17184797287703368,
            "count": 315
           },
           {
            "bin_end": 1.2729840236503467,
            "bin_start": 0.7224159982636902,
            "count": 227
           },
           {
            "bin_end": 1.8235520490370032,
            "bin_start": 1.2729840236503467,
            "count": 142
           },
           {
            "bin_end": 2.3741200744236597,
            "bin_start": 1.8235520490370032,
            "count": 33
           },
           {
            "bin_end": 2.924688099810316,
            "bin_start": 2.3741200744236597,
            "count": 2
           }
          ],
          "max": "2.924688099810316",
          "min": "-2.580992154056249",
          "nan_count": 0,
          "unique_count": 144
         }
        },
        {
         "dtype": "float64",
         "name": "density",
         "stats": {
          "histogram": [
           {
            "bin_end": -2.8442551793107134,
            "bin_start": -3.5713756217009593,
            "count": 7
           },
           {
            "bin_end": -2.117134736920468,
            "bin_start": -2.8442551793107134,
            "count": 24
           },
           {
            "bin_end": -1.3900142945302219,
            "bin_start": -2.117134736920468,
            "count": 90
           },
           {
            "bin_end": -0.6628938521399763,
            "bin_start": -1.3900142945302219,
            "count": 242
           },
           {
            "bin_end": 0.06422659025026922,
            "bin_start": -0.6628938521399763,
            "count": 483
           },
           {
            "bin_end": 0.7913470326405156,
            "bin_start": 0.06422659025026922,
            "count": 442
           },
           {
            "bin_end": 1.5184674750307612,
            "bin_start": 0.7913470326405156,
            "count": 180
           },
           {
            "bin_end": 2.2455879174210067,
            "bin_start": 1.5184674750307612,
            "count": 73
           },
           {
            "bin_end": 2.9727083598112523,
            "bin_start": 2.2455879174210067,
            "count": 19
           },
           {
            "bin_end": 3.6998288022014973,
            "bin_start": 2.9727083598112523,
            "count": 11
           }
          ],
          "max": "3.6998288022014973",
          "min": "-3.5713756217009593",
          "nan_count": 0,
          "unique_count": 428
         }
        },
        {
         "dtype": "float64",
         "name": "pH",
         "stats": {
          "histogram": [
           {
            "bin_end": -2.889368111229682,
            "bin_start": -3.7157142286143054,
            "count": 2
           },
           {
            "bin_end": -2.0630219938450587,
            "bin_start": -2.889368111229682,
            "count": 25
           },
           {
            "bin_end": -1.2366758764604349,
            "bin_start": -2.0630219938450587,
            "count": 134
           },
           {
            "bin_end": -0.4103297590758115,
            "bin_start": -1.2366758764604349,
            "count": 350
           },
           {
            "bin_end": 0.4160163583088119,
            "bin_start": -0.4103297590758115,
            "count": 550
           },
           {
            "bin_end": 1.2423624756934357,
            "bin_start": 0.4160163583088119,
            "count": 346
           },
           {
            "bin_end": 2.0687085930780587,
            "bin_start": 1.2423624756934357,
            "count": 130
           },
           {
            "bin_end": 2.8950547104626825,
            "bin_start": 2.0687085930780587,
            "count": 27
           },
           {
            "bin_end": 3.7214008278473063,
            "bin_start": 2.8950547104626825,
            "count": 3
           },
           {
            "bin_end": 4.547746945231928,
            "bin_start": 3.7214008278473063,
            "count": 4
           }
          ],
          "max": "4.547746945231928",
          "min": "-3.7157142286143054",
          "nan_count": 0,
          "unique_count": 89
         }
        },
        {
         "dtype": "float64",
         "name": "sulphates",
         "stats": {
          "histogram": [
           {
            "bin_end": -2.1573017843457727,
            "bin_start": -2.9635390934179298,
            "count": 9
           },
           {
            "bin_end": -1.351064475273616,
            "bin_start": -2.1573017843457727,
            "count": 81
           },
           {
            "bin_end": -0.544827166201459,
            "bin_start": -1.351064475273616,
            "count": 384
           },
           {
            "bin_end": 0.26141014287069764,
            "bin_start": -0.544827166201459,
            "count": 556
           },
           {
            "bin_end": 1.0676474519428543,
            "bin_start": 0.26141014287069764,
            "count": 335
           },
           {
            "bin_end": 1.8738847610150118,
            "bin_start": 1.0676474519428543,
            "count": 143
           },
           {
            "bin_end": 2.6801220700871684,
            "bin_start": 1.8738847610150118,
            "count": 36
           },
           {
            "bin_end": 3.486359379159325,
            "bin_start": 2.6801220700871684,
            "count": 19
           },
           {
            "bin_end": 4.292596688231482,
            "bin_start": 3.486359379159325,
            "count": 4
           },
           {
            "bin_end": 5.098833997303638,
            "bin_start": 4.292596688231482,
            "count": 4
           }
          ],
          "max": "5.098833997303638",
          "min": "-2.9635390934179298",
          "nan_count": 0,
          "unique_count": 96
         }
        },
        {
         "dtype": "float64",
         "name": "alcohol",
         "stats": {
          "histogram": [
           {
            "bin_end": -1.5579475993747418,
            "bin_start": -2.145184420500017,
            "count": 6
           },
           {
            "bin_end": -0.9707107782494666,
            "bin_start": -1.5579475993747418,
            "count": 289
           },
           {
            "bin_end": -0.3834739571241914,
            "bin_start": -0.9707107782494666,
            "count": 378
           },
           {
            "bin_end": 0.2037628640010838,
            "bin_start": -0.3834739571241914,
            "count": 303
           },
           {
            "bin_end": 0.790999685126359,
            "bin_start": 0.2037628640010838,
            "count": 229
           },
           {
            "bin_end": 1.3782365062516342,
            "bin_start": 0.790999685126359,
            "count": 192
           },
           {
            "bin_end": 1.9654733273769094,
            "bin_start": 1.3782365062516342,
            "count": 112
           },
           {
            "bin_end": 2.5527101485021846,
            "bin_start": 1.9654733273769094,
            "count": 45
           },
           {
            "bin_end": 3.13994696962746,
            "bin_start": 2.5527101485021846,
            "count": 16
           },
           {
            "bin_end": 3.7271837907527354,
            "bin_start": 3.13994696962746,
            "count": 1
           }
          ],
          "max": "3.7271837907527354",
          "min": "-2.145184420500017",
          "nan_count": 0,
          "unique_count": 64
         }
        },
        {
         "dtype": "int64",
         "name": "_deepnote_index_column"
        }
       ],
       "row_count": 1571,
       "rows_bottom": [
        {
         "_deepnote_index_column": 1526,
         "alcohol": 0.6178276712901035,
         "chlorides": -0.8451768942243201,
         "citric acid": -1.2908450790145538,
         "density": -0.26142940817708094,
         "fixed acidity": -0.988383504403309,
         "free sulfur dioxide": -0.08955481512217887,
         "pH": 1.4896156446746611,
         "residual sugar": 0.07136509007312285,
         "sulphates": -0.28845932976239047,
         "total sulfur dioxide": -0.6716220214963889,
         "volatile acidity": 1.5456207118532646
        },
        {
         "_deepnote_index_column": 1527,
         "alcohol": 0.18985219744360982,
         "chlorides": -0.7002060626371687,
         "citric acid": -0.5170669886864616,
         "density": -0.8646937987064156,
         "fixed acidity": -0.7580648949298638,
         "free sulfur dioxide": -0.08955481512217887,
         "pH": 0.8389494105135394,
         "residual sugar": -0.8963281704101629,
         "sulphates": 0.27159531799042247,
         "total sulfur dioxide": -0.6111472463787448,
         "volatile acidity": 0.34058732222983995
        },
        {
         "_deepnote_index_column": 1528,
         "alcohol": -0.4617114820830403,
         "chlorides": -0.6533657874236122,
         "citric acid": -1.187674666970808,
         "density": -0.21338180185171576,
         "fixed acidity": -0.988383504403309,
         "free sulfur dioxide": -0.3766785182996133,
         "pH": 1.4245490212585474,
         "residual sugar": -0.17280671238455864,
         "sulphates": -0.59717463864752,
         "total sulfur dioxide": -0.8702157388165835,
         "volatile acidity": 1.6276918107726424
        },
        {
         "_deepnote_index_column": 1529,
         "alcohol": 0.6178276712901035,
         "chlorides": -0.8451768942243201,
         "citric acid": -1.2908450790145538,
         "density": -0.26142940817708094,
         "fixed acidity": -0.988383504403309,
         "free sulfur dioxide": -0.08955481512217887,
         "pH": 1.4896156446746611,
         "residual sugar": 0.07136509007312285,
         "sulphates": -0.28845932976239047,
         "total sulfur dioxide": -0.6716220214963889,
         "volatile acidity": 1.5456207118532646
        },
        {
         "_deepnote_index_column": 1530,
         "alcohol": -0.8842928282397654,
         "chlorides": 3.2427544319939643,
         "citric acid": 0.3082963076635034,
         "density": 0.592750259829108,
         "fixed acidity": -0.8156445472982249,
         "free sulfur dioxide": 4.791548138894206,
         "pH": -0.592516304640925,
         "residual sugar": 2.952324480285767,
         "sulphates": -0.59717463864752,
         "total sulfur dioxide": 1.6152970953572108,
         "volatile acidity": 0.6759945422995617
        },
        {
         "_deepnote_index_column": 1531,
         "alcohol": -0.4617114820830403,
         "chlorides": -0.06317296979347499,
         "citric acid": -0.052800134489606305,
         "density": -0.28812252280227063,
         "fixed acidity": -0.29742767598297387,
         "free sulfur dioxide": 1.4417716018241382,
         "pH": -0.6575829280570387,
         "residual sugar": -0.4402666607331685,
         "sulphates": -0.9287779626027175,
         "total sulfur dioxide": 1.8003964782124984,
         "volatile acidity": 0.5370562542887478
        },
        {
         "_deepnote_index_column": 1532,
         "alcohol": -0.4617114820830403,
         "chlorides": -0.06317296979347499,
         "citric acid": -0.052800134489606305,
         "density": -0.28812252280227063,
         "fixed acidity": -0.29742767598297387,
         "free sulfur dioxide": 1.4417716018241382,
         "pH": -0.6575829280570387,
         "residual sugar": -0.4402666607331685,
         "sulphates": -0.9287779626027175,
         "total sulfur dioxide": 1.8003964782124984,
         "volatile acidity": 0.5370562542887478
        },
        {
         "_deepnote_index_column": 1533,
         "alcohol": -0.4617114820830403,
         "chlorides": -0.06317296979347499,
         "citric acid": -0.052800134489606305,
         "density": -0.28812252280227063,
         "fixed acidity": -0.29742767598297387,
         "free sulfur dioxide": 1.4417716018241382,
         "pH": -0.6575829280570387,
         "residual sugar": -0.4402666607331685,
         "sulphates": -0.9287779626027175,
         "total sulfur dioxide": 1.8003964782124984,
         "volatile acidity": 0.5370562542887478
        },
        {
         "_deepnote_index_column": 1534,
         "alcohol": -0.2567817447083874,
         "chlorides": -0.22053969069796428,
         "citric acid": -0.7234078127739528,
         "density": -0.6938578651051897,
         "fixed acidity": -0.6429055901931412,
         "free sulfur dioxide": -0.3766785182996133,
         "pH": -0.1370499407281414,
         "residual sugar": -0.4402666607331685,
         "sulphates": -0.7599051970612184,
         "total sulfur dioxide": -0.8702157388165835,
         "volatile acidity": 0.9556130319253934
        },
        {
         "_deepnote_index_column": 1535,
         "alcohol": -0.2567817447083874,
         "chlorides": -0.22053969069796428,
         "citric acid": -0.7234078127739528,
         "density": -0.6938578651051897,
         "fixed acidity": -0.6429055901931412,
         "free sulfur dioxide": -0.3766785182996133,
         "pH": -0.1370499407281414,
         "residual sugar": -0.4402666607331685,
         "sulphates": -0.7599051970612184,
         "total sulfur dioxide": -0.8702157388165835,
         "volatile acidity": 0.9556130319253934
        },
        {
         "_deepnote_index_column": 1536,
         "alcohol": -0.2567817447083874,
         "chlorides": -0.22053969069796428,
         "citric acid": -0.7234078127739528,
         "density": -0.6938578651051897,
         "fixed acidity": -0.6429055901931412,
         "free sulfur dioxide": -0.3766785182996133,
         "pH": -0.1370499407281414,
         "residual sugar": -0.4402666607331685,
         "sulphates": -0.7599051970612184,
         "total sulfur dioxide": -0.8702157388165835,
         "volatile acidity": 0.9556130319253934
        },
        {
         "_deepnote_index_column": 1537,
         "alcohol": 0.5242549176590595,
         "chlorides": -0.8950638215574988,
         "citric acid": -1.2908450790145538,
         "density": -0.998159371832364,
         "fixed acidity": -0.9308038520349474,
         "free sulfur dioxide": 0.963232096528414,
         "pH": 0.5136162934329802,
         "residual sugar": -0.584206184251954,
         "sulphates": 1.1092915581524854,
         "total sulfur dioxide": 0.18403474457302493,
         "volatile acidity": 0.8512911089844633
        },
        {
         "_deepnote_index_column": 1538,
         "alcohol": 0.8024478969406931,
         "chlorides": -0.9973392399497735,
         "citric acid": 1.9074376943415605,
         "density": -0.9714662572071744,
         "fixed acidity": -0.9308038520349474,
         "free sulfur dioxide": 0.7718162944101244,
         "pH": 0.18828317635241795,
         "residual sugar": -0.30335143493601463,
         "sulphates": 0.46477339690442293,
         "total sulfur dioxide": 0.48751131180372165,
         "volatile acidity": -3.2268682313454717
        },
        {
         "_deepnote_index_column": 1539,
         "alcohol": -0.2567817447083874,
         "chlorides": -0.22053969069796428,
         "citric acid": -0.7234078127739528,
         "density": -0.6938578651051897,
         "fixed acidity": -0.6429055901931412,
         "free sulfur dioxide": -0.3766785182996133,
         "pH": -0.1370499407281414,
         "residual sugar": -0.4402666607331685,
         "sulphates": -0.7599051970612184,
         "total sulfur dioxide": -0.8702157388165835,
         "volatile acidity": 0.9556130319253934
        },
        {
         "_deepnote_index_column": 1540,
         "alcohol": -1.2130743618894166,
         "chlorides": -0.18043482638358227,
         "citric acid": -0.7234078127739528,
         "density": -0.2507521623269932,
         "fixed acidity": -0.7580648949298638,
         "free sulfur dioxide": 0.8675241954692693,
         "pH": 0.18828317635241795,
         "residual sugar": -1.0664533160448357,
         "sulphates": -0.36366441415276674,
         "total sulfur dioxide": 0.18403474457302493,
         "volatile acidity": 0.34058732222983995
        },
        {
         "_deepnote_index_column": 1541,
         "alcohol": 1.0732868898792367,
         "chlorides": -1.1574440051523156,
         "citric acid": -0.67182260675208,
         "density": -1.4946513038609992,
         "fixed acidity": -1.2187021138767538,
         "free sulfur dioxide": -0.08955481512217887,
         "pH": 1.099215904177988,
         "residual sugar": -0.584206184251954,
         "sulphates": -0.5179761606944593,
         "total sulfur dioxide": -0.11622337792993313,
         "volatile acidity": 0.07425597029384684
        },
        {
         "_deepnote_index_column": 1542,
         "alcohol": 1.845328172889977,
         "chlorides": 3.1767738582146463,
         "citric acid": 1.3400004281009597,
         "density": -1.7936141876631593,
         "fixed acidity": -1.1035428091400312,
         "free sulfur dioxide": 0.29327678911440036,
         "pH": 0.38348304660075583,
         "residual sugar": -0.17280671238455864,
         "sulphates": 1.6725549526831716,
         "total sulfur dioxide": -0.07503374786481382,
         "volatile acidity": -0.9176065624141502
        },
        {
         "_deepnote_index_column": 1543,
         "alcohol": 0.710553601059341,
         "chlorides": -2.3471002910906913,
         "citric acid": -0.67182260675208,
         "density": -0.8646937987064156,
         "fixed acidity": -1.1035428091400312,
         "free sulfur dioxide": -0.08955481512217887,
         "pH": 0.8389494105135394,
         "residual sugar": -0.17280671238455864,
         "sulphates": 0.06969954507312708,
         "total sulfur dioxide": -0.5531415296404881,
         "volatile acidity": -0.7636409570780567
        },
        {
         "_deepnote_index_column": 1544,
         "alcohol": -0.8842928282397654,
         "chlorides": -0.5169887385769528,
         "citric acid": 0.2567111016416305,
         "density": -0.23473629355189124,
         "fixed acidity": -0.5853259378247802,
         "free sulfur dioxide": 1.8246032060607171,
         "pH": 0.12321655293630723,
         "residual sugar": -0.17280671238455864,
         "sulphates": -1.015666075013967,
         "total sulfur dioxide": 1.472433765642473,
         "volatile acidity": 0.9350521481996045
        },
        {
         "_deepnote_index_column": 1545,
         "alcohol": 1.9276269712555154,
         "chlorides": -0.2611757606984329,
         "citric acid": -0.3623113706208432,
         "density": -1.1156090761832107,
         "fixed acidity": -1.3338614186134763,
         "free sulfur dioxide": -0.08955481512217887,
         "pH": 1.7498821383391097,
         "residual sugar": 0.07136509007312285,
         "sulphates": 0.2053037767667122,
         "total sulfur dioxide": 0.43178092419826397,
         "volatile acidity": 0.44051582178738813
        },
        {
         "_deepnote_index_column": 1546,
         "alcohol": 0.1411768312686364,
         "chlorides": -0.3023572975742545,
         "citric acid": 2.62963057864778,
         "density": 0.005501738074875339,
         "fixed acidity": -1.5641800280869216,
         "free sulfur dioxide": 0.6761083933509796,
         "pH": 0.5136162934329802,
         "residual sugar": 5.000240798136953,
         "sulphates": -1.286936837438235,
         "total sulfur dioxide": 1.2982228861811154,
         "volatile acidity": -1.343423599001014
        },
        {
         "_deepnote_index_column": 1547,
         "alcohol": 1.3371507070413835,
         "chlorides": -0.9457753634453893,
         "citric acid": 0.6693927498166131,
         "density": -1.0782387157079925,
         "fixed acidity": -0.4701666330880575,
         "free sulfur dioxide": -0.3766785182996133,
         "pH": -0.33224981097647927,
         "residual sugar": -0.17280671238455864,
         "sulphates": 0.0003245555661541809,
         "total sulfur dioxide": -0.8702157388165835,
         "volatile acidity": 0.12955227132828773
        },
        {
         "_deepnote_index_column": 1548,
         "alcohol": 0.42981973018128433,
         "chlorides": -0.025060946362632466,
         "citric acid": 1.8558524883196876,
         "density": -0.4696357022535843,
         "fixed acidity": -0.18226837124625123,
         "free sulfur dioxide": 0.0061530859369659414,
         "pH": -0.07198331731203067,
         "residual sugar": -1.0664533160448357,
         "sulphates": 0.8855150707786877,
         "total sulfur dioxide": -0.3422452009246161,
         "volatile acidity": -1.4367981945728516
        },
        {
         "_deepnote_index_column": 1549,
         "alcohol": 1.4236165814394368,
         "chlorides": -0.22053969069796428,
         "citric acid": -0.6202374007302073,
         "density": -0.28812252280227063,
         "fixed acidity": -1.2187021138767538,
         "free sulfur dioxide": -0.2809706172404685,
         "pH": 1.4896156446746611,
         "residual sugar": 2.1866036484739624,
         "sulphates": -0.28845932976239047,
         "total sulfur dioxide": -0.4437842969896292,
         "volatile acidity": 0.9760265245367987
        },
        {
         "_deepnote_index_column": 1550,
         "alcohol": 0.8935253438312974,
         "chlorides": 1.129221360442955,
         "citric acid": -0.6202374007302073,
         "density": -0.7258896026554529,
         "fixed acidity": -0.8732241996665864,
         "free sulfur dioxide": -0.2809706172404685,
         "pH": 0.7088161636813152,
         "residual sugar": -0.7359299165750839,
         "sulphates": 0.2053037767667122,
         "total sulfur dioxide": -0.8702157388165835,
         "volatile acidity": 0.8512911089844633
        },
        {
         "_deepnote_index_column": 1551,
         "alcohol": 0.8935253438312974,
         "chlorides": -1.326366214039095,
         "citric acid": -0.9297486368614442,
         "density": -1.462619566310736,
         "fixed acidity": -1.2187021138767538,
         "free sulfur dioxide": 0.7718162944101244,
         "pH": 1.4896156446746611,
         "residual sugar": -0.8963281704101629,
         "sulphates": -0.28845932976239047,
         "total sulfur dioxide": -0.2023674941539269,
         "volatile acidity": 0.34058732222983995
        },
        {
         "_deepnote_index_column": 1552,
         "alcohol": 1.4236165814394368,
         "chlorides": -0.5617775403390551,
         "citric acid": 0.3082963076635034,
         "density": -1.0995932074081087,
         "fixed acidity": -0.5277462854564186,
         "free sulfur dioxide": -0.6638022214770477,
         "pH": 0.31841642318464225,
         "residual sugar": 0.07136509007312285,
         "sulphates": -0.28845932976239047,
         "total sulfur dioxide": -0.49741114203503045,
         "volatile acidity": -0.9978279243248007
        },
        {
         "_deepnote_index_column": 1553,
         "alcohol": 0.8935253438312974,
         "chlorides": -1.326366214039095,
         "citric acid": -0.9297486368614442,
         "density": -1.462619566310736,
         "fixed acidity": -1.2187021138767538,
         "free sulfur dioxide": 0.7718162944101244,
         "pH": 1.4896156446746611,
         "residual sugar": -0.8963281704101629,
         "sulphates": -0.28845932976239047,
         "total sulfur dioxide": -0.2023674941539269,
         "volatile acidity": 0.34058732222983995
        },
        {
         "_deepnote_index_column": 1554,
         "alcohol": 1.4236165814394368,
         "chlorides": -1.326366214039095,
         "citric acid": -0.8781634308395713,
         "density": -1.6761644833123128,
         "fixed acidity": -1.2762817662451154,
         "free sulfur dioxide": -0.2809706172404685,
         "pH": 1.684815514922996,
         "residual sugar": 0.2959813745455553,
         "sulphates": -1.104274855467951,
         "total sulfur dioxide": -0.4437842969896292,
         "volatile acidity": 1.036403415723202
        },
        {
         "_deepnote_index_column": 1555,
         "alcohol": -0.5657341553450942,
         "chlorides": -0.3023572975742545,
         "citric acid": 0.10195548357601197,
         "density": -0.5230219315039637,
         "fixed acidity": -1.2187021138767538,
         "free sulfur dioxide": 1.5374795028832828,
         "pH": 0.12321655293630723,
         "residual sugar": -0.30335143493601463,
         "sulphates": -0.14173808069823415,
         "total sulfur dioxide": 1.3879964877496132,
         "volatile acidity": -0.21957868626605564
        },
        {
         "_deepnote_index_column": 1556,
         "alcohol": 1.1619986588488238,
         "chlorides": -0.8950638215574988,
         "citric acid": 0.8757335739041042,
         "density": -1.024852486457613,
         "fixed acidity": -0.9308038520349474,
         "free sulfur dioxide": 0.7718162944101244,
         "pH": -0.1370499407281414,
         "residual sugar": 0.07136509007312285,
         "sulphates": 0.9988020632419989,
         "total sulfur dioxide": -0.11622337792993313,
         "volatile acidity": -1.2530137824838719
        },
        {
         "_deepnote_index_column": 1557,
         "alcohol": 1.0732868898792367,
         "chlorides": -0.6533657874236122,
         "citric acid": 0.8757335739041042,
         "density": -0.9714662572071744,
         "fixed acidity": -0.6429055901931412,
         "free sulfur dioxide": 0.5804004922918348,
         "pH": -0.07198331731203067,
         "residual sugar": 0.2959813745455553,
         "sulphates": 1.217118394733885,
         "total sulfur dioxide": 0.3737752074600073,
         "volatile acidity": -0.6896713430676512
        },
        {
         "_deepnote_index_column": 1558,
         "alcohol": 0.9838003358278008,
         "chlorides": -0.7002060626371687,
         "citric acid": 0.7209779558384857,
         "density": -0.9821435030572621,
         "fixed acidity": -0.4701666330880575,
         "free sulfur dioxide": 1.7288953050015723,
         "pH": 0.18828317635241795,
         "residual sugar": 0.07136509007312285,
         "sulphates": 1.270072825666267,
         "total sulfur dioxide": 0.6908494166361021,
         "volatile acidity": -1.343423599001014
        },
        {
         "_deepnote_index_column": 1559,
         "alcohol": 0.5242549176590595,
         "chlorides": -0.6533657874236122,
         "citric acid": -0.8265782248176986,
         "density": -1.0301911093826273,
         "fixed acidity": -1.449020723350199,
         "free sulfur dioxide": 0.19756888805525558,
         "pH": 1.5546822680907717,
         "residual sugar": -0.7359299165750839,
         "sulphates": 0.13801533296786472,
         "total sulfur dioxide": -0.3921079570409093,
         "volatile acidity": 0.5841262519862312
        },
        {
         "_deepnote_index_column": 1560,
         "alcohol": 2.170629949226485,
         "chlorides": -0.5617775403390551,
         "citric acid": 0.3082963076635034,
         "density": -1.3985560912102688,
         "fixed acidity": -0.6429055901931412,
         "free sulfur dioxide": 1.7288953050015723,
         "pH": -0.2671831875603657,
         "residual sugar": 0.18591999457849925,
         "sulphates": 0.8855150707786877,
         "total sulfur dioxide": 1.4448417775227518,
         "volatile acidity": 0.8084681963767036
        },
        {
         "_deepnote_index_column": 1561,
         "alcohol": -1.2130743618894166,
         "chlorides": -0.3440991446392565,
         "citric acid": -0.3623113706208432,
         "density": 0.5019936701034512,
         "fixed acidity": -0.988383504403309,
         "free sulfur dioxide": 1.2503557997058485,
         "pH": -0.1370499407281414,
         "residual sugar": 3.3789131934296814,
         "sulphates": -0.7599051970612184,
         "total sulfur dioxide": 1.0817554396083893,
         "volatile acidity": 1.0759550240943476
        },
        {
         "_deepnote_index_column": 1562,
         "alcohol": 1.1619986588488238,
         "chlorides": -0.18043482638358227,
         "citric acid": -0.6202374007302073,
         "density": -1.932418383714122,
         "fixed acidity": -1.1611224615083926,
         "free sulfur dioxide": 0.963232096528414,
         "pH": 0.058149929520193634,
         "residual sugar": -0.7359299165750839,
         "sulphates": 1.1092915581524854,
         "total sulfur dioxide": -0.07503374786481382,
         "volatile acidity": 0.2892765642180023
        },
        {
         "_deepnote_index_column": 1563,
         "alcohol": 1.1619986588488238,
         "chlorides": 0.26390339804236457,
         "citric acid": -0.9297486368614442,
         "density": -1.462619566310736,
         "fixed acidity": -1.6793393328236437,
         "free sulfur dioxide": 0.0061530859369659414,
         "pH": 2.3354817490841175,
         "residual sugar": -0.8963281704101629,
         "sulphates": -0.59717463864752,
         "total sulfur dioxide": -0.49741114203503045,
         "volatile acidity": 1.134271123953465
        },
        {
         "_deepnote_index_column": 1564,
         "alcohol": 0.6178276712901035,
         "chlorides": -0.22053969069796428,
         "citric acid": -0.7234078127739528,
         "density": -0.5443764232041391,
         "fixed acidity": -1.1611224615083926,
         "free sulfur dioxide": 1.2503557997058485,
         "pH": 0.7088161636813152,
         "residual sugar": -0.048065932904250465,
         "sulphates": 0.7100181779134546,
         "total sulfur dioxide": 0.11470671502216855,
         "volatile acidity": 0.07425597029384684
        },
        {
         "_deepnote_index_column": 1565,
         "alcohol": -0.8842928282397654,
         "chlorides": -0.5617775403390551,
         "citric acid": -0.9813338428833168,
         "density": -0.13330245797614668,
         "fixed acidity": -0.8732241996665864,
         "free sulfur dioxide": 1.1546478986467037,
         "pH": 0.7088161636813152,
         "residual sugar": -0.584206184251954,
         "sulphates": 1.1092915581524854,
         "total sulfur dioxide": 0.041821880761069345,
         "volatile acidity": 0.6304308498605852
        },
        {
         "_deepnote_index_column": 1566,
         "alcohol": 0.1411768312686364,
         "chlorides": 0.29818284329542377,
         "citric acid": -0.9813338428833168,
         "density": -0.9928207489073498,
         "fixed acidity": -1.2187021138767538,
         "free sulfur dioxide": 1.5374795028832828,
         "pH": 0.9040160339296531,
         "residual sugar": -0.4402666607331685,
         "sulphates": -0.44015511762683096,
         "total sulfur dioxide": 0.2501370230454294,
         "volatile acidity": 0.5370562542887478
        },
        {
         "_deepnote_index_column": 1567,
         "alcohol": 0.8024478969406931,
         "chlorides": -0.8451768942243201,
         "citric acid": -0.8781634308395713,
         "density": -0.8753710445565033,
         "fixed acidity": -1.3914410709818374,
         "free sulfur dioxide": 2.2074348102972965,
         "pH": 1.3594823978424366,
         "residual sugar": -0.17280671238455864,
         "sulphates": 0.7692852323099302,
         "total sulfur dioxide": 0.4599193236840004,
         "volatile acidity": 0.2892765642180023
        },
        {
         "_deepnote_index_column": 1568,
         "alcohol": 0.6178276712901035,
         "chlorides": -0.22053969069796428,
         "citric acid": -0.7234078127739528,
         "density": -0.5443764232041391,
         "fixed acidity": -1.1611224615083926,
         "free sulfur dioxide": 1.2503557997058485,
         "pH": 0.7088161636813152,
         "residual sugar": -0.048065932904250465,
         "sulphates": 0.7100181779134546,
         "total sulfur dioxide": 0.11470671502216855,
         "volatile acidity": 0.07425597029384684
        },
        {
         "_deepnote_index_column": 1569,
         "alcohol": -0.15583368371548587,
         "chlorides": -0.2611757606984329,
         "citric acid": -0.7749930187958257,
         "density": -0.6885192421801754,
         "fixed acidity": -1.3914410709818374,
         "free sulfur dioxide": 1.5374795028832828,
         "pH": 1.684815514922996,
         "residual sugar": -0.4402666607331685,
         "sulphates": 0.46477339690442293,
         "total sulfur dioxide": 0.2501370230454294,
         "volatile acidity": 0.7430016344434232
        },
        {
         "_deepnote_index_column": 1570,
         "alcohol": 0.6178276712901035,
         "chlorides": -0.6072299040010813,
         "citric acid": 1.0304891919697226,
         "density": -0.6778419963300877,
         "fixed acidity": -1.3338614186134763,
         "free sulfur dioxide": 0.19756888805525558,
         "pH": 0.5136162934329802,
         "residual sugar": 1.209183496191082,
         "sulphates": 0.13801533296786472,
         "total sulfur dioxide": 0.18403474457302493,
         "volatile acidity": -1.343423599001014
        }
       ],
       "rows_top": [
        {
         "_deepnote_index_column": 0,
         "alcohol": -0.992718658127409,
         "chlorides": -0.22053969069796428,
         "citric acid": -1.3940154910582994,
         "density": 0.5553798993538306,
         "fixed acidity": -0.5277462854564186,
         "free sulfur dioxide": -0.47238641935875814,
         "pH": 1.2944157744263232,
         "residual sugar": -0.584206184251954,
         "sulphates": -0.59717463864752,
         "total sulfur dioxide": -0.11622337792993313,
         "volatile acidity": 0.9760265245367987
        },
        {
         "_deepnote_index_column": 1,
         "alcohol": -0.5657341553450942,
         "chlorides": 0.5594451626285272,
         "citric acid": -1.3940154910582994,
         "density": 0.021517606849977305,
         "fixed acidity": -0.29742767598297387,
         "free sulfur dioxide": 0.8675241954692693,
         "pH": -0.7226495514731494,
         "residual sugar": 0.2959813745455553,
         "sulphates": 0.27159531799042247,
         "total sulfur dioxide": 0.8476476873227105,
         "volatile acidity": 1.6276918107726424
        },
        {
         "_deepnote_index_column": 2,
         "alcohol": -0.5657341553450942,
         "chlorides": 0.36561365507496146,
         "citric acid": -1.187674666970808,
         "density": 0.12829006535073612,
         "fixed acidity": -0.29742767598297387,
         "free sulfur dioxide": -0.08955481512217887,
         "pH": -0.33224981097647927,
         "residual sugar": -0.048065932904250465,
         "sulphates": 0.06969954507312708,
         "total sulfur dioxide": 0.5411381568491229,
         "volatile acidity": 1.2102134917835425
        },
        {
         "_deepnote_index_column": 3,
         "alcohol": -0.5657341553450942,
         "chlorides": -0.2611757606984329,
         "citric acid": 1.4947560461665783,
         "density": 0.6621523578545894,
         "fixed acidity": 1.6602805045413085,
         "free sulfur dioxide": 0.10186098699611075,
         "pH": -0.9829160451375979,
         "residual sugar": -0.584206184251954,
         "sulphates": -0.44015511762683096,
         "total sulfur dioxide": 0.6908494166361021,
         "volatile acidity": -1.633267126631759
        },
        {
         "_deepnote_index_column": 4,
         "alcohol": -0.992718658127409,
         "chlorides": -0.22053969069796428,
         "citric acid": -1.3940154910582994,
         "density": 0.5553798993538306,
         "fixed acidity": -0.5277462854564186,
         "free sulfur dioxide": -0.47238641935875814,
         "pH": 1.2944157744263232,
         "residual sugar": -0.584206184251954,
         "sulphates": -0.59717463864752,
         "total sulfur dioxide": -0.11622337792993313,
         "volatile acidity": 0.9760265245367987
        },
        {
         "_deepnote_index_column": 5,
         "alcohol": -0.992718658127409,
         "chlorides": -0.2611757606984329,
         "citric acid": -1.3940154910582994,
         "density": 0.5553798993538306,
         "fixed acidity": -0.5277462854564186,
         "free sulfur dioxide": -0.2809706172404685,
         "pH": 1.2944157744263232,
         "residual sugar": -0.7359299165750839,
         "sulphates": -0.59717463864752,
         "total sulfur dioxide": 0.11470671502216855,
         "volatile acidity": 0.8084681963767036
        },
        {
         "_deepnote_index_column": 6,
         "alcohol": -0.992718658127409,
         "chlorides": -0.5169887385769528,
         "citric acid": -1.0845042549270625,
         "density": -0.19202731015159957,
         "fixed acidity": -0.23984802361461227,
         "free sulfur dioxide": -0.08955481512217887,
         "pH": -0.07198331731203067,
         "residual sugar": -1.0664533160448357,
         "sulphates": -1.477373968523807,
         "total sulfur dioxide": 0.6669674638872568,
         "volatile acidity": 0.5370562542887478
        },
        {
         "_deepnote_index_column": 7,
         "alcohol": -0.358734280513138,
         "chlorides": -0.7002060626371687,
         "citric acid": -1.3940154910582994,
         "density": -1.152979436658488,
         "fixed acidity": -0.5853259378247802,
         "free sulfur dioxide": -0.08955481512217887,
         "pH": 0.5136162934329802,
         "residual sugar": -1.8737483226930434,
         "sulphates": -1.3811423630746495,
         "total sulfur dioxide": -0.8008877092657272,
         "volatile acidity": 0.7649914736352468
        },
        {
         "_deepnote_index_column": 8,
         "alcohol": -0.8842928282397654,
         "chlorides": -0.3440991446392565,
         "citric acid": -1.2908450790145538,
         "density": 0.021517606849977305,
         "fixed acidity": -0.29742767598297387,
         "free sulfur dioxide": -0.6638022214770477,
         "pH": 0.31841642318464225,
         "residual sugar": -0.4402666607331685,
         "sulphates": -0.5179761606944593,
         "total sulfur dioxide": -1.0199269986035633,
         "volatile acidity": 0.44051582178738813
        },
        {
         "_deepnote_index_column": 9,
         "alcohol": 0.1411768312686364,
         "chlorides": -0.4293262481794732,
         "citric acid": 0.4630519257291217,
         "density": 0.5553798993538306,
         "fixed acidity": -0.4701666330880575,
         "free sulfur dioxide": 0.10186098699611075,
         "pH": 0.25334979976853156,
         "residual sugar": 2.6890497757771707,
         "sulphates": 0.9988020632419989,
         "total sulfur dioxide": 1.4448417775227518,
         "volatile acidity": 0.017864622130046658
        },
        {
         "_deepnote_index_column": 10,
         "alcohol": -1.2130743618894166,
         "chlorides": 0.5279784413243361,
         "citric acid": -0.9813338428833168,
         "density": -0.4589584564034966,
         "fixed acidity": -0.9308038520349474,
         "free sulfur dioxide": -0.08955481512217887,
         "pH": -0.202116564144255,
         "residual sugar": -0.7359299165750839,
         "sulphates": -0.7599051970612184,
         "total sulfur dioxide": 0.8045855209798165,
         "volatile acidity": 0.44051582178738813
        },
        {
         "_deepnote_index_column": 11,
         "alcohol": 0.1411768312686364,
         "chlorides": -0.4293262481794732,
         "citric acid": 0.4630519257291217,
         "density": 0.5553798993538306,
         "fixed acidity": -0.4701666330880575,
         "free sulfur dioxide": 0.10186098699611075,
         "pH": 0.25334979976853156,
         "residual sugar": 2.6890497757771707,
         "sulphates": 0.9988020632419989,
         "total sulfur dioxide": 1.4448417775227518,
         "volatile acidity": 0.017864622130046658
        },
        {
         "_deepnote_index_column": 12,
         "alcohol": -0.4617114820830403,
         "chlorides": 0.26390339804236457,
         "citric acid": -1.3940154910582994,
         "density": -1.3131381244096856,
         "fixed acidity": -1.5641800280869216,
         "free sulfur dioxide": 0.0061530859369659414,
         "pH": 1.7498821383391097,
         "residual sugar": -1.0664533160448357,
         "sulphates": -0.9287779626027175,
         "total sulfur dioxide": 0.6669674638872568,
         "volatile acidity": 0.6073726669965762
        },
        {
         "_deepnote_index_column": 13,
         "alcohol": -1.325055206666154,
         "chlorides": 1.0234185160428502,
         "citric acid": 0.10195548357601197,
         "density": 0.3418349823522537,
         "fixed acidity": -0.29742767598297387,
         "free sulfur dioxide": -0.6638022214770477,
         "pH": -0.33224981097647927,
         "residual sugar": -1.0664533160448357,
         "sulphates": 3.9870694971644824,
         "total sulfur dioxide": -0.3422452009246161,
         "volatile acidity": 0.5841262519862312
        },
        {
         "_deepnote_index_column": 14,
         "alcohol": -1.2130743618894166,
         "chlorides": 2.3557972066210313,
         "citric acid": -0.46548178266458884,
         "density": 0.982469733356925,
         "fixed acidity": 0.3359485000690003,
         "free sulfur dioxide": 3.451637524066179,
         "pH": -0.9829160451375979,
         "residual sugar": 1.360907228514212,
         "sulphates": 1.4252767259722536,
         "total sulfur dioxide": 1.944673915928983,
         "volatile acidity": 0.6304308498605852
        },
        {
         "_deepnote_index_column": 15,
         "alcohol": -1.2130743618894166,
         "chlorides": 2.2493826628006297,
         "citric acid": -0.413896576642716,
         "density": 0.982469733356925,
         "fixed acidity": 0.3359485000690003,
         "free sulfur dioxide": 3.355929623007034,
         "pH": -0.9178494217214872,
         "residual sugar": 1.433799780663514,
         "sulphates": 1.6725549526831716,
         "total sulfur dioxide": 1.973772736363627,
         "volatile acidity": 0.6304308498605852
        },
        {
         "_deepnote_index_column": 16,
         "alcohol": 0.1411768312686364,
         "chlorides": 0.36561365507496146,
         "citric acid": 1.4947560461665783,
         "density": 0.07490383610035671,
         "fixed acidity": 0.10562989059555505,
         "free sulfur dioxide": 1.8246032060607171,
         "pH": -0.07198331731203067,
         "residual sugar": -0.7359299165750839,
         "sulphates": 0.7100181779134546,
         "total sulfur dioxide": 1.4587047434797176,
         "volatile acidity": -1.633267126631759
        },
        {
         "_deepnote_index_column": 17,
         "alcohol": -1.102304144550733,
         "chlorides": 4.618734855860419,
         "citric acid": 0.05037027755413941,
         "density": 0.021517606849977305,
         "fixed acidity": -0.12468871887789018,
         "free sulfur dioxide": 0.0061530859369659414,
         "pH": -1.3082491622181602,
         "residual sugar": -0.8963281704101629,
         "sulphates": 3.1018789819519483,
         "total sulfur dioxide": 0.5928144967978435,
         "volatile acidity": 0.34058732222983995
        },
        {
         "_deepnote_index_column": 18,
         "alcohol": -1.4382734338862817,
         "chlorides": 0.158705260145121,
         "citric acid": -0.9813338428833168,
         "density": 0.3418349823522537,
         "fixed acidity": -0.5277462854564186,
         "free sulfur dioxide": -0.9509259246544822,
         "pH": 0.4485496700168666,
         "residual sugar": 1.7723067003816075,
         "sulphates": -1.104274855467951,
         "total sulfur dioxide": -0.3422452009246161,
         "volatile acidity": 0.4891951272557664
        },
        {
         "_deepnote_index_column": 19,
         "alcohol": -1.2130743618894166,
         "chlorides": 4.384953485329871,
         "citric acid": 1.2368300160572139,
         "density": 0.07490383610035671,
         "fixed acidity": -0.23984802361461227,
         "free sulfur dioxide": 0.10186098699611075,
         "pH": -1.7637155261309438,
         "residual sugar": -0.7359299165750839,
         "sulphates": 2.341649229324576,
         "total sulfur dioxide": 0.5928144967978435,
         "volatile acidity": -1.2530137824838719
        },
        {
         "_deepnote_index_column": 20,
         "alcohol": -0.992718658127409,
         "chlorides": -0.18043482638358227,
         "citric acid": 1.0820743979915954,
         "density": 0.021517606849977305,
         "fixed acidity": 0.3359485000690003,
         "free sulfur dioxide": 1.2503557997058485,
         "pH": 0.5136162934329802,
         "residual sugar": -0.7359299165750839,
         "sulphates": -0.8435449629123903,
         "total sulfur dioxide": 0.6908494166361021,
         "volatile acidity": -2.320017086950556
        },
        {
         "_deepnote_index_column": 21,
         "alcohol": -0.6708237464307921,
         "chlorides": 0.01258343307182476,
         "citric acid": 0.2051258956197577,
         "density": 0.7689248163553482,
         "fixed acidity": -0.41258698071969646,
         "free sulfur dioxide": 0.6761083933509796,
         "pH": 1.3594823978424366,
         "residual sugar": -0.048065932904250465,
         "sulphates": 0.06969954507312708,
         "total sulfur dioxide": 0.9300442600826614,
         "volatile acidity": -0.6896713430676512
        },
        {
         "_deepnote_index_column": 22,
         "alcohol": -0.8842928282397654,
         "chlorides": 0.8001943863536336,
         "citric acid": -0.31072616459897046,
         "density": -0.08525485165078149,
         "fixed acidity": -0.23984802361461227,
         "free sulfur dioxide": -0.568094320417903,
         "pH": -0.9178494217214872,
         "residual sugar": -1.0664533160448357,
         "sulphates": 1.5752772695694026,
         "total sulfur dioxide": 0.0039278286861235,
         "volatile acidity": -0.41162920002223763
        },
        {
         "_deepnote_index_column": 23,
         "alcohol": -0.992718658127409,
         "chlorides": 0.08651420158849732,
         "citric acid": -0.8265782248176986,
         "density": 0.021517606849977305,
         "fixed acidity": 0.10562989059555505,
         "free sulfur dioxide": -0.6638022214770477,
         "pH": -0.9178494217214872,
         "residual sugar": -0.048065932904250465,
         "sulphates": -0.8435449629123903,
         "total sulfur dioxide": 0.8476476873227105,
         "volatile acidity": -0.03966602191804805
        },
        {
         "_deepnote_index_column": 24,
         "alcohol": -0.6708237464307921,
         "chlorides": 0.12282206240790121,
         "citric acid": -0.67182260675208,
         "density": 0.021517606849977305,
         "fixed acidity": -0.8156445472982249,
         "free sulfur dioxide": 0.48469259123269,
         "pH": 0.7738827870974287,
         "residual sugar": 0.07136509007312285,
         "sulphates": -0.0701429982705039,
         "total sulfur dioxide": 0.11470671502216855,
         "volatile acidity": -0.6175745801769125
        },
        {
         "_deepnote_index_column": 25,
         "alcohol": -1.102304144550733,
         "chlorides": -0.06317296979347499,
         "citric acid": -0.5686521947083344,
         "density": -0.6725033734050142,
         "fixed acidity": -1.1611224615083926,
         "free sulfur dioxide": -0.47238641935875814,
         "pH": 0.18828317635241795,
         "residual sugar": -1.441169841053974,
         "sulphates": -0.59717463864752,
         "total sulfur dioxide": -0.6716220214963889,
         "volatile acidity": -0.6896713430676512
        },
        {
         "_deepnote_index_column": 26,
         "alcohol": -0.8842928282397654,
         "chlorides": -0.06317296979347499,
         "citric acid": -0.15597054653335202,
         "density": -0.29879976865235836,
         "fixed acidity": -0.41258698071969646,
         "free sulfur dioxide": -1.1423417267727718,
         "pH": -0.202116564144255,
         "residual sugar": -0.7359299165750839,
         "sulphates": -0.36366441415276674,
         "total sulfur dioxide": -1.7197078846320741,
         "volatile acidity": -0.5472581674690845
        },
        {
         "_deepnote_index_column": 27,
         "alcohol": -0.8842928282397654,
         "chlorides": 0.8001943863536336,
         "citric acid": -0.31072616459897046,
         "density": -0.08525485165078149,
         "fixed acidity": -0.23984802361461227,
         "free sulfur dioxide": -0.568094320417903,
         "pH": -0.9178494217214872,
         "residual sugar": -1.0664533160448357,
         "sulphates": 1.5752772695694026,
         "total sulfur dioxide": 0.0039278286861235,
         "volatile acidity": -0.41162920002223763
        },
        {
         "_deepnote_index_column": 28,
         "alcohol": -0.992718658127409,
         "chlorides": -0.06317296979347499,
         "citric acid": -1.3940154910582994,
         "density": 0.2350625238514949,
         "fixed acidity": -0.7004852425615028,
         "free sulfur dioxide": -0.18526271618132367,
         "pH": 1.0341492807618773,
         "residual sugar": -0.584206184251954,
         "sulphates": -0.677800192737696,
         "total sulfur dioxide": -0.07503374786481382,
         "volatile acidity": 1.0164196844162534
        },
        {
         "_deepnote_index_column": 29,
         "alcohol": -0.5657341553450942,
         "chlorides": 0.01258343307182476,
         "citric acid": -1.3940154910582994,
         "density": -0.19202731015159957,
         "fixed acidity": -0.29742767598297387,
         "free sulfur dioxide": -0.7595101225361925,
         "pH": 0.4485496700168666,
         "residual sugar": -0.4402666607331685,
         "sulphates": -0.36366441415276674,
         "total sulfur dioxide": -1.187289947992679,
         "volatile acidity": 0.7430016344434232
        },
        {
         "_deepnote_index_column": 30,
         "alcohol": -0.2567817447083874,
         "chlorides": 0.26390339804236457,
         "citric acid": -1.0329190489051898,
         "density": -0.5123446856538759,
         "fixed acidity": -0.9308038520349474,
         "free sulfur dioxide": 0.10186098699611075,
         "pH": 0.25334979976853156,
         "residual sugar": 0.07136509007312285,
         "sulphates": -0.7599051970612184,
         "total sulfur dioxide": 1.1347159574482333,
         "volatile acidity": 0.8724634743584699
        },
        {
         "_deepnote_index_column": 31,
         "alcohol": 0.23829741918376368,
         "chlorides": 0.7711138043354536,
         "citric acid": -1.3940154910582994,
         "density": -0.08525485165078149,
         "fixed acidity": -0.8156445472982249,
         "free sulfur dioxide": 0.5804004922918348,
         "pH": 0.9690826573457638,
         "residual sugar": 0.18591999457849925,
         "sulphates": -0.5179761606944593,
         "total sulfur dioxide": 0.0039278286861235,
         "volatile acidity": 0.9143417294605326
        },
        {
         "_deepnote_index_column": 32,
         "alcohol": -0.5657341553450942,
         "chlorides": 0.04977150575563318,
         "citric acid": -0.7749930187958257,
         "density": -0.08525485165078149,
         "fixed acidity": -0.00952941414116705,
         "free sulfur dioxide": -0.08955481512217887,
         "pH": -0.9178494217214872,
         "residual sugar": -0.048065932904250465,
         "sulphates": 0.13801533296786472,
         "total sulfur dioxide": 1.5903676359337136,
         "volatile acidity": 0.7868128066567318
        },
        {
         "_deepnote_index_column": 33,
         "alcohol": -0.992718658127409,
         "chlorides": -0.3440991446392565,
         "citric acid": -0.7749930187958257,
         "density": 1.3561733381095809,
         "fixed acidity": -0.8156445472982249,
         "free sulfur dioxide": 2.303142711356441,
         "pH": 0.9040160339296531,
         "residual sugar": 4.266010889859675,
         "sulphates": -0.9287779626027175,
         "total sulfur dioxide": 1.151939716693329,
         "volatile acidity": 0.5606885063059577
        },
        {
         "_deepnote_index_column": 34,
         "alcohol": -1.2130743618894166,
         "chlorides": 0.712112400716238,
         "citric acid": -0.10438534051147916,
         "density": -0.5657309149042553,
         "fixed acidity": -1.7944986375603664,
         "free sulfur dioxide": -0.2809706172404685,
         "pH": 0.4485496700168666,
         "residual sugar": -0.7359299165750839,
         "sulphates": -0.677800192737696,
         "total sulfur dioxide": 0.43178092419826397,
         "volatile acidity": -1.2530137824838719
        },
        {
         "_deepnote_index_column": 35,
         "alcohol": -0.7770023682142252,
         "chlorides": 0.158705260145121,
         "citric acid": -1.3940154910582994,
         "density": 0.982469733356925,
         "fixed acidity": -0.29742767598297387,
         "free sulfur dioxide": -1.046633825713627,
         "pH": 0.5786829168490909,
         "residual sugar": 2.398493355693275,
         "sulphates": -0.677800192737696,
         "total sulfur dioxide": -1.0199269986035633,
         "volatile acidity": 0.7430016344434232
        },
        {
         "_deepnote_index_column": 36,
         "alcohol": 0.42981973018128433,
         "chlorides": 0.158705260145121,
         "citric acid": -0.67182260675208,
         "density": 0.39522121160269236,
         "fixed acidity": -0.29742767598297387,
         "free sulfur dioxide": -1.2380496278319166,
         "pH": 0.7088161636813152,
         "residual sugar": 0.07136509007312285,
         "sulphates": -0.28845932976239047,
         "total sulfur dioxide": -1.2789954910414014,
         "volatile acidity": 0.5370562542887478
        },
        {
         "_deepnote_index_column": 37,
         "alcohol": -0.6708237464307921,
         "chlorides": -0.6533657874236122,
         "citric acid": 0.05037027755413941,
         "density": 0.021517606849977305,
         "fixed acidity": -0.12468871887789018,
         "free sulfur dioxide": -0.2809706172404685,
         "pH": -0.5274496812248143,
         "residual sugar": -0.30335143493601463,
         "sulphates": 0.5890757563972023,
         "total sulfur dioxide": -0.2940730372026494,
         "volatile acidity": -0.7636409570780567
        },
        {
         "_deepnote_index_column": 38,
         "alcohol": -0.5657341553450942,
         "chlorides": 2.2852658605378497,
         "citric acid": -0.9297486368614442,
         "density": -1.4732968121608236,
         "fixed acidity": -1.50660037571856,
         "free sulfur dioxide": -0.8552180235953374,
         "pH": 1.2293491510102124,
         "residual sugar": -1.2475616673813756,
         "sulphates": -1.286936837438235,
         "total sulfur dioxide": -0.9431005730776828,
         "volatile acidity": 2.3397545602036356
        },
        {
         "_deepnote_index_column": 39,
         "alcohol": 0.1411768312686364,
         "chlorides": -0.3023572975742545,
         "citric acid": 0.4630519257291217,
         "density": 0.5553798993538306,
         "fixed acidity": -0.5853259378247802,
         "free sulfur dioxide": -0.3766785182996133,
         "pH": 0.12321655293630723,
         "residual sugar": 2.595500930719877,
         "sulphates": 1.1635297639294195,
         "total sulfur dioxide": 1.2188199545280696,
         "volatile acidity": -0.28216736010719073
        },
        {
         "_deepnote_index_column": 40,
         "alcohol": 0.1411768312686364,
         "chlorides": -0.3023572975742545,
         "citric acid": 0.4630519257291217,
         "density": 0.5553798993538306,
         "fixed acidity": -0.5853259378247802,
         "free sulfur dioxide": -0.3766785182996133,
         "pH": 0.12321655293630723,
         "residual sugar": 2.595500930719877,
         "sulphates": 1.1635297639294195,
         "total sulfur dioxide": 1.2188199545280696,
         "volatile acidity": -0.28216736010719073
        },
        {
         "_deepnote_index_column": 41,
         "alcohol": -1.102304144550733,
         "chlorides": 0.22923660622830208,
         "citric acid": 0.15354068959788483,
         "density": 0.44860744085307175,
         "fixed acidity": 0.27836884770063924,
         "free sulfur dioxide": 0.10186098699611075,
         "pH": -0.33224981097647927,
         "residual sugar": 0.5039435717121922,
         "sulphates": -1.015666075013967,
         "total sulfur dioxide": 0.31330043234236316,
         "volatile acidity": 0.5841262519862312
        },
        {
         "_deepnote_index_column": 42,
         "alcohol": 0.1411768312686364,
         "chlorides": 4.30289270654109,
         "citric acid": -0.3623113706208432,
         "density": 0.021517606849977305,
         "fixed acidity": -0.4701666330880575,
         "free sulfur dioxide": -0.7595101225361925,
         "pH": -0.6575829280570387,
         "residual sugar": 0.2959813745455553,
         "sulphates": 1.5258337036190153,
         "total sulfur dioxide": -1.3770304108796614,
         "volatile acidity": -0.03966602191804805
        },
        {
         "_deepnote_index_column": 43,
         "alcohol": -0.055870497554893275,
         "chlorides": -0.5169887385769528,
         "citric acid": -0.25914095857709757,
         "density": 0.021517606849977305,
         "fixed acidity": -0.12468871887789018,
         "free sulfur dioxide": -0.6638022214770477,
         "pH": -0.07198331731203067,
         "residual sugar": -0.17280671238455864,
         "sulphates": 2.813095096623404,
         "total sulfur dioxide": -0.6716220214963889,
         "volatile acidity": 0.8084681963767036
        },
        {
         "_deepnote_index_column": 44,
         "alcohol": -0.8842928282397654,
         "chlorides": -1.5051339674392459,
         "citric acid": -1.2908450790145538,
         "density": -0.29879976865235836,
         "fixed acidity": -0.8732241996665864,
         "free sulfur dioxide": -1.046633825713627,
         "pH": 1.099215904177988,
         "residual sugar": -0.7359299165750839,
         "sulphates": -0.9287779626027175,
         "total sulfur dioxide": -1.7197078846320741,
         "volatile acidity": 0.8512911089844633
        }
       ]
      },
      "text/html": [
       "<div>\n",
       "<style scoped>\n",
       "    .dataframe tbody tr th:only-of-type {\n",
       "        vertical-align: middle;\n",
       "    }\n",
       "\n",
       "    .dataframe tbody tr th {\n",
       "        vertical-align: top;\n",
       "    }\n",
       "\n",
       "    .dataframe thead th {\n",
       "        text-align: right;\n",
       "    }\n",
       "</style>\n",
       "<table border=\"1\" class=\"dataframe\">\n",
       "  <thead>\n",
       "    <tr style=\"text-align: right;\">\n",
       "      <th></th>\n",
       "      <th>fixed acidity</th>\n",
       "      <th>volatile acidity</th>\n",
       "      <th>citric acid</th>\n",
       "      <th>residual sugar</th>\n",
       "      <th>chlorides</th>\n",
       "      <th>free sulfur dioxide</th>\n",
       "      <th>total sulfur dioxide</th>\n",
       "      <th>density</th>\n",
       "      <th>pH</th>\n",
       "      <th>sulphates</th>\n",
       "      <th>alcohol</th>\n",
       "    </tr>\n",
       "  </thead>\n",
       "  <tbody>\n",
       "    <tr>\n",
       "      <th>0</th>\n",
       "      <td>-0.527746</td>\n",
       "      <td>0.976027</td>\n",
       "      <td>-1.394015</td>\n",
       "      <td>-0.584206</td>\n",
       "      <td>-0.220540</td>\n",
       "      <td>-0.472386</td>\n",
       "      <td>-0.116223</td>\n",
       "      <td>0.555380</td>\n",
       "      <td>1.294416</td>\n",
       "      <td>-0.597175</td>\n",
       "      <td>-0.992719</td>\n",
       "    </tr>\n",
       "    <tr>\n",
       "      <th>1</th>\n",
       "      <td>-0.297428</td>\n",
       "      <td>1.627692</td>\n",
       "      <td>-1.394015</td>\n",
       "      <td>0.295981</td>\n",
       "      <td>0.559445</td>\n",
       "      <td>0.867524</td>\n",
       "      <td>0.847648</td>\n",
       "      <td>0.021518</td>\n",
       "      <td>-0.722650</td>\n",
       "      <td>0.271595</td>\n",
       "      <td>-0.565734</td>\n",
       "    </tr>\n",
       "    <tr>\n",
       "      <th>2</th>\n",
       "      <td>-0.297428</td>\n",
       "      <td>1.210213</td>\n",
       "      <td>-1.187675</td>\n",
       "      <td>-0.048066</td>\n",
       "      <td>0.365614</td>\n",
       "      <td>-0.089555</td>\n",
       "      <td>0.541138</td>\n",
       "      <td>0.128290</td>\n",
       "      <td>-0.332250</td>\n",
       "      <td>0.069700</td>\n",
       "      <td>-0.565734</td>\n",
       "    </tr>\n",
       "    <tr>\n",
       "      <th>3</th>\n",
       "      <td>1.660281</td>\n",
       "      <td>-1.633267</td>\n",
       "      <td>1.494756</td>\n",
       "      <td>-0.584206</td>\n",
       "      <td>-0.261176</td>\n",
       "      <td>0.101861</td>\n",
       "      <td>0.690849</td>\n",
       "      <td>0.662152</td>\n",
       "      <td>-0.982916</td>\n",
       "      <td>-0.440155</td>\n",
       "      <td>-0.565734</td>\n",
       "    </tr>\n",
       "    <tr>\n",
       "      <th>4</th>\n",
       "      <td>-0.527746</td>\n",
       "      <td>0.976027</td>\n",
       "      <td>-1.394015</td>\n",
       "      <td>-0.584206</td>\n",
       "      <td>-0.220540</td>\n",
       "      <td>-0.472386</td>\n",
       "      <td>-0.116223</td>\n",
       "      <td>0.555380</td>\n",
       "      <td>1.294416</td>\n",
       "      <td>-0.597175</td>\n",
       "      <td>-0.992719</td>\n",
       "    </tr>\n",
       "    <tr>\n",
       "      <th>...</th>\n",
       "      <td>...</td>\n",
       "      <td>...</td>\n",
       "      <td>...</td>\n",
       "      <td>...</td>\n",
       "      <td>...</td>\n",
       "      <td>...</td>\n",
       "      <td>...</td>\n",
       "      <td>...</td>\n",
       "      <td>...</td>\n",
       "      <td>...</td>\n",
       "      <td>...</td>\n",
       "    </tr>\n",
       "    <tr>\n",
       "      <th>1566</th>\n",
       "      <td>-1.218702</td>\n",
       "      <td>0.537056</td>\n",
       "      <td>-0.981334</td>\n",
       "      <td>-0.440267</td>\n",
       "      <td>0.298183</td>\n",
       "      <td>1.537480</td>\n",
       "      <td>0.250137</td>\n",
       "      <td>-0.992821</td>\n",
       "      <td>0.904016</td>\n",
       "      <td>-0.440155</td>\n",
       "      <td>0.141177</td>\n",
       "    </tr>\n",
       "    <tr>\n",
       "      <th>1567</th>\n",
       "      <td>-1.391441</td>\n",
       "      <td>0.289277</td>\n",
       "      <td>-0.878163</td>\n",
       "      <td>-0.172807</td>\n",
       "      <td>-0.845177</td>\n",
       "      <td>2.207435</td>\n",
       "      <td>0.459919</td>\n",
       "      <td>-0.875371</td>\n",
       "      <td>1.359482</td>\n",
       "      <td>0.769285</td>\n",
       "      <td>0.802448</td>\n",
       "    </tr>\n",
       "    <tr>\n",
       "      <th>1568</th>\n",
       "      <td>-1.161122</td>\n",
       "      <td>0.074256</td>\n",
       "      <td>-0.723408</td>\n",
       "      <td>-0.048066</td>\n",
       "      <td>-0.220540</td>\n",
       "      <td>1.250356</td>\n",
       "      <td>0.114707</td>\n",
       "      <td>-0.544376</td>\n",
       "      <td>0.708816</td>\n",
       "      <td>0.710018</td>\n",
       "      <td>0.617828</td>\n",
       "    </tr>\n",
       "    <tr>\n",
       "      <th>1569</th>\n",
       "      <td>-1.391441</td>\n",
       "      <td>0.743002</td>\n",
       "      <td>-0.774993</td>\n",
       "      <td>-0.440267</td>\n",
       "      <td>-0.261176</td>\n",
       "      <td>1.537480</td>\n",
       "      <td>0.250137</td>\n",
       "      <td>-0.688519</td>\n",
       "      <td>1.684816</td>\n",
       "      <td>0.464773</td>\n",
       "      <td>-0.155834</td>\n",
       "    </tr>\n",
       "    <tr>\n",
       "      <th>1570</th>\n",
       "      <td>-1.333861</td>\n",
       "      <td>-1.343424</td>\n",
       "      <td>1.030489</td>\n",
       "      <td>1.209183</td>\n",
       "      <td>-0.607230</td>\n",
       "      <td>0.197569</td>\n",
       "      <td>0.184035</td>\n",
       "      <td>-0.677842</td>\n",
       "      <td>0.513616</td>\n",
       "      <td>0.138015</td>\n",
       "      <td>0.617828</td>\n",
       "    </tr>\n",
       "  </tbody>\n",
       "</table>\n",
       "<p>1571 rows × 11 columns</p>\n",
       "</div>"
      ],
      "text/plain": [
       "      fixed acidity  volatile acidity  citric acid  residual sugar  chlorides  \\\n",
       "0         -0.527746          0.976027    -1.394015       -0.584206  -0.220540   \n",
       "1         -0.297428          1.627692    -1.394015        0.295981   0.559445   \n",
       "2         -0.297428          1.210213    -1.187675       -0.048066   0.365614   \n",
       "3          1.660281         -1.633267     1.494756       -0.584206  -0.261176   \n",
       "4         -0.527746          0.976027    -1.394015       -0.584206  -0.220540   \n",
       "...             ...               ...          ...             ...        ...   \n",
       "1566      -1.218702          0.537056    -0.981334       -0.440267   0.298183   \n",
       "1567      -1.391441          0.289277    -0.878163       -0.172807  -0.845177   \n",
       "1568      -1.161122          0.074256    -0.723408       -0.048066  -0.220540   \n",
       "1569      -1.391441          0.743002    -0.774993       -0.440267  -0.261176   \n",
       "1570      -1.333861         -1.343424     1.030489        1.209183  -0.607230   \n",
       "\n",
       "      free sulfur dioxide  total sulfur dioxide   density        pH  \\\n",
       "0               -0.472386             -0.116223  0.555380  1.294416   \n",
       "1                0.867524              0.847648  0.021518 -0.722650   \n",
       "2               -0.089555              0.541138  0.128290 -0.332250   \n",
       "3                0.101861              0.690849  0.662152 -0.982916   \n",
       "4               -0.472386             -0.116223  0.555380  1.294416   \n",
       "...                   ...                   ...       ...       ...   \n",
       "1566             1.537480              0.250137 -0.992821  0.904016   \n",
       "1567             2.207435              0.459919 -0.875371  1.359482   \n",
       "1568             1.250356              0.114707 -0.544376  0.708816   \n",
       "1569             1.537480              0.250137 -0.688519  1.684816   \n",
       "1570             0.197569              0.184035 -0.677842  0.513616   \n",
       "\n",
       "      sulphates   alcohol  \n",
       "0     -0.597175 -0.992719  \n",
       "1      0.271595 -0.565734  \n",
       "2      0.069700 -0.565734  \n",
       "3     -0.440155 -0.565734  \n",
       "4     -0.597175 -0.992719  \n",
       "...         ...       ...  \n",
       "1566  -0.440155  0.141177  \n",
       "1567   0.769285  0.802448  \n",
       "1568   0.710018  0.617828  \n",
       "1569   0.464773 -0.155834  \n",
       "1570   0.138015  0.617828  \n",
       "\n",
       "[1571 rows x 11 columns]"
      ]
     },
     "execution_count": 249,
     "metadata": {},
     "output_type": "execute_result"
    }
   ],
   "source": [
    "X_scaled = pd.DataFrame(X_scaled, columns=X.columns)\n",
    "X_scaled"
   ]
  },
  {
   "cell_type": "code",
   "execution_count": null,
   "metadata": {
    "cell_id": "00006-77f9d811-b5db-4b83-9a38-3bcd250239ac",
    "deepnote_cell_type": "code",
    "deepnote_to_be_reexecuted": false,
    "execution_millis": 12,
    "execution_start": 1634589907187,
    "source_hash": "6611af10",
    "tags": []
   },
   "outputs": [],
   "source": [
    "x_train, x_test, y_train, y_test = train_test_split(X_scaled, y, test_size=0.20, random_state=42)"
   ]
  },
  {
   "cell_type": "code",
   "execution_count": null,
   "metadata": {
    "cell_id": "00006-3a801675-7808-483f-8967-1b60d024d2ee",
    "deepnote_cell_type": "code",
    "deepnote_to_be_reexecuted": false,
    "execution_millis": 75,
    "execution_start": 1634589909468,
    "source_hash": "b68865e8",
    "tags": []
   },
   "outputs": [
    {
     "name": "stdout",
     "output_type": "stream",
     "text": [
      "F1_weighted:  0.563075477918293\n"
     ]
    }
   ],
   "source": [
    "logit = LogisticRegression(penalty = 'none')\n",
    "logit.fit(x_train, y_train)\n",
    "preds = logit.predict(x_test)\n",
    "logit_f1_avg_pno = f1_score(y_test, preds, average=\"weighted\")\n",
    "print(\"F1_weighted: \", logit_f1_avg_pno)"
   ]
  },
  {
   "cell_type": "code",
   "execution_count": null,
   "metadata": {
    "cell_id": "00011-92dc3b27-ec99-4eca-ba67-ed1151f4b028",
    "deepnote_cell_type": "code",
    "deepnote_to_be_reexecuted": false,
    "execution_millis": 69,
    "execution_start": 1634589912411,
    "source_hash": "806880e0",
    "tags": []
   },
   "outputs": [
    {
     "data": {
      "application/vnd.deepnote.dataframe.v2+json": {
       "column_count": 4,
       "columns": [
        {
         "dtype": "float64",
         "name": "4",
         "stats": {
          "histogram": [
           {
            "bin_end": -0.734859336466134,
            "bin_start": -0.9037041192930686,
            "count": 2
           },
           {
            "bin_end": -0.5660145536391993,
            "bin_start": -0.734859336466134,
            "count": 0
           },
           {
            "bin_end": -0.39716977081226457,
            "bin_start": -0.5660145536391993,
            "count": 0
           },
           {
            "bin_end": -0.22832498798532996,
            "bin_start": -0.39716977081226457,
            "count": 1
           },
           {
            "bin_end": -0.05948020515839536,
            "bin_start": -0.22832498798532996,
            "count": 2
           },
           {
            "bin_end": 0.10936457766853946,
            "bin_start": -0.05948020515839536,
            "count": 1
           },
           {
            "bin_end": 0.27820936049547407,
            "bin_start": 0.10936457766853946,
            "count": 0
           },
           {
            "bin_end": 0.44705414332240867,
            "bin_start": 0.27820936049547407,
            "count": 2
           },
           {
            "bin_end": 0.6158989261493433,
            "bin_start": 0.44705414332240867,
            "count": 1
           },
           {
            "bin_end": 0.7847437089762778,
            "bin_start": 0.6158989261493433,
            "count": 2
           }
          ],
          "max": "0.7847437089762778",
          "min": "-0.9037041192930686",
          "nan_count": 0,
          "unique_count": 11
         }
        },
        {
         "dtype": "float64",
         "name": "5",
         "stats": {
          "histogram": [
           {
            "bin_end": -0.3823855748482799,
            "bin_start": -0.4728088306782792,
            "count": 3
           },
           {
            "bin_end": -0.2919623190182805,
            "bin_start": -0.3823855748482799,
            "count": 0
           },
           {
            "bin_end": -0.2015390631882812,
            "bin_start": -0.2919623190182805,
            "count": 2
           },
           {
            "bin_end": -0.11111580735828186,
            "bin_start": -0.2015390631882812,
            "count": 0
           },
           {
            "bin_end": -0.020692551528282532,
            "bin_start": -0.11111580735828186,
            "count": 1
           },
           {
            "bin_end": 0.06973070430171685,
            "bin_start": -0.020692551528282532,
            "count": 1
           },
           {
            "bin_end": 0.16015396013171618,
            "bin_start": 0.06973070430171685,
            "count": 1
           },
           {
            "bin_end": 0.2505772159617155,
            "bin_start": 0.16015396013171618,
            "count": 1
           },
           {
            "bin_end": 0.34100047179171483,
            "bin_start": 0.2505772159617155,
            "count": 0
           },
           {
            "bin_end": 0.43142372762171416,
            "bin_start": 0.34100047179171483,
            "count": 2
           }
          ],
          "max": "0.43142372762171416",
          "min": "-0.4728088306782792",
          "nan_count": 0,
          "unique_count": 11
         }
        },
        {
         "dtype": "float64",
         "name": "6",
         "stats": {
          "histogram": [
           {
            "bin_end": -0.29340399607026024,
            "bin_start": -0.38346041829134203,
            "count": 3
           },
           {
            "bin_end": -0.20334757384917843,
            "bin_start": -0.29340399607026024,
            "count": 2
           },
           {
            "bin_end": -0.11329115162809661,
            "bin_start": -0.20334757384917843,
            "count": 0
           },
           {
            "bin_end": -0.02323472940701482,
            "bin_start": -0.11329115162809661,
            "count": 0
           },
           {
            "bin_end": 0.06682169281406697,
            "bin_start": -0.02323472940701482,
            "count": 3
           },
           {
            "bin_end": 0.1568781150351488,
            "bin_start": 0.06682169281406697,
            "count": 1
           },
           {
            "bin_end": 0.2469345372562306,
            "bin_start": 0.1568781150351488,
            "count": 0
           },
           {
            "bin_end": 0.3369909594773124,
            "bin_start": 0.2469345372562306,
            "count": 0
           },
           {
            "bin_end": 0.4270473816983942,
            "bin_start": 0.3369909594773124,
            "count": 0
           },
           {
            "bin_end": 0.517103803919476,
            "bin_start": 0.4270473816983942,
            "count": 2
           }
          ],
          "max": "0.517103803919476",
          "min": "-0.38346041829134203",
          "nan_count": 0,
          "unique_count": 11
         }
        },
        {
         "dtype": "float64",
         "name": "7",
         "stats": {
          "histogram": [
           {
            "bin_end": -0.44859512153831954,
            "bin_start": -0.5953057317179211,
            "count": 1
           },
           {
            "bin_end": -0.30188451135871797,
            "bin_start": -0.44859512153831954,
            "count": 1
           },
           {
            "bin_end": -0.1551739011791164,
            "bin_start": -0.30188451135871797,
            "count": 2
           },
           {
            "bin_end": -0.008463290999514816,
            "bin_start": -0.1551739011791164,
            "count": 2
           },
           {
            "bin_end": 0.13824731918008681,
            "bin_start": -0.008463290999514816,
            "count": 1
           },
           {
            "bin_end": 0.28495792935968833,
            "bin_start": 0.13824731918008681,
            "count": 2
           },
           {
            "bin_end": 0.43166853953928985,
            "bin_start": 0.28495792935968833,
            "count": 0
           },
           {
            "bin_end": 0.5783791497188915,
            "bin_start": 0.43166853953928985,
            "count": 0
           },
           {
            "bin_end": 0.7250897598984931,
            "bin_start": 0.5783791497188915,
            "count": 1
           },
           {
            "bin_end": 0.8718003700780947,
            "bin_start": 0.7250897598984931,
            "count": 1
           }
          ],
          "max": "0.8718003700780947",
          "min": "-0.5953057317179211",
          "nan_count": 0,
          "unique_count": 11
         }
        },
        {
         "dtype": "int64",
         "name": "_deepnote_index_column"
        }
       ],
       "row_count": 11,
       "rows_bottom": null,
       "rows_top": [
        {
         "4": 0.5357657613497026,
         "5": -0.4728088306782792,
         "6": -0.20702488035303016,
         "7": 0.14406794968161246,
         "_deepnote_index_column": 0
        },
        {
         "4": 0.7847437089762778,
         "5": 0.19402244103297708,
         "6": -0.38346041829134203,
         "7": -0.5953057317179211,
         "_deepnote_index_column": 1
        },
        {
         "4": 0.4373041880668489,
         "5": 0.042549451102501114,
         "6": -0.3393567336124009,
         "7": -0.14049690555694763,
         "_deepnote_index_column": 2
        },
        {
         "4": 0.41037707685018865,
         "5": -0.23845083423096136,
         "6": -0.29666002502186806,
         "7": 0.12473378240262889,
         "_deepnote_index_column": 3
        },
        {
         "4": 0.06191485595054363,
         "5": 0.09232070438463204,
         "6": 0.043236126378203454,
         "7": -0.19747168671338194,
         "_deepnote_index_column": 4
        },
        {
         "4": -0.20521603609742275,
         "5": -0.04728718624730203,
         "6": 0.040099067161805425,
         "7": 0.21240415518291675,
         "_deepnote_index_column": 5
        },
        {
         "4": -0.13477513551941708,
         "5": 0.40674270781673133,
         "6": 0.10330774871737784,
         "7": -0.3752753210146908,
         "_deepnote_index_column": 6
        },
        {
         "4": -0.8903493547786905,
         "5": 0.43142372762171416,
         "6": 0.517103803919476,
         "7": -0.05817817676250167,
         "_deepnote_index_column": 7
        },
        {
         "4": 0.6527139107032405,
         "5": -0.2560403001435215,
         "6": -0.23419679385066372,
         "7": -0.16247681670905362,
         "_deepnote_index_column": 8
        },
        {
         "4": -0.23838315995722487,
         "5": -0.3863063971118817,
         "6": 0.03732032284501525,
         "7": 0.5873692342240954,
         "_deepnote_index_column": 9
        },
        {
         "4": -0.9037041192930686,
         "5": -0.42853661070089044,
         "6": 0.46044035991586746,
         "7": 0.8718003700780947,
         "_deepnote_index_column": 10
        }
       ]
      },
      "text/html": [
       "<div>\n",
       "<style scoped>\n",
       "    .dataframe tbody tr th:only-of-type {\n",
       "        vertical-align: middle;\n",
       "    }\n",
       "\n",
       "    .dataframe tbody tr th {\n",
       "        vertical-align: top;\n",
       "    }\n",
       "\n",
       "    .dataframe thead th {\n",
       "        text-align: right;\n",
       "    }\n",
       "</style>\n",
       "<table border=\"1\" class=\"dataframe\">\n",
       "  <thead>\n",
       "    <tr style=\"text-align: right;\">\n",
       "      <th></th>\n",
       "      <th>4</th>\n",
       "      <th>5</th>\n",
       "      <th>6</th>\n",
       "      <th>7</th>\n",
       "    </tr>\n",
       "  </thead>\n",
       "  <tbody>\n",
       "    <tr>\n",
       "      <th>0</th>\n",
       "      <td>0.535766</td>\n",
       "      <td>-0.472809</td>\n",
       "      <td>-0.207025</td>\n",
       "      <td>0.144068</td>\n",
       "    </tr>\n",
       "    <tr>\n",
       "      <th>1</th>\n",
       "      <td>0.784744</td>\n",
       "      <td>0.194022</td>\n",
       "      <td>-0.383460</td>\n",
       "      <td>-0.595306</td>\n",
       "    </tr>\n",
       "    <tr>\n",
       "      <th>2</th>\n",
       "      <td>0.437304</td>\n",
       "      <td>0.042549</td>\n",
       "      <td>-0.339357</td>\n",
       "      <td>-0.140497</td>\n",
       "    </tr>\n",
       "    <tr>\n",
       "      <th>3</th>\n",
       "      <td>0.410377</td>\n",
       "      <td>-0.238451</td>\n",
       "      <td>-0.296660</td>\n",
       "      <td>0.124734</td>\n",
       "    </tr>\n",
       "    <tr>\n",
       "      <th>4</th>\n",
       "      <td>0.061915</td>\n",
       "      <td>0.092321</td>\n",
       "      <td>0.043236</td>\n",
       "      <td>-0.197472</td>\n",
       "    </tr>\n",
       "    <tr>\n",
       "      <th>5</th>\n",
       "      <td>-0.205216</td>\n",
       "      <td>-0.047287</td>\n",
       "      <td>0.040099</td>\n",
       "      <td>0.212404</td>\n",
       "    </tr>\n",
       "    <tr>\n",
       "      <th>6</th>\n",
       "      <td>-0.134775</td>\n",
       "      <td>0.406743</td>\n",
       "      <td>0.103308</td>\n",
       "      <td>-0.375275</td>\n",
       "    </tr>\n",
       "    <tr>\n",
       "      <th>7</th>\n",
       "      <td>-0.890349</td>\n",
       "      <td>0.431424</td>\n",
       "      <td>0.517104</td>\n",
       "      <td>-0.058178</td>\n",
       "    </tr>\n",
       "    <tr>\n",
       "      <th>8</th>\n",
       "      <td>0.652714</td>\n",
       "      <td>-0.256040</td>\n",
       "      <td>-0.234197</td>\n",
       "      <td>-0.162477</td>\n",
       "    </tr>\n",
       "    <tr>\n",
       "      <th>9</th>\n",
       "      <td>-0.238383</td>\n",
       "      <td>-0.386306</td>\n",
       "      <td>0.037320</td>\n",
       "      <td>0.587369</td>\n",
       "    </tr>\n",
       "    <tr>\n",
       "      <th>10</th>\n",
       "      <td>-0.903704</td>\n",
       "      <td>-0.428537</td>\n",
       "      <td>0.460440</td>\n",
       "      <td>0.871800</td>\n",
       "    </tr>\n",
       "  </tbody>\n",
       "</table>\n",
       "</div>"
      ],
      "text/plain": [
       "           4         5         6         7\n",
       "0   0.535766 -0.472809 -0.207025  0.144068\n",
       "1   0.784744  0.194022 -0.383460 -0.595306\n",
       "2   0.437304  0.042549 -0.339357 -0.140497\n",
       "3   0.410377 -0.238451 -0.296660  0.124734\n",
       "4   0.061915  0.092321  0.043236 -0.197472\n",
       "5  -0.205216 -0.047287  0.040099  0.212404\n",
       "6  -0.134775  0.406743  0.103308 -0.375275\n",
       "7  -0.890349  0.431424  0.517104 -0.058178\n",
       "8   0.652714 -0.256040 -0.234197 -0.162477\n",
       "9  -0.238383 -0.386306  0.037320  0.587369\n",
       "10 -0.903704 -0.428537  0.460440  0.871800"
      ]
     },
     "execution_count": 253,
     "metadata": {},
     "output_type": "execute_result"
    }
   ],
   "source": [
    "cf = pd.DataFrame(logit.coef_).T\n",
    "cf.columns = ['4','5','6','7']\n",
    "cf"
   ]
  },
  {
   "cell_type": "code",
   "execution_count": null,
   "metadata": {
    "cell_id": "00009-4e26f46f-9967-4b84-9a59-16760c8f2469",
    "deepnote_cell_type": "code",
    "deepnote_to_be_reexecuted": false,
    "execution_millis": 166,
    "execution_start": 1634589926867,
    "source_hash": "6bb1d263",
    "tags": []
   },
   "outputs": [
    {
     "name": "stdout",
     "output_type": "stream",
     "text": [
      "F1_weighted:  0.5579088661559732\n"
     ]
    }
   ],
   "source": [
    "logit = LogisticRegression(penalty = 'l2')\n",
    "logit.fit(x_train, y_train)\n",
    "preds = logit.predict(x_test)\n",
    "logit_f1_avg_pl2 = f1_score(y_test, preds, average=\"weighted\")\n",
    "print(\"F1_weighted: \", logit_f1_avg_pl2)"
   ]
  },
  {
   "cell_type": "code",
   "execution_count": null,
   "metadata": {
    "cell_id": "00013-37616564-e972-412c-ab9d-b9b901e2654a",
    "deepnote_cell_type": "code",
    "deepnote_to_be_reexecuted": false,
    "execution_millis": 45,
    "execution_start": 1634589951891,
    "source_hash": "806880e0",
    "tags": []
   },
   "outputs": [
    {
     "data": {
      "application/vnd.deepnote.dataframe.v2+json": {
       "column_count": 4,
       "columns": [
        {
         "dtype": "float64",
         "name": "4",
         "stats": {
          "histogram": [
           {
            "bin_end": -0.5728748427023447,
            "bin_start": -0.7188273296250607,
            "count": 2
           },
           {
            "bin_end": -0.42692235577962856,
            "bin_start": -0.5728748427023447,
            "count": 0
           },
           {
            "bin_end": -0.2809698688569125,
            "bin_start": -0.42692235577962856,
            "count": 0
           },
           {
            "bin_end": -0.13501738193419643,
            "bin_start": -0.2809698688569125,
            "count": 2
           },
           {
            "bin_end": 0.010935104988519573,
            "bin_start": -0.13501738193419643,
            "count": 1
           },
           {
            "bin_end": 0.1568875919112357,
            "bin_start": 0.010935104988519573,
            "count": 1
           },
           {
            "bin_end": 0.3028400788339518,
            "bin_start": 0.1568875919112357,
            "count": 0
           },
           {
            "bin_end": 0.4487925657566678,
            "bin_start": 0.3028400788339518,
            "count": 3
           },
           {
            "bin_end": 0.5947450526793838,
            "bin_start": 0.4487925657566678,
            "count": 1
           },
           {
            "bin_end": 0.7406975396020998,
            "bin_start": 0.5947450526793838,
            "count": 1
           }
          ],
          "max": "0.7406975396020998",
          "min": "-0.7188273296250607",
          "nan_count": 0,
          "unique_count": 11
         }
        },
        {
         "dtype": "float64",
         "name": "5",
         "stats": {
          "histogram": [
           {
            "bin_end": -0.39100943400480914,
            "bin_start": -0.47876407544345223,
            "count": 2
           },
           {
            "bin_end": -0.303254792566166,
            "bin_start": -0.39100943400480914,
            "count": 1
           },
           {
            "bin_end": -0.21550015112752285,
            "bin_start": -0.303254792566166,
            "count": 0
           },
           {
            "bin_end": -0.12774550968887977,
            "bin_start": -0.21550015112752285,
            "count": 2
           },
           {
            "bin_end": -0.03999086825023668,
            "bin_start": -0.12774550968887977,
            "count": 1
           },
           {
            "bin_end": 0.04776377318840652,
            "bin_start": -0.03999086825023668,
            "count": 1
           },
           {
            "bin_end": 0.1355184146270496,
            "bin_start": 0.04776377318840652,
            "count": 1
           },
           {
            "bin_end": 0.2232730560656927,
            "bin_start": 0.1355184146270496,
            "count": 1
           },
           {
            "bin_end": 0.3110276975043358,
            "bin_start": 0.2232730560656927,
            "count": 0
           },
           {
            "bin_end": 0.3987823389429788,
            "bin_start": 0.3110276975043358,
            "count": 2
           }
          ],
          "max": "0.3987823389429788",
          "min": "-0.47876407544345223",
          "nan_count": 0,
          "unique_count": 11
         }
        },
        {
         "dtype": "float64",
         "name": "6",
         "stats": {
          "histogram": [
           {
            "bin_end": -0.2888765783067453,
            "bin_start": -0.3680138971755154,
            "count": 2
           },
           {
            "bin_end": -0.20973925943797514,
            "bin_start": -0.2888765783067453,
            "count": 1
           },
           {
            "bin_end": -0.130601940569205,
            "bin_start": -0.20973925943797514,
            "count": 1
           },
           {
            "bin_end": -0.051464621700434865,
            "bin_start": -0.130601940569205,
            "count": 1
           },
           {
            "bin_end": 0.02767269716833526,
            "bin_start": -0.051464621700434865,
            "count": 0
           },
           {
            "bin_end": 0.10681001603710544,
            "bin_start": 0.02767269716833526,
            "count": 4
           },
           {
            "bin_end": 0.1859473349058755,
            "bin_start": 0.10681001603710544,
            "count": 0
           },
           {
            "bin_end": 0.2650846537746457,
            "bin_start": 0.1859473349058755,
            "count": 0
           },
           {
            "bin_end": 0.34422197264341586,
            "bin_start": 0.2650846537746457,
            "count": 0
           },
           {
            "bin_end": 0.423359291512186,
            "bin_start": 0.34422197264341586,
            "count": 2
           }
          ],
          "max": "0.423359291512186",
          "min": "-0.3680138971755154",
          "nan_count": 0,
          "unique_count": 11
         }
        },
        {
         "dtype": "float64",
         "name": "7",
         "stats": {
          "histogram": [
           {
            "bin_end": -0.43460174539658075,
            "bin_start": -0.571615346249535,
            "count": 1
           },
           {
            "bin_end": -0.2975881445436265,
            "bin_start": -0.43460174539658075,
            "count": 1
           },
           {
            "bin_end": -0.1605745436906722,
            "bin_start": -0.2975881445436265,
            "count": 1
           },
           {
            "bin_end": -0.023560942837717924,
            "bin_start": -0.1605745436906722,
            "count": 3
           },
           {
            "bin_end": 0.11345265801523641,
            "bin_start": -0.023560942837717924,
            "count": 0
           },
           {
            "bin_end": 0.2504662588681906,
            "bin_start": 0.11345265801523641,
            "count": 3
           },
           {
            "bin_end": 0.38747985972114485,
            "bin_start": 0.2504662588681906,
            "count": 0
           },
           {
            "bin_end": 0.5244934605740992,
            "bin_start": 0.38747985972114485,
            "count": 0
           },
           {
            "bin_end": 0.6615070614270535,
            "bin_start": 0.5244934605740992,
            "count": 1
           },
           {
            "bin_end": 0.7985206622800077,
            "bin_start": 0.6615070614270535,
            "count": 1
           }
          ],
          "max": "0.7985206622800077",
          "min": "-0.571615346249535",
          "nan_count": 0,
          "unique_count": 11
         }
        },
        {
         "dtype": "int64",
         "name": "_deepnote_index_column"
        }
       ],
       "row_count": 11,
       "rows_bottom": null,
       "rows_top": [
        {
         "4": 0.3035971122860925,
         "5": -0.3941703482271019,
         "6": -0.12726402116878568,
         "7": 0.21783725710979435,
         "_deepnote_index_column": 0
        },
        {
         "4": 0.7406975396020998,
         "5": 0.19893170382295156,
         "6": -0.3680138971755154,
         "7": -0.571615346249535,
         "_deepnote_index_column": 1
        },
        {
         "4": 0.3865403082302096,
         "5": 0.04740707603686361,
         "6": -0.3236050814874593,
         "7": -0.11034230277961307,
         "_deepnote_index_column": 2
        },
        {
         "4": 0.31246082963728194,
         "5": -0.20618309600429324,
         "6": -0.26098005311125716,
         "7": 0.15470231947826793,
         "_deepnote_index_column": 3
        },
        {
         "4": 0.05245156313230729,
         "5": 0.09511105802364626,
         "6": 0.04556744632980715,
         "7": -0.19313006748576123,
         "_deepnote_index_column": 4
        },
        {
         "4": -0.18677926904182535,
         "5": -0.04757245038779162,
         "6": 0.038305586280182165,
         "7": 0.19604613314943645,
         "_deepnote_index_column": 5
        },
        {
         "4": -0.12973901775231336,
         "5": 0.3987823389429788,
         "6": 0.09604751132039957,
         "7": -0.3650908325110593,
         "_deepnote_index_column": 6
        },
        {
         "4": -0.6164091252151456,
         "5": 0.34672850409174133,
         "6": 0.423359291512186,
         "7": -0.1536786703887809,
         "_deepnote_index_column": 7
        },
        {
         "4": 0.5048178699669746,
         "5": -0.21059234663807427,
         "6": -0.1846323761890589,
         "7": -0.10959314713984095,
         "_deepnote_index_column": 8
        },
        {
         "4": -0.2645739170626321,
         "5": -0.37287171078092907,
         "6": 0.0487161137267881,
         "7": 0.5887295141167748,
         "_deepnote_index_column": 9
        },
        {
         "4": -0.7188273296250607,
         "5": -0.47876407544345223,
         "6": 0.39907074278850596,
         "7": 0.7985206622800077,
         "_deepnote_index_column": 10
        }
       ]
      },
      "text/html": [
       "<div>\n",
       "<style scoped>\n",
       "    .dataframe tbody tr th:only-of-type {\n",
       "        vertical-align: middle;\n",
       "    }\n",
       "\n",
       "    .dataframe tbody tr th {\n",
       "        vertical-align: top;\n",
       "    }\n",
       "\n",
       "    .dataframe thead th {\n",
       "        text-align: right;\n",
       "    }\n",
       "</style>\n",
       "<table border=\"1\" class=\"dataframe\">\n",
       "  <thead>\n",
       "    <tr style=\"text-align: right;\">\n",
       "      <th></th>\n",
       "      <th>4</th>\n",
       "      <th>5</th>\n",
       "      <th>6</th>\n",
       "      <th>7</th>\n",
       "    </tr>\n",
       "  </thead>\n",
       "  <tbody>\n",
       "    <tr>\n",
       "      <th>0</th>\n",
       "      <td>0.303597</td>\n",
       "      <td>-0.394170</td>\n",
       "      <td>-0.127264</td>\n",
       "      <td>0.217837</td>\n",
       "    </tr>\n",
       "    <tr>\n",
       "      <th>1</th>\n",
       "      <td>0.740698</td>\n",
       "      <td>0.198932</td>\n",
       "      <td>-0.368014</td>\n",
       "      <td>-0.571615</td>\n",
       "    </tr>\n",
       "    <tr>\n",
       "      <th>2</th>\n",
       "      <td>0.386540</td>\n",
       "      <td>0.047407</td>\n",
       "      <td>-0.323605</td>\n",
       "      <td>-0.110342</td>\n",
       "    </tr>\n",
       "    <tr>\n",
       "      <th>3</th>\n",
       "      <td>0.312461</td>\n",
       "      <td>-0.206183</td>\n",
       "      <td>-0.260980</td>\n",
       "      <td>0.154702</td>\n",
       "    </tr>\n",
       "    <tr>\n",
       "      <th>4</th>\n",
       "      <td>0.052452</td>\n",
       "      <td>0.095111</td>\n",
       "      <td>0.045567</td>\n",
       "      <td>-0.193130</td>\n",
       "    </tr>\n",
       "    <tr>\n",
       "      <th>5</th>\n",
       "      <td>-0.186779</td>\n",
       "      <td>-0.047572</td>\n",
       "      <td>0.038306</td>\n",
       "      <td>0.196046</td>\n",
       "    </tr>\n",
       "    <tr>\n",
       "      <th>6</th>\n",
       "      <td>-0.129739</td>\n",
       "      <td>0.398782</td>\n",
       "      <td>0.096048</td>\n",
       "      <td>-0.365091</td>\n",
       "    </tr>\n",
       "    <tr>\n",
       "      <th>7</th>\n",
       "      <td>-0.616409</td>\n",
       "      <td>0.346729</td>\n",
       "      <td>0.423359</td>\n",
       "      <td>-0.153679</td>\n",
       "    </tr>\n",
       "    <tr>\n",
       "      <th>8</th>\n",
       "      <td>0.504818</td>\n",
       "      <td>-0.210592</td>\n",
       "      <td>-0.184632</td>\n",
       "      <td>-0.109593</td>\n",
       "    </tr>\n",
       "    <tr>\n",
       "      <th>9</th>\n",
       "      <td>-0.264574</td>\n",
       "      <td>-0.372872</td>\n",
       "      <td>0.048716</td>\n",
       "      <td>0.588730</td>\n",
       "    </tr>\n",
       "    <tr>\n",
       "      <th>10</th>\n",
       "      <td>-0.718827</td>\n",
       "      <td>-0.478764</td>\n",
       "      <td>0.399071</td>\n",
       "      <td>0.798521</td>\n",
       "    </tr>\n",
       "  </tbody>\n",
       "</table>\n",
       "</div>"
      ],
      "text/plain": [
       "           4         5         6         7\n",
       "0   0.303597 -0.394170 -0.127264  0.217837\n",
       "1   0.740698  0.198932 -0.368014 -0.571615\n",
       "2   0.386540  0.047407 -0.323605 -0.110342\n",
       "3   0.312461 -0.206183 -0.260980  0.154702\n",
       "4   0.052452  0.095111  0.045567 -0.193130\n",
       "5  -0.186779 -0.047572  0.038306  0.196046\n",
       "6  -0.129739  0.398782  0.096048 -0.365091\n",
       "7  -0.616409  0.346729  0.423359 -0.153679\n",
       "8   0.504818 -0.210592 -0.184632 -0.109593\n",
       "9  -0.264574 -0.372872  0.048716  0.588730\n",
       "10 -0.718827 -0.478764  0.399071  0.798521"
      ]
     },
     "execution_count": 255,
     "metadata": {},
     "output_type": "execute_result"
    }
   ],
   "source": [
    "cf = pd.DataFrame(logit.coef_).T\n",
    "cf.columns = ['4','5','6','7']\n",
    "cf"
   ]
  },
  {
   "cell_type": "code",
   "execution_count": null,
   "metadata": {
    "cell_id": "00014-3e0e7c3d-08c3-4085-852d-6a872d60a146",
    "deepnote_cell_type": "code",
    "deepnote_to_be_reexecuted": false,
    "execution_millis": 63,
    "execution_start": 1634589958139,
    "source_hash": "3c76ed2",
    "tags": []
   },
   "outputs": [
    {
     "name": "stdout",
     "output_type": "stream",
     "text": [
      "F1_weighted:  0.552368159483569\n"
     ]
    }
   ],
   "source": [
    "logit = LogisticRegression(penalty = 'l2', C = 0.1)\n",
    "logit.fit(x_train, y_train)\n",
    "preds = logit.predict(x_test)\n",
    "logit_f1_avg_pl2 = f1_score(y_test, preds, average=\"weighted\")\n",
    "print(\"F1_weighted: \", logit_f1_avg_pl2)"
   ]
  },
  {
   "cell_type": "code",
   "execution_count": null,
   "metadata": {
    "cell_id": "00016-3d960c19-bff0-4cf9-8136-3f391f58cd08",
    "deepnote_cell_type": "code",
    "deepnote_to_be_reexecuted": false,
    "execution_millis": 100,
    "execution_start": 1634589963479,
    "source_hash": "bbe95de3",
    "tags": []
   },
   "outputs": [
    {
     "name": "stdout",
     "output_type": "stream",
     "text": [
      "F1_weighted:  0.563075477918293\n"
     ]
    }
   ],
   "source": [
    "logit = LogisticRegression(penalty = 'l2', C = 10)\n",
    "logit.fit(x_train, y_train)\n",
    "preds = logit.predict(x_test)\n",
    "logit_f1_avg_pl2 = f1_score(y_test, preds, average=\"weighted\")\n",
    "print(\"F1_weighted: \", logit_f1_avg_pl2)"
   ]
  },
  {
   "cell_type": "code",
   "execution_count": null,
   "metadata": {
    "cell_id": "00017-4a50532e-4c4a-494a-8755-8df2671b204d",
    "deepnote_cell_type": "code",
    "deepnote_to_be_reexecuted": false,
    "execution_millis": 271,
    "execution_start": 1634589965738,
    "source_hash": "11e0dde2",
    "tags": []
   },
   "outputs": [
    {
     "name": "stdout",
     "output_type": "stream",
     "text": [
      "F1_weighted:  0.5968738934581101\n"
     ]
    }
   ],
   "source": [
    "svc = SVC(C=1, kernel='rbf')\n",
    "svc.fit(x_train, y_train)\n",
    "preds = svc.predict(x_test)\n",
    "svc_f1_avg = f1_score(y_test, preds, average=\"weighted\")\n",
    "print(\"F1_weighted: \", svc_f1_avg)"
   ]
  },
  {
   "cell_type": "code",
   "execution_count": null,
   "metadata": {
    "cell_id": "00016-b075066b-251f-460d-9590-b467d132304c",
    "deepnote_cell_type": "code",
    "deepnote_to_be_reexecuted": false,
    "execution_millis": 323,
    "execution_start": 1634630059032,
    "source_hash": "ca1f0266",
    "tags": []
   },
   "outputs": [
    {
     "ename": "NameError",
     "evalue": "name 'SVC' is not defined",
     "output_type": "error",
     "traceback": [
      "\u001b[0;31m---------------------------------------------------------------------------\u001b[0m",
      "\u001b[0;31mNameError\u001b[0m                                 Traceback (most recent call last)",
      "\u001b[0;32m<ipython-input-1-ca9e161f4d30>\u001b[0m in \u001b[0;36m<module>\u001b[0;34m\u001b[0m\n\u001b[0;32m----> 1\u001b[0;31m \u001b[0msvc\u001b[0m \u001b[0;34m=\u001b[0m \u001b[0mSVC\u001b[0m\u001b[0;34m(\u001b[0m\u001b[0mC\u001b[0m\u001b[0;34m=\u001b[0m\u001b[0;36m5\u001b[0m\u001b[0;34m,\u001b[0m \u001b[0mkernel\u001b[0m\u001b[0;34m=\u001b[0m\u001b[0;34m'rbf'\u001b[0m\u001b[0;34m)\u001b[0m\u001b[0;34m\u001b[0m\u001b[0;34m\u001b[0m\u001b[0m\n\u001b[0m\u001b[1;32m      2\u001b[0m \u001b[0msvc\u001b[0m\u001b[0;34m.\u001b[0m\u001b[0mfit\u001b[0m\u001b[0;34m(\u001b[0m\u001b[0mx_train\u001b[0m\u001b[0;34m,\u001b[0m \u001b[0my_train\u001b[0m\u001b[0;34m)\u001b[0m\u001b[0;34m\u001b[0m\u001b[0;34m\u001b[0m\u001b[0m\n\u001b[1;32m      3\u001b[0m \u001b[0mpreds\u001b[0m \u001b[0;34m=\u001b[0m \u001b[0msvc\u001b[0m\u001b[0;34m.\u001b[0m\u001b[0mpredict\u001b[0m\u001b[0;34m(\u001b[0m\u001b[0mx_test\u001b[0m\u001b[0;34m)\u001b[0m\u001b[0;34m\u001b[0m\u001b[0;34m\u001b[0m\u001b[0m\n\u001b[1;32m      4\u001b[0m \u001b[0msvc_f1_avg\u001b[0m \u001b[0;34m=\u001b[0m \u001b[0mf1_score\u001b[0m\u001b[0;34m(\u001b[0m\u001b[0my_test\u001b[0m\u001b[0;34m,\u001b[0m \u001b[0mpreds\u001b[0m\u001b[0;34m,\u001b[0m \u001b[0maverage\u001b[0m\u001b[0;34m=\u001b[0m\u001b[0;34m\"weighted\"\u001b[0m\u001b[0;34m)\u001b[0m\u001b[0;34m\u001b[0m\u001b[0;34m\u001b[0m\u001b[0m\n\u001b[1;32m      5\u001b[0m \u001b[0mprint\u001b[0m\u001b[0;34m(\u001b[0m\u001b[0;34m\"F1_weighted: \"\u001b[0m\u001b[0;34m,\u001b[0m \u001b[0msvc_f1_avg\u001b[0m\u001b[0;34m)\u001b[0m\u001b[0;34m\u001b[0m\u001b[0;34m\u001b[0m\u001b[0m\n",
      "\u001b[0;31mNameError\u001b[0m: name 'SVC' is not defined"
     ]
    }
   ],
   "source": [
    "svc = SVC(C=5, kernel='rbf')\n",
    "svc.fit(x_train, y_train)\n",
    "preds = svc.predict(x_test)\n",
    "svc_f1_avg = f1_score(y_test, preds, average=\"weighted\")\n",
    "print(\"F1_weighted: \", svc_f1_avg)"
   ]
  },
  {
   "cell_type": "code",
   "execution_count": null,
   "metadata": {
    "cell_id": "00014-62ee0ee4-1c14-4699-a24d-5066fb863140",
    "deepnote_cell_type": "code",
    "deepnote_to_be_reexecuted": false,
    "execution_millis": 349,
    "execution_start": 1634589428556,
    "source_hash": "1707a405",
    "tags": []
   },
   "outputs": [
    {
     "name": "stdout",
     "output_type": "stream",
     "text": [
      "F1_weighted:  0.5587286843667368\n"
     ]
    }
   ],
   "source": [
    "xsvc = SVC(C=1, kernel='poly', degree = 3)\n",
    "svc.fit(x_train, y_train)\n",
    "preds = svc.predict(x_test)\n",
    "svc_f1_avg = f1_score(y_test, preds, average=\"weighted\")\n",
    "print(\"F1_weighted: \", svc_f1_avg)"
   ]
  },
  {
   "cell_type": "code",
   "execution_count": null,
   "metadata": {
    "cell_id": "00020-80f6bf4e-577d-4a16-a3b8-9e6686e89f6a",
    "deepnote_cell_type": "code",
    "deepnote_to_be_reexecuted": false,
    "execution_millis": 307,
    "execution_start": 1634589442258,
    "source_hash": "ac24f7db",
    "tags": []
   },
   "outputs": [
    {
     "name": "stdout",
     "output_type": "stream",
     "text": [
      "F1_weighted:  0.5355336234646579\n"
     ]
    }
   ],
   "source": [
    "svc = SVC(C=1, kernel='poly', degree = 5)\n",
    "svc.fit(x_train, y_train)\n",
    "preds = svc.predict(x_test)\n",
    "svc_f1_avg = f1_score(y_test, preds, average=\"weighted\")\n",
    "print(\"F1_weighted: \", svc_f1_avg)"
   ]
  },
  {
   "cell_type": "code",
   "execution_count": null,
   "metadata": {
    "cell_id": "00014-f529d3fb-b1d5-4bee-9e51-30f8d90468dd",
    "deepnote_cell_type": "code",
    "deepnote_to_be_reexecuted": false,
    "execution_millis": 392,
    "execution_start": 1634589465915,
    "source_hash": "cdcf151f",
    "tags": []
   },
   "outputs": [
    {
     "name": "stdout",
     "output_type": "stream",
     "text": [
      "F1_weighted:  0.45183206871638465\n"
     ]
    }
   ],
   "source": [
    "svc = SVC(C=1, kernel='poly', degree = 7)\n",
    "svc.fit(x_train, y_train)\n",
    "preds = svc.predict(x_test)\n",
    "svc_f1_avg = f1_score(y_test, preds, average=\"weighted\")\n",
    "print(\"F1_weighted: \", svc_f1_avg)"
   ]
  },
  {
   "cell_type": "code",
   "execution_count": null,
   "metadata": {
    "cell_id": "00021-0a246fbb-78ef-4b06-915c-9e15fcb883ec",
    "deepnote_cell_type": "code",
    "tags": []
   },
   "outputs": [],
   "source": []
  },
  {
   "cell_type": "code",
   "execution_count": null,
   "metadata": {
    "cell_id": "00022-c712fb09-278c-48db-86bd-41b7de8fbc5f",
    "deepnote_cell_type": "code",
    "tags": []
   },
   "outputs": [],
   "source": []
  },
  {
   "cell_type": "code",
   "execution_count": null,
   "metadata": {
    "cell_id": "00021-fd8d4310-29bb-47db-a775-03d16cfcf530",
    "deepnote_cell_type": "code",
    "tags": []
   },
   "outputs": [],
   "source": []
  },
  {
   "cell_type": "code",
   "execution_count": null,
   "metadata": {
    "cell_id": "00013-e3862ba1-2d9e-4ac7-a799-bddbaa41482f",
    "deepnote_cell_type": "code",
    "tags": []
   },
   "outputs": [],
   "source": []
  },
  {
   "cell_type": "code",
   "execution_count": null,
   "metadata": {
    "cell_id": "00006-10692f51-5d4d-42f8-8232-65829c220a33",
    "deepnote_cell_type": "code",
    "deepnote_output_heights": [
     null,
     21.1875,
     264
    ],
    "deepnote_to_be_reexecuted": false,
    "execution_millis": 1105,
    "execution_start": 1634587489583,
    "source_hash": "40c43b09",
    "tags": []
   },
   "outputs": [
    {
     "name": "stdout",
     "output_type": "stream",
     "text": [
      "F1_weighted:  0.6426194508238655\n"
     ]
    },
    {
     "data": {
      "text/plain": [
       "<sklearn.metrics._plot.confusion_matrix.ConfusionMatrixDisplay at 0x7fb602b799d0>"
      ]
     },
     "execution_count": 194,
     "metadata": {},
     "output_type": "execute_result"
    },
    {
     "data": {
      "image/png": "[encoded data removed]",
      "text/plain": [
       "<Figure size 432x288 with 2 Axes>"
      ]
     },
     "metadata": {
      "image/png": {
       "height": 262,
       "width": 306
      },
      "needs_background": "light"
     },
     "output_type": "display_data"
    }
   ],
   "source": [
    "svc = SVC(C=150, kernel='poly', degree=5)\n",
    "svc.fit(x_train, y_train)\n",
    "preds = svc.predict(x_test)\n",
    "svc_f1_avg = f1_score(y_test, preds, average=\"weighted\")\n",
    "print(\"F1_weighted: \", svc_f1_avg)\n",
    "\n",
    "probs = ['{}'.format(i) for i in range(4, 8)]\n",
    "cm = confusion_matrix(y_test, preds)\n",
    "disp = ConfusionMatrixDisplay(confusion_matrix=cm, display_labels=probs);\n",
    "disp.plot();"
   ]
  },
  {
   "cell_type": "code",
   "execution_count": null,
   "metadata": {
    "cell_id": "00008-d91ddd3e-5820-4c7f-8dc5-3deca35ba4b9",
    "deepnote_cell_type": "code",
    "deepnote_to_be_reexecuted": false,
    "execution_millis": 240203,
    "execution_start": 1634587497217,
    "source_hash": "6fb47572",
    "tags": []
   },
   "outputs": [
    {
     "name": "stdout",
     "output_type": "stream",
     "text": [
      "Folds: 5;\n",
      "Accuracy: folds - [0.54603175 0.52547771 0.48726115 0.48726115 0.50636943], mean - 0.5104802345566677;\n",
      "F1: folds - [0.50312028 0.46461837 0.43569001 0.42691964 0.45552467], mean - 0.4571745931600941.\n"
     ]
    }
   ],
   "source": [
    "folds = 5\n",
    "svc_base_accuracy = cross_val_score(svc, ds[ds.columns[:-1]], ds[\"quality\"], cv=folds)\n",
    "svc_base_f1 = cross_val_score(svc, ds[ds.columns[:-1]], ds[\"quality\"], cv=folds, scoring=make_scorer(f1_score, average='weighted'))\n",
    "print(f\"Folds: {folds};\\nAccuracy: folds - {svc_base_accuracy}, mean - {np.mean(svc_base_accuracy)};\\nF1: folds - {svc_base_f1}, mean - {np.mean(svc_base_f1)}.\")"
   ]
  },
  {
   "cell_type": "markdown",
   "metadata": {
    "created_in_deepnote_cell": true,
    "deepnote_cell_type": "markdown",
    "tags": []
   },
   "source": [
    "<a style='text-decoration:none;line-height:16px;display:flex;color:#5B5B62;padding:10px;justify-content:end;' href='https://deepnote.com?utm_source=created-in-deepnote-cell&projectId=270775b0-34bf-4378-8aec-1c60ee7055a4' target=\"_blank\">\n",
    "<img alt='Created in deepnote.com' style='display:inline;max-height:16px;margin:0px;margin-right:7.5px;' src='data:image/svg+xml;base64,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' > </img>\n",
    "Created in <span style='font-weight:600;margin-left:4px;'>Deepnote</span></a>"
   ]
  }
 ],
 "metadata": {
  "deepnote": {
   "is_reactive": false
  },
  "deepnote_app_layout": "dashboard",
  "deepnote_execution_queue": [],
  "deepnote_notebook_id": "5ed595c0-9ccd-41e6-bad0-dd418797579f",
  "kernelspec": {
   "display_name": "Python 3 (ipykernel)",
   "language": "python",
   "name": "python3"
  },
  "language_info": {
   "codemirror_mode": {
    "name": "ipython",
    "version": 3
   },
   "file_extension": ".py",
   "mimetype": "text/x-python",
   "name": "python",
   "nbconvert_exporter": "python",
   "pygments_lexer": "ipython3",
   "version": "3.8.12"
  }
 },
 "nbformat": 4,
 "nbformat_minor": 4
}
